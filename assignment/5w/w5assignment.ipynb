{
 "cells": [
  {
   "cell_type": "markdown",
   "metadata": {},
   "source": [
    "### 1. 什么是极大似然估计\n",
    "\n",
    "- **概念**：假设从总体样本中，独立抽出n个样本X1, X2, X3 ... Xn。极大似然估计则是根据已经抽取的n个样本，来估计一个 (组) 参数值，使得已实现的样本值发生概率最大。应用：通过样本数据来确定参数。\n",
    "- **数学实现** : ```L(X;θ) = ∏n i=1 f(Xi;θ)```    \n",
    "We want the value of θ that maximizes LL. We can accomplish this by taking the first derivative (or gradient) of L with respect to θ, setting it to zero and solving for θ. However, this is more easily accomplished if we first take log⁡(L), as L is a product of densities, and taking the log of a product yields a sum. Because log is a monotonically increasing function, any value of θ that maximizes log⁡(L) also maximizes L.  \n",
    "- **背景知识点**\n",
    " - 极大极小问题 optimization problems \n",
    "   - 视频：[khan 多变量微积分](https://www.khanacademy.org/math/multivariable-calculus/multivariable-derivatives/partial-derivatives/v/partial-derivatives-introduction ) | [MIT 多变量微积分](http://open.163.com/movie/2010/8/R/1/M6TUC9K75_M6TUHRTR1.html)   \n",
    "     - 对于x，y，z而言，y为一个常数时，y平面固定，x和z才能找到一个极值。相当于分平面找到最小值。\n",
    "     - 某一点p，让所有变量的偏导数为0，这个点被称作critical point，临界点。在这一点解决极大极小值问题。\n",
    "   - 联系点：最小二乘法 –– 找到临界点，使误差平方和最小，即极小值问题的应用\n",
    "   - 极大极小问题的背景知识点\n",
    "     - 偏导数 partial derivatives 对一个变量求导的时候，把其他变量看作常数\n",
    "- **进行极大似然估计的前提**：\n",
    " - 独立取样，抽样不可重合\n",
    " - 服从正态分布\n",
    "- **加深理解**\n",
    " - 视频 ：[Stanford PGM](https://class.coursera.org/pgm-003/lecture/78)\n",
    " - blog总结\n",
    "   - http://blog.csdn.net/bingduanlbd/article/details/24384771    \n",
    "   估计高斯 (正态) 分布参数的例子\n",
    "   - http://blog.csdn.net/acema/article/details/38053005   \n",
    "   极大似然估计是最大可能性估计，但不是无偏估计\n",
    "   - http://blog.csdn.net/zouxy09/article/details/8537620  \n",
    "   极大似然估计：通过若干次试验，观察实验结果，推出参数的大概值。某个参数能使样本出现的概率最大，于是不再选择其他小概率样本，而是采用这个目前最大值。\n",
    "- **Python实现**   \n",
    "   - ipynb : [How to compute Maximum Likelihood Estimates (MLE) for different distribution](http://nbviewer.jupyter.org/github/rasbt/pattern_classification/blob/master/parameter_estimation_techniques/max_likelihood_est_distributions.ipynb?create=1)\n",
    " "
   ]
  },
  {
   "cell_type": "markdown",
   "metadata": {
    "collapsed": true
   },
   "source": [
    "### 2. 上证综指过去一年的日收益率序列及其描述性统计量"
   ]
  },
  {
   "cell_type": "markdown",
   "metadata": {},
   "source": [
    "#### (1) 数据获取与初探"
   ]
  },
  {
   "cell_type": "code",
   "execution_count": 2,
   "metadata": {
    "collapsed": true
   },
   "outputs": [],
   "source": [
    "import numpy as np\n",
    "%matplotlib inline \n",
    "import pandas as pd\n",
    "import matplotlib.pyplot as plt\n",
    "import matplotlib\n",
    "matplotlib.style.use('ggplot')\n",
    "import pandas_datareader.data as web\n",
    "from datetime import *\n",
    "from scipy import stats\n",
    "from scipy.stats import norm, lognorm"
   ]
  },
  {
   "cell_type": "code",
   "execution_count": 3,
   "metadata": {
    "collapsed": false
   },
   "outputs": [
    {
     "data": {
      "text/html": [
       "<div>\n",
       "<table border=\"1\" class=\"dataframe\">\n",
       "  <thead>\n",
       "    <tr style=\"text-align: right;\">\n",
       "      <th></th>\n",
       "      <th>Open</th>\n",
       "      <th>High</th>\n",
       "      <th>Low</th>\n",
       "      <th>Close</th>\n",
       "      <th>Volume</th>\n",
       "      <th>Adj Close</th>\n",
       "    </tr>\n",
       "    <tr>\n",
       "      <th>Date</th>\n",
       "      <th></th>\n",
       "      <th></th>\n",
       "      <th></th>\n",
       "      <th></th>\n",
       "      <th></th>\n",
       "      <th></th>\n",
       "    </tr>\n",
       "  </thead>\n",
       "  <tbody>\n",
       "    <tr>\n",
       "      <th>2015-05-04</th>\n",
       "      <td>4480.46</td>\n",
       "      <td>4480.46</td>\n",
       "      <td>4480.46</td>\n",
       "      <td>4480.46</td>\n",
       "      <td>0</td>\n",
       "      <td>4480.46</td>\n",
       "    </tr>\n",
       "    <tr>\n",
       "      <th>2015-05-05</th>\n",
       "      <td>4298.71</td>\n",
       "      <td>4298.71</td>\n",
       "      <td>4298.71</td>\n",
       "      <td>4298.71</td>\n",
       "      <td>0</td>\n",
       "      <td>4298.71</td>\n",
       "    </tr>\n",
       "    <tr>\n",
       "      <th>2015-05-06</th>\n",
       "      <td>4229.27</td>\n",
       "      <td>4229.27</td>\n",
       "      <td>4229.27</td>\n",
       "      <td>4229.27</td>\n",
       "      <td>0</td>\n",
       "      <td>4229.27</td>\n",
       "    </tr>\n",
       "    <tr>\n",
       "      <th>2015-05-07</th>\n",
       "      <td>4112.21</td>\n",
       "      <td>4112.21</td>\n",
       "      <td>4112.21</td>\n",
       "      <td>4112.21</td>\n",
       "      <td>0</td>\n",
       "      <td>4112.21</td>\n",
       "    </tr>\n",
       "    <tr>\n",
       "      <th>2015-05-08</th>\n",
       "      <td>4205.92</td>\n",
       "      <td>4205.92</td>\n",
       "      <td>4205.92</td>\n",
       "      <td>4205.92</td>\n",
       "      <td>0</td>\n",
       "      <td>4205.92</td>\n",
       "    </tr>\n",
       "  </tbody>\n",
       "</table>\n",
       "</div>"
      ],
      "text/plain": [
       "               Open     High      Low    Close  Volume  Adj Close\n",
       "Date                                                             \n",
       "2015-05-04  4480.46  4480.46  4480.46  4480.46       0    4480.46\n",
       "2015-05-05  4298.71  4298.71  4298.71  4298.71       0    4298.71\n",
       "2015-05-06  4229.27  4229.27  4229.27  4229.27       0    4229.27\n",
       "2015-05-07  4112.21  4112.21  4112.21  4112.21       0    4112.21\n",
       "2015-05-08  4205.92  4205.92  4205.92  4205.92       0    4205.92"
      ]
     },
     "execution_count": 3,
     "metadata": {},
     "output_type": "execute_result"
    }
   ],
   "source": [
    "start = datetime(2015, 5, 1)\n",
    "end = datetime(2016, 6, 1)\n",
    "f = web.DataReader('000001.SS', 'yahoo', start, end)\n",
    "f.head()"
   ]
  },
  {
   "cell_type": "code",
   "execution_count": 4,
   "metadata": {
    "collapsed": false,
    "scrolled": true
   },
   "outputs": [
    {
     "data": {
      "text/plain": [
       "<matplotlib.axes._subplots.AxesSubplot at 0x106f66d90>"
      ]
     },
     "execution_count": 4,
     "metadata": {},
     "output_type": "execute_result"
    },
    {
     "data": {
      "image/png": "[encoded data removed]",
      "text/plain": [
       "<matplotlib.figure.Figure at 0x106f66a50>"
      ]
     },
     "metadata": {},
     "output_type": "display_data"
    }
   ],
   "source": [
    "f['Close'].plot(alpha = 0.5, color = 'navy', linewidth = 1.6)"
   ]
  },
  {
   "cell_type": "markdown",
   "metadata": {},
   "source": [
    "#### (2) 计算日收益率\n",
    "这里用到了比较常用的对数收益率方法     \n",
    "一篇文献 [link](http://www.sendsms.cn/download/%C9%CF%D6%A4%D6%B8%CA%FD%CA%D5%D2%E6%C2%CA%B5%C4%CC%D8%D5%F7%BC%B0%C6%E4%B2%A8%B6%AF%D0%D4%B7%D6%CE%F6.pdf)\n",
    " \n",
    "\n",
    "```R (t) = In Pt - In P(t - 1)\n",
    "```    \n",
    "#### 计算收益率时，为什么取对数   \n",
    "https://youtu.be/PtoUlt3V0CI"
   ]
  },
  {
   "cell_type": "code",
   "execution_count": 5,
   "metadata": {
    "collapsed": false
   },
   "outputs": [],
   "source": [
    "f['return'] = (np.log(f[1:]) - np.log(f[:-1].values))['Close']*100\n",
    "f = f.dropna()"
   ]
  },
  {
   "cell_type": "code",
   "execution_count": 6,
   "metadata": {
    "collapsed": false,
    "scrolled": false
   },
   "outputs": [
    {
     "data": {
      "text/html": [
       "<div>\n",
       "<table border=\"1\" class=\"dataframe\">\n",
       "  <thead>\n",
       "    <tr style=\"text-align: right;\">\n",
       "      <th></th>\n",
       "      <th>Open</th>\n",
       "      <th>High</th>\n",
       "      <th>Low</th>\n",
       "      <th>Close</th>\n",
       "      <th>Volume</th>\n",
       "      <th>Adj Close</th>\n",
       "      <th>return</th>\n",
       "    </tr>\n",
       "    <tr>\n",
       "      <th>Date</th>\n",
       "      <th></th>\n",
       "      <th></th>\n",
       "      <th></th>\n",
       "      <th></th>\n",
       "      <th></th>\n",
       "      <th></th>\n",
       "      <th></th>\n",
       "    </tr>\n",
       "  </thead>\n",
       "  <tbody>\n",
       "    <tr>\n",
       "      <th>2015-05-05</th>\n",
       "      <td>4298.71</td>\n",
       "      <td>4298.71</td>\n",
       "      <td>4298.71</td>\n",
       "      <td>4298.71</td>\n",
       "      <td>0</td>\n",
       "      <td>4298.71</td>\n",
       "      <td>-4.141074</td>\n",
       "    </tr>\n",
       "    <tr>\n",
       "      <th>2015-05-06</th>\n",
       "      <td>4229.27</td>\n",
       "      <td>4229.27</td>\n",
       "      <td>4229.27</td>\n",
       "      <td>4229.27</td>\n",
       "      <td>0</td>\n",
       "      <td>4229.27</td>\n",
       "      <td>-1.628558</td>\n",
       "    </tr>\n",
       "    <tr>\n",
       "      <th>2015-05-07</th>\n",
       "      <td>4112.21</td>\n",
       "      <td>4112.21</td>\n",
       "      <td>4112.21</td>\n",
       "      <td>4112.21</td>\n",
       "      <td>0</td>\n",
       "      <td>4112.21</td>\n",
       "      <td>-2.806880</td>\n",
       "    </tr>\n",
       "    <tr>\n",
       "      <th>2015-05-08</th>\n",
       "      <td>4205.92</td>\n",
       "      <td>4205.92</td>\n",
       "      <td>4205.92</td>\n",
       "      <td>4205.92</td>\n",
       "      <td>0</td>\n",
       "      <td>4205.92</td>\n",
       "      <td>2.253246</td>\n",
       "    </tr>\n",
       "    <tr>\n",
       "      <th>2015-05-11</th>\n",
       "      <td>4333.58</td>\n",
       "      <td>4333.58</td>\n",
       "      <td>4333.58</td>\n",
       "      <td>4333.58</td>\n",
       "      <td>0</td>\n",
       "      <td>4333.58</td>\n",
       "      <td>2.990093</td>\n",
       "    </tr>\n",
       "  </tbody>\n",
       "</table>\n",
       "</div>"
      ],
      "text/plain": [
       "               Open     High      Low    Close  Volume  Adj Close    return\n",
       "Date                                                                       \n",
       "2015-05-05  4298.71  4298.71  4298.71  4298.71       0    4298.71 -4.141074\n",
       "2015-05-06  4229.27  4229.27  4229.27  4229.27       0    4229.27 -1.628558\n",
       "2015-05-07  4112.21  4112.21  4112.21  4112.21       0    4112.21 -2.806880\n",
       "2015-05-08  4205.92  4205.92  4205.92  4205.92       0    4205.92  2.253246\n",
       "2015-05-11  4333.58  4333.58  4333.58  4333.58       0    4333.58  2.990093"
      ]
     },
     "execution_count": 6,
     "metadata": {},
     "output_type": "execute_result"
    }
   ],
   "source": [
    "f.head()"
   ]
  },
  {
   "cell_type": "code",
   "execution_count": 7,
   "metadata": {
    "collapsed": true
   },
   "outputs": [],
   "source": [
    "f = f.sort_values(by = 'return')"
   ]
  },
  {
   "cell_type": "markdown",
   "metadata": {},
   "source": [
    "#### (3) 描述性统计量"
   ]
  },
  {
   "cell_type": "code",
   "execution_count": 8,
   "metadata": {
    "collapsed": false,
    "scrolled": true
   },
   "outputs": [
    {
     "data": {
      "text/html": [
       "<div>\n",
       "<table border=\"1\" class=\"dataframe\">\n",
       "  <thead>\n",
       "    <tr style=\"text-align: right;\">\n",
       "      <th></th>\n",
       "      <th>count</th>\n",
       "      <th>std</th>\n",
       "      <th>min</th>\n",
       "      <th>max</th>\n",
       "      <th>50%</th>\n",
       "      <th>25%</th>\n",
       "      <th>75%</th>\n",
       "      <th>mean</th>\n",
       "      <th>var</th>\n",
       "      <th>skew</th>\n",
       "      <th>kurt</th>\n",
       "    </tr>\n",
       "  </thead>\n",
       "  <tbody>\n",
       "    <tr>\n",
       "      <th>Value</th>\n",
       "      <td>250.0</td>\n",
       "      <td>2.595523</td>\n",
       "      <td>-8.872906</td>\n",
       "      <td>7.412341</td>\n",
       "      <td>0.0585</td>\n",
       "      <td>-1.289559</td>\n",
       "      <td>1.436783</td>\n",
       "      <td>-0.172147</td>\n",
       "      <td>6.709794</td>\n",
       "      <td>-0.742701</td>\n",
       "      <td>1.537557</td>\n",
       "    </tr>\n",
       "  </tbody>\n",
       "</table>\n",
       "</div>"
      ],
      "text/plain": [
       "       count       std       min       max     50%       25%       75%  \\\n",
       "Value  250.0  2.595523 -8.872906  7.412341  0.0585 -1.289559  1.436783   \n",
       "\n",
       "           mean       var      skew      kurt  \n",
       "Value -0.172147  6.709794 -0.742701  1.537557  "
      ]
     },
     "execution_count": 8,
     "metadata": {},
     "output_type": "execute_result"
    }
   ],
   "source": [
    "lr = f['return']\n",
    "stat_d = dict(lr.describe())\n",
    "stat_describe = pd.DataFrame([stat_d[x] for x in stat_d], index = [stat_d.keys()], columns = ['Value']).T\n",
    "stat_describe['var'], stat_describe['skew'], stat_describe['kurt'] = [np.var(lr), stats.skew(lr), \\\n",
    "                                                                      stats.kurtosis(lr)]\n",
    "stat_describe"
   ]
  },
  {
   "cell_type": "markdown",
   "metadata": {},
   "source": [
    "#### (4) 直方图"
   ]
  },
  {
   "cell_type": "code",
   "execution_count": 25,
   "metadata": {
    "collapsed": false
   },
   "outputs": [
    {
     "data": {
      "text/plain": [
       "<matplotlib.axes._subplots.AxesSubplot at 0x11c932b10>"
      ]
     },
     "execution_count": 25,
     "metadata": {},
     "output_type": "execute_result"
    },
    {
     "data": {
      "image/png": "[encoded data removed]",
      "text/plain": [
       "<matplotlib.figure.Figure at 0x11d119e50>"
      ]
     },
     "metadata": {},
     "output_type": "display_data"
    }
   ],
   "source": [
    "lr.plot.hist(alpha = 0.5, color = 'navy', bins=25)"
   ]
  },
  {
   "cell_type": "markdown",
   "metadata": {},
   "source": [
    "### 3. 估计概率密度函数及计算收益率小于0的概率"
   ]
  },
  {
   "cell_type": "markdown",
   "metadata": {
    "collapsed": true
   },
   "source": [
    "#### (1) 参数估计 － 正态分布\n",
    "已知一组日收益序列数据，求概率密度函数，即求参数μ，σ    \n",
    "#### 实现步骤   \n",
    "- get data\n",
    "- fit a normal distribution to the data\n",
    "- plot the pdf\n",
    "\n",
    "#### ⚠ 注意 ：画概率密度函数前，务必从小到大排列 x 值\n",
    "一开始没有从小到大排列 Log—return，matplotlib 画出来的图不是平滑的曲线"
   ]
  },
  {
   "cell_type": "code",
   "execution_count": 91,
   "metadata": {
    "collapsed": false,
    "scrolled": true
   },
   "outputs": [
    {
     "name": "stdout",
     "output_type": "stream",
     "text": [
      "µ =  -0.172146871934 , σ =  2.59032694814\n"
     ]
    },
    {
     "data": {
      "image/png": "[encoded data removed]",
      "text/plain": [
       "<matplotlib.figure.Figure at 0x124314f50>"
      ]
     },
     "metadata": {},
     "output_type": "display_data"
    }
   ],
   "source": [
    "para = norm.fit(f['return'])\n",
    "f['norm_pdf'] = norm.pdf(f['return'], para[0], para[1])\n",
    "f['sample_pdf'] = norm.pdf(f['return'])\n",
    "plt.hist(f['return'], bins=25, normed=True, alpha=0.5, color='navy')\n",
    "plt.plot(f['return'], f['norm_pdf'], color = 'lightblue', linewidth = 2)\n",
    "plt.plot(f['return'], f['sample_pdf'], linewidth = 2)\n",
    "plt.legend()\n",
    "print 'µ = ', para[0], ', σ = ', para[1]"
   ]
  },
  {
   "cell_type": "markdown",
   "metadata": {},
   "source": [
    "#### 求收益率小于0的概率\n",
    "求 x 在区间 [a, b] 时的概率，[两个方法](https://www.youtube.com/watch?v=ce3kUWkY9IY)：\n",
    "- pdf： x置于 [a, b] 区间时，概率为密度曲线对应的面积，即定积分\n",
    "- cdf： f(b) - f(a)     \n",
    "\n",
    "\n",
    "因此，要求日收益率在 x < 0 时的概率，求cdf在f(0)时的数值就可以了   \n",
    "图中红色虚线的长度即为x小于0时的概率"
   ]
  },
  {
   "cell_type": "code",
   "execution_count": 11,
   "metadata": {
    "collapsed": false,
    "scrolled": true
   },
   "outputs": [
    {
     "name": "stdout",
     "output_type": "stream",
     "text": [
      "prob = 0.526493237142\n"
     ]
    },
    {
     "data": {
      "image/png": "[encoded data removed]",
      "text/plain": [
       "<matplotlib.figure.Figure at 0x11c301d10>"
      ]
     },
     "metadata": {},
     "output_type": "display_data"
    }
   ],
   "source": [
    "f['norm_cdf'] = norm.cdf(f['return'], para[0], para[1])\n",
    "plt.plot(f['return'], f['norm_cdf'], alpha = 0.5, color = 'navy', linewidth = 2)\n",
    "\n",
    "norm_para = stats.norm(para[0], para[1])\n",
    "x = norm_para.cdf(0)\n",
    "\n",
    "plt.scatter(0,0, marker = 'o', color = 'c')\n",
    "plt.scatter(0,x, marker = 'o', color = 'c')\n",
    "plt.plot([0,0], [0, x], ls = '-.', linewidth = 2)\n",
    "\n",
    "print 'prob =', x"
   ]
  },
  {
   "cell_type": "markdown",
   "metadata": {},
   "source": [
    "#### (2) 参数估计 － 对数正态分布 \n",
    "这道题懵了很久，带有负数的股票日收益率做对数正态分布，出来的结果有点奇怪......  \n",
    "但可以当作过一遍对数正态分布的 python 实现过程  \n",
    "\n",
    "```\n",
    "lognorm fit parameter: mean μ = log(scale), std σ = shape\n",
    "```"
   ]
  },
  {
   "cell_type": "code",
   "execution_count": 12,
   "metadata": {
    "collapsed": false,
    "scrolled": true
   },
   "outputs": [
    {
     "name": "stdout",
     "output_type": "stream",
     "text": [
      "μ ＝  -0.0458506116394 , σ ＝  1.19736254428\n"
     ]
    },
    {
     "data": {
      "image/png": "[encoded data removed]",
      "text/plain": [
       "<matplotlib.figure.Figure at 0x11bbf2e90>"
      ]
     },
     "metadata": {},
     "output_type": "display_data"
    }
   ],
   "source": [
    "shape, loc, scale = stats.lognorm.fit(f['return'], floc=0)\n",
    "f['log_pdf'] = lognorm.pdf(f['return'], shape, scale)\n",
    "\n",
    "plt.hist(f['return'], bins=25, normed=True, alpha=0.5, color='navy')\n",
    "plt.plot(f['return'], f['log_pdf'], linewidth = 1.6, color = 'lightblue')\n",
    "\n",
    "print 'μ ＝ ', np.log(scale), ', σ ＝ ', shape"
   ]
  },
  {
   "cell_type": "markdown",
   "metadata": {},
   "source": [
    "画出了 cdf 图，但这里似乎不能求 x < 0 时的概率诶"
   ]
  },
  {
   "cell_type": "code",
   "execution_count": 18,
   "metadata": {
    "collapsed": false,
    "scrolled": false
   },
   "outputs": [
    {
     "data": {
      "text/plain": [
       "[<matplotlib.lines.Line2D at 0x11d1e24d0>]"
      ]
     },
     "execution_count": 18,
     "metadata": {},
     "output_type": "execute_result"
    },
    {
     "data": {
      "image/png": "[encoded data removed]",
      "text/plain": [
       "<matplotlib.figure.Figure at 0x11d1109d0>"
      ]
     },
     "metadata": {},
     "output_type": "display_data"
    }
   ],
   "source": [
    "f['log_cdf'] = lognorm.cdf(f['return'], s = shape, scale = scale, loc = 0)\n",
    "plt.plot(f['return'], f['log_cdf'], alpha = 0.5, color = 'navy', linewidth = 2)"
   ]
  },
  {
   "cell_type": "markdown",
   "metadata": {},
   "source": [
    "#### (3) 非参估计 － scipy实现 － scipy.stats.gaussian_kde \n",
    "- Kernel density estimation is a way to estimate the probability density function (PDF) of a random variable in a non-parametric way.\n",
    "- 非参估计不依赖任何公式而建立，这里也就没有提前估计 μ 和 σ\n",
    "- 改变bandwidth，曲线形状也会发生改变 : bw值越接近1，曲线越平滑"
   ]
  },
  {
   "cell_type": "code",
   "execution_count": 28,
   "metadata": {
    "collapsed": false,
    "scrolled": true
   },
   "outputs": [
    {
     "data": {
      "text/plain": [
       "<matplotlib.legend.Legend at 0x11d580550>"
      ]
     },
     "execution_count": 28,
     "metadata": {},
     "output_type": "execute_result"
    },
    {
     "data": {
      "image/png": "[encoded data removed]",
      "text/plain": [
       "<matplotlib.figure.Figure at 0x11c56d510>"
      ]
     },
     "metadata": {},
     "output_type": "display_data"
    }
   ],
   "source": [
    "for bandwidth in ['silverman', 0.1, 1.0]:\n",
    "    kernel = stats.kde.gaussian_kde(f['return'], bw_method = bandwidth)\n",
    "    plt.plot(f['return'], kernel(f['return']), label='bw={0}'.format(bandwidth), linewidth=2)\n",
    "plt.hist(f['return'], normed=True, color = 'lightblue', bins=25)\n",
    "plt.legend()"
   ]
  },
  {
   "cell_type": "markdown",
   "metadata": {},
   "source": [
    "#### 求收益率小于0的概率\n",
    "- scipy.stats.gaussian_kde 自带一个求概率密度函数定积分的方法 : integrate_box_1d(low, high)\n",
    "- 用非参数法求日收益率在 x < 0 时的概率，可以考虑求 pdf 的定积分，即求 kernel 曲线在 [ f['return'] , 0] 之间的定积分    \n",
    "＃f ['return'] 已经从大到小排列过了，最小值即 f ['return'][0]"
   ]
  },
  {
   "cell_type": "code",
   "execution_count": 29,
   "metadata": {
    "collapsed": false
   },
   "outputs": [
    {
     "data": {
      "text/plain": [
       "0.48602056480731304"
      ]
     },
     "execution_count": 29,
     "metadata": {},
     "output_type": "execute_result"
    }
   ],
   "source": [
    "kernel.integrate_box_1d(f['return'][0], 0)"
   ]
  },
  {
   "cell_type": "markdown",
   "metadata": {},
   "source": [
    "### 4.  两支股票的平均收益率比较 \n",
    "🌰 索尼和微软在 2016 年 2 月 1 日到 4 月 20 日时间段内的日平均收益率比较"
   ]
  },
  {
   "cell_type": "code",
   "execution_count": 30,
   "metadata": {
    "collapsed": false,
    "scrolled": true
   },
   "outputs": [
    {
     "data": {
      "text/html": [
       "<div>\n",
       "<table border=\"1\" class=\"dataframe\">\n",
       "  <thead>\n",
       "    <tr style=\"text-align: right;\">\n",
       "      <th></th>\n",
       "      <th>MSFT</th>\n",
       "      <th>SNE</th>\n",
       "    </tr>\n",
       "    <tr>\n",
       "      <th>Date</th>\n",
       "      <th></th>\n",
       "      <th></th>\n",
       "    </tr>\n",
       "  </thead>\n",
       "  <tbody>\n",
       "    <tr>\n",
       "      <th>2016-02-01</th>\n",
       "      <td>54.709999</td>\n",
       "      <td>23.309999</td>\n",
       "    </tr>\n",
       "    <tr>\n",
       "      <th>2016-02-02</th>\n",
       "      <td>53.000000</td>\n",
       "      <td>22.389999</td>\n",
       "    </tr>\n",
       "    <tr>\n",
       "      <th>2016-02-03</th>\n",
       "      <td>52.160000</td>\n",
       "      <td>22.030001</td>\n",
       "    </tr>\n",
       "    <tr>\n",
       "      <th>2016-02-04</th>\n",
       "      <td>52.000000</td>\n",
       "      <td>22.080000</td>\n",
       "    </tr>\n",
       "    <tr>\n",
       "      <th>2016-02-05</th>\n",
       "      <td>50.160000</td>\n",
       "      <td>21.730000</td>\n",
       "    </tr>\n",
       "  </tbody>\n",
       "</table>\n",
       "</div>"
      ],
      "text/plain": [
       "                 MSFT        SNE\n",
       "Date                            \n",
       "2016-02-01  54.709999  23.309999\n",
       "2016-02-02  53.000000  22.389999\n",
       "2016-02-03  52.160000  22.030001\n",
       "2016-02-04  52.000000  22.080000\n",
       "2016-02-05  50.160000  21.730000"
      ]
     },
     "execution_count": 30,
     "metadata": {},
     "output_type": "execute_result"
    }
   ],
   "source": [
    "start = datetime(2016, 2, 1)\n",
    "end = datetime(2016, 4, 20)\n",
    "s = web.DataReader('SNE', 'yahoo', start, end)\n",
    "m = web.DataReader('MSFT', 'yahoo', start, end)\n",
    "ms = pd.DataFrame({'SNE':s['Close'], 'MSFT':m['Close']})\n",
    "ms[0:5]"
   ]
  },
  {
   "cell_type": "code",
   "execution_count": 31,
   "metadata": {
    "collapsed": false
   },
   "outputs": [
    {
     "data": {
      "text/plain": [
       "<matplotlib.legend.Legend at 0x118067410>"
      ]
     },
     "execution_count": 31,
     "metadata": {},
     "output_type": "execute_result"
    },
    {
     "data": {
      "image/png": "[encoded data removed]",
      "text/plain": [
       "<matplotlib.figure.Figure at 0x11dacfd90>"
      ]
     },
     "metadata": {},
     "output_type": "display_data"
    }
   ],
   "source": [
    "plt.subplots(figsize = (10,7))\n",
    "plt.subplot(221)\n",
    "ms['MSFT'].plot(color = 'steelblue')\n",
    "plt.legend()\n",
    "plt.subplot(222)\n",
    "ms['SNE'].plot()\n",
    "plt.legend()"
   ]
  },
  {
   "cell_type": "markdown",
   "metadata": {},
   "source": [
    "#### (1) 计算日收益序列"
   ]
  },
  {
   "cell_type": "code",
   "execution_count": 32,
   "metadata": {
    "collapsed": false,
    "scrolled": true
   },
   "outputs": [
    {
     "data": {
      "text/html": [
       "<div>\n",
       "<table border=\"1\" class=\"dataframe\">\n",
       "  <thead>\n",
       "    <tr style=\"text-align: right;\">\n",
       "      <th></th>\n",
       "      <th>MSFT</th>\n",
       "      <th>SNE</th>\n",
       "      <th>SNE_lr</th>\n",
       "      <th>MSFT_lr</th>\n",
       "    </tr>\n",
       "    <tr>\n",
       "      <th>Date</th>\n",
       "      <th></th>\n",
       "      <th></th>\n",
       "      <th></th>\n",
       "      <th></th>\n",
       "    </tr>\n",
       "  </thead>\n",
       "  <tbody>\n",
       "    <tr>\n",
       "      <th>2016-02-05</th>\n",
       "      <td>50.160000</td>\n",
       "      <td>21.730000</td>\n",
       "      <td>-1.597843</td>\n",
       "      <td>-3.602582</td>\n",
       "    </tr>\n",
       "    <tr>\n",
       "      <th>2016-02-02</th>\n",
       "      <td>53.000000</td>\n",
       "      <td>22.389999</td>\n",
       "      <td>-4.026802</td>\n",
       "      <td>-3.175458</td>\n",
       "    </tr>\n",
       "    <tr>\n",
       "      <th>2016-02-23</th>\n",
       "      <td>51.180000</td>\n",
       "      <td>21.510000</td>\n",
       "      <td>-3.651702</td>\n",
       "      <td>-2.831745</td>\n",
       "    </tr>\n",
       "    <tr>\n",
       "      <th>2016-03-18</th>\n",
       "      <td>53.490002</td>\n",
       "      <td>26.270000</td>\n",
       "      <td>0.687550</td>\n",
       "      <td>-2.163742</td>\n",
       "    </tr>\n",
       "    <tr>\n",
       "      <th>2016-03-07</th>\n",
       "      <td>51.029999</td>\n",
       "      <td>23.219999</td>\n",
       "      <td>1.256784</td>\n",
       "      <td>-1.940678</td>\n",
       "    </tr>\n",
       "  </tbody>\n",
       "</table>\n",
       "</div>"
      ],
      "text/plain": [
       "                 MSFT        SNE    SNE_lr   MSFT_lr\n",
       "Date                                                \n",
       "2016-02-05  50.160000  21.730000 -1.597843 -3.602582\n",
       "2016-02-02  53.000000  22.389999 -4.026802 -3.175458\n",
       "2016-02-23  51.180000  21.510000 -3.651702 -2.831745\n",
       "2016-03-18  53.490002  26.270000  0.687550 -2.163742\n",
       "2016-03-07  51.029999  23.219999  1.256784 -1.940678"
      ]
     },
     "execution_count": 32,
     "metadata": {},
     "output_type": "execute_result"
    }
   ],
   "source": [
    "ms['SNE_lr'] = (np.log(ms[1:]) - np.log(ms[:-1].values))['SNE']*100\n",
    "ms['MSFT_lr'] = (np.log(ms[1:]) - np.log(ms[:-1].values))['MSFT']*100\n",
    "ms = ms.dropna()\n",
    "ms = ms.sort_values(by = 'MSFT_lr')\n",
    "ms.head()"
   ]
  },
  {
   "cell_type": "code",
   "execution_count": 33,
   "metadata": {
    "collapsed": false
   },
   "outputs": [
    {
     "data": {
      "text/html": [
       "<div>\n",
       "<table border=\"1\" class=\"dataframe\">\n",
       "  <thead>\n",
       "    <tr style=\"text-align: right;\">\n",
       "      <th></th>\n",
       "      <th>MSFT</th>\n",
       "      <th>SNE</th>\n",
       "      <th>SNE_lr</th>\n",
       "      <th>MSFT_lr</th>\n",
       "    </tr>\n",
       "    <tr>\n",
       "      <th>Date</th>\n",
       "      <th></th>\n",
       "      <th></th>\n",
       "      <th></th>\n",
       "      <th></th>\n",
       "    </tr>\n",
       "  </thead>\n",
       "  <tbody>\n",
       "    <tr>\n",
       "      <th>2016-02-02</th>\n",
       "      <td>53.000000</td>\n",
       "      <td>22.389999</td>\n",
       "      <td>-4.026802</td>\n",
       "      <td>-3.175458</td>\n",
       "    </tr>\n",
       "    <tr>\n",
       "      <th>2016-02-23</th>\n",
       "      <td>51.180000</td>\n",
       "      <td>21.510000</td>\n",
       "      <td>-3.651702</td>\n",
       "      <td>-2.831745</td>\n",
       "    </tr>\n",
       "    <tr>\n",
       "      <th>2016-04-15</th>\n",
       "      <td>55.650002</td>\n",
       "      <td>26.660000</td>\n",
       "      <td>-3.501375</td>\n",
       "      <td>0.522478</td>\n",
       "    </tr>\n",
       "    <tr>\n",
       "      <th>2016-03-08</th>\n",
       "      <td>51.650002</td>\n",
       "      <td>22.459999</td>\n",
       "      <td>-3.327803</td>\n",
       "      <td>1.207656</td>\n",
       "    </tr>\n",
       "    <tr>\n",
       "      <th>2016-04-01</th>\n",
       "      <td>55.570000</td>\n",
       "      <td>24.920000</td>\n",
       "      <td>-3.159817</td>\n",
       "      <td>0.613720</td>\n",
       "    </tr>\n",
       "  </tbody>\n",
       "</table>\n",
       "</div>"
      ],
      "text/plain": [
       "                 MSFT        SNE    SNE_lr   MSFT_lr\n",
       "Date                                                \n",
       "2016-02-02  53.000000  22.389999 -4.026802 -3.175458\n",
       "2016-02-23  51.180000  21.510000 -3.651702 -2.831745\n",
       "2016-04-15  55.650002  26.660000 -3.501375  0.522478\n",
       "2016-03-08  51.650002  22.459999 -3.327803  1.207656\n",
       "2016-04-01  55.570000  24.920000 -3.159817  0.613720"
      ]
     },
     "execution_count": 33,
     "metadata": {},
     "output_type": "execute_result"
    }
   ],
   "source": [
    "ms2 = ms.sort_values(by = 'SNE_lr')\n",
    "ms2.head()"
   ]
  },
  {
   "cell_type": "code",
   "execution_count": 34,
   "metadata": {
    "collapsed": false
   },
   "outputs": [
    {
     "data": {
      "text/html": [
       "<div>\n",
       "<table border=\"1\" class=\"dataframe\">\n",
       "  <thead>\n",
       "    <tr style=\"text-align: right;\">\n",
       "      <th></th>\n",
       "      <th>MSFT</th>\n",
       "      <th>SNE</th>\n",
       "      <th>SNE_lr</th>\n",
       "      <th>MSFT_lr</th>\n",
       "    </tr>\n",
       "  </thead>\n",
       "  <tbody>\n",
       "    <tr>\n",
       "      <th>count</th>\n",
       "      <td>55.000000</td>\n",
       "      <td>55.000000</td>\n",
       "      <td>55.000000</td>\n",
       "      <td>55.000000</td>\n",
       "    </tr>\n",
       "    <tr>\n",
       "      <th>mean</th>\n",
       "      <td>53.103091</td>\n",
       "      <td>24.017636</td>\n",
       "      <td>0.328111</td>\n",
       "      <td>0.029012</td>\n",
       "    </tr>\n",
       "    <tr>\n",
       "      <th>std</th>\n",
       "      <td>1.879029</td>\n",
       "      <td>2.308769</td>\n",
       "      <td>2.265555</td>\n",
       "      <td>1.442400</td>\n",
       "    </tr>\n",
       "    <tr>\n",
       "      <th>min</th>\n",
       "      <td>49.279999</td>\n",
       "      <td>20.260000</td>\n",
       "      <td>-4.026802</td>\n",
       "      <td>-3.602582</td>\n",
       "    </tr>\n",
       "    <tr>\n",
       "      <th>25%</th>\n",
       "      <td>51.910000</td>\n",
       "      <td>21.985000</td>\n",
       "      <td>-1.511155</td>\n",
       "      <td>-0.980849</td>\n",
       "    </tr>\n",
       "    <tr>\n",
       "      <th>50%</th>\n",
       "      <td>53.070000</td>\n",
       "      <td>24.520000</td>\n",
       "      <td>0.311891</td>\n",
       "      <td>0.188249</td>\n",
       "    </tr>\n",
       "    <tr>\n",
       "      <th>75%</th>\n",
       "      <td>54.605002</td>\n",
       "      <td>25.955000</td>\n",
       "      <td>2.290468</td>\n",
       "      <td>0.944969</td>\n",
       "    </tr>\n",
       "    <tr>\n",
       "      <th>max</th>\n",
       "      <td>56.459999</td>\n",
       "      <td>28.100000</td>\n",
       "      <td>4.280880</td>\n",
       "      <td>3.286592</td>\n",
       "    </tr>\n",
       "  </tbody>\n",
       "</table>\n",
       "</div>"
      ],
      "text/plain": [
       "            MSFT        SNE     SNE_lr    MSFT_lr\n",
       "count  55.000000  55.000000  55.000000  55.000000\n",
       "mean   53.103091  24.017636   0.328111   0.029012\n",
       "std     1.879029   2.308769   2.265555   1.442400\n",
       "min    49.279999  20.260000  -4.026802  -3.602582\n",
       "25%    51.910000  21.985000  -1.511155  -0.980849\n",
       "50%    53.070000  24.520000   0.311891   0.188249\n",
       "75%    54.605002  25.955000   2.290468   0.944969\n",
       "max    56.459999  28.100000   4.280880   3.286592"
      ]
     },
     "execution_count": 34,
     "metadata": {},
     "output_type": "execute_result"
    }
   ],
   "source": [
    "ms.describe()"
   ]
  },
  {
   "cell_type": "markdown",
   "metadata": {},
   "source": [
    "#### (2) 假设检验 SNE 和 MSFT 的平均收益率是否有显著差别"
   ]
  },
  {
   "cell_type": "markdown",
   "metadata": {},
   "source": [
    "前提：SNE 与 MSFT 数据具有独立性 (已满足)；SNE 和 MSFT 数据服从正态分布 \n",
    "- t 检验的前提条件－正态分布：\n",
    "    - 配对设计：每对数据的差值必须服从正态分布\n",
    "    - 成组设计：个体之间相互独立，两组资料均取自正态分布的总体，并满足方差齐性\n",
    "    - 原因：在满足前提下计算出的 t 统计量才服从 t 分布，而 t 检验是以 t 分布作为其理论依据的检验方法\n",
    "- 正态分布检验 Shapiro-Wilk test : \n",
    "  - 原假设：SNE 和 MSFT 在 2016 年 2 月 1 日到 4 月 20 日时间段内的日收益率满足正态分布\n",
    "  - 结果：两个样本的Shapiro-Wilk test p 值都大于 0.05，无法拒绝原假设\n",
    "  - 结论：SNE 和 MSFT 在 2016 年 2 月 1 日到 4 月 20 日时间段内的日收益率满足正态分布"
   ]
  },
  {
   "cell_type": "code",
   "execution_count": 35,
   "metadata": {
    "collapsed": false,
    "scrolled": true
   },
   "outputs": [
    {
     "data": {
      "text/plain": [
       "(0.9870468378067017, 0.8162753582000732)"
      ]
     },
     "execution_count": 35,
     "metadata": {},
     "output_type": "execute_result"
    }
   ],
   "source": [
    "stats.shapiro(ms.MSFT_lr)"
   ]
  },
  {
   "cell_type": "code",
   "execution_count": 36,
   "metadata": {
    "collapsed": false
   },
   "outputs": [
    {
     "data": {
      "text/plain": [
       "(0.9681004881858826, 0.1511414796113968)"
      ]
     },
     "execution_count": 36,
     "metadata": {},
     "output_type": "execute_result"
    }
   ],
   "source": [
    "stats.shapiro(ms.SNE_lr)"
   ]
  },
  {
   "cell_type": "markdown",
   "metadata": {},
   "source": [
    "#### T 检验\n",
    "- 原假设：在 2016 年 2 月 1 日到 2016 年 4 月 20 日之间， SNE 和 MSFT 的平均收益率没有显著差别\n",
    "- 结果：p ＝ 0.411 > 0.05, 无法拒绝原假设\n",
    "- 结论：在 2016 年 2 月 1 日到 2016 年 4 月 20 日之间， SNE 和 MSFT 的平均收益率没有显著差别"
   ]
  },
  {
   "cell_type": "code",
   "execution_count": 37,
   "metadata": {
    "collapsed": false
   },
   "outputs": [
    {
     "data": {
      "text/plain": [
       "Ttest_indResult(statistic=0.82590390418118032, pvalue=0.41067935629146146)"
      ]
     },
     "execution_count": 37,
     "metadata": {},
     "output_type": "execute_result"
    }
   ],
   "source": [
    "stats.ttest_ind(ms.SNE_lr, ms.MSFT_lr)"
   ]
  },
  {
   "cell_type": "markdown",
   "metadata": {},
   "source": [
    "#### 画图来看一下"
   ]
  },
  {
   "cell_type": "code",
   "execution_count": 46,
   "metadata": {
    "collapsed": false,
    "scrolled": true
   },
   "outputs": [
    {
     "data": {
      "text/plain": [
       "<matplotlib.lines.Line2D at 0x1219d8750>"
      ]
     },
     "execution_count": 46,
     "metadata": {},
     "output_type": "execute_result"
    },
    {
     "data": {
      "image/png": "[encoded data removed]",
      "text/plain": [
       "<matplotlib.figure.Figure at 0x1213cd990>"
      ]
     },
     "metadata": {},
     "output_type": "display_data"
    }
   ],
   "source": [
    "plt.subplots(figsize=(15, 5))\n",
    "plt.subplot(231)\n",
    "ms.SNE_lr.plot.hist(alpha = 0.8)\n",
    "ms.MSFT_lr.plot.hist(alpha = 0.6, color = 'steelblue')\n",
    "plt.legend()\n",
    "plt.subplot(232)\n",
    "plt.plot(ms.MSFT_lr, norm.pdf(ms.MSFT_lr), color = 'steelblue')\n",
    "plt.axvline(ms.MSFT_lr.mean(), color = 'c', ls= '-.')\n",
    "plt.subplot(233)\n",
    "plt.plot(ms2.SNE_lr, norm.pdf(ms2.SNE_lr))\n",
    "plt.axvline(ms.SNE_lr.mean(), color = 'c', ls= '-.')"
   ]
  },
  {
   "cell_type": "markdown",
   "metadata": {},
   "source": [
    "### 5. 其他练习与笔记"
   ]
  },
  {
   "cell_type": "markdown",
   "metadata": {},
   "source": [
    "#### (1) T检验的其他应用\n",
    "#### 1-sample t test － 检测某一个数值有没有可能是总体期望  \n",
    "  - 🌰 检测 MSFT 日收益率均值为 0 的可能性 \n",
    "      - 1-sample t test p 值为 0.882，远大于 0.05\n",
    "      - 0 很有可能为 MSFT 日收益率的均值"
   ]
  },
  {
   "cell_type": "code",
   "execution_count": 26,
   "metadata": {
    "collapsed": false
   },
   "outputs": [
    {
     "data": {
      "text/plain": [
       "Ttest_1sampResult(statistic=0.14916946536154618, pvalue=0.88197562212014635)"
      ]
     },
     "execution_count": 26,
     "metadata": {},
     "output_type": "execute_result"
    }
   ],
   "source": [
    "stats.ttest_1samp(ms['MSFT_lr'], 0)"
   ]
  },
  {
   "cell_type": "markdown",
   "metadata": {},
   "source": [
    "#### Paired t tests － 在不同时间对同一主体进行测量，得到两个样本，检测两个样本是否有显著差异  \n",
    "🌰  IBM 在 2015 年 8 月 1 日到 12 月 1 日时间段内的日收益率，与在 2016 年 1 月 1 日到 5 月 4 日时间段内的日收益率比较"
   ]
  },
  {
   "cell_type": "code",
   "execution_count": 42,
   "metadata": {
    "collapsed": false,
    "scrolled": false
   },
   "outputs": [
    {
     "data": {
      "text/plain": [
       "<matplotlib.axes._subplots.AxesSubplot at 0x11f512ad0>"
      ]
     },
     "execution_count": 42,
     "metadata": {},
     "output_type": "execute_result"
    },
    {
     "data": {
      "image/png": "[encoded data removed]",
      "text/plain": [
       "<matplotlib.figure.Figure at 0x11ef57e50>"
      ]
     },
     "metadata": {},
     "output_type": "display_data"
    }
   ],
   "source": [
    "start = datetime(2015, 8, 1)\n",
    "end = datetime(2015, 12, 1)\n",
    "i1 = web.DataReader('IBM', 'yahoo', start, end)\n",
    "\n",
    "start = datetime(2016, 1, 1)\n",
    "end = datetime(2016, 5, 4)\n",
    "i2 = web.DataReader('IBM', 'yahoo', start, end)\n",
    "\n",
    "i1['lr'] = (np.log(i1[1:]) - np.log(i1[:-1].values))['Close']*100\n",
    "i1 = i1.dropna()\n",
    "i2['lr'] = (np.log(i2[1:]) - np.log(i2[:-1].values))['Close']*100\n",
    "i2 = i2.dropna()\n",
    "\n",
    "plt.subplots(figsize = (10,7))\n",
    "plt.subplot(221)\n",
    "i1['lr'].hist(alpha = 0.7, bins=15)\n",
    "plt.subplot(222)\n",
    "i2['lr'].hist(alpha = 0.5, color = 'g', bins=15)"
   ]
  },
  {
   "cell_type": "markdown",
   "metadata": {},
   "source": [
    "- Paired t tests 前提\n",
    "    - 数据从两个不同时间段内抽取，满足独立性要求\n",
    "    - 两组样本差值的 shapiro wilk test p值为0.451，大于0.05， 满足正态分布要求"
   ]
  },
  {
   "cell_type": "code",
   "execution_count": 28,
   "metadata": {
    "collapsed": false
   },
   "outputs": [
    {
     "data": {
      "text/plain": [
       "(0.9852026104927063, 0.4513116776943207)"
      ]
     },
     "execution_count": 28,
     "metadata": {},
     "output_type": "execute_result"
    }
   ],
   "source": [
    "stats.shapiro(list(i2['lr']) - (i1['lr']))"
   ]
  },
  {
   "cell_type": "markdown",
   "metadata": {},
   "source": [
    "- Paired t tests\n",
    "    - 原假设：IBM 在 2015 年 8 月 1 日到 12 月 1 日之间的日收益率，与在 2016 年 1 月 1 日到 5 月 4 日之间的日收益率没有显著差异 \n",
    "    - 结果：p 值为 0.37，大于 0.05，无法拒绝原假设\n",
    "    - 结论：IBM 在 2015 年 8 月 1 日到 12 月 1 日之间的日收益率，与在 2016 年 1 月 1 日到 5 月 4 日之间的日收益率没有显著差异 "
   ]
  },
  {
   "cell_type": "code",
   "execution_count": 29,
   "metadata": {
    "collapsed": false
   },
   "outputs": [
    {
     "data": {
      "text/plain": [
       "Ttest_relResult(statistic=-0.89669593927436841, pvalue=0.37247468941653805)"
      ]
     },
     "execution_count": 29,
     "metadata": {},
     "output_type": "execute_result"
    }
   ],
   "source": [
    "stats.ttest_rel(i1['lr'], i2['lr']) "
   ]
  },
  {
   "cell_type": "markdown",
   "metadata": {},
   "source": [
    "#### (2) 非参数估计 概率密度函数 － statsmodel 实现\n",
    "- 数据：上证综指 2015 年 5 月 1 日到 2016 年 6 月 1 日收益率\n",
    "- 非参数方法估计日收益率的概率密度函数"
   ]
  },
  {
   "cell_type": "code",
   "execution_count": 43,
   "metadata": {
    "collapsed": false
   },
   "outputs": [
    {
     "data": {
      "text/plain": [
       "[<matplotlib.lines.Line2D at 0x1204253d0>]"
      ]
     },
     "execution_count": 43,
     "metadata": {},
     "output_type": "execute_result"
    },
    {
     "data": {
      "image/png": "[encoded data removed]",
      "text/plain": [
       "<matplotlib.figure.Figure at 0x11d594d90>"
      ]
     },
     "metadata": {},
     "output_type": "display_data"
    }
   ],
   "source": [
    "import statsmodels.api as sm\n",
    "kernel = sm.nonparametric.KDEUnivariate(f['return'])\n",
    "kernel.fit()\n",
    "plt.hist(f['return'], normed=True, alpha = 0.7, bins=15)\n",
    "plt.plot(kernel.support, kernel.density, lw =2)"
   ]
  },
  {
   "cell_type": "markdown",
   "metadata": {},
   "source": [
    "- 估计 x 在某一点处的概率密度 ```evaluate(point)```    \n",
    "🌰：日收益率在 5% 时的概率"
   ]
  },
  {
   "cell_type": "code",
   "execution_count": 31,
   "metadata": {
    "collapsed": false,
    "scrolled": true
   },
   "outputs": [
    {
     "data": {
      "text/plain": [
       "array([ 0.01937216])"
      ]
     },
     "execution_count": 31,
     "metadata": {},
     "output_type": "execute_result"
    }
   ],
   "source": [
    "kernel.evaluate(5)"
   ]
  },
  {
   "cell_type": "markdown",
   "metadata": {},
   "source": [
    "- 画出 CDF 图"
   ]
  },
  {
   "cell_type": "code",
   "execution_count": 32,
   "metadata": {
    "collapsed": false
   },
   "outputs": [
    {
     "data": {
      "text/plain": [
       "[<matplotlib.lines.Line2D at 0x11efb2c50>]"
      ]
     },
     "execution_count": 32,
     "metadata": {},
     "output_type": "execute_result"
    },
    {
     "data": {
      "image/png": "[encoded data removed]",
      "text/plain": [
       "<matplotlib.figure.Figure at 0x11e1825d0>"
      ]
     },
     "metadata": {},
     "output_type": "display_data"
    }
   ],
   "source": [
    "plt.plot(kernel.support, kernel.cdf, lw=2, c='steelblue')"
   ]
  },
  {
   "cell_type": "markdown",
   "metadata": {},
   "source": [
    "#### (3) 笔记\n",
    "#### 日收益率 直方图 描述性统计概念\n",
    "- 怎么计算日收益率？logarithmic returns\n",
    " - 对数日收益率\n",
    "     - rt is the log return, rt = ln (pt/pt1) = ln (1 + Rt)\n",
    "     - Similar in magnitude to Rt if Rt close to zero\n",
    "     - Rt = 0.05, rt = 0.0488\n",
    "     - Also can say similar in magnitude for ìsmallî changes in price\n",
    "     - Log return is continuously compounded return\n",
    "     - Can be viewed as a Taylor series approximation of proportional return around zero\n",
    "     - [数学证明过程](http://blog.163.com/shyang_li@126/blog/static/952031020094260227810/)\n",
    " - 为什么在做实证时股票市场的日收益率都用对数收益率（Rt=ln(Pt/Pt-1）) , 而不是等于(Pt-Pt-1)/Pt-1？ \n",
    "     - 在价格序列变动性很小的情况下，对数收益率法和普通计算方法的结果近似相等。根据极限定理，当r无穷小，两者基本无差别。另外，使用对数log处理，一方面可使数据更加平滑，克服数据本身的异方差；另一方面，“ln”处理能够达到价格上涨下降的对称性，即数据的对称性。此外，“ln”的后续处理可以得到一些有用数据，这包括差分后的增长。[原文](http://bbs.pinggu.org/thread-568884-1-1.html)\n",
    " - 如何在python中实现？\n",
    "     - http://stackoverflow.com/questions/31287552/logarithmic-returns-in-pandas-dataframe\n",
    "- 描述性统计数据\n",
    " - Minimum | 25% | Median | 75% | Maximum | Mean | Standard Deviation | Skewness Coefficient | Kurtosis\n",
    " \n",
    "#### 概率密度函数 \n",
    "- 为什么用分布来表示一组数据\n",
    "    - 假如数据有多个极端值，一个数据不足以胜任一组数据的描述任务，于是用分布来描述一组数值。\n",
    "- 定义 : [khan academy video](http://open.163.com/movie/2011/6/H/0/M82IC6GQU_M83JAHTH0.html)\n",
    "- 正态分布 [scipy manual](http://docs.scipy.org/doc/scipy-0.17.0/reference/generated/scipy.stats.norm.html)\n",
    " - pdf\n",
    "   - 给定分布值 x，pdf 出来概率密度值 y\n",
    " - cdf\n",
    "   - 累积概率函数，pdf 的积分，密度曲线下的面积\n",
    " - interval：\n",
    "   - 之前求密度函数，给出 x，求出密度曲线上的 y 值。     \n",
    "   - interval - 当 y 值为 0.95 时，求 x 的区间  \n",
    "- 对数正态分布 [scipy manual](http://docs.scipy.org/doc/scipy-0.17.0/reference/generated/scipy.stats.lognorm.html)\n",
    "- 非参数估计 [scipy manual](http://docs.scipy.org/doc/scipy-0.15.1/reference/generated/scipy.stats.gaussian_kde.html)\n",
    "   - 正态分布，用一个公式描述一个随机变量，但前提是分布能拟合数据。  \n",
    "   - 非参方法，用非公式的方法，来描述随机变量，如核分布。如果用非参方法估计出背后经验分布之后，可以使用经验分布进行进一步抽样。 \n",
    "   - kde 无累积密度函数, bw_method 双峰分布\n",
    " \n",
    "#### 统计常识\n",
    " 统计学中为什么要对变量取对数\n",
    "  - https://www.zhihu.com/question/22012482\n",
    "  \n",
    "#### Python stats\n",
    "- How to estimate probability density function from sample data with Python\n",
    " - http://firsttimeprogrammer.blogspot.co.uk/2015/01/how-to-estimate-probability-density.html\n",
    "- Kernel estimation of probability density functions\n",
    " - http://bonsai.hgc.jp/~mdehoon/software/python/Statistics/manual/index.xhtml"
   ]
  }
 ],
 "metadata": {
  "kernelspec": {
   "display_name": "Python 2",
   "language": "python",
   "name": "python2"
  },
  "language_info": {
   "codemirror_mode": {
    "name": "ipython",
    "version": 2
   },
   "file_extension": ".py",
   "mimetype": "text/x-python",
   "name": "python",
   "nbconvert_exporter": "python",
   "pygments_lexer": "ipython2",
   "version": "2.7.11"
  }
 },
 "nbformat": 4,
 "nbformat_minor": 0
}
