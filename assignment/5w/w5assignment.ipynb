{
 "cells": [
  {
   "cell_type": "markdown",
   "metadata": {},
   "source": [
    "### 1. 什么是极大似然估计\n",
    "\n",
    "- **概念**：假设从总体样本中，独立抽出n个样本X1, X2, X3 ... Xn。极大似然估计则是根据已经抽取的n个样本，来估计一个 (组) 参数值，使得已实现的样本值发生概率最大。应用：通过样本数据来确定参数。\n",
    "- **数学实现** : ```L(X;θ) = ∏n i=1 f(Xi;θ)```    \n",
    "We want the value of θ that maximizes LL. We can accomplish this by taking the first derivative (or gradient) of L with respect to θ, setting it to zero and solving for θ. However, this is more easily accomplished if we first take log⁡(L), as L is a product of densities, and taking the log of a product yields a sum. Because log is a monotonically increasing function, any value of θ that maximizes log⁡(L) also maximizes L.  \n",
    "- **背景知识点**\n",
    " - 极大极小问题 optimization problems \n",
    "   - 视频：[khan 多变量微积分](https://www.khanacademy.org/math/multivariable-calculus/multivariable-derivatives/partial-derivatives/v/partial-derivatives-introduction ) | [MIT 多变量微积分](http://open.163.com/movie/2010/8/R/1/M6TUC9K75_M6TUHRTR1.html)   \n",
    "     - 对于x，y，z而言，y为一个常数时，y平面固定，x和z才能找到一个极值。相当于分平面找到最小值。\n",
    "     - 某一点p，让所有变量的偏导数为0，这个点被称作critical point，临界点。在这一点解决极大极小值问题。\n",
    "   - 联系点：最小二乘法 –– 找到临界点，使误差平方和最小，即极小值问题的应用\n",
    "   - 极大极小问题的背景知识点\n",
    "     - 偏导数 partial derivatives 对一个变量求导的时候，把其他变量看作常数\n",
    "- **进行极大似然估计的前提**：\n",
    " - 独立取样，抽样不可重合\n",
    " - 服从正态分布\n",
    "- **加深理解**\n",
    " - 视频 ：[Stanford PGM](https://class.coursera.org/pgm-003/lecture/78)\n",
    " - blog总结\n",
    "   - http://blog.csdn.net/bingduanlbd/article/details/24384771    \n",
    "   估计高斯 (正态) 分布参数的例子\n",
    "   - http://blog.csdn.net/acema/article/details/38053005   \n",
    "   极大似然估计是最大可能性估计，但不是无偏估计\n",
    "   - http://blog.csdn.net/zouxy09/article/details/8537620  \n",
    "   极大似然估计：通过若干次试验，观察实验结果，推出参数的大概值。某个参数能使样本出现的概率最大，于是不再选择其他小概率样本，而是采用这个目前最大值。\n",
    "- **Python实现**   \n",
    "   - ipynb : [How to compute Maximum Likelihood Estimates (MLE) for different distribution](http://nbviewer.jupyter.org/github/rasbt/pattern_classification/blob/master/parameter_estimation_techniques/max_likelihood_est_distributions.ipynb?create=1)\n",
    " "
   ]
  },
  {
   "cell_type": "markdown",
   "metadata": {
    "collapsed": true
   },
   "source": [
    "### 2. 上证综指过去一年的日收益率序列及其描述性统计量"
   ]
  },
  {
   "cell_type": "markdown",
   "metadata": {},
   "source": [
    "#### 数据获取与初探"
   ]
  },
  {
   "cell_type": "code",
   "execution_count": 23,
   "metadata": {
    "collapsed": true
   },
   "outputs": [],
   "source": [
    "import numpy as np\n",
    "%matplotlib inline \n",
    "import pandas as pd\n",
    "import matplotlib.pyplot as plt\n",
    "import matplotlib\n",
    "matplotlib.style.use('ggplot')\n",
    "import pandas_datareader.data as web\n",
    "from datetime import *\n",
    "from scipy import stats\n",
    "from scipy.stats import norm, lognorm"
   ]
  },
  {
   "cell_type": "code",
   "execution_count": 24,
   "metadata": {
    "collapsed": false
   },
   "outputs": [
    {
     "data": {
      "text/html": [
       "<div>\n",
       "<table border=\"1\" class=\"dataframe\">\n",
       "  <thead>\n",
       "    <tr style=\"text-align: right;\">\n",
       "      <th></th>\n",
       "      <th>Open</th>\n",
       "      <th>High</th>\n",
       "      <th>Low</th>\n",
       "      <th>Close</th>\n",
       "      <th>Volume</th>\n",
       "      <th>Adj Close</th>\n",
       "    </tr>\n",
       "    <tr>\n",
       "      <th>Date</th>\n",
       "      <th></th>\n",
       "      <th></th>\n",
       "      <th></th>\n",
       "      <th></th>\n",
       "      <th></th>\n",
       "      <th></th>\n",
       "    </tr>\n",
       "  </thead>\n",
       "  <tbody>\n",
       "    <tr>\n",
       "      <th>2015-05-04</th>\n",
       "      <td>4480.46</td>\n",
       "      <td>4480.46</td>\n",
       "      <td>4480.46</td>\n",
       "      <td>4480.46</td>\n",
       "      <td>0</td>\n",
       "      <td>4480.46</td>\n",
       "    </tr>\n",
       "    <tr>\n",
       "      <th>2015-05-05</th>\n",
       "      <td>4298.71</td>\n",
       "      <td>4298.71</td>\n",
       "      <td>4298.71</td>\n",
       "      <td>4298.71</td>\n",
       "      <td>0</td>\n",
       "      <td>4298.71</td>\n",
       "    </tr>\n",
       "    <tr>\n",
       "      <th>2015-05-06</th>\n",
       "      <td>4229.27</td>\n",
       "      <td>4229.27</td>\n",
       "      <td>4229.27</td>\n",
       "      <td>4229.27</td>\n",
       "      <td>0</td>\n",
       "      <td>4229.27</td>\n",
       "    </tr>\n",
       "    <tr>\n",
       "      <th>2015-05-07</th>\n",
       "      <td>4112.21</td>\n",
       "      <td>4112.21</td>\n",
       "      <td>4112.21</td>\n",
       "      <td>4112.21</td>\n",
       "      <td>0</td>\n",
       "      <td>4112.21</td>\n",
       "    </tr>\n",
       "    <tr>\n",
       "      <th>2015-05-08</th>\n",
       "      <td>4205.92</td>\n",
       "      <td>4205.92</td>\n",
       "      <td>4205.92</td>\n",
       "      <td>4205.92</td>\n",
       "      <td>0</td>\n",
       "      <td>4205.92</td>\n",
       "    </tr>\n",
       "  </tbody>\n",
       "</table>\n",
       "</div>"
      ],
      "text/plain": [
       "               Open     High      Low    Close  Volume  Adj Close\n",
       "Date                                                             \n",
       "2015-05-04  4480.46  4480.46  4480.46  4480.46       0    4480.46\n",
       "2015-05-05  4298.71  4298.71  4298.71  4298.71       0    4298.71\n",
       "2015-05-06  4229.27  4229.27  4229.27  4229.27       0    4229.27\n",
       "2015-05-07  4112.21  4112.21  4112.21  4112.21       0    4112.21\n",
       "2015-05-08  4205.92  4205.92  4205.92  4205.92       0    4205.92"
      ]
     },
     "execution_count": 24,
     "metadata": {},
     "output_type": "execute_result"
    }
   ],
   "source": [
    "start = datetime(2015, 5, 1)\n",
    "end = datetime(2016, 6, 1)\n",
    "f = web.DataReader('000001.SS', 'yahoo', start, end)\n",
    "f.head()"
   ]
  },
  {
   "cell_type": "code",
   "execution_count": 25,
   "metadata": {
    "collapsed": false,
    "scrolled": true
   },
   "outputs": [
    {
     "data": {
      "text/plain": [
       "<matplotlib.axes._subplots.AxesSubplot at 0x11fc75ad0>"
      ]
     },
     "execution_count": 25,
     "metadata": {},
     "output_type": "execute_result"
    },
    {
     "data": {
      "image/png": "[encoded data removed]",
      "text/plain": [
       "<matplotlib.figure.Figure at 0x11fd5f350>"
      ]
     },
     "metadata": {},
     "output_type": "display_data"
    }
   ],
   "source": [
    "f['Close'].plot(alpha = 0.5, color = 'navy', linewidth = 1.6)"
   ]
  },
  {
   "cell_type": "markdown",
   "metadata": {},
   "source": [
    "### 计算日收益率\n",
    "这里用到了比较常用的对数收益率方法     \n",
    "一篇文献 [link](http://www.sendsms.cn/download/%C9%CF%D6%A4%D6%B8%CA%FD%CA%D5%D2%E6%C2%CA%B5%C4%CC%D8%D5%F7%BC%B0%C6%E4%B2%A8%B6%AF%D0%D4%B7%D6%CE%F6.pdf)\n",
    " \n",
    "\n",
    "```R (t) = In Pt - In P(t - 1)\n",
    "```    \n",
    "#### 计算收益率时，为什么取对数   \n",
    "https://youtu.be/PtoUlt3V0CI"
   ]
  },
  {
   "cell_type": "code",
   "execution_count": 26,
   "metadata": {
    "collapsed": false
   },
   "outputs": [],
   "source": [
    "f['return'] = (np.log(f[1:]) - np.log(f[:-1].values))['Close']*100\n",
    "f = f.dropna()"
   ]
  },
  {
   "cell_type": "code",
   "execution_count": 27,
   "metadata": {
    "collapsed": false,
    "scrolled": false
   },
   "outputs": [
    {
     "data": {
      "text/html": [
       "<div>\n",
       "<table border=\"1\" class=\"dataframe\">\n",
       "  <thead>\n",
       "    <tr style=\"text-align: right;\">\n",
       "      <th></th>\n",
       "      <th>Open</th>\n",
       "      <th>High</th>\n",
       "      <th>Low</th>\n",
       "      <th>Close</th>\n",
       "      <th>Volume</th>\n",
       "      <th>Adj Close</th>\n",
       "      <th>return</th>\n",
       "    </tr>\n",
       "    <tr>\n",
       "      <th>Date</th>\n",
       "      <th></th>\n",
       "      <th></th>\n",
       "      <th></th>\n",
       "      <th></th>\n",
       "      <th></th>\n",
       "      <th></th>\n",
       "      <th></th>\n",
       "    </tr>\n",
       "  </thead>\n",
       "  <tbody>\n",
       "    <tr>\n",
       "      <th>2015-05-05</th>\n",
       "      <td>4298.71</td>\n",
       "      <td>4298.71</td>\n",
       "      <td>4298.71</td>\n",
       "      <td>4298.71</td>\n",
       "      <td>0</td>\n",
       "      <td>4298.71</td>\n",
       "      <td>-4.141074</td>\n",
       "    </tr>\n",
       "    <tr>\n",
       "      <th>2015-05-06</th>\n",
       "      <td>4229.27</td>\n",
       "      <td>4229.27</td>\n",
       "      <td>4229.27</td>\n",
       "      <td>4229.27</td>\n",
       "      <td>0</td>\n",
       "      <td>4229.27</td>\n",
       "      <td>-1.628558</td>\n",
       "    </tr>\n",
       "    <tr>\n",
       "      <th>2015-05-07</th>\n",
       "      <td>4112.21</td>\n",
       "      <td>4112.21</td>\n",
       "      <td>4112.21</td>\n",
       "      <td>4112.21</td>\n",
       "      <td>0</td>\n",
       "      <td>4112.21</td>\n",
       "      <td>-2.806880</td>\n",
       "    </tr>\n",
       "    <tr>\n",
       "      <th>2015-05-08</th>\n",
       "      <td>4205.92</td>\n",
       "      <td>4205.92</td>\n",
       "      <td>4205.92</td>\n",
       "      <td>4205.92</td>\n",
       "      <td>0</td>\n",
       "      <td>4205.92</td>\n",
       "      <td>2.253246</td>\n",
       "    </tr>\n",
       "    <tr>\n",
       "      <th>2015-05-11</th>\n",
       "      <td>4333.58</td>\n",
       "      <td>4333.58</td>\n",
       "      <td>4333.58</td>\n",
       "      <td>4333.58</td>\n",
       "      <td>0</td>\n",
       "      <td>4333.58</td>\n",
       "      <td>2.990093</td>\n",
       "    </tr>\n",
       "  </tbody>\n",
       "</table>\n",
       "</div>"
      ],
      "text/plain": [
       "               Open     High      Low    Close  Volume  Adj Close    return\n",
       "Date                                                                       \n",
       "2015-05-05  4298.71  4298.71  4298.71  4298.71       0    4298.71 -4.141074\n",
       "2015-05-06  4229.27  4229.27  4229.27  4229.27       0    4229.27 -1.628558\n",
       "2015-05-07  4112.21  4112.21  4112.21  4112.21       0    4112.21 -2.806880\n",
       "2015-05-08  4205.92  4205.92  4205.92  4205.92       0    4205.92  2.253246\n",
       "2015-05-11  4333.58  4333.58  4333.58  4333.58       0    4333.58  2.990093"
      ]
     },
     "execution_count": 27,
     "metadata": {},
     "output_type": "execute_result"
    }
   ],
   "source": [
    "f.head()"
   ]
  },
  {
   "cell_type": "code",
   "execution_count": 28,
   "metadata": {
    "collapsed": true
   },
   "outputs": [],
   "source": [
    "f = f.sort_values(by = 'return')"
   ]
  },
  {
   "cell_type": "markdown",
   "metadata": {},
   "source": [
    "#### 描述性统计量"
   ]
  },
  {
   "cell_type": "code",
   "execution_count": 29,
   "metadata": {
    "collapsed": false,
    "scrolled": true
   },
   "outputs": [
    {
     "data": {
      "text/html": [
       "<div>\n",
       "<table border=\"1\" class=\"dataframe\">\n",
       "  <thead>\n",
       "    <tr style=\"text-align: right;\">\n",
       "      <th></th>\n",
       "      <th>count</th>\n",
       "      <th>std</th>\n",
       "      <th>min</th>\n",
       "      <th>max</th>\n",
       "      <th>50%</th>\n",
       "      <th>25%</th>\n",
       "      <th>75%</th>\n",
       "      <th>mean</th>\n",
       "      <th>var</th>\n",
       "      <th>skew</th>\n",
       "      <th>kurt</th>\n",
       "    </tr>\n",
       "  </thead>\n",
       "  <tbody>\n",
       "    <tr>\n",
       "      <th>Value</th>\n",
       "      <td>250.0</td>\n",
       "      <td>2.595523</td>\n",
       "      <td>-8.872906</td>\n",
       "      <td>7.412341</td>\n",
       "      <td>0.0585</td>\n",
       "      <td>-1.289559</td>\n",
       "      <td>1.436783</td>\n",
       "      <td>-0.172147</td>\n",
       "      <td>6.709794</td>\n",
       "      <td>-0.742701</td>\n",
       "      <td>1.537557</td>\n",
       "    </tr>\n",
       "  </tbody>\n",
       "</table>\n",
       "</div>"
      ],
      "text/plain": [
       "       count       std       min       max     50%       25%       75%  \\\n",
       "Value  250.0  2.595523 -8.872906  7.412341  0.0585 -1.289559  1.436783   \n",
       "\n",
       "           mean       var      skew      kurt  \n",
       "Value -0.172147  6.709794 -0.742701  1.537557  "
      ]
     },
     "execution_count": 29,
     "metadata": {},
     "output_type": "execute_result"
    }
   ],
   "source": [
    "lr = f['return']\n",
    "stat_d = dict(lr.describe())\n",
    "stat_describe = pd.DataFrame([stat_d[x] for x in stat_d], index = [stat_d.keys()], columns = ['Value']).T\n",
    "stat_describe['var'], stat_describe['skew'], stat_describe['kurt'] = [np.var(lr), stats.skew(lr), \\\n",
    "                                                                      stats.kurtosis(lr)]\n",
    "stat_describe"
   ]
  },
  {
   "cell_type": "markdown",
   "metadata": {},
   "source": [
    "#### 直方图"
   ]
  },
  {
   "cell_type": "code",
   "execution_count": 30,
   "metadata": {
    "collapsed": false
   },
   "outputs": [
    {
     "data": {
      "text/plain": [
       "<matplotlib.axes._subplots.AxesSubplot at 0x11fded4d0>"
      ]
     },
     "execution_count": 30,
     "metadata": {},
     "output_type": "execute_result"
    },
    {
     "data": {
      "image/png": "[encoded data removed]",
      "text/plain": [
       "<matplotlib.figure.Figure at 0x11fc11f10>"
      ]
     },
     "metadata": {},
     "output_type": "display_data"
    }
   ],
   "source": [
    "lr.plot.hist(alpha = 0.5, color = 'navy')"
   ]
  },
  {
   "cell_type": "markdown",
   "metadata": {},
   "source": [
    "### 3. 估计概率密度函数及计算收益率小于0的概率"
   ]
  },
  {
   "cell_type": "markdown",
   "metadata": {
    "collapsed": true
   },
   "source": [
    "#### 参数估计 － 正态分布\n",
    "已知一组日收益序列数据，求概率密度函数，即求参数μ，σ    \n",
    "#### 实现步骤   \n",
    "- get data\n",
    "- fit a normal distribution to the data\n",
    "- plot the pdf\n",
    "\n",
    "#### ⚠ 注意 ：画概率密度函数前，务必从小到大排列 x 值\n",
    "一开始没有从小到大排列 Log—return，matplotlib 画出来的图不是平滑的曲线。"
   ]
  },
  {
   "cell_type": "code",
   "execution_count": 31,
   "metadata": {
    "collapsed": false
   },
   "outputs": [
    {
     "name": "stdout",
     "output_type": "stream",
     "text": [
      "µ =  -0.172146871934 , σ =  2.59032694814\n"
     ]
    },
    {
     "data": {
      "image/png": "[encoded data removed]",
      "text/plain": [
       "<matplotlib.figure.Figure at 0x11fc11490>"
      ]
     },
     "metadata": {},
     "output_type": "display_data"
    }
   ],
   "source": [
    "para = norm.fit(f['return'])\n",
    "f['norm_pdf'] = norm.pdf(f['return'], para[0], para[1])\n",
    "plt.hist(f['return'], bins=25, normed=True, alpha=0.5, color='navy')\n",
    "plt.plot(f['return'], f['norm_pdf'], color = 'lightblue', linewidth = 2)\n",
    "print 'µ = ', para[0], ', σ = ', para[1]"
   ]
  },
  {
   "cell_type": "markdown",
   "metadata": {},
   "source": [
    "#### 求收益率小于0的概率\n",
    "求 x 在区间 [a, b] 时的概率，[两个方法](https://www.youtube.com/watch?v=ce3kUWkY9IY)：\n",
    "- pdf： x置于 [a, b] 区间时，概率为密度曲线对应的面积，即定积分\n",
    "- cdf： f(b) - f(a)     \n",
    "\n",
    "\n",
    "因此，要求日收益率在 x < 0 时的概率，求cdf在f(0)时的数值就可以了。   \n",
    "图中红色虚线的长度即为x小于0时的概率。"
   ]
  },
  {
   "cell_type": "code",
   "execution_count": 67,
   "metadata": {
    "collapsed": false,
    "scrolled": true
   },
   "outputs": [
    {
     "name": "stdout",
     "output_type": "stream",
     "text": [
      "prob = 0.526493237142\n"
     ]
    },
    {
     "data": {
      "image/png": "[encoded data removed]",
      "text/plain": [
       "<matplotlib.figure.Figure at 0x1229bed90>"
      ]
     },
     "metadata": {},
     "output_type": "display_data"
    }
   ],
   "source": [
    "f['norm_cdf'] = norm.cdf(f['return'], para[0], para[1])\n",
    "plt.plot(f['return'], f['norm_cdf'], alpha = 0.5, color = 'navy', linewidth = 2)\n",
    "\n",
    "norm_para = stats.norm(para[0], para[1])\n",
    "x = norm_para.cdf(0)\n",
    "\n",
    "plt.scatter(0,0, marker = 'o', color = 'c')\n",
    "plt.scatter(0,x, marker = 'o', color = 'c')\n",
    "plt.plot([0,0], [0, x], ls = '-.', linewidth = 2)\n",
    "\n",
    "print 'prob =', x"
   ]
  },
  {
   "cell_type": "markdown",
   "metadata": {},
   "source": [
    "#### 参数估计 － 对数正态分布 \n",
    "\n",
    "```\n",
    "lognorm fit parameter: mean μ = log(scale), std σ = shape\n",
    "```"
   ]
  },
  {
   "cell_type": "code",
   "execution_count": 33,
   "metadata": {
    "collapsed": false,
    "scrolled": false
   },
   "outputs": [
    {
     "name": "stdout",
     "output_type": "stream",
     "text": [
      "μ ＝  -0.0458506116394 , σ ＝  1.19736254428\n"
     ]
    },
    {
     "data": {
      "image/png": "[encoded data removed]",
      "text/plain": [
       "<matplotlib.figure.Figure at 0x11fd6e950>"
      ]
     },
     "metadata": {},
     "output_type": "display_data"
    }
   ],
   "source": [
    "shape, loc, scale = stats.lognorm.fit(f['return'], floc=0)\n",
    "f['log_pdf'] = lognorm.pdf(f['return'], shape, scale)\n",
    "\n",
    "plt.hist(f['return'], bins=25, normed=True, alpha=0.5, color='navy')\n",
    "plt.plot(f['return'], f['log_pdf'], linewidth = 1.6, color = 'lightblue',)\n",
    "\n",
    "print 'μ ＝ ', np.log(scale), ', σ ＝ ', shape"
   ]
  },
  {
   "cell_type": "markdown",
   "metadata": {},
   "source": [
    "画出了 cdf 图，但这里似乎不能求 x < 0 时的概率诶"
   ]
  },
  {
   "cell_type": "code",
   "execution_count": 34,
   "metadata": {
    "collapsed": false,
    "scrolled": false
   },
   "outputs": [
    {
     "data": {
      "text/plain": [
       "[<matplotlib.lines.Line2D at 0x1208af990>]"
      ]
     },
     "execution_count": 34,
     "metadata": {},
     "output_type": "execute_result"
    },
    {
     "data": {
      "image/png": "[encoded data removed]",
      "text/plain": [
       "<matplotlib.figure.Figure at 0x11f5b09d0>"
      ]
     },
     "metadata": {},
     "output_type": "display_data"
    }
   ],
   "source": [
    "f['log_cdf'] = lognorm.cdf(f['return'], shape, scale)\n",
    "plt.plot(f['return'], f['log_cdf'], alpha = 0.5, color = 'navy', linewidth = 2)"
   ]
  },
  {
   "cell_type": "markdown",
   "metadata": {},
   "source": [
    "#### 非参估计 － scipy实现 － scipy.stats.gaussian_kde \n",
    "- Kernel density estimation is a way to estimate the probability density function (PDF) of a random variable in a non-parametric way.\n",
    "- 非参估计不依赖任何公式而建立，这里也就没有提前估计 μ 和 σ\n",
    "- 改变bandwidth，曲线形状也会发生改变 : bw值越接近1，曲线越平滑"
   ]
  },
  {
   "cell_type": "code",
   "execution_count": 66,
   "metadata": {
    "collapsed": false,
    "scrolled": true
   },
   "outputs": [
    {
     "data": {
      "text/plain": [
       "<matplotlib.legend.Legend at 0x122573550>"
      ]
     },
     "execution_count": 66,
     "metadata": {},
     "output_type": "execute_result"
    },
    {
     "data": {
      "image/png": "[encoded data removed]",
      "text/plain": [
       "<matplotlib.figure.Figure at 0x122566a50>"
      ]
     },
     "metadata": {},
     "output_type": "display_data"
    }
   ],
   "source": [
    "for bandwidth in ['silverman', 0.1, 1.0]:\n",
    "    kernel = stats.kde.gaussian_kde(f['return'], bw_method = bandwidth)\n",
    "    plt.plot(f['return'], kernel(f['return']), label='bw={0}'.format(bandwidth), linewidth=2)\n",
    "plt.hist(f['return'], normed=True, color = 'lightblue')\n",
    "plt.legend()"
   ]
  },
  {
   "cell_type": "markdown",
   "metadata": {},
   "source": [
    "#### 求收益率小于0的概率\n",
    "- scipy.stats.gaussian_kde 自带一个求概率密度函数定积分的方法 : integrate_box_1d(low, high)\n",
    "- 用非参数法求日收益率在 x < 0 时的概率，可以考虑求 pdf 的定积分，即求 kernel 曲线在 [ f['return'] , 0] 之间的定积分    \n",
    "＃f ['return'] 已经从大到小排列过了，最小值即 f ['return'][0]"
   ]
  },
  {
   "cell_type": "code",
   "execution_count": 36,
   "metadata": {
    "collapsed": false
   },
   "outputs": [
    {
     "data": {
      "text/plain": [
       "0.48602056480731304"
      ]
     },
     "execution_count": 36,
     "metadata": {},
     "output_type": "execute_result"
    }
   ],
   "source": [
    "kernel.integrate_box_1d(f['return'][0], 0)"
   ]
  },
  {
   "cell_type": "markdown",
   "metadata": {},
   "source": [
    "### 4.  两支股票的平均收益率比较"
   ]
  },
  {
   "cell_type": "code",
   "execution_count": 38,
   "metadata": {
    "collapsed": false,
    "scrolled": true
   },
   "outputs": [
    {
     "data": {
      "text/html": [
       "<div>\n",
       "<table border=\"1\" class=\"dataframe\">\n",
       "  <thead>\n",
       "    <tr style=\"text-align: right;\">\n",
       "      <th></th>\n",
       "      <th>IBM</th>\n",
       "      <th>MSFT</th>\n",
       "    </tr>\n",
       "    <tr>\n",
       "      <th>Date</th>\n",
       "      <th></th>\n",
       "      <th></th>\n",
       "    </tr>\n",
       "  </thead>\n",
       "  <tbody>\n",
       "    <tr>\n",
       "      <th>2015-01-02</th>\n",
       "      <td>162.059998</td>\n",
       "      <td>46.759998</td>\n",
       "    </tr>\n",
       "    <tr>\n",
       "      <th>2015-01-05</th>\n",
       "      <td>159.509995</td>\n",
       "      <td>46.330002</td>\n",
       "    </tr>\n",
       "    <tr>\n",
       "      <th>2015-01-06</th>\n",
       "      <td>156.070007</td>\n",
       "      <td>45.650002</td>\n",
       "    </tr>\n",
       "    <tr>\n",
       "      <th>2015-01-07</th>\n",
       "      <td>155.050003</td>\n",
       "      <td>46.230000</td>\n",
       "    </tr>\n",
       "    <tr>\n",
       "      <th>2015-01-08</th>\n",
       "      <td>158.419998</td>\n",
       "      <td>47.590000</td>\n",
       "    </tr>\n",
       "  </tbody>\n",
       "</table>\n",
       "</div>"
      ],
      "text/plain": [
       "                   IBM       MSFT\n",
       "Date                             \n",
       "2015-01-02  162.059998  46.759998\n",
       "2015-01-05  159.509995  46.330002\n",
       "2015-01-06  156.070007  45.650002\n",
       "2015-01-07  155.050003  46.230000\n",
       "2015-01-08  158.419998  47.590000"
      ]
     },
     "execution_count": 38,
     "metadata": {},
     "output_type": "execute_result"
    }
   ],
   "source": [
    "start = datetime(2015, 1, 1)\n",
    "end = datetime(2016, 6, 1)\n",
    "i = web.DataReader('IBM', 'yahoo', start, end)\n",
    "m = web.DataReader('MSFT', 'yahoo', start, end)\n",
    "im = pd.DataFrame({'IBM':i['Close'], 'MSFT':m['Close']})\n",
    "im[0:5]"
   ]
  },
  {
   "cell_type": "code",
   "execution_count": 39,
   "metadata": {
    "collapsed": false
   },
   "outputs": [
    {
     "data": {
      "text/plain": [
       "<matplotlib.legend.Legend at 0x1203f63d0>"
      ]
     },
     "execution_count": 39,
     "metadata": {},
     "output_type": "execute_result"
    },
    {
     "data": {
      "image/png": "[encoded data removed]",
      "text/plain": [
       "<matplotlib.figure.Figure at 0x120900f10>"
      ]
     },
     "metadata": {},
     "output_type": "display_data"
    }
   ],
   "source": [
    "plt.subplots(figsize = (10,7))\n",
    "plt.subplot(221)\n",
    "im['MSFT'].plot(color = 'steelblue')\n",
    "plt.legend()\n",
    "plt.subplot(222)\n",
    "im['IBM'].plot()\n",
    "plt.legend()"
   ]
  },
  {
   "cell_type": "markdown",
   "metadata": {},
   "source": [
    "#### 计算日收益序列"
   ]
  },
  {
   "cell_type": "code",
   "execution_count": 40,
   "metadata": {
    "collapsed": false,
    "scrolled": true
   },
   "outputs": [
    {
     "data": {
      "text/html": [
       "<div>\n",
       "<table border=\"1\" class=\"dataframe\">\n",
       "  <thead>\n",
       "    <tr style=\"text-align: right;\">\n",
       "      <th></th>\n",
       "      <th>IBM</th>\n",
       "      <th>MSFT</th>\n",
       "      <th>IBM_lr</th>\n",
       "      <th>MSFT_lr</th>\n",
       "    </tr>\n",
       "    <tr>\n",
       "      <th>Date</th>\n",
       "      <th></th>\n",
       "      <th></th>\n",
       "      <th></th>\n",
       "      <th></th>\n",
       "    </tr>\n",
       "  </thead>\n",
       "  <tbody>\n",
       "    <tr>\n",
       "      <th>2015-07-21</th>\n",
       "      <td>163.070007</td>\n",
       "      <td>47.279999</td>\n",
       "      <td>-6.038287</td>\n",
       "      <td>0.764337</td>\n",
       "    </tr>\n",
       "    <tr>\n",
       "      <th>2015-10-20</th>\n",
       "      <td>140.639999</td>\n",
       "      <td>47.770000</td>\n",
       "      <td>-5.921831</td>\n",
       "      <td>0.314501</td>\n",
       "    </tr>\n",
       "    <tr>\n",
       "      <th>2016-04-19</th>\n",
       "      <td>144.000000</td>\n",
       "      <td>56.389999</td>\n",
       "      <td>-5.754799</td>\n",
       "      <td>-0.124059</td>\n",
       "    </tr>\n",
       "    <tr>\n",
       "      <th>2016-01-20</th>\n",
       "      <td>121.860001</td>\n",
       "      <td>50.790001</td>\n",
       "      <td>-5.001642</td>\n",
       "      <td>0.453873</td>\n",
       "    </tr>\n",
       "    <tr>\n",
       "      <th>2015-10-27</th>\n",
       "      <td>137.860001</td>\n",
       "      <td>53.689999</td>\n",
       "      <td>-4.121074</td>\n",
       "      <td>-1.037625</td>\n",
       "    </tr>\n",
       "  </tbody>\n",
       "</table>\n",
       "</div>"
      ],
      "text/plain": [
       "                   IBM       MSFT    IBM_lr   MSFT_lr\n",
       "Date                                                 \n",
       "2015-07-21  163.070007  47.279999 -6.038287  0.764337\n",
       "2015-10-20  140.639999  47.770000 -5.921831  0.314501\n",
       "2016-04-19  144.000000  56.389999 -5.754799 -0.124059\n",
       "2016-01-20  121.860001  50.790001 -5.001642  0.453873\n",
       "2015-10-27  137.860001  53.689999 -4.121074 -1.037625"
      ]
     },
     "execution_count": 40,
     "metadata": {},
     "output_type": "execute_result"
    }
   ],
   "source": [
    "im['IBM_lr'] = (np.log(im[1:]) - np.log(im[:-1].values))['IBM']*100\n",
    "im['MSFT_lr'] = (np.log(im[1:]) - np.log(im[:-1].values))['MSFT']*100\n",
    "im = im.dropna()\n",
    "im = im.sort_values(by = 'IBM_lr')\n",
    "im.head()"
   ]
  },
  {
   "cell_type": "code",
   "execution_count": 41,
   "metadata": {
    "collapsed": false
   },
   "outputs": [
    {
     "data": {
      "text/html": [
       "<div>\n",
       "<table border=\"1\" class=\"dataframe\">\n",
       "  <thead>\n",
       "    <tr style=\"text-align: right;\">\n",
       "      <th></th>\n",
       "      <th>IBM</th>\n",
       "      <th>MSFT</th>\n",
       "      <th>IBM_lr</th>\n",
       "      <th>MSFT_lr</th>\n",
       "    </tr>\n",
       "    <tr>\n",
       "      <th>Date</th>\n",
       "      <th></th>\n",
       "      <th></th>\n",
       "      <th></th>\n",
       "      <th></th>\n",
       "    </tr>\n",
       "  </thead>\n",
       "  <tbody>\n",
       "    <tr>\n",
       "      <th>2015-01-27</th>\n",
       "      <td>153.669998</td>\n",
       "      <td>42.660000</td>\n",
       "      <td>-1.735361</td>\n",
       "      <td>-9.709859</td>\n",
       "    </tr>\n",
       "    <tr>\n",
       "      <th>2016-04-22</th>\n",
       "      <td>148.500000</td>\n",
       "      <td>51.779999</td>\n",
       "      <td>-0.537277</td>\n",
       "      <td>-7.441141</td>\n",
       "    </tr>\n",
       "    <tr>\n",
       "      <th>2015-08-21</th>\n",
       "      <td>148.850006</td>\n",
       "      <td>43.070000</td>\n",
       "      <td>-2.527412</td>\n",
       "      <td>-5.839594</td>\n",
       "    </tr>\n",
       "    <tr>\n",
       "      <th>2016-01-15</th>\n",
       "      <td>130.029999</td>\n",
       "      <td>50.990002</td>\n",
       "      <td>-2.190705</td>\n",
       "      <td>-4.073568</td>\n",
       "    </tr>\n",
       "    <tr>\n",
       "      <th>2015-09-01</th>\n",
       "      <td>142.679993</td>\n",
       "      <td>41.820000</td>\n",
       "      <td>-3.586444</td>\n",
       "      <td>-3.984591</td>\n",
       "    </tr>\n",
       "  </tbody>\n",
       "</table>\n",
       "</div>"
      ],
      "text/plain": [
       "                   IBM       MSFT    IBM_lr   MSFT_lr\n",
       "Date                                                 \n",
       "2015-01-27  153.669998  42.660000 -1.735361 -9.709859\n",
       "2016-04-22  148.500000  51.779999 -0.537277 -7.441141\n",
       "2015-08-21  148.850006  43.070000 -2.527412 -5.839594\n",
       "2016-01-15  130.029999  50.990002 -2.190705 -4.073568\n",
       "2015-09-01  142.679993  41.820000 -3.586444 -3.984591"
      ]
     },
     "execution_count": 41,
     "metadata": {},
     "output_type": "execute_result"
    }
   ],
   "source": [
    "im2 = im.sort_values(by = 'MSFT_lr')\n",
    "im2.head()"
   ]
  },
  {
   "cell_type": "code",
   "execution_count": 42,
   "metadata": {
    "collapsed": false
   },
   "outputs": [
    {
     "data": {
      "text/html": [
       "<div>\n",
       "<table border=\"1\" class=\"dataframe\">\n",
       "  <thead>\n",
       "    <tr style=\"text-align: right;\">\n",
       "      <th></th>\n",
       "      <th>IBM</th>\n",
       "      <th>MSFT</th>\n",
       "      <th>IBM_lr</th>\n",
       "      <th>MSFT_lr</th>\n",
       "    </tr>\n",
       "  </thead>\n",
       "  <tbody>\n",
       "    <tr>\n",
       "      <th>count</th>\n",
       "      <td>355.000000</td>\n",
       "      <td>355.000000</td>\n",
       "      <td>355.000000</td>\n",
       "      <td>355.000000</td>\n",
       "    </tr>\n",
       "    <tr>\n",
       "      <th>mean</th>\n",
       "      <td>150.815183</td>\n",
       "      <td>48.398085</td>\n",
       "      <td>-0.017109</td>\n",
       "      <td>0.034487</td>\n",
       "    </tr>\n",
       "    <tr>\n",
       "      <th>std</th>\n",
       "      <td>13.247509</td>\n",
       "      <td>4.590652</td>\n",
       "      <td>1.400144</td>\n",
       "      <td>1.761604</td>\n",
       "    </tr>\n",
       "    <tr>\n",
       "      <th>min</th>\n",
       "      <td>117.849998</td>\n",
       "      <td>40.290001</td>\n",
       "      <td>-6.038287</td>\n",
       "      <td>-9.709859</td>\n",
       "    </tr>\n",
       "    <tr>\n",
       "      <th>25%</th>\n",
       "      <td>140.595001</td>\n",
       "      <td>44.254999</td>\n",
       "      <td>-0.798747</td>\n",
       "      <td>-0.858895</td>\n",
       "    </tr>\n",
       "    <tr>\n",
       "      <th>50%</th>\n",
       "      <td>150.089996</td>\n",
       "      <td>47.419998</td>\n",
       "      <td>0.033943</td>\n",
       "      <td>0.000000</td>\n",
       "    </tr>\n",
       "    <tr>\n",
       "      <th>75%</th>\n",
       "      <td>161.059998</td>\n",
       "      <td>52.645000</td>\n",
       "      <td>0.876679</td>\n",
       "      <td>0.814162</td>\n",
       "    </tr>\n",
       "    <tr>\n",
       "      <th>max</th>\n",
       "      <td>174.399994</td>\n",
       "      <td>56.549999</td>\n",
       "      <td>4.912997</td>\n",
       "      <td>9.941299</td>\n",
       "    </tr>\n",
       "  </tbody>\n",
       "</table>\n",
       "</div>"
      ],
      "text/plain": [
       "              IBM        MSFT      IBM_lr     MSFT_lr\n",
       "count  355.000000  355.000000  355.000000  355.000000\n",
       "mean   150.815183   48.398085   -0.017109    0.034487\n",
       "std     13.247509    4.590652    1.400144    1.761604\n",
       "min    117.849998   40.290001   -6.038287   -9.709859\n",
       "25%    140.595001   44.254999   -0.798747   -0.858895\n",
       "50%    150.089996   47.419998    0.033943    0.000000\n",
       "75%    161.059998   52.645000    0.876679    0.814162\n",
       "max    174.399994   56.549999    4.912997    9.941299"
      ]
     },
     "execution_count": 42,
     "metadata": {},
     "output_type": "execute_result"
    }
   ],
   "source": [
    "im.describe()"
   ]
  },
  {
   "cell_type": "markdown",
   "metadata": {},
   "source": [
    "#### 假设检验 IBM 和 MSFT 的平均收益率是否有显著差别\n",
    "- 假设：在 2015 年 1 月 1 日到 2016 年 6 月 1 日之间， IMB 和 MSFT 的平均收益率没有显著差别\n",
    "- 探索：t 检验\n",
    "- 结果：p ＝ 0.666 > 0.05, 无法拒绝原假设\n",
    "- 结论：在 2015 年 1 月 1 日到 2016 年 6 月 1 日之间， IMB 和 MSFT 的平均收益率没有显著差别"
   ]
  },
  {
   "cell_type": "markdown",
   "metadata": {},
   "source": [
    "#### 前提：IBM与MSFT数据具有独立性 (已满足)；IBM和MSFT数据服从正态分布\n",
    "- 检验是否正态分布 Shapiro–Wilk test (样本量不算太小，两组数据可以看作是正态分布的了，但还是测验一下)\n",
    "- 检验结果：两组数据的p值都远大于0.05，满足正态分布"
   ]
  },
  {
   "cell_type": "code",
   "execution_count": 43,
   "metadata": {
    "collapsed": false
   },
   "outputs": [
    {
     "data": {
      "text/plain": [
       "(0.9651134610176086, 1.6937048030740698e-07)"
      ]
     },
     "execution_count": 43,
     "metadata": {},
     "output_type": "execute_result"
    }
   ],
   "source": [
    "stats.shapiro(im.IBM_lr)"
   ]
  },
  {
   "cell_type": "code",
   "execution_count": 44,
   "metadata": {
    "collapsed": false
   },
   "outputs": [
    {
     "data": {
      "text/plain": [
       "(0.9011198878288269, 1.9295009044835963e-14)"
      ]
     },
     "execution_count": 44,
     "metadata": {},
     "output_type": "execute_result"
    }
   ],
   "source": [
    "stats.shapiro(im.MSFT_lr)"
   ]
  },
  {
   "cell_type": "markdown",
   "metadata": {},
   "source": [
    "#### T 检验"
   ]
  },
  {
   "cell_type": "code",
   "execution_count": 45,
   "metadata": {
    "collapsed": false
   },
   "outputs": [
    {
     "data": {
      "text/plain": [
       "Ttest_indResult(statistic=-0.43201513124883706, pvalue=0.66586195230540668)"
      ]
     },
     "execution_count": 45,
     "metadata": {},
     "output_type": "execute_result"
    }
   ],
   "source": [
    "stats.ttest_ind(im.IBM_lr, im.MSFT_lr)"
   ]
  },
  {
   "cell_type": "markdown",
   "metadata": {},
   "source": [
    "#### 画图来看一下"
   ]
  },
  {
   "cell_type": "code",
   "execution_count": 46,
   "metadata": {
    "collapsed": false,
    "scrolled": true
   },
   "outputs": [
    {
     "data": {
      "text/plain": [
       "<matplotlib.lines.Line2D at 0x120e9e510>"
      ]
     },
     "execution_count": 46,
     "metadata": {},
     "output_type": "execute_result"
    },
    {
     "data": {
      "image/png": "[encoded data removed]",
      "text/plain": [
       "<matplotlib.figure.Figure at 0x120465390>"
      ]
     },
     "metadata": {},
     "output_type": "display_data"
    }
   ],
   "source": [
    "plt.subplots(figsize=(15, 5))\n",
    "plt.subplot(231)\n",
    "im.MSFT_lr.plot.hist(alpha = 0.6, color = 'steelblue')\n",
    "im.IBM_lr.plot.hist(alpha = 0.6)\n",
    "plt.subplot(232)\n",
    "plt.plot(im2.MSFT_lr, norm.pdf(im2.MSFT_lr), color = 'steelblue')\n",
    "plt.axvline(im2.MSFT_lr.mean(), color = 'c', ls= '-.')\n",
    "plt.subplot(233)\n",
    "plt.plot(im.IBM_lr, norm.pdf(im.IBM_lr))\n",
    "plt.axvline(im.IBM_lr.mean(), color = 'c', ls= '-.')"
   ]
  },
  {
   "cell_type": "markdown",
   "metadata": {},
   "source": [
    "### 4. 其他练习与笔记"
   ]
  },
  {
   "cell_type": "markdown",
   "metadata": {},
   "source": [
    "#### (1) T检验的其他应用\n",
    "- 1-sample t test － 检测某一个数值，有没有可能是总体期望    \n",
    "  - 原假设：0是IBM_lr的均值   \n",
    "  - 检测0是否为IBM_lr的均值，p值为0.818，远大于0.05，无法拒绝原假设。"
   ]
  },
  {
   "cell_type": "code",
   "execution_count": 77,
   "metadata": {
    "collapsed": false
   },
   "outputs": [
    {
     "data": {
      "text/plain": [
       "Ttest_1sampResult(statistic=-0.23023047432810761, pvalue=0.81804566704038739)"
      ]
     },
     "execution_count": 77,
     "metadata": {},
     "output_type": "execute_result"
    }
   ],
   "source": [
    "stats.ttest_1samp(im['IBM_lr'], 0)"
   ]
  },
  {
   "cell_type": "markdown",
   "metadata": {},
   "source": [
    "- Paired t tests － 在不同时间对同一主体进行测量，得到两个样本，检测两个样本是否有显著差异\n",
    "    - 原假设：IBM在2015年8月1日到12月1日之间的日收益率，与在2016年1月1日到5月4日之间的日收益率没有显著差异 \n",
    "    - 结果：p值为0.37，大于0.05，无法拒绝原假设。\n",
    "    - 结论：IBM在2015年8月1日到12月1日之间的日收益率，与在2016年1月1日到5月4日之间的日收益率没有显著差异 "
   ]
  },
  {
   "cell_type": "code",
   "execution_count": 127,
   "metadata": {
    "collapsed": false,
    "scrolled": true
   },
   "outputs": [
    {
     "data": {
      "text/plain": [
       "Ttest_relResult(statistic=-0.89669593927436841, pvalue=0.37247468941653805)"
      ]
     },
     "execution_count": 127,
     "metadata": {},
     "output_type": "execute_result"
    },
    {
     "data": {
      "image/png": "[encoded data removed]",
      "text/plain": [
       "<matplotlib.figure.Figure at 0x12929e150>"
      ]
     },
     "metadata": {},
     "output_type": "display_data"
    }
   ],
   "source": [
    "start = datetime(2015, 8, 1)\n",
    "end = datetime(2015, 12, 1)\n",
    "i1 = web.DataReader('IBM', 'yahoo', start, end)\n",
    "\n",
    "start = datetime(2016, 1, 1)\n",
    "end = datetime(2016, 5, 4)\n",
    "i2 = web.DataReader('IBM', 'yahoo', start, end)\n",
    "\n",
    "i1['lr'] = (np.log(i1[1:]) - np.log(i1[:-1].values))['Close']*100\n",
    "i1 = i1.dropna()\n",
    "i2['lr'] = (np.log(i2[1:]) - np.log(i2[:-1].values))['Close']*100\n",
    "i2 = i2.dropna()\n",
    "\n",
    "plt.subplots(figsize = (10,7))\n",
    "plt.subplot(221)\n",
    "i1['lr'].hist(alpha = 0.7)\n",
    "plt.subplot(222)\n",
    "i2['lr'].hist(alpha = 0.5, color = 'g')\n",
    "\n",
    "stats.ttest_rel(i1['lr'], i2['lr'])  "
   ]
  },
  {
   "cell_type": "markdown",
   "metadata": {},
   "source": [
    "#### (2) 非参数估计 概率密度函数 － statsmodel 实现\n",
    "- 数据：上证综指 2015 年 5 月 1 日到 2016 年 6 月 1 日收益率\n",
    "- 非参数方法估计日收益率的概率密度函数"
   ]
  },
  {
   "cell_type": "code",
   "execution_count": 124,
   "metadata": {
    "collapsed": false
   },
   "outputs": [
    {
     "data": {
      "text/plain": [
       "[<matplotlib.lines.Line2D at 0x1284e9210>]"
      ]
     },
     "execution_count": 124,
     "metadata": {},
     "output_type": "execute_result"
    },
    {
     "data": {
      "image/png": "[encoded data removed]",
      "text/plain": [
       "<matplotlib.figure.Figure at 0x12287f4d0>"
      ]
     },
     "metadata": {},
     "output_type": "display_data"
    }
   ],
   "source": [
    "import statsmodels.api as sm\n",
    "kernel = sm.nonparametric.KDEUnivariate(f['return'])\n",
    "kernel.fit()\n",
    "plt.hist(f['return'], normed=True, alpha = 0.7)\n",
    "plt.plot(kernel.support, kernel.density, lw =2)"
   ]
  },
  {
   "cell_type": "markdown",
   "metadata": {},
   "source": [
    "- 估计x在某一点处的概率密度 ```evaluate(point)```    \n",
    "🌰：日收益率在5%时的概率"
   ]
  },
  {
   "cell_type": "code",
   "execution_count": 125,
   "metadata": {
    "collapsed": false,
    "scrolled": true
   },
   "outputs": [
    {
     "data": {
      "text/plain": [
       "array([ 0.01937216])"
      ]
     },
     "execution_count": 125,
     "metadata": {},
     "output_type": "execute_result"
    }
   ],
   "source": [
    "kernel.evaluate(5)"
   ]
  },
  {
   "cell_type": "markdown",
   "metadata": {},
   "source": [
    "- 画出CDF图"
   ]
  },
  {
   "cell_type": "code",
   "execution_count": 126,
   "metadata": {
    "collapsed": false
   },
   "outputs": [
    {
     "data": {
      "text/plain": [
       "[<matplotlib.lines.Line2D at 0x129414dd0>]"
      ]
     },
     "execution_count": 126,
     "metadata": {},
     "output_type": "execute_result"
    },
    {
     "data": {
      "image/png": "[encoded data removed]",
      "text/plain": [
       "<matplotlib.figure.Figure at 0x1285d8a10>"
      ]
     },
     "metadata": {},
     "output_type": "display_data"
    }
   ],
   "source": [
    "plt.plot(kernel.support, kernel.cdf, lw=2, c='steelblue')"
   ]
  },
  {
   "cell_type": "markdown",
   "metadata": {},
   "source": [
    "#### (3) 笔记\n",
    "#### 日收益率 直方图 描述性统计概念\n",
    "- 怎么计算日收益率？logarithmic returns\n",
    " - 对数日收益率\n",
    "     - rt is the log return, rt = ln (pt/pt1) = ln (1 + Rt)\n",
    "     - Similar in magnitude to Rt if Rt close to zero\n",
    "     - Rt = 0.05, rt = 0.0488\n",
    "     - Also can say similar in magnitude for ìsmallî changes in price\n",
    "     - Log return is continuously compounded return\n",
    "     - Can be viewed as a Taylor series approximation of proportional return around zero\n",
    "     - [数学证明过程](http://blog.163.com/shyang_li@126/blog/static/952031020094260227810/)\n",
    " - 为什么在做实证时股票市场的日收益率都用对数收益率（Rt=ln(Pt/Pt-1）) , 而不是等于(Pt-Pt-1)/Pt-1？ \n",
    "     - 在价格序列变动性很小的情况下，对数收益率法和普通计算方法的结果近似相等。根据极限定理，当r无穷小，两者基本无差别。另外，使用对数log处理，一方面可使数据更加平滑，克服数据本身的异方差；另一方面，“ln”处理能够达到价格上涨下降的对称性，即数据的对称性。此外，“ln”的后续处理可以得到一些有用数据，这包括差分后的增长。[原文](http://bbs.pinggu.org/thread-568884-1-1.html)\n",
    " - 如何在python中实现？\n",
    "     - http://stackoverflow.com/questions/31287552/logarithmic-returns-in-pandas-dataframe\n",
    "- 描述性统计数据\n",
    " - Minimum | 25% | Median | 75% | Maximum | Mean | Standard Deviation | Skewness Coefficient | Kurtosis\n",
    " \n",
    "#### 概率密度函数 \n",
    "- 为什么用分布来表示一组数据\n",
    "    - 假如数据有多个极端值，一个数据不足以胜任一组数据的描述任务，于是用分布来描述一组数值。\n",
    "- 定义 : [khan academy video](http://open.163.com/movie/2011/6/H/0/M82IC6GQU_M83JAHTH0.html)\n",
    "- 正态分布 [scipy manual](http://docs.scipy.org/doc/scipy-0.17.0/reference/generated/scipy.stats.norm.html)\n",
    " - pdf\n",
    "   - 给定分布值 x，pdf 出来概率密度值 y\n",
    " - cdf\n",
    "   - 累积概率函数，pdf 的积分，密度曲线下的面积\n",
    " - interval：\n",
    "   - 之前求密度函数，给出 x，求出密度曲线上的 y 值。     \n",
    "   - interval - 当 y 值为 0.95 时，求 x 的区间  \n",
    "- 对数正态分布 [scipy manual](http://docs.scipy.org/doc/scipy-0.17.0/reference/generated/scipy.stats.lognorm.html)\n",
    "- 非参数估计 [scipy manual](http://docs.scipy.org/doc/scipy-0.15.1/reference/generated/scipy.stats.gaussian_kde.html)\n",
    "   - 正态分布，用一个公式描述一个随机变量，但前提是分布能拟合数据。  \n",
    "   - 非参方法，用非公式的方法，来描述随机变量，如核分布。如果用非参方法估计出背后经验分布之后，可以使用经验分布进行进一步抽样。 \n",
    "   - kde 无累积密度函数, bw_method 双峰分布\n",
    " \n",
    "#### 统计常识\n",
    " 统计学中为什么要对变量取对数\n",
    "  - https://www.zhihu.com/question/22012482\n",
    "  \n",
    "#### Python stats\n",
    "- How to estimate probability density function from sample data with Python\n",
    " - http://firsttimeprogrammer.blogspot.co.uk/2015/01/how-to-estimate-probability-density.html\n",
    "- Kernel estimation of probability density functions\n",
    " - http://bonsai.hgc.jp/~mdehoon/software/python/Statistics/manual/index.xhtml"
   ]
  }
 ],
 "metadata": {
  "kernelspec": {
   "display_name": "Python 2",
   "language": "python",
   "name": "python2"
  },
  "language_info": {
   "codemirror_mode": {
    "name": "ipython",
    "version": 2
   },
   "file_extension": ".py",
   "mimetype": "text/x-python",
   "name": "python",
   "nbconvert_exporter": "python",
   "pygments_lexer": "ipython2",
   "version": "2.7.11"
  }
 },
 "nbformat": 4,
 "nbformat_minor": 0
}
