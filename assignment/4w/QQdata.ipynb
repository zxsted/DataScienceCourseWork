{
 "cells": [
  {
   "cell_type": "markdown",
   "metadata": {},
   "source": [
    "## QQ 群数据分析\n",
    "### 一点点思考：    \n",
    "#### 数据本身：   \n",
    "数据有 id 和时间两列。仔细看数据，很多用户隔几秒就会再出现一次。所以，基本可以肯定表格中的时间是聊天时间，而非成员的登陆时间。   \n",
    "#### 但问题也随之而来了：聊天时间不能代表哪些内容？  \n",
    "1. 聊天时间记录并不足以推断出 QQ 群人数，因为很可能有人进群后就一句话也没说过。  \n",
    "2. 很难看出群人数的详细变化   \n",
    "第二年说话的人减少，但无法得知，人减少是因为有人被剔除群聊了呢，还是老用户不愿意说话了。\n",
    "\n",
    "#### QQ 群数据可能说明的内容\n",
    "1. 用户活跃度\n",
    "2. 推测群类型"
   ]
  },
  {
   "cell_type": "code",
   "execution_count": 145,
   "metadata": {
    "collapsed": false
   },
   "outputs": [],
   "source": [
    "import pandas as pd\n",
    "%matplotlib inline\n",
    "import matplotlib.pyplot as plt"
   ]
  },
  {
   "cell_type": "markdown",
   "metadata": {},
   "source": [
    "#### 瞟一眼数据量"
   ]
  },
  {
   "cell_type": "code",
   "execution_count": 97,
   "metadata": {
    "collapsed": false
   },
   "outputs": [
    {
     "name": "stdout",
     "output_type": "stream",
     "text": [
      "   11563 qqdata.csv\r\n"
     ]
    }
   ],
   "source": [
    "!wc -l qqdata.csv"
   ]
  },
  {
   "cell_type": "markdown",
   "metadata": {},
   "source": [
    "### 读取数据和简单处理下时间数据"
   ]
  },
  {
   "cell_type": "code",
   "execution_count": 29,
   "metadata": {
    "collapsed": false,
    "scrolled": false
   },
   "outputs": [
    {
     "data": {
      "text/html": [
       "<div>\n",
       "<table border=\"1\" class=\"dataframe\">\n",
       "  <thead>\n",
       "    <tr style=\"text-align: right;\">\n",
       "      <th></th>\n",
       "      <th>id</th>\n",
       "      <th>num</th>\n",
       "    </tr>\n",
       "    <tr>\n",
       "      <th>time</th>\n",
       "      <th></th>\n",
       "      <th></th>\n",
       "    </tr>\n",
       "  </thead>\n",
       "  <tbody>\n",
       "    <tr>\n",
       "      <th>2011-07-08 12:11:13</th>\n",
       "      <td>8cha0</td>\n",
       "      <td>0</td>\n",
       "    </tr>\n",
       "    <tr>\n",
       "      <th>2011-07-08 12:11:49</th>\n",
       "      <td>2cha061</td>\n",
       "      <td>1</td>\n",
       "    </tr>\n",
       "    <tr>\n",
       "      <th>2011-07-08 12:13:36</th>\n",
       "      <td>6cha437</td>\n",
       "      <td>2</td>\n",
       "    </tr>\n",
       "    <tr>\n",
       "      <th>2012-11-30 18:27:43</th>\n",
       "      <td>6cha437</td>\n",
       "      <td>11559</td>\n",
       "    </tr>\n",
       "    <tr>\n",
       "      <th>2012-11-30 18:28:24</th>\n",
       "      <td>7cha1</td>\n",
       "      <td>11560</td>\n",
       "    </tr>\n",
       "    <tr>\n",
       "      <th>2012-11-30 18:28:28</th>\n",
       "      <td>7cha1</td>\n",
       "      <td>11561</td>\n",
       "    </tr>\n",
       "  </tbody>\n",
       "</table>\n",
       "</div>"
      ],
      "text/plain": [
       "                          id    num\n",
       "time                               \n",
       "2011-07-08 12:11:13    8cha0      0\n",
       "2011-07-08 12:11:49  2cha061      1\n",
       "2011-07-08 12:13:36  6cha437      2\n",
       "2012-11-30 18:27:43  6cha437  11559\n",
       "2012-11-30 18:28:24    7cha1  11560\n",
       "2012-11-30 18:28:28    7cha1  11561"
      ]
     },
     "execution_count": 29,
     "metadata": {},
     "output_type": "execute_result"
    }
   ],
   "source": [
    "qq_group = pd.read_csv('qqdata.csv', names=[\"id\", \"time\"], header=0)\n",
    "# 把时间转为pandas index可用的datetime格式\n",
    "qq_group.index = pd.to_datetime(qq_group['time'], unit='s')\n",
    "qq_group= qq_group[[0]]\n",
    "# 设置一个无关紧要的列，后面排序会用到\n",
    "qq_group['num'] = range(11562)\n",
    "# 查看表头表尾\n",
    "qq_group[0:3].append(qq_group[-3::])"
   ]
  },
  {
   "cell_type": "markdown",
   "metadata": {},
   "source": [
    "### 依据年，月，周，日，小时，对数据取子集"
   ]
  },
  {
   "cell_type": "code",
   "execution_count": 32,
   "metadata": {
    "collapsed": false
   },
   "outputs": [],
   "source": [
    "qq_group['year'] = qq_group.index.map(lambda x : x.year)\n",
    "qq_group['month'] = qq_group.index.map(lambda x : x.month)\n",
    "qq_group['weekday'] = qq_group.index.map(lambda x : x.weekday)\n",
    "qq_group['day'] = qq_group.index.map(lambda x : x.date)\n",
    "qq_group['hour'] = qq_group.index.map(lambda x : x.hour)"
   ]
  },
  {
   "cell_type": "markdown",
   "metadata": {},
   "source": [
    "#### 查看总活跃人数"
   ]
  },
  {
   "cell_type": "code",
   "execution_count": 187,
   "metadata": {
    "collapsed": false,
    "scrolled": false
   },
   "outputs": [
    {
     "data": {
      "text/plain": [
       "144"
      ]
     },
     "execution_count": 187,
     "metadata": {},
     "output_type": "execute_result"
    }
   ],
   "source": [
    "len(qq_group['id'].unique())"
   ]
  },
  {
   "cell_type": "markdown",
   "metadata": {},
   "source": [
    "#### 查看各年度活跃人数"
   ]
  },
  {
   "cell_type": "code",
   "execution_count": 15,
   "metadata": {
    "collapsed": false
   },
   "outputs": [
    {
     "data": {
      "text/plain": [
       "year\n",
       "2011    115\n",
       "2012     92\n",
       "Name: id, dtype: int64"
      ]
     },
     "execution_count": 15,
     "metadata": {},
     "output_type": "execute_result"
    }
   ],
   "source": [
    "year_people = qq_group.groupby('year').id.nunique().\\\n",
    "                sort_values(ascending=False).sort_index()\n",
    "year_people"
   ]
  },
  {
   "cell_type": "code",
   "execution_count": 274,
   "metadata": {
    "collapsed": false
   },
   "outputs": [
    {
     "data": {
      "text/plain": [
       "<matplotlib.axes._subplots.AxesSubplot at 0x12ab68f10>"
      ]
     },
     "execution_count": 274,
     "metadata": {},
     "output_type": "execute_result"
    },
    {
     "data": {
      "image/png": "[encoded data removed]",
      "text/plain": [
       "<matplotlib.figure.Figure at 0x12a4e9c10>"
      ]
     },
     "metadata": {},
     "output_type": "display_data"
    }
   ],
   "source": [
    "year_people.plot.pie(figsize=(4.5, 4.5))"
   ]
  },
  {
   "cell_type": "markdown",
   "metadata": {
    "collapsed": true
   },
   "source": [
    "###  2011 年到 2012 年，活跃人数发生了什么变化\n",
    " 2011 年活跃人数为 115 人， 2012 年活跃人数为 92 人。    \n",
    "同时，总活跃人数为 144 人，这不一定说明有很多人被剔出群聊了，而是说明：   \n",
    "- 2012 年，有 29 个新的活跃人数 ( 144 - 115 = 29 ) ，这 29 个人很可能是新用户。虽然也可能有人隔了半年不说话，某天心血来潮来唠嗑... \n",
    "- 2012 年，有 63 个老用户仍继续活跃 ( 92 - 29 )，有 52 个在 2011 年活跃过的用户不再参与群聊 ( 115 - 63 )    \n",
    "\n",
    "下面用代码来检查一下推测"
   ]
  },
  {
   "cell_type": "code",
   "execution_count": 36,
   "metadata": {
    "collapsed": false
   },
   "outputs": [
    {
     "data": {
      "text/plain": [
       "63"
      ]
     },
     "execution_count": 36,
     "metadata": {},
     "output_type": "execute_result"
    }
   ],
   "source": [
    "# 取2011年，2012年两个子集\n",
    "year2011 = qq_group[qq_group['year'].apply(lambda x : x == 2011)]\n",
    "year2012 = qq_group[qq_group['year'].apply(lambda x : x == 2012)]\n",
    "# 查看11年，12年的活跃人数\n",
    "year_people_11 = list(year2011['id'].unique())\n",
    "year_people_12 = list(year2012['id'].unique())\n",
    "# 对11年，12年人数数据取交集，得到的数字为从11年活跃到12年的用户人数\n",
    "len(list(set(year_people_11).intersection(set(year_people_12))))"
   ]
  },
  {
   "cell_type": "markdown",
   "metadata": {
    "collapsed": true
   },
   "source": [
    "###  2011 年、2012 年 QQ 群月活跃人数\n",
    "#### 活跃人数  \n",
    "- 12 年和 11 年相比，活跃人数减少了许多。\n",
    "- 12 年有记录的最后四个月，说话人数不到建群第一个月人数的三分之一。   \n",
    "可能因为大家开始用微信咯"
   ]
  },
  {
   "cell_type": "code",
   "execution_count": 113,
   "metadata": {
    "collapsed": false
   },
   "outputs": [
    {
     "data": {
      "text/plain": [
       "month\n",
       "1     46\n",
       "2     24\n",
       "3     46\n",
       "4     40\n",
       "5     44\n",
       "6     34\n",
       "7     33\n",
       "8      6\n",
       "10    15\n",
       "11    19\n",
       "Name: id, dtype: int64"
      ]
     },
     "execution_count": 113,
     "metadata": {},
     "output_type": "execute_result"
    }
   ],
   "source": [
    "# 查看每月活跃人数\n",
    "month_people_11 = year2011.groupby('month').id.nunique().\\\n",
    "                sort_values(ascending=False).sort_index()\n",
    "month_people_12 = year2012.groupby('month').id.nunique().\\\n",
    "                sort_values(ascending=False).sort_index()\n",
    "month_people_12"
   ]
  },
  {
   "cell_type": "code",
   "execution_count": 245,
   "metadata": {
    "collapsed": false,
    "scrolled": true
   },
   "outputs": [
    {
     "data": {
      "text/plain": [
       "<matplotlib.axes._subplots.AxesSubplot at 0x125e38fd0>"
      ]
     },
     "execution_count": 245,
     "metadata": {},
     "output_type": "execute_result"
    },
    {
     "data": {
      "image/png": "[encoded data removed]",
      "text/plain": [
       "<matplotlib.figure.Figure at 0x125ba9bd0>"
      ]
     },
     "metadata": {},
     "output_type": "display_data"
    }
   ],
   "source": [
    "fig = plt.figure()\n",
    "ax2 = fig.add_subplot(222)\n",
    "month_people_12.plot.bar(color = 'lightblue', width=0.7, title = '2012', alpha=0.7)\n",
    "ax2.set_yticks(range(0,90,10))\n",
    "plt.xlim(-1, 10)\n",
    "ax1 = fig.add_subplot(221)\n",
    "month_people_11.plot.bar(color = 'lightblue', width=0.4, title = '2011', alpha=0.7)"
   ]
  },
  {
   "cell_type": "markdown",
   "metadata": {
    "collapsed": false
   },
   "source": [
    "### 群类型猜测\n",
    "脑补一下，这是个跟学校有关的工作群咩？寒暑假不见面都不怎么说话\n",
    "-  2 月和 9 月是活跃人数的波谷，12 年 9 月更是一句话也没人说    \n",
    "-  每年暑假 7月、8 月说话人数渐渐减少      \n",
    "\n",
    "#### 下面看看分星期和小时的活跃情况\n",
    "是不是工作群呢？看看大家平时聊天的时间分布"
   ]
  },
  {
   "cell_type": "markdown",
   "metadata": {},
   "source": [
    "#### 分星期\n",
    "大多数对话都发生在工作日，一定程度上说明，这个群不是用来休闲娱乐的"
   ]
  },
  {
   "cell_type": "code",
   "execution_count": 241,
   "metadata": {
    "collapsed": false,
    "scrolled": false
   },
   "outputs": [
    {
     "data": {
      "text/plain": [
       "<matplotlib.axes._subplots.AxesSubplot at 0x1256c3f90>"
      ]
     },
     "execution_count": 241,
     "metadata": {},
     "output_type": "execute_result"
    },
    {
     "data": {
      "image/png": "[encoded data removed]",
      "text/plain": [
       "<matplotlib.figure.Figure at 0x125431610>"
      ]
     },
     "metadata": {},
     "output_type": "display_data"
    }
   ],
   "source": [
    "wd = qq_group.weekday.value_counts().sort_index()\n",
    "wd.plot.bar(color= 'forestgreen', alpha = 0.3, rot=0, title= 'Talks by Date')"
   ]
  },
  {
   "cell_type": "markdown",
   "metadata": {},
   "source": [
    "#### 分小时\n",
    "- 主要聊天时间集中在上午10点到11点，和下午2点到6点，正好是上班的时候\n",
    "- 午休和晚饭时间没人说话，大家都次饭去了，不在工作群聊正事诶\n",
    "- 晚上12点以后到上午9点，没有任何人说话，说明这也不是深夜情感交流群~\n"
   ]
  },
  {
   "cell_type": "code",
   "execution_count": 242,
   "metadata": {
    "collapsed": false,
    "scrolled": false
   },
   "outputs": [
    {
     "data": {
      "text/plain": [
       "<matplotlib.axes._subplots.AxesSubplot at 0x125893b10>"
      ]
     },
     "execution_count": 242,
     "metadata": {},
     "output_type": "execute_result"
    },
    {
     "data": {
      "image/png": "[encoded data removed]",
      "text/plain": [
       "<matplotlib.figure.Figure at 0x125893a10>"
      ]
     },
     "metadata": {},
     "output_type": "display_data"
    }
   ],
   "source": [
    "hour = qq_group.hour.value_counts().sort_index()\n",
    "hour.plot.bar(color= 'forestgreen', alpha = 0.3, rot=0, title = 'Talks by Hour')"
   ]
  },
  {
   "cell_type": "markdown",
   "metadata": {},
   "source": [
    "#### 结合上述信息推测，这个群可能是某个学校的工作群诶"
   ]
  },
  {
   "cell_type": "markdown",
   "metadata": {},
   "source": [
    "#### 分天数\n",
    "- 这张图具有一定迷惑性，它的最大值发生在12年初。事实上，12年开始，活跃用户减少，而到了12年末，参与聊天的用户数更是只有12年初用户数的一半。\n",
    "- 但换个角度来说，这张图告诉我们，12年初和年末的对话主要靠小部分话痨来撑......"
   ]
  },
  {
   "cell_type": "code",
   "execution_count": 269,
   "metadata": {
    "collapsed": false,
    "scrolled": false
   },
   "outputs": [
    {
     "data": {
      "text/plain": [
       "<matplotlib.axes._subplots.AxesSubplot at 0x12a4e9b10>"
      ]
     },
     "execution_count": 269,
     "metadata": {},
     "output_type": "execute_result"
    },
    {
     "data": {
      "image/png": "[encoded data removed]",
      "text/plain": [
       "<matplotlib.figure.Figure at 0x12a4e98d0>"
      ]
     },
     "metadata": {},
     "output_type": "display_data"
    }
   ],
   "source": [
    "day = qq_group.day.value_counts().sort_index()\n",
    "day.plot.area(color= 'forestgreen', alpha = 0.3, rot=-68, title = 'Talks by Day')"
   ]
  },
  {
   "cell_type": "markdown",
   "metadata": {},
   "source": [
    "### QQ 群怀旧"
   ]
  },
  {
   "cell_type": "markdown",
   "metadata": {},
   "source": [
    "#### 最开始说话的 10 个人\n",
    "\"还记得当初的我们...\" 此处应有煽情怀旧BGM 😏   \n",
    "好了啦，说不定人家是被拉来干活的"
   ]
  },
  {
   "cell_type": "code",
   "execution_count": 45,
   "metadata": {
    "collapsed": false,
    "scrolled": false
   },
   "outputs": [
    {
     "name": "stdout",
     "output_type": "stream",
     "text": [
      "['8cha0', '2cha061', '6cha437', '7cha1', '4cha387', '2cha093', '2cha847', '8cha08', '6cha584', '3cha0506']\n"
     ]
    }
   ],
   "source": [
    "first10 = list(qq_group['id'].unique()[0:10])\n",
    "print first10"
   ]
  },
  {
   "cell_type": "markdown",
   "metadata": {},
   "source": [
    "#### 说话最多的 10 个人"
   ]
  },
  {
   "cell_type": "code",
   "execution_count": 22,
   "metadata": {
    "collapsed": false,
    "scrolled": false
   },
   "outputs": [
    {
     "name": "stdout",
     "output_type": "stream",
     "text": [
      "['7cha1', '6cha437', '4cha387', '8cha08', '4cha69', '1cha6531', 'acha@vip.qq.co', '2cha', '5cha8', '3cha423']\n"
     ]
    }
   ],
   "source": [
    "most10 = list(qq_group['id'].value_counts().index[0:10])\n",
    "print most10,"
   ]
  },
  {
   "cell_type": "code",
   "execution_count": 268,
   "metadata": {
    "collapsed": false
   },
   "outputs": [
    {
     "data": {
      "text/plain": [
       "<matplotlib.axes._subplots.AxesSubplot at 0x129ebee90>"
      ]
     },
     "execution_count": 268,
     "metadata": {},
     "output_type": "execute_result"
    },
    {
     "data": {
      "image/png": "[encoded data removed]",
      "text/plain": [
       "<matplotlib.figure.Figure at 0x12a328b10>"
      ]
     },
     "metadata": {},
     "output_type": "display_data"
    }
   ],
   "source": [
    "qq_group['id'].value_counts()[0:10].plot.bar(color='crimson', alpha=0.3,rot=-68, title='10 Most Talkative People')"
   ]
  },
  {
   "cell_type": "markdown",
   "metadata": {},
   "source": [
    "#### 最初的10 个人中，有多少个是说话最多的群成员\n",
    "这 4 个人还挤进了话痨排行榜前 5 ..."
   ]
  },
  {
   "cell_type": "code",
   "execution_count": 107,
   "metadata": {
    "collapsed": false,
    "scrolled": true
   },
   "outputs": [
    {
     "name": "stdout",
     "output_type": "stream",
     "text": [
      "['4cha387', '8cha08', '6cha437', '7cha1']\n"
     ]
    }
   ],
   "source": [
    "print list(set(first10).intersection(set(most10)))"
   ]
  },
  {
   "cell_type": "markdown",
   "metadata": {},
   "source": [
    "#### 活跃天数最多的 10 个人"
   ]
  },
  {
   "cell_type": "code",
   "execution_count": 259,
   "metadata": {
    "collapsed": false,
    "scrolled": true
   },
   "outputs": [
    {
     "name": "stdout",
     "output_type": "stream",
     "text": [
      "['6cha437', '4cha387', '7cha1', 'acha@vip.qq.co', '4cha69', '2cha', '8cha08', '1cha45', '1cha5900', '8cha0']\n"
     ]
    }
   ],
   "source": [
    "most_d = qq_group.groupby('id').day.nunique().sort_values(ascending=False)\n",
    "most_days = list(most_d[0:10].index)\n",
    "print most_days[0:10],"
   ]
  },
  {
   "cell_type": "code",
   "execution_count": 271,
   "metadata": {
    "collapsed": false,
    "scrolled": true
   },
   "outputs": [
    {
     "data": {
      "text/plain": [
       "<matplotlib.axes._subplots.AxesSubplot at 0x12a66c8d0>"
      ]
     },
     "execution_count": 271,
     "metadata": {},
     "output_type": "execute_result"
    },
    {
     "data": {
      "image/png": "[encoded data removed]",
      "text/plain": [
       "<matplotlib.figure.Figure at 0x12a679950>"
      ]
     },
     "metadata": {},
     "output_type": "display_data"
    }
   ],
   "source": [
    "most_d[0:10].plot.bar(color='crimson', alpha=0.3,rot=-68, title= '10 Most Active People')"
   ]
  },
  {
   "cell_type": "markdown",
   "metadata": {},
   "source": [
    "#### 最初10个人中，有多少人一直聊了下去呢\n",
    "和最初话痨的4人相比，最初马拉松多出了一个8cha0    \n",
    "有意思的是，8cha0是群里第一个说话的人诶，不爱说话，但也坚持到了最后...   \n",
    "#### 同时也说明，这5个人当中，至少有一个人是群主吶\n",
    "寻找群主的条件 (以下排名分先后)：第一天就说话了；活跃天数排名靠前；说话灰常多"
   ]
  },
  {
   "cell_type": "code",
   "execution_count": 109,
   "metadata": {
    "collapsed": false,
    "scrolled": true
   },
   "outputs": [
    {
     "name": "stdout",
     "output_type": "stream",
     "text": [
      "['7cha1', '8cha0', '8cha08', '6cha437', '4cha387']\n"
     ]
    }
   ],
   "source": [
    "print list(set(first10).intersection(set(most_days)))"
   ]
  }
 ],
 "metadata": {
  "kernelspec": {
   "display_name": "Python 2",
   "language": "python",
   "name": "python2"
  },
  "language_info": {
   "codemirror_mode": {
    "name": "ipython",
    "version": 2
   },
   "file_extension": ".py",
   "mimetype": "text/x-python",
   "name": "python",
   "nbconvert_exporter": "python",
   "pygments_lexer": "ipython2",
   "version": "2.7.11"
  }
 },
 "nbformat": 4,
 "nbformat_minor": 0
}
