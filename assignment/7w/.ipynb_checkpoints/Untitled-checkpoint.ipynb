{
 "cells": [
  {
   "cell_type": "markdown",
   "metadata": {},
   "source": [
    "#### 监督学习－回归\n",
    "1. 线性回归 (parametric)\n",
    "2. KNN K nearest neighbor (instance based)\n",
    "3. 决策树\n",
    "4. 决策森林\n",
    "\n",
    "#### 线性回归与 KNN 的不同\n",
    "1. 对训练数据的态度\n",
    "    - 线性回归： 训练一些数据，训练后得到一组参数，训练后的数据也就不要了\n",
    "    - KNN： 历史数据都会留下来，预测时，会参考历史数据\n",
    "2. 过拟合问题上的不同\n",
    "    - KNN 的 k 越小，越有可能过拟合；线性回归的 degree 自变量越多，越有可能过拟合\n",
    "3. 所占空间，计算时间与添加新数据上的不同\n",
    "    - space for saving model 线性回归只保存拟合后的参数，而 KNN 要留下大量的历史数据\n",
    "    - time to train the data KNN 不太需要时间去训练数据，而线性回归相对需要更多时间来训练数据\n",
    "    - time to query KNN 需要时间去排序数据，而线性回归把数据代入简单的方程即可\n",
    "    - adding new data 线性回归需要重新计算新数据，而 KNN 可把数据直接代入已有数据集"
   ]
  },
  {
   "cell_type": "markdown",
   "metadata": {
    "collapsed": true
   },
   "source": [
    "#### 检测模型的一个方法，把数据氛围训练数据和测试数据\n",
    "- out of sample testing : training section 60% , testing section 40%\n",
    "- 训练数据永远在测试数据之前"
   ]
  },
  {
   "cell_type": "code",
   "execution_count": null,
   "metadata": {
    "collapsed": true
   },
   "outputs": [],
   "source": []
  }
 ],
 "metadata": {
  "kernelspec": {
   "display_name": "Python 2",
   "language": "python",
   "name": "python2"
  },
  "language_info": {
   "codemirror_mode": {
    "name": "ipython",
    "version": 2
   },
   "file_extension": ".py",
   "mimetype": "text/x-python",
   "name": "python",
   "nbconvert_exporter": "python",
   "pygments_lexer": "ipython2",
   "version": "2.7.11"
  }
 },
 "nbformat": 4,
 "nbformat_minor": 0
}
