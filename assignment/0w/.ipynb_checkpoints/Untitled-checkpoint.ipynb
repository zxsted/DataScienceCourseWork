{
 "cells": [
  {
   "cell_type": "markdown",
   "metadata": {},
   "source": [
    "### Numpy在数据分析中的简单应用\n",
    "#### 以Dataquest numpy部分为例  \n",
    "Dataquest没有给出教程用的数据集，找了一个只有年份、国家和年度人均酒消耗量的数据来练手"
   ]
  },
  {
   "cell_type": "markdown",
   "metadata": {},
   "source": [
    "#### 用genfromtxt读取csv，存储数据到数组中\n",
    "1. delimiter：分隔符  \n",
    "2. dtype：数据类型  \n",
    "3. skip_header：numpy会自动把所有数据转成同一格式，跳过表头。避免表头被转化成nan (numpy在转化数据时，把无法转化为数字的数据列为nan)。"
   ]
  },
  {
   "cell_type": "code",
   "execution_count": 75,
   "metadata": {
    "collapsed": false
   },
   "outputs": [],
   "source": [
    "import numpy as np\n",
    "alcohol = np.genfromtxt(\"alcohol.csv\", delimiter=\",\", dtype=\"U75\", skip_header=True)"
   ]
  },
  {
   "cell_type": "markdown",
   "metadata": {},
   "source": [
    "#### 用numpy切片取子集粗看数据特征，类似于R中的head()\n",
    "数据由年份、国家、酒消耗量三列构成。"
   ]
  },
  {
   "cell_type": "code",
   "execution_count": 76,
   "metadata": {
    "collapsed": false
   },
   "outputs": [
    {
     "data": {
      "text/plain": [
       "array([[u'2008', u'Afghanistan', u'0.03'],\n",
       "       [u'2005', u'Afghanistan', u''],\n",
       "       [u'2008', u'Albania', u'7.29'],\n",
       "       [u'2005', u'Albania', u''],\n",
       "       [u'2008', u'Algeria', u'0.69'],\n",
       "       [u'2005', u'Algeria', u''],\n",
       "       [u'2008', u'Andorra', u'10.17'],\n",
       "       [u'2005', u'Andorra', u''],\n",
       "       [u'2008', u'Angola', u'5.57'],\n",
       "       [u'2005', u'Angola', u'']], \n",
       "      dtype='<U75')"
      ]
     },
     "execution_count": 76,
     "metadata": {},
     "output_type": "execute_result"
    }
   ],
   "source": [
    "alcohol[0:10,:] "
   ]
  },
  {
   "cell_type": "markdown",
   "metadata": {},
   "source": [
    "#### 发现2005年的酒消耗数据全都缺失，决定把05年的所有数据删除。\n",
    "另外，numpy中的布尔索引可以遵循多个条件。例子：在数组alcohol中，留下2008年除阿尔及利亚以外的所有国家数据"
   ]
  },
  {
   "cell_type": "code",
   "execution_count": 93,
   "metadata": {
    "collapsed": false
   },
   "outputs": [
    {
     "data": {
      "text/plain": [
       "array([[u'2008', u'Afghanistan', u'0.03'],\n",
       "       [u'2008', u'Albania', u'7.29'],\n",
       "       [u'2008', u'Andorra', u'10.17'],\n",
       "       [u'2008', u'Angola', u'5.57'],\n",
       "       [u'2008', u'Antigua and Barbuda', u'8.17'],\n",
       "       [u'2008', u'Argentina', u'9.35'],\n",
       "       [u'2008', u'Armenia', u'13.66'],\n",
       "       [u'2008', u'Australia', u'10.21'],\n",
       "       [u'2008', u'Austria', u'12.4'],\n",
       "       [u'2008', u'Azerbaijan', u'13.34']], \n",
       "      dtype='<U75')"
      ]
     },
     "execution_count": 93,
     "metadata": {},
     "output_type": "execute_result"
    }
   ],
   "source": [
    "year08 = (alcohol[:,0]=='2008')&(alcohol[:,1]!='Algeria')\n",
    "alcohol08 = alcohol[year08]\n",
    "alcohol08[0:10,:]"
   ]
  },
  {
   "cell_type": "markdown",
   "metadata": {},
   "source": [
    "#### 替换数据 (可以用来剔除NA)\n",
    "例子：把阿尔巴尼亚的酒消耗量改为3.28。  \n",
    "这里改的是某一列某一行的值，那么在改值的时候，记得先索引到目标区域，再使用布尔索引，最后赋值。"
   ]
  },
  {
   "cell_type": "code",
   "execution_count": 92,
   "metadata": {
    "collapsed": false
   },
   "outputs": [
    {
     "data": {
      "text/plain": [
       "array([[u'2008', u'Afghanistan', u'0.03'],\n",
       "       [u'2008', u'Albania', u'3.28'],\n",
       "       [u'2008', u'Andorra', u'10.17'],\n",
       "       [u'2008', u'Angola', u'5.57'],\n",
       "       [u'2008', u'Antigua and Barbuda', u'8.17'],\n",
       "       [u'2008', u'Argentina', u'9.35'],\n",
       "       [u'2008', u'Armenia', u'13.66'],\n",
       "       [u'2008', u'Australia', u'10.21'],\n",
       "       [u'2008', u'Austria', u'12.4'],\n",
       "       [u'2008', u'Azerbaijan', u'13.34']], \n",
       "      dtype='<U75')"
      ]
     },
     "execution_count": 92,
     "metadata": {},
     "output_type": "execute_result"
    }
   ],
   "source": [
    "albania_liter = alcohol08[:,1]=='Albania'\n",
    "alcohol08[:,2][albania_liter]='3.28'\n",
    "#这里如果不索引到第3列，algeria这一列的所有值都会被改成‘3.28’\n",
    "alcohol08[0:10,:]"
   ]
  },
  {
   "cell_type": "markdown",
   "metadata": {},
   "source": [
    "#### 转换数据类型\n",
    "目前酒消耗量的数据还是字符型，不能用来运算。这里用variable_name.astype()来转换成浮点数，并把数据分配给一个新的变量。"
   ]
  },
  {
   "cell_type": "code",
   "execution_count": 104,
   "metadata": {
    "collapsed": false
   },
   "outputs": [],
   "source": [
    "alcoholfloat = alcohol08[:,2]\n",
    "alcoholfloat = alcohol08[:,2].astype(float)"
   ]
  },
  {
   "cell_type": "markdown",
   "metadata": {},
   "source": [
    "#### 用numpy进行计算\n",
    "用上一步转换好数据类型的alcoholfloat来计算平均值，最大值或求和。"
   ]
  },
  {
   "cell_type": "code",
   "execution_count": 108,
   "metadata": {
    "collapsed": false
   },
   "outputs": [
    {
     "data": {
      "text/plain": [
       "1250.0799999999999"
      ]
     },
     "execution_count": 108,
     "metadata": {},
     "output_type": "execute_result"
    }
   ],
   "source": [
    "alcoholfloat.sum()"
   ]
  },
  {
   "cell_type": "markdown",
   "metadata": {},
   "source": [
    "### 总结Numpy在数据分析中的优缺点\n",
    "1. 优点：  \n",
    "a.数据计算方便 vector.sum()  \n",
    "b.数据索引更快更简单 Numpy slice  \n",
    "c.能够快速进行数据类型转换 vector.astype()  \n",
    "2. 缺点：  \n",
    "a.数组里的所有数据必须是同一类型，也妨碍了快速数据处理   \n",
    "b.用数字来索引行列值，很久以后再回看，忘记哪列数字代表哪个变量了"
   ]
  },
  {
   "cell_type": "markdown",
   "metadata": {},
   "source": [
    "### Numpy中看着没啥用但有点意思的小练习\n",
    "练习来自[scipy-lectures](http://www.scipy-lectures.org/intro/numpy/exercises.html)和yongle推荐的[numpy exercise 100](http://www.labri.fr/perso/nrougier/teaching/numpy.100/index.html)"
   ]
  },
  {
   "cell_type": "markdown",
   "metadata": {},
   "source": [
    "#### 1. 通过numpy数组特性来处理图像 –– 脆面君的黑白大头贴\n",
    "应用：介样就可以写段代码批量处理图片啦，裁剪大小或者转成黑白\n",
    "\n",
    "#### 黑白干脆面\n",
    "用到了matlabplot和pylab库，"
   ]
  },
  {
   "cell_type": "code",
   "execution_count": 149,
   "metadata": {
    "collapsed": false
   },
   "outputs": [
    {
     "ename": "IOError",
     "evalue": "[Errno 2] No such file or directory: 'silly_racoon.jpg'",
     "output_type": "error",
     "traceback": [
      "\u001b[0;31m---------------------------------------------------------------------------\u001b[0m",
      "\u001b[0;31mIOError\u001b[0m                                   Traceback (most recent call last)",
      "\u001b[0;32m<ipython-input-149-a76acd63e3e3>\u001b[0m in \u001b[0;36m<module>\u001b[0;34m()\u001b[0m\n\u001b[1;32m      1\u001b[0m \u001b[0;32mimport\u001b[0m \u001b[0mpylab\u001b[0m \u001b[0;32mas\u001b[0m \u001b[0mplt\u001b[0m\u001b[0;34m\u001b[0m\u001b[0m\n\u001b[1;32m      2\u001b[0m \u001b[0;32mimport\u001b[0m \u001b[0mmatplotlib\u001b[0m\u001b[0;34m\u001b[0m\u001b[0m\n\u001b[0;32m----> 3\u001b[0;31m \u001b[0msilly_racoon\u001b[0m\u001b[0;34m=\u001b[0m\u001b[0mmatplotlib\u001b[0m\u001b[0;34m.\u001b[0m\u001b[0mimage\u001b[0m\u001b[0;34m.\u001b[0m\u001b[0mimread\u001b[0m\u001b[0;34m(\u001b[0m\u001b[0;34m'silly_racoon.jpg'\u001b[0m\u001b[0;34m)\u001b[0m\u001b[0;34m\u001b[0m\u001b[0m\n\u001b[0m\u001b[1;32m      4\u001b[0m \u001b[0;31m# silly_racoon = scipy.misc.face(gray=True)\u001b[0m\u001b[0;34m\u001b[0m\u001b[0;34m\u001b[0m\u001b[0m\n\u001b[1;32m      5\u001b[0m \u001b[0mplt\u001b[0m\u001b[0;34m.\u001b[0m\u001b[0mimshow\u001b[0m\u001b[0;34m(\u001b[0m\u001b[0msilly_racoon\u001b[0m\u001b[0;34m,\u001b[0m \u001b[0mcmap\u001b[0m\u001b[0;34m=\u001b[0m\u001b[0mplt\u001b[0m\u001b[0;34m.\u001b[0m\u001b[0mcm\u001b[0m\u001b[0;34m.\u001b[0m\u001b[0mgray\u001b[0m\u001b[0;34m)\u001b[0m\u001b[0;34m\u001b[0m\u001b[0m\n",
      "\u001b[0;32m/Users/Q16/anaconda/lib/python2.7/site-packages/matplotlib/image.pyc\u001b[0m in \u001b[0;36mimread\u001b[0;34m(fname, format)\u001b[0m\n\u001b[1;32m   1302\u001b[0m \u001b[0;34m\u001b[0m\u001b[0m\n\u001b[1;32m   1303\u001b[0m     \u001b[0;32mif\u001b[0m \u001b[0mext\u001b[0m \u001b[0;32mnot\u001b[0m \u001b[0;32min\u001b[0m \u001b[0mhandlers\u001b[0m\u001b[0;34m:\u001b[0m\u001b[0;34m\u001b[0m\u001b[0m\n\u001b[0;32m-> 1304\u001b[0;31m         \u001b[0mim\u001b[0m \u001b[0;34m=\u001b[0m \u001b[0mpilread\u001b[0m\u001b[0;34m(\u001b[0m\u001b[0mfname\u001b[0m\u001b[0;34m)\u001b[0m\u001b[0;34m\u001b[0m\u001b[0m\n\u001b[0m\u001b[1;32m   1305\u001b[0m         \u001b[0;32mif\u001b[0m \u001b[0mim\u001b[0m \u001b[0;32mis\u001b[0m \u001b[0mNone\u001b[0m\u001b[0;34m:\u001b[0m\u001b[0;34m\u001b[0m\u001b[0m\n\u001b[1;32m   1306\u001b[0m             raise ValueError('Only know how to handle extensions: %s; '\n",
      "\u001b[0;32m/Users/Q16/anaconda/lib/python2.7/site-packages/matplotlib/image.pyc\u001b[0m in \u001b[0;36mpilread\u001b[0;34m(fname)\u001b[0m\n\u001b[1;32m   1280\u001b[0m         \u001b[0;32mexcept\u001b[0m \u001b[0mImportError\u001b[0m\u001b[0;34m:\u001b[0m\u001b[0;34m\u001b[0m\u001b[0m\n\u001b[1;32m   1281\u001b[0m             \u001b[0;32mreturn\u001b[0m \u001b[0mNone\u001b[0m\u001b[0;34m\u001b[0m\u001b[0m\n\u001b[0;32m-> 1282\u001b[0;31m         \u001b[0mimage\u001b[0m \u001b[0;34m=\u001b[0m \u001b[0mImage\u001b[0m\u001b[0;34m.\u001b[0m\u001b[0mopen\u001b[0m\u001b[0;34m(\u001b[0m\u001b[0mfname\u001b[0m\u001b[0;34m)\u001b[0m\u001b[0;34m\u001b[0m\u001b[0m\n\u001b[0m\u001b[1;32m   1283\u001b[0m         \u001b[0;32mreturn\u001b[0m \u001b[0mpil_to_array\u001b[0m\u001b[0;34m(\u001b[0m\u001b[0mimage\u001b[0m\u001b[0;34m)\u001b[0m\u001b[0;34m\u001b[0m\u001b[0m\n\u001b[1;32m   1284\u001b[0m \u001b[0;34m\u001b[0m\u001b[0m\n",
      "\u001b[0;32m/Users/Q16/anaconda/lib/python2.7/site-packages/PIL/Image.pyc\u001b[0m in \u001b[0;36mopen\u001b[0;34m(fp, mode)\u001b[0m\n\u001b[1;32m   2256\u001b[0m             \u001b[0mfilename\u001b[0m \u001b[0;34m=\u001b[0m \u001b[0mstr\u001b[0m\u001b[0;34m(\u001b[0m\u001b[0mfp\u001b[0m\u001b[0;34m.\u001b[0m\u001b[0mresolve\u001b[0m\u001b[0;34m(\u001b[0m\u001b[0;34m)\u001b[0m\u001b[0;34m)\u001b[0m\u001b[0;34m\u001b[0m\u001b[0m\n\u001b[1;32m   2257\u001b[0m     \u001b[0;32mif\u001b[0m \u001b[0mfilename\u001b[0m\u001b[0;34m:\u001b[0m\u001b[0;34m\u001b[0m\u001b[0m\n\u001b[0;32m-> 2258\u001b[0;31m         \u001b[0mfp\u001b[0m \u001b[0;34m=\u001b[0m \u001b[0mbuiltins\u001b[0m\u001b[0;34m.\u001b[0m\u001b[0mopen\u001b[0m\u001b[0;34m(\u001b[0m\u001b[0mfilename\u001b[0m\u001b[0;34m,\u001b[0m \u001b[0;34m\"rb\"\u001b[0m\u001b[0;34m)\u001b[0m\u001b[0;34m\u001b[0m\u001b[0m\n\u001b[0m\u001b[1;32m   2259\u001b[0m \u001b[0;34m\u001b[0m\u001b[0m\n\u001b[1;32m   2260\u001b[0m     \u001b[0;32mtry\u001b[0m\u001b[0;34m:\u001b[0m\u001b[0;34m\u001b[0m\u001b[0m\n",
      "\u001b[0;31mIOError\u001b[0m: [Errno 2] No such file or directory: 'silly_racoon.jpg'"
     ]
    }
   ],
   "source": [
    "import pylab as plt\n",
    "import matplotlib\n",
    "silly_racoon=matplotlib.image.imread('silly_racoon.jpg')\n",
    "# silly_racoon = scipy.misc.face(gray=True)\n",
    "plt.imshow(silly_racoon, cmap=plt.cm.gray)\n",
    "# plt.imshow(silly_racoon) 出来的是反相干脆面君\n",
    "plt.show()"
   ]
  },
  {
   "cell_type": "markdown",
   "metadata": {},
   "source": [
    "#### 干脆面的大头贴\n",
    "用到了numpy数组的索引功能，裁剪图片"
   ]
  },
  {
   "cell_type": "code",
   "execution_count": 138,
   "metadata": {
    "collapsed": false
   },
   "outputs": [],
   "source": [
    "crop_racoon = silly_racoon[150:-150,150:-150]\n",
    "plt.imshow(crop_racoon, cmap=plt.cm.gray)\n",
    "plt.show()"
   ]
  },
  {
   "cell_type": "code",
   "execution_count": 147,
   "metadata": {
    "collapsed": false
   },
   "outputs": [],
   "source": [
    "sy, sx = silly_racoon.shape\n",
    "y, x = np.ogrid[0:sy, 0:sx]\n",
    "y.shape, x.shape\n",
    "centerx, centery = (550, 400)\n",
    "mask = ((y - centery)**2 + (x - centerx)**2) > 230**2"
   ]
  },
  {
   "cell_type": "code",
   "execution_count": 148,
   "metadata": {
    "collapsed": false
   },
   "outputs": [],
   "source": [
    "silly_racoon[mask] = 0\n",
    "plt.imshow(silly_racoon)\n",
    "plt.show()"
   ]
  },
  {
   "cell_type": "code",
   "execution_count": null,
   "metadata": {
    "collapsed": true
   },
   "outputs": [],
   "source": []
  }
 ],
 "metadata": {
  "kernelspec": {
   "display_name": "Python 2",
   "language": "python",
   "name": "python2"
  },
  "language_info": {
   "codemirror_mode": {
    "name": "ipython",
    "version": 2
   },
   "file_extension": ".py",
   "mimetype": "text/x-python",
   "name": "python",
   "nbconvert_exporter": "python",
   "pygments_lexer": "ipython2",
   "version": "2.7.11"
  }
 },
 "nbformat": 4,
 "nbformat_minor": 0
}
