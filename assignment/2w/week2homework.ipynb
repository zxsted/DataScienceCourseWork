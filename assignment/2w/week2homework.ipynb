{
 "cells": [
  {
   "cell_type": "markdown",
   "metadata": {},
   "source": [
    "### 1. 模拟醉汉在二维空间内的随机漫步\n",
    "这道题用到了numpy的随机取值功能，为醉汉的漫步速度、步长，以及漫步的角度随机赋值。  \n",
    "同时引入了有点非主流的turtle画图包，来演示醉汉晃悠悠漫步的过程。Turtle可以设置画笔速度，考虑到醉汉不会匀速前进，因此让醉汉漫步的速度也随机变化。另外，可能因为turtle画布和ipython notebook都用到了terminal，这边画完一次画布就崩一次，所以放了一张漫步gif在最后~"
   ]
  },
  {
   "cell_type": "code",
   "execution_count": 1,
   "metadata": {
    "collapsed": true
   },
   "outputs": [],
   "source": [
    "import turtle \n",
    "import numpy as np\n",
    "turtle.setup(700, 700) # 设置turtle画布长宽\n",
    "window = turtle.Screen() \n",
    "window.title('Drunk Random Walk') \n",
    "Drunk = turtle.Turtle() # 给turtle命名为醉汉\n",
    "Drunk.pensize(2) \n",
    "Drunk.speed(np.random.randint(1,3)) # 把醉汉的漫步速度设置在1到2之间的随机数\n",
    "for i in xrange(1,101): # 设置醉汉走100步, 用xrange的话，节省生成整个list的时间\n",
    "\tstep = np.random.randint(-50,51) # 设置醉汉行走的步长，在-50到50像素之间, 介样，随机值为负值的话，醉汉就向后走咯，少设置一步\n",
    "\tangle = np.random.randint(0,101) # 设置醉汉每走一步的角度变化，现实生活中的醉汉可能不会像陀螺一样勤奋地转圈圈，这里就随手设置在100度以内喏\n",
    "\tDrunk.forward(step) # 醉汉向前走\n",
    "\tDrunk.right(angle) # 醉汉向右拐"
   ]
  },
  {
   "cell_type": "markdown",
   "metadata": {
    "collapsed": true
   },
   "source": [
    "![Drunk](https://github.com/linmiao/Data102/blob/master/assignment/2w/raw/master/path/to/image.gif)"
   ]
  },
  {
   "cell_type": "markdown",
   "metadata": {},
   "source": [
    "### 2. 100以内的质数求和\n",
    "质数这道题，主要思路是参考棒棒哒yongle童鞋的，细节部分稍有不同。首先用for循环写出判定是否为质数的方程，接着求质数之和。同样，在向量化计算里，把是否为质数的方程用在numpy的array索引里，筛选出质数后求和。  \n",
    "A. 在1到100之间，判定一个数是否为质数：  \n",
    "在保留2，3，5，7的情况下，去掉2，3，5，7的其他倍数和1，可以得到100以内的质数。这样写可以稍稍跑快一点，但超出100以后就得改写了。以下为循环法求100以内的质数和。"
   ]
  },
  {
   "cell_type": "code",
   "execution_count": 3,
   "metadata": {
    "collapsed": false
   },
   "outputs": [
    {
     "data": {
      "text/plain": [
       "1060"
      ]
     },
     "execution_count": 3,
     "metadata": {},
     "output_type": "execute_result"
    }
   ],
   "source": [
    "def isPrime(n):\n",
    "    if n in [2, 3, 5, 7]: return True # 保留2，3，5，7\n",
    "    if n < 2: return False # 去掉1\n",
    "    for i in [2, 3, 5, 7]: # 把与2，3，5，7相除余0的数字筛掉  \n",
    "        if n%i==0:\n",
    "            return False    \n",
    "    return True\n",
    "\n",
    "prime = []\n",
    "for x in range(100): # 用isPrime方程筛选100以内的所有质数，并添加到prime列表中\n",
    "    if isPrime(x):\n",
    "        prime.append(x)\n",
    "sum(prime)"
   ]
  },
  {
   "cell_type": "markdown",
   "metadata": {},
   "source": [
    "### 用向量化方法求100以内的质数之和\n",
    "官方文档中提到：Numpy中的vectorize向量化功能，本质上还是一个循环，它存在的意义是为了简便，但对性能提高没有多少帮助。\n",
    "1. 详细来说，要使用numpy的向量化功能，先把要用的方程向量化，再输入对象（可以是列表，也可以是数组，除非最后要用到数组索引）到向量化方程里，输出新数组。向量化方程很像map函数，map依据输入的方程来逐步处理输入的对象。  \n",
    "a. 用下面的代码举例，先把isPrime方程向量化，得到isPrimeVec。   \n",
    "b. 接着，把要处理的hundred数组放入isPrimeVec中，输出值会遵循原方程输出True or False值的特点，输出布尔型数组。  \n",
    "c. 为了从1到100之间筛出质数，还需要把方程输出的布尔数组放回原数组中，索引出质数数组。  \n",
    "   .\n",
    "2. 向量化方程输出的数据类型，由输入的数组中第一个元素来决定，也可以通过设定otype来控制。"
   ]
  },
  {
   "cell_type": "code",
   "execution_count": 4,
   "metadata": {
    "collapsed": false
   },
   "outputs": [
    {
     "data": {
      "text/plain": [
       "1060"
      ]
     },
     "execution_count": 4,
     "metadata": {},
     "output_type": "execute_result"
    }
   ],
   "source": [
    "import numpy as np\n",
    "hundred = np.arange(100)\n",
    "isPrimeVec = np.vectorize(isPrime) # 质数方程向量化\n",
    "sum(hundred[isPrimeVec(hundred)])"
   ]
  },
  {
   "cell_type": "markdown",
   "metadata": {},
   "source": [
    "#### 下面是官方文档的一个例子：mypolyval原方程输出的不是布尔值，因此直接在向量化的vpolyval中输入对象，就得到了新数组。"
   ]
  },
  {
   "cell_type": "code",
   "execution_count": 5,
   "metadata": {
    "collapsed": false
   },
   "outputs": [
    {
     "data": {
      "text/plain": [
       "array([3, 6])"
      ]
     },
     "execution_count": 5,
     "metadata": {},
     "output_type": "execute_result"
    }
   ],
   "source": [
    "def mypolyval(p, x):\n",
    "...     _p = list(p)\n",
    "...     res = _p.pop(0)\n",
    "...     while _p:\n",
    "...         res = res*x + _p.pop(0)\n",
    "...     return res\n",
    "vpolyval = np.vectorize(mypolyval, excluded=['p'])\n",
    "vpolyval(p=[1, 2, 3], x=[0, 1])"
   ]
  },
  {
   "cell_type": "markdown",
   "metadata": {},
   "source": [
    "### 3. 用梯形法求定积分"
   ]
  },
  {
   "cell_type": "markdown",
   "metadata": {},
   "source": [
    "**梯形法是森么**  \n",
    "梯形法是求定积分非常简单的一种方法，下面简要描述一下森么是梯形法。摘自 https://www.mathsisfun.com/calculus/integration-definite.html\n",
    "\n",
    "![integral](https://www.mathsisfun.com/calculus/images/integral-notation-1.gif)\n",
    "要理解梯形法，首先要知道定积分是森么。定积分，可以由函数图像在某个区间内包围的面积来表示。上图中扭来扭去的积分符号，其实是形象化的S，也就是sum。换句话说，定积分蕴含了求切块面积之和的想法。  \n",
    "![definiteint](https://www.mathsisfun.com/calculus/images/definite-integral.gif)\n",
    "而为什么会说定积分是切块面积之和呢？  \n",
    "直接求函数图像包围的面积，可能会有点复杂。但我们可以把要求的面积切成一个个高相等的小梯形。切的越多，小梯形面积之和就越接近函数图像包围的面积。下面这个矩形法的图像，就很直观地反映了定积分代表切块面积之和的概念（没有找到梯形法的展示图，但矩形法和梯形法很类似）。\n",
    "![intslice](http://mathworld.wolfram.com/images/eps-gif/LowerIntegral_1000.gif)"
   ]
  },
  {
   "cell_type": "markdown",
   "metadata": {},
   "source": [
    "### 用梯形法求定积分\n",
    "#### 先引入numpy.poly1d多项式函数，方便后面计算\n",
    "用项数递减的方式陈列一个多项式函数。  \n",
    "列如，用np.ploy1d来表示\n",
    "$$\n",
    "    3x^4+4x^3+2x^2+6x+8\n",
    "$$"
   ]
  },
  {
   "cell_type": "code",
   "execution_count": 1,
   "metadata": {
    "collapsed": false
   },
   "outputs": [
    {
     "name": "stdout",
     "output_type": "stream",
     "text": [
      "   4     3     2\n",
      "3 x + 4 x + 2 x + 6 x + 8\n"
     ]
    }
   ],
   "source": [
    "import numpy as np\n",
    "p = np.poly1d([3, 4, 2, 6, 8]) \n",
    "#[3，4，2] 设置幂从高到低的各项系数\n",
    "print np.poly1d(p)\n",
    "# p.c 显示系数\n",
    "# p*p 多项式的加减乘除"
   ]
  },
  {
   "cell_type": "markdown",
   "metadata": {},
   "source": [
    "#### 正式开始求定积分咯，先设置a到b之间小梯形的个数（也就是小梯形的切割点），以及切割点对应的y值。  \n",
    "下面为了简便，设置了2个小梯形，即3个切割点，但结果会灰常不精确。\n",
    "$$\n",
    "     \\int_{0}^{2}(3x^4+4x^3+2x^2+6x+8)dx\n",
    "$$"
   ]
  },
  {
   "cell_type": "code",
   "execution_count": 2,
   "metadata": {
    "collapsed": true
   },
   "outputs": [],
   "source": [
    "p = np.poly1d([3, 4, 2, 6, 8]) \n",
    "x = np.linspace(0,2, 3)\n",
    "y = p(x)"
   ]
  },
  {
   "cell_type": "markdown",
   "metadata": {},
   "source": [
    "#### 求梯形面积   \n",
    "高：积分起点到终点间的距离 / 小梯形的个数   \n",
    "底边：从左到右（或者从右到左）相邻两个切割点的y值"
   ]
  },
  {
   "cell_type": "code",
   "execution_count": 3,
   "metadata": {
    "collapsed": false
   },
   "outputs": [
    {
     "data": {
      "text/plain": [
       "81.0"
      ]
     },
     "execution_count": 3,
     "metadata": {},
     "output_type": "execute_result"
    }
   ],
   "source": [
    "h = (x[2]-x[0])/2 \n",
    "rect1 = h/2 * (y[0] + y[1])\n",
    "rect2 = h/2 * (y[1] + y[2])\n",
    "rect1 + rect2"
   ]
  },
  {
   "cell_type": "markdown",
   "metadata": {},
   "source": [
    "### numpy.trapz 梯形法求定积分\n",
    "用numpy自带的梯形法函数trapz求定积分"
   ]
  },
  {
   "cell_type": "code",
   "execution_count": 4,
   "metadata": {
    "collapsed": false
   },
   "outputs": [
    {
     "data": {
      "text/plain": [
       "81.0"
      ]
     },
     "execution_count": 4,
     "metadata": {},
     "output_type": "execute_result"
    }
   ],
   "source": [
    "p = np.poly1d([3, 4, 2, 6, 8])\n",
    "x = np.linspace(0,2, 3)\n",
    "y = p(x)\n",
    "np.trapz(y,x)\n",
    "# x为所有切割点，y为切割点对应的y值"
   ]
  },
  {
   "cell_type": "markdown",
   "metadata": {},
   "source": [
    "上一条的结果是由两个小梯形算出来的，答案不精确。下面设置100个梯形来看看。"
   ]
  },
  {
   "cell_type": "code",
   "execution_count": 5,
   "metadata": {
    "collapsed": false
   },
   "outputs": [
    {
     "data": {
      "text/plain": [
       "68.538399968000007"
      ]
     },
     "execution_count": 5,
     "metadata": {},
     "output_type": "execute_result"
    }
   ],
   "source": [
    "x = np.linspace(0,2, 101)\n",
    "y = p(x)\n",
    "np.trapz(y,x)\n",
    "# 答案很接近下面用np.polyint方程算出的答案"
   ]
  },
  {
   "cell_type": "markdown",
   "metadata": {},
   "source": [
    "### numpy.polyint 求定积分\n",
    "$$\n",
    "    3x^3+4x^2+2x+6\n",
    "$$"
   ]
  },
  {
   "cell_type": "code",
   "execution_count": 6,
   "metadata": {
    "collapsed": false
   },
   "outputs": [
    {
     "name": "stdout",
     "output_type": "stream",
     "text": [
      "68.5333333333\n"
     ]
    }
   ],
   "source": [
    "p = np.poly1d([3, 4, 2, 6, 8])\n",
    "q = np.polyint(p)\n",
    "integral = q(2) - q(0) \n",
    "print(integral)"
   ]
  }
 ],
 "metadata": {
  "kernelspec": {
   "display_name": "Python 2",
   "language": "python",
   "name": "python2"
  },
  "language_info": {
   "codemirror_mode": {
    "name": "ipython",
    "version": 2
   },
   "file_extension": ".py",
   "mimetype": "text/x-python",
   "name": "python",
   "nbconvert_exporter": "python",
   "pygments_lexer": "ipython2",
   "version": "2.7.11"
  }
 },
 "nbformat": 4,
 "nbformat_minor": 0
}
