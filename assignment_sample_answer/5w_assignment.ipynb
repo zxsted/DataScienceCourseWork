{
 "cells": [
  {
   "cell_type": "markdown",
   "metadata": {},
   "source": [
    "# 5w 作业\n",
    "\n",
    "by @hysic, some notes from @Whalechen"
   ]
  },
  {
   "cell_type": "code",
   "execution_count": 1,
   "metadata": {
    "collapsed": true
   },
   "outputs": [],
   "source": [
    "import pandas as pd"
   ]
  },
  {
   "cell_type": "code",
   "execution_count": 2,
   "metadata": {
    "collapsed": true
   },
   "outputs": [],
   "source": [
    "import numpy as np"
   ]
  },
  {
   "cell_type": "code",
   "execution_count": 3,
   "metadata": {
    "collapsed": true
   },
   "outputs": [],
   "source": [
    "from scipy import stats"
   ]
  },
  {
   "cell_type": "code",
   "execution_count": 4,
   "metadata": {
    "collapsed": true
   },
   "outputs": [],
   "source": [
    "%matplotlib inline\n",
    "import matplotlib.pyplot as plt"
   ]
  },
  {
   "cell_type": "code",
   "execution_count": 5,
   "metadata": {
    "collapsed": true
   },
   "outputs": [],
   "source": [
    "import seaborn as sns"
   ]
  },
  {
   "cell_type": "markdown",
   "metadata": {},
   "source": [
    "\n",
    "## 1. 学习理解什么是极大似然估计。\n",
    "\n",
    "* [极大似然估计](https://en.wikipedia.org/wiki/Maximum_likelihood), maximum-likelihood estimation (MLE), 是在给定样本数据和含有未知参数的统计模型(例如正态分布)的情况下, 找到统计模型的参数(例如正态分布的 $\\mu$ 和 $\\sigma$), 使得这组样本数据出现的可能性最大.\n",
    "\n",
    "* 什么叫最大可能性? 在数学上定义了一个似然函数(likelihood function), 一般是概率密度函数(PDF)或概率质量函数(PMF)，整理之后求最大值。 \n",
    "\n",
    "* python 中是用 `scipy.stats.fit` 函数来实现 MLE.\n"
   ]
  },
  {
   "cell_type": "markdown",
   "metadata": {},
   "source": [
    "参考 http://sites.stat.psu.edu/~dhunter/asymp/fall2002/lectures/ln12.pdf\n",
    "\n",
    "### 极大似然估计的目的\n",
    "- 一个函数，我们用 $ f(x) $ 、$g(x)$ 类似形式表示。如果这个函数有一个参数$\\theta$，我们用 $ f_\\theta(x)$ 或者 $ f(x|\\theta) $ 表示。 \n",
    "- 现在对于如下函数：\n",
    "$f(x_1,x_2,x_3,\\ldots,x_n\\mid\\theta) $ \n",
    "- 我们用另一种方式去理解：\n",
    "$ \\mathcal{L}(\\theta\\,;\\,x_1,\\ldots,\\,x_n) $\n",
    "纯粹的，我们只要将 $ \\mathcal{L}(x)$ 当成为$ f(x) $ 、$g(x)$ 的类似形式，为了突出我们视野的变化而必须变更函数名的处理方式。\n",
    "由于不确定 $ \\theta $ 的具体值，我们需要对于  $ \\theta $ 进行估计，那么我们可以变为 $ \\mathcal{L}(\\theta)$\n",
    "- 极大似然估计的目的就是通过有限观测的实际，来估计实际先验不变的参数（如果我们坚信这是存在的）。\n",
    "\n",
    "### 极大似然估计的方法：\n",
    "- 如果将 $ \\mathcal{L}(\\theta) $ 中所有$ \\theta $ 的取值取出，设想 ${ \\theta_1 \\theta_2 \\ldots \\theta_n }$ ,就有一个集合，可以记为 Ω。\n",
    "- 在Ω 中，如果存在一个极大值,记为 $\\hat\\theta\\ $ 那么这就是极大似然估计值。由于 对数函数和函数本身是渐增函数，显然如果记 $log \\mathcal{L}(\\theta) = \\ell(\\theta) $, 那么对数函数的极大似然估计和函数本身的极大似然估计值是同一个。\n",
    "- 相对于直接计算函数的极大似然估计值，计算其对数的极大似然估计值更方便\n",
    "\n",
    "### 浅析极大似然估计法的一致性：\n",
    "- 这里主要是为了学习数据公式和认识数学的严谨性，\n",
    "- 极大似然估计法是基于 Kullback-Leibler information number（这里用$ K(f_{\\theta_0},f_{\\theta_1})$表示） 最终被证明为非负数：\n",
    "$$ K(f_{\\theta_0},f_{\\theta_1}) = E_{\\theta_0}log{\\frac{f_{\\theta_0}(X)}{f_{\\theta_1}(X)}} $$\n",
    "- 同时, 如果存在一组数据 $ X_1,X_2,\\ldots,X_n$ 由 $f_{\\theta_0}(x)$所产生，那么由这组数据得到的极大似然值(MLE)$\\hat\\theta_n$最终被证明是最接近$\\theta_0$ 的值。\n",
    "- 这个证明基于如下：\n",
    "$$\\frac{1}{N}\\sum_{i=1}^N \\;log{\\frac{f_{\\theta_0}(X_i)}{f_{\\theta_1}(X_i)}}\\to^P E_{\\theta_0}log{\\frac{f_{\\theta_0}(X_i)}{f_{\\theta_1}(X_i)}} = -K(f_{\\theta_0},f_{\\theta_1})$$ \n",
    "- 可以知道，基于之前说明，$ K(f_{\\theta_0},f_{\\theta_1})$ 被证明为非负数 ，那么 $ -K(f_{\\theta_0},f_{\\theta_1})$  一定是非正数。因此，$\\frac{1}{N}\\sum_{i=1}^N \\;log{\\frac{f_{\\theta_0}(X_i)}{f_{\\theta_1}(X_i)}}> 0$ \n",
    "- 所以 $ P(\\hat\\theta_n != \\theta_0) <= {\\sum}\\ P(\\frac{1}{N}\\sum_{i=1}^N \\;log{\\frac{f_{\\theta_0}(X_i)}{f_{\\theta_1}(X_i)}}) \\to 0 $\n",
    "- 获得证明\n",
    "\n",
    "### 说明：\n",
    "- 并非所有的数组都有MLE，同时一些计算可以获得多个MLE。这些需要进一步研究！"
   ]
  },
  {
   "cell_type": "code",
   "execution_count": 6,
   "metadata": {
    "collapsed": false,
    "scrolled": true
   },
   "outputs": [
    {
     "data": {
      "text/plain": [
       "array([ 2.75273537,  1.47659764,  1.05419538,  0.57477338, -3.57447464,\n",
       "        0.95585823, -3.13342034,  1.0511937 ,  1.9859551 ,  4.78477718,\n",
       "       -0.99352654,  1.02170194,  2.20177012,  0.76939862,  2.26644735,\n",
       "       -0.74162922,  1.59009128,  4.51125619,  0.96908909,  0.85856825,\n",
       "        1.88492324, -2.28817955,  1.71185995, -4.23683918,  3.27585501,\n",
       "        0.24416267,  3.03450986, -1.05855884, -0.31959605, -0.79583141,\n",
       "        4.06776596,  0.67993761, -1.54098306,  1.35144937, -1.33603986,\n",
       "        6.16881346,  5.38175685, -0.16153597, -2.4363109 ,  1.71603899,\n",
       "       -1.64167453,  3.74292867,  0.57980891,  3.09274845,  1.86757001,\n",
       "       -0.68424647,  3.59210539,  1.40652009,  2.66344796,  3.53961358,\n",
       "        0.33613518, -1.78883238,  2.27025694,  2.28646342,  1.23594909,\n",
       "       -2.94589102,  2.34479232,  1.21933555,  1.81648129,  2.37261492,\n",
       "        1.64679927, -0.33830136,  0.42790847,  0.64459078,  0.6059905 ,\n",
       "       -0.92748485, -2.02700315, -1.15460789,  2.10341326, -0.24248756,\n",
       "       -1.22846616,  3.18495786, -1.14821251, -1.38529343, -1.44499521,\n",
       "        0.5302633 , -1.43373929, -0.27436876, -0.98057756,  2.08662745,\n",
       "       -1.79461137,  0.86240441,  2.40975054, -0.15588604,  3.20683787,\n",
       "        4.26444936,  0.10704962,  2.04547614, -1.83896611,  4.68350861,\n",
       "        2.05280066,  2.92119256,  0.6249735 , -2.97573167,  0.20676575,\n",
       "       -4.04949072, -1.54922422,  1.64250524,  0.67685855, -2.53927003])"
      ]
     },
     "execution_count": 6,
     "metadata": {},
     "output_type": "execute_result"
    }
   ],
   "source": [
    "# define a sample array with mean=1, std=2\n",
    "X = stats.norm(loc=1, scale=2)\n",
    "test = X.rvs(100)\n",
    "test"
   ]
  },
  {
   "cell_type": "code",
   "execution_count": 7,
   "metadata": {
    "collapsed": false
   },
   "outputs": [
    {
     "data": {
      "text/plain": [
       "(0.72477089391174365, 2.1462987654499335)"
      ]
     },
     "execution_count": 7,
     "metadata": {},
     "output_type": "execute_result"
    }
   ],
   "source": [
    "# use MLE to estimate the mean and std\n",
    "stats.norm.fit(test)"
   ]
  },
  {
   "cell_type": "code",
   "execution_count": 8,
   "metadata": {
    "collapsed": false
   },
   "outputs": [
    {
     "data": {
      "text/plain": [
       "(0.72477089391174365, 2.1462987654499335)"
      ]
     },
     "execution_count": 8,
     "metadata": {},
     "output_type": "execute_result"
    }
   ],
   "source": [
    "# 其实对于正态分布, MLE 估计的结果和样本均值和标准差(ddof=0)一致\n",
    "# 证明见: http://www.statlect.com/normal_distribution_maximum_likelihood.htm\n",
    "# 由此也可以看出, MLE 估计并不是无偏估计\n",
    "test.mean(), test.std()"
   ]
  },
  {
   "cell_type": "markdown",
   "metadata": {},
   "source": [
    "## 2. 使用Pandas中的函数，下载上证综指过去1年的收盘数据，以此来计算日收益率序列，对这个数据画出直方图，计算这组数据的各个描述性统计量。\n",
    "\n",
    "* [收益率](https://en.wikipedia.org/wiki/Rate_of_return)(rate of return)有两种, 一种是ordinary return, 定义为\n",
    "$r = \\frac{V_f - V_i}{V_i}$, 另一种是 logarithmic return, 定义为 $r_{log} = \\frac{ln\\frac{V_f}{V_i}}{t}$. 在收益率较低时, 二者接近相等. 我这里采用第一种定义.\n"
   ]
  },
  {
   "cell_type": "code",
   "execution_count": 9,
   "metadata": {
    "collapsed": true
   },
   "outputs": [],
   "source": [
    "import pandas_datareader.data as web"
   ]
  },
  {
   "cell_type": "code",
   "execution_count": 10,
   "metadata": {
    "collapsed": false
   },
   "outputs": [],
   "source": [
    "import datetime\n",
    "# set the end to today\n",
    "end = datetime.datetime.today()\n",
    "# set the start to 1 year ago\n",
    "interval = datetime.timedelta(days=365)\n",
    "start = end - interval"
   ]
  },
  {
   "cell_type": "code",
   "execution_count": 11,
   "metadata": {
    "collapsed": false
   },
   "outputs": [],
   "source": [
    "sse_dfs1 = web.DataReader(\"000001.SS\", 'yahoo', start, end)"
   ]
  },
  {
   "cell_type": "code",
   "execution_count": 12,
   "metadata": {
    "collapsed": false
   },
   "outputs": [
    {
     "name": "stdout",
     "output_type": "stream",
     "text": [
      "<class 'pandas.core.frame.DataFrame'>\n",
      "DatetimeIndex: 231 entries, 2015-03-02 to 2016-02-26\n",
      "Data columns (total 6 columns):\n",
      "Open         231 non-null float64\n",
      "High         231 non-null float64\n",
      "Low          231 non-null float64\n",
      "Close        231 non-null float64\n",
      "Volume       231 non-null int64\n",
      "Adj Close    231 non-null float64\n",
      "dtypes: float64(5), int64(1)\n",
      "memory usage: 12.6 KB\n"
     ]
    }
   ],
   "source": [
    "sse_dfs1.info()"
   ]
  },
  {
   "cell_type": "code",
   "execution_count": 13,
   "metadata": {
    "collapsed": false
   },
   "outputs": [],
   "source": [
    "sse_arr = sse_dfs1.Close"
   ]
  },
  {
   "cell_type": "code",
   "execution_count": 14,
   "metadata": {
    "collapsed": false,
    "scrolled": true
   },
   "outputs": [
    {
     "data": {
      "text/plain": [
       "pandas.core.series.Series"
      ]
     },
     "execution_count": 14,
     "metadata": {},
     "output_type": "execute_result"
    }
   ],
   "source": [
    "type(sse_arr)"
   ]
  },
  {
   "cell_type": "code",
   "execution_count": 15,
   "metadata": {
    "collapsed": false,
    "scrolled": true
   },
   "outputs": [
    {
     "data": {
      "text/plain": [
       "count     231.000000\n",
       "mean     3695.946710\n",
       "std       596.009001\n",
       "min      2655.660000\n",
       "25%      3282.800000\n",
       "50%      3617.320000\n",
       "75%      4043.670000\n",
       "max      5166.350000\n",
       "Name: Close, dtype: float64"
      ]
     },
     "execution_count": 15,
     "metadata": {},
     "output_type": "execute_result"
    }
   ],
   "source": [
    "sse_arr.describe()"
   ]
  },
  {
   "cell_type": "code",
   "execution_count": 16,
   "metadata": {
    "collapsed": false
   },
   "outputs": [
    {
     "data": {
      "text/plain": [
       "Date\n",
       "2015-03-02    3336.28\n",
       "2015-03-03    3263.05\n",
       "2015-03-04    3279.53\n",
       "2015-03-05    3248.48\n",
       "2015-03-06    3241.19\n",
       "Name: Close, dtype: float64"
      ]
     },
     "execution_count": 16,
     "metadata": {},
     "output_type": "execute_result"
    }
   ],
   "source": [
    "sse_arr.head()"
   ]
  },
  {
   "cell_type": "code",
   "execution_count": 17,
   "metadata": {
    "collapsed": false
   },
   "outputs": [
    {
     "data": {
      "text/plain": [
       "Date\n",
       "2015-03-02        NaN\n",
       "2015-03-03    3336.28\n",
       "2015-03-04    3263.05\n",
       "2015-03-05    3279.53\n",
       "2015-03-06    3248.48\n",
       "Name: Close, dtype: float64"
      ]
     },
     "execution_count": 17,
     "metadata": {},
     "output_type": "execute_result"
    }
   ],
   "source": [
    "# shift the sse_arr by one day \n",
    "# http://pandas.pydata.org/pandas-docs/stable/generated/pandas.Series.shift.html\n",
    "sse_arr.shift(1).head()  "
   ]
  },
  {
   "cell_type": "code",
   "execution_count": 18,
   "metadata": {
    "collapsed": false
   },
   "outputs": [],
   "source": [
    "sse_ror = (sse_arr / sse_arr.shift(1)) - 1"
   ]
  },
  {
   "cell_type": "code",
   "execution_count": 19,
   "metadata": {
    "collapsed": false
   },
   "outputs": [],
   "source": [
    "# drop the NA in the first line\n",
    "# http://pandas.pydata.org/pandas-docs/stable/missing_data.html#dropping-axis-labels-with-missing-data-dropna\n",
    "sse_ror = sse_ror.dropna()"
   ]
  },
  {
   "cell_type": "code",
   "execution_count": 20,
   "metadata": {
    "collapsed": false
   },
   "outputs": [
    {
     "data": {
      "text/plain": [
       "count    230.000000\n",
       "mean      -0.000453\n",
       "std        0.026690\n",
       "min       -0.084907\n",
       "25%       -0.012100\n",
       "50%        0.001853\n",
       "75%        0.018049\n",
       "max        0.076940\n",
       "Name: Daily RoR, dtype: float64"
      ]
     },
     "execution_count": 20,
     "metadata": {},
     "output_type": "execute_result"
    }
   ],
   "source": [
    "sse_ror.name = \"Daily RoR\"\n",
    "sse_ror.describe()"
   ]
  },
  {
   "cell_type": "code",
   "execution_count": 21,
   "metadata": {
    "collapsed": false
   },
   "outputs": [
    {
     "data": {
      "text/plain": [
       "0.0018528090798636265"
      ]
     },
     "execution_count": 21,
     "metadata": {},
     "output_type": "execute_result"
    }
   ],
   "source": [
    "# 收益率中位数\n",
    "sse_ror.median()"
   ]
  },
  {
   "cell_type": "code",
   "execution_count": 22,
   "metadata": {
    "collapsed": false
   },
   "outputs": [
    {
     "data": {
      "text/plain": [
       "-0.00045315900436897726"
      ]
     },
     "execution_count": 22,
     "metadata": {},
     "output_type": "execute_result"
    }
   ],
   "source": [
    "# 收益率均值\n",
    "sse_ror.mean()"
   ]
  },
  {
   "cell_type": "code",
   "execution_count": 23,
   "metadata": {
    "collapsed": false
   },
   "outputs": [
    {
     "data": {
      "text/plain": [
       "0.00071233943907153985"
      ]
     },
     "execution_count": 23,
     "metadata": {},
     "output_type": "execute_result"
    }
   ],
   "source": [
    "# 收益率样本标准差\n",
    "sse_ror.var(ddof=1)"
   ]
  },
  {
   "cell_type": "code",
   "execution_count": 24,
   "metadata": {
    "collapsed": false,
    "scrolled": true
   },
   "outputs": [
    {
     "data": {
      "image/png": "[encoded data removed]",
      "text/plain": [
       "<matplotlib.figure.Figure at 0x108b435d0>"
      ]
     },
     "metadata": {},
     "output_type": "display_data"
    }
   ],
   "source": [
    "plt.hist(sse_ror, bins=20);"
   ]
  },
  {
   "cell_type": "code",
   "execution_count": 25,
   "metadata": {
    "collapsed": false
   },
   "outputs": [
    {
     "data": {
      "text/plain": [
       "-0.69781216338760377"
      ]
     },
     "execution_count": 25,
     "metadata": {},
     "output_type": "execute_result"
    }
   ],
   "source": [
    "sse_ror.skew()\n",
    "# 偏度描述概率分布的不对称性. 偏度小于0, 左偏态, 左侧的尾部更长，分布的主体集中在右侧, 这也与上图一致."
   ]
  },
  {
   "cell_type": "code",
   "execution_count": 26,
   "metadata": {
    "collapsed": false
   },
   "outputs": [
    {
     "data": {
      "text/plain": [
       "-0.1705702159291187"
      ]
     },
     "execution_count": 26,
     "metadata": {},
     "output_type": "execute_result"
    }
   ],
   "source": [
    "# 年收益率的定义...惨不忍睹...\n",
    "sse_arr[-1]/sse_arr[0] - 1"
   ]
  },
  {
   "cell_type": "code",
   "execution_count": 27,
   "metadata": {
    "collapsed": false,
    "scrolled": true
   },
   "outputs": [
    {
     "data": {
      "text/plain": [
       "-0.17057021592911703"
      ]
     },
     "execution_count": 27,
     "metadata": {},
     "output_type": "execute_result"
    }
   ],
   "source": [
    "# 根据日收益率计算的年收益率\n",
    "(1+sse_ror).prod()-1"
   ]
  },
  {
   "cell_type": "markdown",
   "metadata": {},
   "source": [
    "## 3. 对上述收益率数据，使用参数方法和非参数方法估计其概率密度函数。参数方法选择正态分布~~和对数正态分布两种~~假设。基于上述三种方法分别计算收益率小于0的概率。"
   ]
  },
  {
   "cell_type": "code",
   "execution_count": 28,
   "metadata": {
    "collapsed": false
   },
   "outputs": [
    {
     "data": {
      "text/plain": [
       "0.45652173913043476"
      ]
     },
     "execution_count": 28,
     "metadata": {},
     "output_type": "execute_result"
    }
   ],
   "source": [
    "# 收益率实际小于0的概率\n",
    "sse_ror[sse_ror<0].count() * 1./sse_ror.count()"
   ]
  },
  {
   "cell_type": "markdown",
   "metadata": {},
   "source": [
    "### 3.1 参数方法之正态分布假设\n",
    "\n",
    "* 采用最大似然估计(MLE), 先从理论角度看: \n",
    "\n",
    "假设 `sse_ror` 服从正态分布\n",
    "\n",
    "* 若使用 MLE 去估计参数 $\\mu,\\sigma$, 则 likelihood function 为:\n",
    "$$ \\mathcal{L}(\\mu,\\sigma)=f_D(x_1,x_2,...x_n|\\mu,\\sigma)$$\n",
    "* 正态分布的 pdf 为: $f(x|\\mu,\\sigma)=\\frac{1}{\\sqrt{2\\pi\\sigma^2}}e^{- \\frac{(x-\\mu)^2}{2\\sigma^2}}$\n",
    "* likelihood function 可写为: $\\mathcal{L}(\\mu,\\sigma)= \\prod_{i=1}^{n} f(x_i|\\mu,\\sigma)$\n",
    "* 所以 $$\\mathcal{L}(\\mu,\\sigma)= \\frac{1}{2\\pi\\sigma^2}^{\\frac{n}{2}}  exp(-\\frac{\\sum_{i=1}^{n}(x_i-\\bar{x})^2+n(\\bar{x}-\\mu)^2}{2\\sigma^2})$$\n",
    "* 使得上述function 最大的$\\mu,\\sigma$就是 MLE\n",
    "* 可以分别对$\\mu,\\sigma$求导\n",
    "* 可得 $\\hat{\\mu} = \\bar{x} = \\sum_{i=1}^{n}x_i/n$ 也就是 sample mean\n",
    "* $ \\hat{\\sigma}^2 = \\sum_{i=1}^{n}(x_i-\\hat{\\mu})^2/n$ 也就是 sample variance (biased)"
   ]
  },
  {
   "cell_type": "code",
   "execution_count": 29,
   "metadata": {
    "collapsed": false
   },
   "outputs": [
    {
     "data": {
      "text/plain": [
       "(-0.00045315900436897726, 0.026631603614419779)"
      ]
     },
     "execution_count": 29,
     "metadata": {},
     "output_type": "execute_result"
    }
   ],
   "source": [
    "# 直接采用 fit 来得出参数\n",
    "# 最大似然估计的 mean 和 std.\n",
    "mu_1, sig_1 = stats.norm.fit(sse_ror)\n",
    "mu_1, sig_1"
   ]
  },
  {
   "cell_type": "code",
   "execution_count": 30,
   "metadata": {
    "collapsed": true
   },
   "outputs": [],
   "source": [
    "X = stats.norm(mu_1, sig_1)"
   ]
  },
  {
   "cell_type": "code",
   "execution_count": 31,
   "metadata": {
    "collapsed": false,
    "scrolled": true
   },
   "outputs": [
    {
     "data": {
      "image/png": "[encoded data removed]",
      "text/plain": [
       "<matplotlib.figure.Figure at 0x108d6b090>"
      ]
     },
     "metadata": {},
     "output_type": "display_data"
    }
   ],
   "source": [
    "fig, ax = plt.subplots(figsize=(8, 3))\n",
    "\n",
    "plt.xlim(-0.1, 0.1)\n",
    "\n",
    "sns.distplot(sse_ror, ax=ax)  # the blue line and histogram\n",
    "\n",
    "x = np.linspace(*X.interval(0.999), num=100)\n",
    "ax.plot(x, stats.norm(loc=mu_1, scale=sig_1).pdf(x));  # the green line"
   ]
  },
  {
   "cell_type": "code",
   "execution_count": 32,
   "metadata": {
    "collapsed": false
   },
   "outputs": [
    {
     "data": {
      "text/plain": [
       "0.50678800892264275"
      ]
     },
     "execution_count": 32,
     "metadata": {},
     "output_type": "execute_result"
    }
   ],
   "source": [
    "# 根据正态分布假设估计收益率小于0的概率\n",
    "X.cdf(0)"
   ]
  },
  {
   "cell_type": "markdown",
   "metadata": {},
   "source": [
    "### 3.3 非参数方法"
   ]
  },
  {
   "cell_type": "markdown",
   "metadata": {},
   "source": [
    "* [非参数统计](https://en.wikipedia.org/wiki/Nonparametric_statistics)(Nonparametric statistics), 我的理解是不事先假定样本的概率模型, 模型中参数个数随着样本数量增加而增加.\n",
    "\n",
    "* 常用的非参数统计模型有条形图, 核密度估计(KDE), k-临近算法(KNN), 有限向量机(SVN).\n",
    "\n",
    "* 本节讲到的非参数方法是[核密度估计](https://en.wikipedia.org/wiki/Kernel_density_estimation)(Kernel density estimation, KDE), 有两个重要的概念, 一个是核函数(kernel), 一个是带宽(bandwidth). 根据我肤浅的理解(很有可能是错的), kernel 是指在每个样本点周围以核函数展开, 然后叠加作为样本的概率密度估计, 常见的 kernel 有均匀函数, 三角函数, 高斯函数等等. 带宽 bw 是指每个核函数的 scale, 对于高斯核函数, bw 就是 标准差, bw 越小则每个核函数则越尖锐, 与样本拟合得越好, 但可能出现过拟合(猜测).\n",
    "\n",
    "* 对于 scipy 模块, 目前只实现了高斯核函数, 即 `scipy.stats.gaussian_kde`.\n"
   ]
  },
  {
   "cell_type": "code",
   "execution_count": 33,
   "metadata": {
    "collapsed": false
   },
   "outputs": [],
   "source": [
    "# kde estimate with a Gaussian kernal\n",
    "kde1 = stats.gaussian_kde(sse_ror)"
   ]
  },
  {
   "cell_type": "code",
   "execution_count": 34,
   "metadata": {
    "collapsed": false
   },
   "outputs": [
    {
     "data": {
      "text/plain": [
       "0.46677354041177688"
      ]
     },
     "execution_count": 34,
     "metadata": {},
     "output_type": "execute_result"
    }
   ],
   "source": [
    "# 利用 kde 的结果计算收益率小于0的概率\n",
    "kde1.integrate_box_1d(-np.inf, 0)"
   ]
  },
  {
   "cell_type": "code",
   "execution_count": 35,
   "metadata": {
    "collapsed": true
   },
   "outputs": [],
   "source": [
    "# kde estimate with a low bandwidth\n",
    "kde2 = stats.gaussian_kde(sse_ror, bw_method=0.2)"
   ]
  },
  {
   "cell_type": "code",
   "execution_count": 36,
   "metadata": {
    "collapsed": false
   },
   "outputs": [
    {
     "data": {
      "text/plain": [
       "0.46507106504909645"
      ]
     },
     "execution_count": 36,
     "metadata": {},
     "output_type": "execute_result"
    }
   ],
   "source": [
    "kde2.integrate_box_1d(-np.inf, 0)"
   ]
  },
  {
   "cell_type": "code",
   "execution_count": 37,
   "metadata": {
    "collapsed": false
   },
   "outputs": [
    {
     "data": {
      "image/png": "[encoded data removed]",
      "text/plain": [
       "<matplotlib.figure.Figure at 0x108f50e50>"
      ]
     },
     "metadata": {},
     "output_type": "display_data"
    }
   ],
   "source": [
    "fig, ax = plt.subplots()\n",
    "ax.hist(sse_ror, normed=True, bins=40)\n",
    "\n",
    "x = np.linspace(-0.1, 0.1, 100)\n",
    "ax.plot(x, kde1(x), label = \"KDE\")\n",
    "ax.plot(x, kde2(x), label = \"KDE_low_bw\")\n",
    "ax.legend();"
   ]
  },
  {
   "cell_type": "markdown",
   "metadata": {},
   "source": [
    "收益率实际小于0的概率是0.457, 根据正态分布假设, 收益率小于0的概率是0.507, 根据非参数检验, 收益率小于0的概率是0.467, 带宽变小(取 bw=0.2), 收益率小于0的概率为0.465.\n",
    "\n",
    "总体上看, 非参数检验的估计结果要优于正态分布估计, 带宽越小, 估计的结果越好. 但没有进行交叉检验, 可能发生过拟合(?)"
   ]
  },
  {
   "cell_type": "markdown",
   "metadata": {},
   "source": [
    "## 4. 使用Pandas中的函数，下载你感兴趣的任意两支股票的数据，计算日收益率序列，使用假设检验来判断这两支股票的平均收益率是否有差别。\n",
    "\n",
    "* 股票选取大盘股中国石油(601857.SS)和妖股梅雁吉祥(600868.SS).\n",
    "\n",
    "首先获取两只股票的日收益率序列."
   ]
  },
  {
   "cell_type": "code",
   "execution_count": 38,
   "metadata": {
    "collapsed": false
   },
   "outputs": [],
   "source": [
    "def get_ror(stock_code, start, end):\n",
    "    df = web.DataReader(stock_code, 'yahoo', start, end)\n",
    "    arr = df[\"Close\"]\n",
    "    arr.name = stock_code + \"RoR\"\n",
    "    ror = (arr / arr.shift(1)) - 1\n",
    "    return ror.dropna()"
   ]
  },
  {
   "cell_type": "code",
   "execution_count": 39,
   "metadata": {
    "collapsed": true
   },
   "outputs": [],
   "source": [
    "# set the end to today\n",
    "end = datetime.datetime.today()\n",
    "# set the start to 1 year ago\n",
    "interval = datetime.timedelta(days=365)\n",
    "start = end - interval"
   ]
  },
  {
   "cell_type": "code",
   "execution_count": 40,
   "metadata": {
    "collapsed": true
   },
   "outputs": [],
   "source": [
    "# 中国石油的日收益率序列\n",
    "zgsy_ror = get_ror(\"601857.SS\", start, end)"
   ]
  },
  {
   "cell_type": "code",
   "execution_count": 42,
   "metadata": {
    "collapsed": true
   },
   "outputs": [],
   "source": [
    "# 梅雁吉祥的日收益率序列\n",
    "myjx_ror = get_ror(\"600868.SS\", start, end)"
   ]
  },
  {
   "cell_type": "markdown",
   "metadata": {},
   "source": [
    "### 4.1 假设检验方法\n",
    "\n",
    "* 选取哪种检验方法, 是一个头疼的问题, 群里大家也有许多讨论. 我简单参考这份文档: [Choosing the right hypothesis test](http://www.danshuster.com/apstat/Hypothesis%20Test%20and%20Confidence%20Interval%20Formulas.pdf), 选择2-sample t test, 对应的是 `scipy.stats.ttest_ind` 函数."
   ]
  },
  {
   "cell_type": "code",
   "execution_count": 43,
   "metadata": {
    "collapsed": false
   },
   "outputs": [
    {
     "data": {
      "text/plain": [
       "0.30053774785003334"
      ]
     },
     "execution_count": 43,
     "metadata": {},
     "output_type": "execute_result"
    }
   ],
   "source": [
    "static, pv = stats.ttest_ind(zgsy_ror, myjx_ror)\n",
    "pv"
   ]
  },
  {
   "cell_type": "markdown",
   "metadata": {},
   "source": [
    "p 值为0.3, 说明两只股票的差异不显著, 即两支股票的日收益率均值没有显著差别."
   ]
  },
  {
   "cell_type": "markdown",
   "metadata": {},
   "source": [
    "### 4.2 shuffle 方法\n",
    "\n",
    "* 看了这个特别赞的 slides: [Statistics for Hackers](https://speakerdeck.com/jakevdp/statistics-for-hackers), 里面说只要会 for 循环就可以做统计. 其中第二种方法讲的是 shuffling, 即假设二者均值的偏差是统计随机误差(零假设), 将两个样本放在一起打乱重新分配, 重复多次, 看出现给定偏差的概率(即 p 值)."
   ]
  },
  {
   "cell_type": "code",
   "execution_count": 44,
   "metadata": {
    "collapsed": true
   },
   "outputs": [],
   "source": [
    "# 将两支股票的收益率合并成一个 series\n",
    "mixed_ror = zgsy_ror.append(myjx_ror)"
   ]
  },
  {
   "cell_type": "code",
   "execution_count": 45,
   "metadata": {
    "collapsed": false,
    "scrolled": true
   },
   "outputs": [
    {
     "data": {
      "text/plain": [
       "(516, 258)"
      ]
     },
     "execution_count": 45,
     "metadata": {},
     "output_type": "execute_result"
    }
   ],
   "source": [
    "len(mixed_ror), len(zgsy_ror)"
   ]
  },
  {
   "cell_type": "code",
   "execution_count": 46,
   "metadata": {
    "collapsed": false
   },
   "outputs": [
    {
     "data": {
      "text/plain": [
       "-0.0039973122974913868"
      ]
     },
     "execution_count": 46,
     "metadata": {},
     "output_type": "execute_result"
    }
   ],
   "source": [
    "# 计算两支股票平均收益率之差\n",
    "mean_diff = zgsy_ror.mean() - myjx_ror.mean()\n",
    "mean_diff"
   ]
  },
  {
   "cell_type": "markdown",
   "metadata": {},
   "source": [
    "中国石油的平均收益率比梅雁吉祥要低约0.4%, 这是随机误差造成的, 还是收益率的真实差距?\n"
   ]
  },
  {
   "cell_type": "code",
   "execution_count": 47,
   "metadata": {
    "collapsed": true
   },
   "outputs": [],
   "source": [
    "shuffled_ror = mixed_ror.copy()"
   ]
  },
  {
   "cell_type": "code",
   "execution_count": 48,
   "metadata": {
    "collapsed": false,
    "scrolled": true
   },
   "outputs": [],
   "source": [
    "# 模拟次数(这里应该选10000或更高, 结果更精确, 可是那样的话计算时间过长, 只能暂取1000)\n",
    "N = 1000"
   ]
  },
  {
   "cell_type": "code",
   "execution_count": 49,
   "metadata": {
    "collapsed": false,
    "scrolled": true
   },
   "outputs": [],
   "source": [
    "result = 0\n",
    "for i in range(N):\n",
    "    # 将收益率打乱重排\n",
    "    np.random.shuffle(shuffled_ror)\n",
    "    # 将打乱的 series 分成两部分, 计算前后两部分的平均值之差\n",
    "    shuffled_mean_diff = shuffled_ror[:258].mean() - shuffled_ror[258:].mean()\n",
    "#    print i, shuffled_mean_diff,\n",
    "    # 计算收益率小于实际收益率的次数\n",
    "    if shuffled_mean_diff < mean_diff:\n",
    "        result += 1\n",
    "#    print result\n",
    "\n",
    "p_value = result * 1. / N  # 一定要加上 \"*1.\""
   ]
  },
  {
   "cell_type": "code",
   "execution_count": 50,
   "metadata": {
    "collapsed": false
   },
   "outputs": [
    {
     "data": {
      "text/plain": [
       "0.152"
      ]
     },
     "execution_count": 50,
     "metadata": {},
     "output_type": "execute_result"
    }
   ],
   "source": [
    "p_value"
   ]
  },
  {
   "cell_type": "markdown",
   "metadata": {},
   "source": [
    "p 值与之前 t-test 结果不同(?) 但结果相同, 均表明, 二者日收益率的平均值差距不显著."
   ]
  }
 ],
 "metadata": {
  "kernelspec": {
   "display_name": "Python 2",
   "language": "python",
   "name": "python2"
  },
  "language_info": {
   "codemirror_mode": {
    "name": "ipython",
    "version": 2
   },
   "file_extension": ".py",
   "mimetype": "text/x-python",
   "name": "python",
   "nbconvert_exporter": "python",
   "pygments_lexer": "ipython2",
   "version": "2.7.11"
  }
 },
 "nbformat": 4,
 "nbformat_minor": 0
}
