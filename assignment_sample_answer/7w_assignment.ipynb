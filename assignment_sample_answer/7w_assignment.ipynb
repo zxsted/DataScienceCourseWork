{
 "cells": [
  {
   "cell_type": "markdown",
   "metadata": {},
   "source": [
    "# 7w-asgn\n",
    "* Q1:学习理解如何用最小二乘法的矩阵公式来得到线性回归的解，并使用numpy库来实现该算法。\n",
    "* Q2:使用pandas库中的函数下载上证综指和任一成份股票数据，计算日收益率，对这两组数据建立回归模型，将上证综指的收益率作为解释变量，说明这个模型的用处。\n",
    "* Q3:在kaggle网站上找到titanic数据，并使用logistic回归来建模，研究分析每个因素对于生存的重要性。\n",
    "* Q4:搜集某个城市过去1个月的PM2.5小时级数据，根据时间序列预测方法，来预测未来三天的PM2.5情况"
   ]
  },
  {
   "cell_type": "markdown",
   "metadata": {},
   "source": [
    "## Q1: OLS in Linear Regression\n",
    "\n",
    "* [OLS wiki](https://en.wikipedia.org/wiki/Ordinary_least_squares)\n",
    "* [Linear Regression wiki](https://en.wikipedia.org/wiki/Linear_regression_model)\n",
    "\n",
    "* 假设 sample size = n\n",
    "    * $\\{y_i,x_i\\}_{i=1}^n$\n",
    "    * $y$为 dependent variable, scalar\n",
    "    * $x$为 a vector of p explanatory variables, ($x_1,x_2,...x_p$), 也成为 design matrix\n",
    "* Linear Regression Model: \n",
    "    * $y_i=x_i^T\\beta+\\epsilon_i$, $\\beta$ 是`pX1`的 vector\n",
    "    * 写成 matrix form: $y=X\\beta+\\epsilon$\n",
    "        * $X$ 是 `nXp` 的 matrix of explanatory variable, $x_1,x_2,...x_p$\n",
    "        * $\\beta$ 就是想要求的系数\n",
    "        * $y, \\epsilon$ 都是 `pX1` vector\n",
    "* 残差: $residual=y_i-x_i^T b$ 假设 b 为某一个$\\beta$的取值\n",
    "    * residual 是真实值与预测值之间的差距, 所以可以评估 model 拟合程度\n",
    "* 残差平方和 sum of squared residuals (SSR), 评估整体 model 拟合情况: \n",
    "$$S(b)=\\sum_{i=1}^n (y_i-x_i^T b)^2$$\n",
    "* 在线性回归中使用 OLS 去拟合, 也就是想要使 SSR=S(b) 最小化.\n",
    "    * 所以 $ \\hat{\\beta} = argmin S(b)$\n",
    "* 求 $S(b)$ 何时最小, 对 b 求导, 令导数等于0:\n",
    "    * $\\frac{dS}{db}=\\sum_{i=1}^n 2(y_i-x_i^T b)(-x_i^T) = 0$\n",
    "    * $\\hat{\\beta} = \\lgroup\\frac{1}{n}\\sum_{i=1}^n x_i x_i^T\\rgroup ^ {-1} \\frac{1}{n}\\sum_{i=1}^n x_i y_i$\n",
    "    * 写成 matrix form: $\\hat{\\beta} = (X^T X)^{-1}X^T y$"
   ]
  },
  {
   "cell_type": "code",
   "execution_count": 1,
   "metadata": {
    "collapsed": true
   },
   "outputs": [],
   "source": [
    "import statsmodels.api as sm\n",
    "import statsmodels.formula.api as smf #公式界面\n",
    "import statsmodels.graphics.api as smg # 图形界面\n",
    "import patsy #转化公式\n",
    "%matplotlib inline\n",
    "import matplotlib.pyplot as plt\n",
    "import numpy as np\n",
    "import pandas as pd\n",
    "from scipy import stats\n",
    "import seaborn as sns"
   ]
  },
  {
   "cell_type": "code",
   "execution_count": 2,
   "metadata": {
    "collapsed": true
   },
   "outputs": [],
   "source": [
    "from numpy.linalg import inv\n",
    "\n",
    "def ols(X_matrix, y):\n",
    "    '''\n",
    "    returns coeff array by using OLS closed-form matrix formula\n",
    "    X_matrix: design matrix\n",
    "    y: column raw data\n",
    "    '''\n",
    "    w = inv(np.dot(X_matrix.T,X_matrix)).dot(X_matrix.T).dot(y)\n",
    "    return w"
   ]
  },
  {
   "cell_type": "code",
   "execution_count": 3,
   "metadata": {
    "collapsed": false
   },
   "outputs": [
    {
     "data": {
      "text/html": [
       "<div>\n",
       "<table border=\"1\" class=\"dataframe\">\n",
       "  <thead>\n",
       "    <tr style=\"text-align: right;\">\n",
       "      <th></th>\n",
       "      <th>x1</th>\n",
       "      <th>x2</th>\n",
       "      <th>x3</th>\n",
       "      <th>y_true</th>\n",
       "      <th>y</th>\n",
       "    </tr>\n",
       "  </thead>\n",
       "  <tbody>\n",
       "    <tr>\n",
       "      <th>0</th>\n",
       "      <td>-0.142043</td>\n",
       "      <td>-0.207324</td>\n",
       "      <td>0.376192</td>\n",
       "      <td>2.928850</td>\n",
       "      <td>1.282375</td>\n",
       "    </tr>\n",
       "    <tr>\n",
       "      <th>1</th>\n",
       "      <td>-0.640962</td>\n",
       "      <td>-0.360073</td>\n",
       "      <td>-0.179685</td>\n",
       "      <td>-0.529764</td>\n",
       "      <td>2.294898</td>\n",
       "    </tr>\n",
       "    <tr>\n",
       "      <th>2</th>\n",
       "      <td>0.269488</td>\n",
       "      <td>0.316936</td>\n",
       "      <td>-0.076239</td>\n",
       "      <td>2.877220</td>\n",
       "      <td>1.561066</td>\n",
       "    </tr>\n",
       "    <tr>\n",
       "      <th>3</th>\n",
       "      <td>-0.765718</td>\n",
       "      <td>1.105926</td>\n",
       "      <td>1.070577</td>\n",
       "      <td>9.369655</td>\n",
       "      <td>8.616175</td>\n",
       "    </tr>\n",
       "    <tr>\n",
       "      <th>4</th>\n",
       "      <td>-0.103410</td>\n",
       "      <td>0.965879</td>\n",
       "      <td>0.013798</td>\n",
       "      <td>4.856319</td>\n",
       "      <td>4.562518</td>\n",
       "    </tr>\n",
       "  </tbody>\n",
       "</table>\n",
       "</div>"
      ],
      "text/plain": [
       "         x1        x2        x3    y_true         y\n",
       "0 -0.142043 -0.207324  0.376192  2.928850  1.282375\n",
       "1 -0.640962 -0.360073 -0.179685 -0.529764  2.294898\n",
       "2  0.269488  0.316936 -0.076239  2.877220  1.561066\n",
       "3 -0.765718  1.105926  1.070577  9.369655  8.616175\n",
       "4 -0.103410  0.965879  0.013798  4.856319  4.562518"
      ]
     },
     "execution_count": 3,
     "metadata": {},
     "output_type": "execute_result"
    }
   ],
   "source": [
    "# 用一个例子来试一下\n",
    "\n",
    "np.random.seed(42424242)\n",
    "N = 100\n",
    "x1 = np.random.randn(N)\n",
    "x2 = np.random.randn(N)\n",
    "x3 = np.random.randn(N)\n",
    "\n",
    "data = pd.DataFrame({\"x1\": x1, \"x2\": x2, \"x3\": x3})\n",
    "\n",
    "def y_true(x1,x2,x3):\n",
    "    return 2 + x1 + 3*x2 + 4.5*x3\n",
    "\n",
    "data[\"y_true\"] = y_true(x1,x2,x3)\n",
    "e = np.random.randn(N) #noise, ~Normal\n",
    "data[\"y\"] = data[\"y_true\"] + e\n",
    "\n",
    "data.head()"
   ]
  },
  {
   "cell_type": "code",
   "execution_count": 4,
   "metadata": {
    "collapsed": false
   },
   "outputs": [],
   "source": [
    "X_matrix = np.hstack((np.ones((N,1)),data.iloc[:,0:3]))"
   ]
  },
  {
   "cell_type": "code",
   "execution_count": 5,
   "metadata": {
    "collapsed": true
   },
   "outputs": [],
   "source": [
    "w = ols(X_matrix, data[\"y\"])"
   ]
  },
  {
   "cell_type": "code",
   "execution_count": 6,
   "metadata": {
    "collapsed": false
   },
   "outputs": [
    {
     "data": {
      "text/plain": [
       "array([ 1.9885126 ,  0.91041719,  2.83220741,  4.53867518])"
      ]
     },
     "execution_count": 6,
     "metadata": {},
     "output_type": "execute_result"
    }
   ],
   "source": [
    "w"
   ]
  },
  {
   "cell_type": "code",
   "execution_count": 7,
   "metadata": {
    "collapsed": true
   },
   "outputs": [],
   "source": [
    "# 如果使用 statsmodel\n",
    "model = smf.ols(\"y ~ x1 + x2 + x3\", data)\n",
    "result = model.fit()"
   ]
  },
  {
   "cell_type": "code",
   "execution_count": 8,
   "metadata": {
    "collapsed": false
   },
   "outputs": [
    {
     "name": "stdout",
     "output_type": "stream",
     "text": [
      "                            OLS Regression Results                            \n",
      "==============================================================================\n",
      "Dep. Variable:                      y   R-squared:                       0.965\n",
      "Model:                            OLS   Adj. R-squared:                  0.964\n",
      "Method:                 Least Squares   F-statistic:                     881.3\n",
      "Date:                Sat, 12 Mar 2016   Prob (F-statistic):           1.06e-69\n",
      "Time:                        22:05:55   Log-Likelihood:                -138.42\n",
      "No. Observations:                 100   AIC:                             284.8\n",
      "Df Residuals:                      96   BIC:                             295.3\n",
      "Df Model:                           3                                         \n",
      "Covariance Type:            nonrobust                                         \n",
      "==============================================================================\n",
      "                 coef    std err          t      P>|t|      [95.0% Conf. Int.]\n",
      "------------------------------------------------------------------------------\n",
      "Intercept      1.9885      0.102     19.558      0.000         1.787     2.190\n",
      "x1             0.9104      0.102      8.924      0.000         0.708     1.113\n",
      "x2             2.8322      0.101     28.094      0.000         2.632     3.032\n",
      "x3             4.5387      0.105     43.096      0.000         4.330     4.748\n",
      "==============================================================================\n",
      "Omnibus:                        0.145   Durbin-Watson:                   2.142\n",
      "Prob(Omnibus):                  0.930   Jarque-Bera (JB):                0.217\n",
      "Skew:                           0.088   Prob(JB):                        0.897\n",
      "Kurtosis:                       2.853   Cond. No.                         1.29\n",
      "==============================================================================\n",
      "\n",
      "Warnings:\n",
      "[1] Standard Errors assume that the covariance matrix of the errors is correctly specified.\n"
     ]
    }
   ],
   "source": [
    "print(result.summary())"
   ]
  },
  {
   "cell_type": "markdown",
   "metadata": {},
   "source": [
    "比较 coeff 计算出来是一致的, p 值都很小, 所有 coeff 都是显著的, $R^2$为0.965, 拟合很好."
   ]
  },
  {
   "cell_type": "markdown",
   "metadata": {},
   "source": [
    "## Q2: Linear Regression 上证综指&成分股 日收益率"
   ]
  },
  {
   "cell_type": "code",
   "execution_count": 9,
   "metadata": {
    "collapsed": true
   },
   "outputs": [],
   "source": [
    "import pandas_datareader\n",
    "from pandas_datareader import data\n",
    "\n",
    "import datetime\n",
    "start = datetime.datetime(2015,3,1)\n",
    "end = datetime.datetime(2016,3,1)"
   ]
  },
  {
   "cell_type": "code",
   "execution_count": 10,
   "metadata": {
    "collapsed": false
   },
   "outputs": [],
   "source": [
    "sse=data.DataReader(\"000001.SS\",\"yahoo\",start,end) # 上证指数"
   ]
  },
  {
   "cell_type": "code",
   "execution_count": 11,
   "metadata": {
    "collapsed": false
   },
   "outputs": [],
   "source": [
    "pingan=data.DataReader(\"601318.SS\",\"yahoo\",start,end)#中国平安"
   ]
  },
  {
   "cell_type": "code",
   "execution_count": 12,
   "metadata": {
    "collapsed": true
   },
   "outputs": [],
   "source": [
    "def cal_r_daily(df): # calculate daily return\n",
    "    df=df.drop([\"Open\",\"High\",\"Low\",\"Close\",\"Volume\"],axis=1)\n",
    "    df=df/df.shift(1) - 1\n",
    "    df.columns=[\"Daily_return\"]\n",
    "    df=df.dropna()\n",
    "    return df"
   ]
  },
  {
   "cell_type": "code",
   "execution_count": 13,
   "metadata": {
    "collapsed": false
   },
   "outputs": [
    {
     "data": {
      "text/html": [
       "<div>\n",
       "<table border=\"1\" class=\"dataframe\">\n",
       "  <thead>\n",
       "    <tr style=\"text-align: right;\">\n",
       "      <th></th>\n",
       "      <th>Daily_return</th>\n",
       "    </tr>\n",
       "    <tr>\n",
       "      <th>Date</th>\n",
       "      <th></th>\n",
       "    </tr>\n",
       "  </thead>\n",
       "  <tbody>\n",
       "    <tr>\n",
       "      <th>2015-03-03</th>\n",
       "      <td>-0.021950</td>\n",
       "    </tr>\n",
       "    <tr>\n",
       "      <th>2015-03-04</th>\n",
       "      <td>0.005050</td>\n",
       "    </tr>\n",
       "    <tr>\n",
       "      <th>2015-03-05</th>\n",
       "      <td>-0.009468</td>\n",
       "    </tr>\n",
       "    <tr>\n",
       "      <th>2015-03-06</th>\n",
       "      <td>-0.002244</td>\n",
       "    </tr>\n",
       "    <tr>\n",
       "      <th>2015-03-09</th>\n",
       "      <td>0.018888</td>\n",
       "    </tr>\n",
       "  </tbody>\n",
       "</table>\n",
       "</div>"
      ],
      "text/plain": [
       "            Daily_return\n",
       "Date                    \n",
       "2015-03-03     -0.021950\n",
       "2015-03-04      0.005050\n",
       "2015-03-05     -0.009468\n",
       "2015-03-06     -0.002244\n",
       "2015-03-09      0.018888"
      ]
     },
     "execution_count": 13,
     "metadata": {},
     "output_type": "execute_result"
    }
   ],
   "source": [
    "sse_d=cal_r_daily(sse)\n",
    "sse_d.head()"
   ]
  },
  {
   "cell_type": "code",
   "execution_count": 14,
   "metadata": {
    "collapsed": false
   },
   "outputs": [
    {
     "data": {
      "text/html": [
       "<div>\n",
       "<table border=\"1\" class=\"dataframe\">\n",
       "  <thead>\n",
       "    <tr style=\"text-align: right;\">\n",
       "      <th></th>\n",
       "      <th>Daily_return</th>\n",
       "    </tr>\n",
       "    <tr>\n",
       "      <th>Date</th>\n",
       "      <th></th>\n",
       "    </tr>\n",
       "  </thead>\n",
       "  <tbody>\n",
       "    <tr>\n",
       "      <th>2015-03-03</th>\n",
       "      <td>-0.039787</td>\n",
       "    </tr>\n",
       "    <tr>\n",
       "      <th>2015-03-04</th>\n",
       "      <td>-0.002671</td>\n",
       "    </tr>\n",
       "    <tr>\n",
       "      <th>2015-03-05</th>\n",
       "      <td>-0.026602</td>\n",
       "    </tr>\n",
       "    <tr>\n",
       "      <th>2015-03-06</th>\n",
       "      <td>-0.002752</td>\n",
       "    </tr>\n",
       "    <tr>\n",
       "      <th>2015-03-09</th>\n",
       "      <td>0.020631</td>\n",
       "    </tr>\n",
       "  </tbody>\n",
       "</table>\n",
       "</div>"
      ],
      "text/plain": [
       "            Daily_return\n",
       "Date                    \n",
       "2015-03-03     -0.039787\n",
       "2015-03-04     -0.002671\n",
       "2015-03-05     -0.026602\n",
       "2015-03-06     -0.002752\n",
       "2015-03-09      0.020631"
      ]
     },
     "execution_count": 14,
     "metadata": {},
     "output_type": "execute_result"
    }
   ],
   "source": [
    "pingan_d=cal_r_daily(pingan)\n",
    "pingan_d.head()"
   ]
  },
  {
   "cell_type": "markdown",
   "metadata": {},
   "source": [
    "以上证指数为解释变量做线性回归, 假设:\n",
    "$$ pingan = \\beta_0 + \\beta_1*sse + \\epsilon$$"
   ]
  },
  {
   "cell_type": "code",
   "execution_count": 15,
   "metadata": {
    "collapsed": false
   },
   "outputs": [],
   "source": [
    "d_data=pd.concat([sse_d,pingan_d],axis=1).dropna()"
   ]
  },
  {
   "cell_type": "code",
   "execution_count": 16,
   "metadata": {
    "collapsed": false
   },
   "outputs": [
    {
     "data": {
      "text/html": [
       "<div>\n",
       "<table border=\"1\" class=\"dataframe\">\n",
       "  <thead>\n",
       "    <tr style=\"text-align: right;\">\n",
       "      <th></th>\n",
       "      <th>SSE</th>\n",
       "      <th>PingAn</th>\n",
       "    </tr>\n",
       "  </thead>\n",
       "  <tbody>\n",
       "    <tr>\n",
       "      <th>count</th>\n",
       "      <td>232.000000</td>\n",
       "      <td>232.000000</td>\n",
       "    </tr>\n",
       "    <tr>\n",
       "      <th>mean</th>\n",
       "      <td>-0.000500</td>\n",
       "      <td>0.001223</td>\n",
       "    </tr>\n",
       "    <tr>\n",
       "      <th>std</th>\n",
       "      <td>0.026663</td>\n",
       "      <td>0.070343</td>\n",
       "    </tr>\n",
       "    <tr>\n",
       "      <th>min</th>\n",
       "      <td>-0.084907</td>\n",
       "      <td>-0.508081</td>\n",
       "    </tr>\n",
       "    <tr>\n",
       "      <th>25%</th>\n",
       "      <td>-0.012317</td>\n",
       "      <td>-0.014752</td>\n",
       "    </tr>\n",
       "    <tr>\n",
       "      <th>50%</th>\n",
       "      <td>0.001853</td>\n",
       "      <td>-0.000753</td>\n",
       "    </tr>\n",
       "    <tr>\n",
       "      <th>75%</th>\n",
       "      <td>0.017851</td>\n",
       "      <td>0.014346</td>\n",
       "    </tr>\n",
       "    <tr>\n",
       "      <th>max</th>\n",
       "      <td>0.076940</td>\n",
       "      <td>0.838211</td>\n",
       "    </tr>\n",
       "  </tbody>\n",
       "</table>\n",
       "</div>"
      ],
      "text/plain": [
       "              SSE      PingAn\n",
       "count  232.000000  232.000000\n",
       "mean    -0.000500    0.001223\n",
       "std      0.026663    0.070343\n",
       "min     -0.084907   -0.508081\n",
       "25%     -0.012317   -0.014752\n",
       "50%      0.001853   -0.000753\n",
       "75%      0.017851    0.014346\n",
       "max      0.076940    0.838211"
      ]
     },
     "execution_count": 16,
     "metadata": {},
     "output_type": "execute_result"
    }
   ],
   "source": [
    "d_data.columns=[\"SSE\",\"PingAn\"]\n",
    "d_data.describe()"
   ]
  },
  {
   "cell_type": "code",
   "execution_count": 17,
   "metadata": {
    "collapsed": false
   },
   "outputs": [
    {
     "data": {
      "image/png": "[encoded data removed]",
      "text/plain": [
       "<matplotlib.figure.Figure at 0x110176dd0>"
      ]
     },
     "metadata": {},
     "output_type": "display_data"
    }
   ],
   "source": [
    "plt.scatter(d_data['SSE'],d_data['PingAn']);"
   ]
  },
  {
   "cell_type": "code",
   "execution_count": 18,
   "metadata": {
    "collapsed": true
   },
   "outputs": [],
   "source": [
    "result_lr = smf.ols(\"PingAn ~ SSE\", d_data).fit()\n",
    "# linear regression by ols"
   ]
  },
  {
   "cell_type": "code",
   "execution_count": 19,
   "metadata": {
    "collapsed": false
   },
   "outputs": [
    {
     "name": "stdout",
     "output_type": "stream",
     "text": [
      "                            OLS Regression Results                            \n",
      "==============================================================================\n",
      "Dep. Variable:                 PingAn   R-squared:                       0.016\n",
      "Model:                            OLS   Adj. R-squared:                  0.011\n",
      "Method:                 Least Squares   F-statistic:                     3.685\n",
      "Date:                Sat, 12 Mar 2016   Prob (F-statistic):             0.0561\n",
      "Time:                        22:06:05   Log-Likelihood:                 288.97\n",
      "No. Observations:                 232   AIC:                            -573.9\n",
      "Df Residuals:                     230   BIC:                            -567.0\n",
      "Df Model:                           1                                         \n",
      "Covariance Type:            nonrobust                                         \n",
      "==============================================================================\n",
      "                 coef    std err          t      P>|t|      [95.0% Conf. Int.]\n",
      "------------------------------------------------------------------------------\n",
      "Intercept      0.0014      0.005      0.302      0.763        -0.008     0.010\n",
      "SSE            0.3313      0.173      1.920      0.056        -0.009     0.671\n",
      "==============================================================================\n",
      "Omnibus:                      348.435   Durbin-Watson:                   2.121\n",
      "Prob(Omnibus):                  0.000   Jarque-Bera (JB):           123087.027\n",
      "Skew:                           6.580   Prob(JB):                         0.00\n",
      "Kurtosis:                     115.071   Cond. No.                         37.6\n",
      "==============================================================================\n",
      "\n",
      "Warnings:\n",
      "[1] Standard Errors assume that the covariance matrix of the errors is correctly specified.\n"
     ]
    }
   ],
   "source": [
    "print(result_lr.summary())"
   ]
  },
  {
   "cell_type": "code",
   "execution_count": 20,
   "metadata": {
    "collapsed": true
   },
   "outputs": [],
   "source": [
    "# Intercept 的 p 值很高, 说明不需要 Intercept\n",
    "result_lr = smf.ols(\"PingAn ~ -1+SSE\", d_data).fit()"
   ]
  },
  {
   "cell_type": "code",
   "execution_count": 22,
   "metadata": {
    "collapsed": false
   },
   "outputs": [
    {
     "name": "stdout",
     "output_type": "stream",
     "text": [
      "                            OLS Regression Results                            \n",
      "==============================================================================\n",
      "Dep. Variable:                 PingAn   R-squared:                       0.016\n",
      "Model:                            OLS   Adj. R-squared:                  0.011\n",
      "Method:                 Least Squares   F-statistic:                     3.679\n",
      "Date:                Sat, 12 Mar 2016   Prob (F-statistic):             0.0563\n",
      "Time:                        22:07:17   Log-Likelihood:                 288.92\n",
      "No. Observations:                 232   AIC:                            -575.8\n",
      "Df Residuals:                     231   BIC:                            -572.4\n",
      "Df Model:                           1                                         \n",
      "Covariance Type:            nonrobust                                         \n",
      "==============================================================================\n",
      "                 coef    std err          t      P>|t|      [95.0% Conf. Int.]\n",
      "------------------------------------------------------------------------------\n",
      "SSE            0.3303      0.172      1.918      0.056        -0.009     0.670\n",
      "==============================================================================\n",
      "Omnibus:                      348.368   Durbin-Watson:                   2.120\n",
      "Prob(Omnibus):                  0.000   Jarque-Bera (JB):           123000.432\n",
      "Skew:                           6.578   Prob(JB):                         0.00\n",
      "Kurtosis:                     115.032   Cond. No.                         1.00\n",
      "==============================================================================\n",
      "\n",
      "Warnings:\n",
      "[1] Standard Errors assume that the covariance matrix of the errors is correctly specified.\n"
     ]
    }
   ],
   "source": [
    "print(result_lr.summary())"
   ]
  },
  {
   "cell_type": "markdown",
   "metadata": {},
   "source": [
    "* OLS 计算系数为0.3303, positive, 说明是正相关的\n",
    "* $R^2$ 只有0.016, 很低, 说明线性回归拟合的不好, 这个 model 只能解释大概1.6%的数据\n",
    "\n",
    "改进?:\n",
    "* 从5w 作业看, 单只股票日收益率mean都约为0, 对上证指数和平安进行 Hypothesis test"
   ]
  },
  {
   "cell_type": "code",
   "execution_count": 23,
   "metadata": {
    "collapsed": false
   },
   "outputs": [
    {
     "data": {
      "text/plain": [
       "Ttest_indResult(statistic=-0.34890306020771678, pvalue=0.72732104066011416)"
      ]
     },
     "execution_count": 23,
     "metadata": {},
     "output_type": "execute_result"
    }
   ],
   "source": [
    "stats.ttest_ind(d_data.SSE,d_data.PingAn)"
   ]
  },
  {
   "cell_type": "markdown",
   "metadata": {},
   "source": [
    "p 值都不够小, 所以它们的 mean return 是相同的, 都约为0.\n",
    "\n",
    "考虑换成 log return 来试试."
   ]
  },
  {
   "cell_type": "code",
   "execution_count": 24,
   "metadata": {
    "collapsed": true
   },
   "outputs": [],
   "source": [
    "def cal_log(df): # calculate log\n",
    "    df=df.drop([\"Open\",\"High\",\"Low\",\"Close\",\"Volume\"],axis=1)\n",
    "    df=np.log(df)\n",
    "    df.columns=[\"Log_price\"]\n",
    "    df=df.dropna()\n",
    "    return df"
   ]
  },
  {
   "cell_type": "code",
   "execution_count": 25,
   "metadata": {
    "collapsed": false
   },
   "outputs": [
    {
     "data": {
      "text/html": [
       "<div>\n",
       "<table border=\"1\" class=\"dataframe\">\n",
       "  <thead>\n",
       "    <tr style=\"text-align: right;\">\n",
       "      <th></th>\n",
       "      <th>Log_price</th>\n",
       "    </tr>\n",
       "    <tr>\n",
       "      <th>Date</th>\n",
       "      <th></th>\n",
       "    </tr>\n",
       "  </thead>\n",
       "  <tbody>\n",
       "    <tr>\n",
       "      <th>2015-03-02</th>\n",
       "      <td>8.112612</td>\n",
       "    </tr>\n",
       "    <tr>\n",
       "      <th>2015-03-03</th>\n",
       "      <td>8.090418</td>\n",
       "    </tr>\n",
       "    <tr>\n",
       "      <th>2015-03-04</th>\n",
       "      <td>8.095455</td>\n",
       "    </tr>\n",
       "    <tr>\n",
       "      <th>2015-03-05</th>\n",
       "      <td>8.085942</td>\n",
       "    </tr>\n",
       "    <tr>\n",
       "      <th>2015-03-06</th>\n",
       "      <td>8.083696</td>\n",
       "    </tr>\n",
       "  </tbody>\n",
       "</table>\n",
       "</div>"
      ],
      "text/plain": [
       "            Log_price\n",
       "Date                 \n",
       "2015-03-02   8.112612\n",
       "2015-03-03   8.090418\n",
       "2015-03-04   8.095455\n",
       "2015-03-05   8.085942\n",
       "2015-03-06   8.083696"
      ]
     },
     "execution_count": 25,
     "metadata": {},
     "output_type": "execute_result"
    }
   ],
   "source": [
    "log_sse=cal_log(sse)\n",
    "log_sse.head()"
   ]
  },
  {
   "cell_type": "code",
   "execution_count": 26,
   "metadata": {
    "collapsed": false
   },
   "outputs": [
    {
     "data": {
      "text/html": [
       "<div>\n",
       "<table border=\"1\" class=\"dataframe\">\n",
       "  <thead>\n",
       "    <tr style=\"text-align: right;\">\n",
       "      <th></th>\n",
       "      <th>Log_price</th>\n",
       "    </tr>\n",
       "    <tr>\n",
       "      <th>Date</th>\n",
       "      <th></th>\n",
       "    </tr>\n",
       "  </thead>\n",
       "  <tbody>\n",
       "    <tr>\n",
       "      <th>2015-03-02</th>\n",
       "      <td>3.535379</td>\n",
       "    </tr>\n",
       "    <tr>\n",
       "      <th>2015-03-03</th>\n",
       "      <td>3.494779</td>\n",
       "    </tr>\n",
       "    <tr>\n",
       "      <th>2015-03-04</th>\n",
       "      <td>3.492104</td>\n",
       "    </tr>\n",
       "    <tr>\n",
       "      <th>2015-03-05</th>\n",
       "      <td>3.465142</td>\n",
       "    </tr>\n",
       "    <tr>\n",
       "      <th>2015-03-06</th>\n",
       "      <td>3.462387</td>\n",
       "    </tr>\n",
       "  </tbody>\n",
       "</table>\n",
       "</div>"
      ],
      "text/plain": [
       "            Log_price\n",
       "Date                 \n",
       "2015-03-02   3.535379\n",
       "2015-03-03   3.494779\n",
       "2015-03-04   3.492104\n",
       "2015-03-05   3.465142\n",
       "2015-03-06   3.462387"
      ]
     },
     "execution_count": 26,
     "metadata": {},
     "output_type": "execute_result"
    }
   ],
   "source": [
    "log_pingan=cal_log(pingan)\n",
    "log_pingan.head()"
   ]
  },
  {
   "cell_type": "code",
   "execution_count": 27,
   "metadata": {
    "collapsed": true
   },
   "outputs": [],
   "source": [
    "log_data=pd.concat([log_sse,log_pingan],axis=1).dropna()\n",
    "log_data.columns=[\"SSE\",\"PingAn\"]"
   ]
  },
  {
   "cell_type": "code",
   "execution_count": 28,
   "metadata": {
    "collapsed": false
   },
   "outputs": [
    {
     "name": "stdout",
     "output_type": "stream",
     "text": [
      "                            OLS Regression Results                            \n",
      "==============================================================================\n",
      "Dep. Variable:                 PingAn   R-squared:                       0.604\n",
      "Model:                            OLS   Adj. R-squared:                  0.602\n",
      "Method:                 Least Squares   F-statistic:                     351.7\n",
      "Date:                Sat, 12 Mar 2016   Prob (F-statistic):           2.60e-48\n",
      "Time:                        22:08:04   Log-Likelihood:                 220.74\n",
      "No. Observations:                 233   AIC:                            -437.5\n",
      "Df Residuals:                     231   BIC:                            -430.6\n",
      "Df Model:                           1                                         \n",
      "Covariance Type:            nonrobust                                         \n",
      "==============================================================================\n",
      "                 coef    std err          t      P>|t|      [95.0% Conf. Int.]\n",
      "------------------------------------------------------------------------------\n",
      "Intercept     -2.3827      0.317     -7.514      0.000        -3.008    -1.758\n",
      "SSE            0.7252      0.039     18.754      0.000         0.649     0.801\n",
      "==============================================================================\n",
      "Omnibus:                      255.170   Durbin-Watson:                   0.507\n",
      "Prob(Omnibus):                  0.000   Jarque-Bera (JB):             8793.113\n",
      "Skew:                          -4.533   Prob(JB):                         0.00\n",
      "Kurtosis:                      31.697   Cond. No.                         428.\n",
      "==============================================================================\n",
      "\n",
      "Warnings:\n",
      "[1] Standard Errors assume that the covariance matrix of the errors is correctly specified.\n"
     ]
    }
   ],
   "source": [
    "result_log = smf.ols(\"PingAn ~ SSE\", log_data).fit()\n",
    "print (result_log.summary())"
   ]
  },
  {
   "cell_type": "markdown",
   "metadata": {},
   "source": [
    "$R^2$有0.604比前面日收益率的线性回归提高不少, 说明这个 model 拟合比较好. Intercept 和 SSE 的 p 值都很小, 很显著. 所以 log price 之间的线性关系比较显著."
   ]
  },
  {
   "cell_type": "code",
   "execution_count": 29,
   "metadata": {
    "collapsed": false
   },
   "outputs": [
    {
     "data": {
      "text/plain": [
       "<matplotlib.collections.PathCollection at 0x1125be750>"
      ]
     },
     "execution_count": 29,
     "metadata": {},
     "output_type": "execute_result"
    },
    {
     "data": {
      "image/png": "[encoded data removed]",
      "text/plain": [
       "<matplotlib.figure.Figure at 0x10d7a8350>"
      ]
     },
     "metadata": {},
     "output_type": "display_data"
    }
   ],
   "source": [
    "plt.scatter(log_data['SSE'],log_data['PingAn']);\n",
    "# scatter plot 发现线性关系比前面一个日收益率的图更明显"
   ]
  },
  {
   "cell_type": "code",
   "execution_count": 31,
   "metadata": {
    "collapsed": false
   },
   "outputs": [
    {
     "data": {
      "text/plain": [
       "Date\n",
       "2015-07-22    2.967744\n",
       "2015-07-23    3.008797\n",
       "2015-07-24    2.984924\n",
       "Name: PingAn, dtype: float64"
      ]
     },
     "execution_count": 31,
     "metadata": {},
     "output_type": "execute_result"
    }
   ],
   "source": [
    "#根据 scatter 有几个异常点 在 y 轴等于3.0左右\n",
    "log_data.PingAn[log_data.PingAn<3.2]"
   ]
  },
  {
   "cell_type": "code",
   "execution_count": 32,
   "metadata": {
    "collapsed": false
   },
   "outputs": [
    {
     "data": {
      "text/plain": [
       "20.085536923187668"
      ]
     },
     "execution_count": 32,
     "metadata": {},
     "output_type": "execute_result"
    }
   ],
   "source": [
    "np.exp(3)"
   ]
  },
  {
   "cell_type": "markdown",
   "metadata": {},
   "source": [
    "中国平安的股价并没有到过20, 但在2015年7月27日曽有过一次拆股及派息, 发现 yahoo 数据表格其实是这样显示 dividend 和 split. 22-24号对于拆股后的价格调整是错误的, 22-24号调整后的价格应该为40块左右, 而 yahoo 的数据将之又折半至20块左右."
   ]
  },
  {
   "cell_type": "markdown",
   "metadata": {},
   "source": [
    "<table>\n",
    "  <tr>\n",
    "    <th>date</th>\n",
    "    <th>Open</th>\n",
    "    <th>High</th>\n",
    "    <th>Low</th>\n",
    "    <th>Close</th>\n",
    "    <th>Volume</th>\n",
    "    <th>Adj Close</th>\n",
    "  </tr>\n",
    "  <tr>\n",
    "    <td>Jul 27, 2015</td>\n",
    "    <td>39.89</td>\n",
    "    <td>40.08</td>\n",
    "    <td>36.39</td>\n",
    "    <td>36.59</td>\n",
    "    <td>171,259,600</td>\n",
    "    <td>36.37</td>\n",
    "  </tr>\n",
    "  <tr>\n",
    "    <td>Jul 27, 2015</td>\n",
    "    <td colspan=\"6\">0.50 Dividend</td>\n",
    "  </tr>\n",
    "  <tr>\n",
    "    <td>Jul 27, 2015</td>\n",
    "    <td colspan=\"6\">20: 10 Stock Split</td>\n",
    "  </tr>\n",
    "  <tr>\n",
    "    <td>Jul 24, 2015</td>\n",
    "    <td>41.35</td>\n",
    "    <td>41.35</td>\n",
    "    <td>40.28</td>\n",
    "    <td>40.31</td>\n",
    "    <td>236,356,400</td>\n",
    "    <td>19.79</td>\n",
    "  </tr>\n",
    "  <tr>\n",
    "    <td>Jul 23, 2015</td>\n",
    "    <td>39.98</td>\n",
    "    <td>41.39</td>\n",
    "    <td>39.74</td>\n",
    "    <td>41.29</td>\n",
    "    <td>309,046,100</td>\n",
    "    <td>20.26</td>\n",
    "  </tr>\n",
    "  <tr>\n",
    "    <td>Jul 22, 2015</td>\n",
    "    <td>40.23</td>\n",
    "    <td>40.28</td>\n",
    "    <td>39.25</td>\n",
    "    <td>39.63</td>\n",
    "    <td>176,911,900</td>\n",
    "    <td>19.45</td>\n",
    "  </tr>\n",
    "</table>"
   ]
  },
  {
   "cell_type": "markdown",
   "metadata": {},
   "source": [
    "暂时线性关系可写为: $\\log{PingAn} = -2.3831 + 0.7252* \\log{SSE}$\n",
    "\n",
    "平安和上证指数也是正相关的, 但 coeff 小于1, 也就是说明上证指数若上涨1%, 那中国平安的涨幅应该就是小于1%的, 影响偏小."
   ]
  },
  {
   "cell_type": "markdown",
   "metadata": {},
   "source": [
    "## Q3: titanic, what sorts of people were likely to survive\n",
    "\n",
    "* [kaggle](https://www.kaggle.com/c/titanic)\n",
    "* [titanic notebook](https://www.kaggle.com/omarelgabry/titanic/a-journey-through-titanic/notebook)\n",
    "* [seaborn-categorical plotting](https://stanford.edu/~mwaskom/software/seaborn/tutorial/categorical.html)"
   ]
  },
  {
   "cell_type": "code",
   "execution_count": 34,
   "metadata": {
    "collapsed": false,
    "scrolled": false
   },
   "outputs": [
    {
     "data": {
      "text/html": [
       "<div>\n",
       "<table border=\"1\" class=\"dataframe\">\n",
       "  <thead>\n",
       "    <tr style=\"text-align: right;\">\n",
       "      <th></th>\n",
       "      <th>PassengerId</th>\n",
       "      <th>Survived</th>\n",
       "      <th>Pclass</th>\n",
       "      <th>Name</th>\n",
       "      <th>Sex</th>\n",
       "      <th>Age</th>\n",
       "      <th>SibSp</th>\n",
       "      <th>Parch</th>\n",
       "      <th>Ticket</th>\n",
       "      <th>Fare</th>\n",
       "      <th>Cabin</th>\n",
       "      <th>Embarked</th>\n",
       "    </tr>\n",
       "  </thead>\n",
       "  <tbody>\n",
       "    <tr>\n",
       "      <th>0</th>\n",
       "      <td>1</td>\n",
       "      <td>0</td>\n",
       "      <td>3</td>\n",
       "      <td>Braund, Mr. Owen Harris</td>\n",
       "      <td>male</td>\n",
       "      <td>22</td>\n",
       "      <td>1</td>\n",
       "      <td>0</td>\n",
       "      <td>A/5 21171</td>\n",
       "      <td>7.2500</td>\n",
       "      <td>NaN</td>\n",
       "      <td>S</td>\n",
       "    </tr>\n",
       "    <tr>\n",
       "      <th>1</th>\n",
       "      <td>2</td>\n",
       "      <td>1</td>\n",
       "      <td>1</td>\n",
       "      <td>Cumings, Mrs. John Bradley (Florence Briggs Th...</td>\n",
       "      <td>female</td>\n",
       "      <td>38</td>\n",
       "      <td>1</td>\n",
       "      <td>0</td>\n",
       "      <td>PC 17599</td>\n",
       "      <td>71.2833</td>\n",
       "      <td>C85</td>\n",
       "      <td>C</td>\n",
       "    </tr>\n",
       "    <tr>\n",
       "      <th>2</th>\n",
       "      <td>3</td>\n",
       "      <td>1</td>\n",
       "      <td>3</td>\n",
       "      <td>Heikkinen, Miss. Laina</td>\n",
       "      <td>female</td>\n",
       "      <td>26</td>\n",
       "      <td>0</td>\n",
       "      <td>0</td>\n",
       "      <td>STON/O2. 3101282</td>\n",
       "      <td>7.9250</td>\n",
       "      <td>NaN</td>\n",
       "      <td>S</td>\n",
       "    </tr>\n",
       "    <tr>\n",
       "      <th>3</th>\n",
       "      <td>4</td>\n",
       "      <td>1</td>\n",
       "      <td>1</td>\n",
       "      <td>Futrelle, Mrs. Jacques Heath (Lily May Peel)</td>\n",
       "      <td>female</td>\n",
       "      <td>35</td>\n",
       "      <td>1</td>\n",
       "      <td>0</td>\n",
       "      <td>113803</td>\n",
       "      <td>53.1000</td>\n",
       "      <td>C123</td>\n",
       "      <td>S</td>\n",
       "    </tr>\n",
       "    <tr>\n",
       "      <th>4</th>\n",
       "      <td>5</td>\n",
       "      <td>0</td>\n",
       "      <td>3</td>\n",
       "      <td>Allen, Mr. William Henry</td>\n",
       "      <td>male</td>\n",
       "      <td>35</td>\n",
       "      <td>0</td>\n",
       "      <td>0</td>\n",
       "      <td>373450</td>\n",
       "      <td>8.0500</td>\n",
       "      <td>NaN</td>\n",
       "      <td>S</td>\n",
       "    </tr>\n",
       "  </tbody>\n",
       "</table>\n",
       "</div>"
      ],
      "text/plain": [
       "   PassengerId  Survived  Pclass  \\\n",
       "0            1         0       3   \n",
       "1            2         1       1   \n",
       "2            3         1       3   \n",
       "3            4         1       1   \n",
       "4            5         0       3   \n",
       "\n",
       "                                                Name     Sex  Age  SibSp  \\\n",
       "0                            Braund, Mr. Owen Harris    male   22      1   \n",
       "1  Cumings, Mrs. John Bradley (Florence Briggs Th...  female   38      1   \n",
       "2                             Heikkinen, Miss. Laina  female   26      0   \n",
       "3       Futrelle, Mrs. Jacques Heath (Lily May Peel)  female   35      1   \n",
       "4                           Allen, Mr. William Henry    male   35      0   \n",
       "\n",
       "   Parch            Ticket     Fare Cabin Embarked  \n",
       "0      0         A/5 21171   7.2500   NaN        S  \n",
       "1      0          PC 17599  71.2833   C85        C  \n",
       "2      0  STON/O2. 3101282   7.9250   NaN        S  \n",
       "3      0            113803  53.1000  C123        S  \n",
       "4      0            373450   8.0500   NaN        S  "
      ]
     },
     "execution_count": 34,
     "metadata": {},
     "output_type": "execute_result"
    }
   ],
   "source": [
    "train_data=pd.read_csv(\"train.csv\", header=0)\n",
    "train_data.head()"
   ]
  },
  {
   "cell_type": "code",
   "execution_count": 35,
   "metadata": {
    "collapsed": true
   },
   "outputs": [],
   "source": [
    "test_data=pd.read_csv(\"test.csv\", header=0)"
   ]
  },
  {
   "cell_type": "code",
   "execution_count": 36,
   "metadata": {
    "collapsed": false
   },
   "outputs": [
    {
     "name": "stdout",
     "output_type": "stream",
     "text": [
      "<class 'pandas.core.frame.DataFrame'>\n",
      "Int64Index: 891 entries, 0 to 890\n",
      "Data columns (total 12 columns):\n",
      "PassengerId    891 non-null int64\n",
      "Survived       891 non-null int64\n",
      "Pclass         891 non-null int64\n",
      "Name           891 non-null object\n",
      "Sex            891 non-null object\n",
      "Age            714 non-null float64\n",
      "SibSp          891 non-null int64\n",
      "Parch          891 non-null int64\n",
      "Ticket         891 non-null object\n",
      "Fare           891 non-null float64\n",
      "Cabin          204 non-null object\n",
      "Embarked       889 non-null object\n",
      "dtypes: float64(2), int64(5), object(5)\n",
      "memory usage: 90.5+ KB\n"
     ]
    }
   ],
   "source": [
    "train_data.info()"
   ]
  },
  {
   "cell_type": "code",
   "execution_count": 37,
   "metadata": {
    "collapsed": false
   },
   "outputs": [
    {
     "name": "stdout",
     "output_type": "stream",
     "text": [
      "<class 'pandas.core.frame.DataFrame'>\n",
      "Int64Index: 418 entries, 0 to 417\n",
      "Data columns (total 11 columns):\n",
      "PassengerId    418 non-null int64\n",
      "Pclass         418 non-null int64\n",
      "Name           418 non-null object\n",
      "Sex            418 non-null object\n",
      "Age            332 non-null float64\n",
      "SibSp          418 non-null int64\n",
      "Parch          418 non-null int64\n",
      "Ticket         418 non-null object\n",
      "Fare           417 non-null float64\n",
      "Cabin          91 non-null object\n",
      "Embarked       418 non-null object\n",
      "dtypes: float64(2), int64(4), object(5)\n",
      "memory usage: 39.2+ KB\n"
     ]
    }
   ],
   "source": [
    "test_data.info()"
   ]
  },
  {
   "cell_type": "markdown",
   "metadata": {},
   "source": [
    "`Name,ID,Ticket number` 与预测无关, 可以从 model 中排除\n",
    "\n",
    "另外, 从 info 发现:\n",
    "* `Age`中有一些缺失值, 需要处理\n",
    "* `Embarked`在 trian data 中有2个缺失值\n",
    "* `Cabin`有非常多缺失值, 对 survival 影响不大\n",
    "* `Pclass, Sex, Embarked`都是categorical variable (discrete), 需要使用 dummy variable转化"
   ]
  },
  {
   "cell_type": "markdown",
   "metadata": {},
   "source": [
    "**VARIABLE DESCRIPTIONS:**\n",
    "```\n",
    "survival        Survival\n",
    "                (0 = No; 1 = Yes)\n",
    "pclass          Passenger Class\n",
    "                (1 = 1st; 2 = 2nd; 3 = 3rd)\n",
    "name            Name\n",
    "sex             Sex\n",
    "age             Age\n",
    "sibsp           Number of Siblings/Spouses Aboard\n",
    "parch           Number of Parents/Children Aboard\n",
    "ticket          Ticket Number\n",
    "fare            Passenger Fare\n",
    "cabin           Cabin\n",
    "embarked        Port of Embarkation\n",
    "                (C = Cherbourg; Q = Queenstown; S = Southampton)\n",
    "\n",
    "SPECIAL NOTES:\n",
    "Pclass is a proxy for socio-economic status (SES)\n",
    " 1st ~ Upper; 2nd ~ Middle; 3rd ~ Lower\n",
    "\n",
    "Age is in Years; Fractional if Age less than One (1)\n",
    " If the Age is Estimated, it is in the form xx.5\n",
    "\n",
    "With respect to the family relation variables (i.e. sibsp and parch)\n",
    "some relations were ignored.  The following are the definitions used\n",
    "for sibsp and parch.\n",
    "\n",
    "Sibling:  Brother, Sister, Stepbrother, or Stepsister of Passenger Aboard Titanic\n",
    "Spouse:   Husband or Wife of Passenger Aboard Titanic (Mistresses and Fiances Ignored)\n",
    "Parent:   Mother or Father of Passenger Aboard Titanic\n",
    "Child:    Son, Daughter, Stepson, or Stepdaughter of Passenger Aboard Titanic\n",
    "\n",
    "Other family relatives excluded from this study include cousins,\n",
    "nephews/nieces, aunts/uncles, and in-laws.  Some children travelled\n",
    "only with a nanny, therefore parch=0 for them.  As well, some\n",
    "travelled with very close friends or neighbors in a village, however,\n",
    "the definitions do not support such relations\n",
    "```"
   ]
  },
  {
   "cell_type": "code",
   "execution_count": 38,
   "metadata": {
    "collapsed": false
   },
   "outputs": [],
   "source": [
    "# drop id, name,ticket,cabin\n",
    "train_data = train_data.drop([\"PassengerId\",\"Name\",\"Ticket\",\"Cabin\"],axis=1)"
   ]
  },
  {
   "cell_type": "code",
   "execution_count": 39,
   "metadata": {
    "collapsed": true
   },
   "outputs": [],
   "source": [
    "test_data = test_data.drop([\"Name\",\"Ticket\",\"Cabin\"],axis=1)"
   ]
  },
  {
   "cell_type": "code",
   "execution_count": 40,
   "metadata": {
    "collapsed": false
   },
   "outputs": [
    {
     "data": {
      "text/html": [
       "<div>\n",
       "<table border=\"1\" class=\"dataframe\">\n",
       "  <thead>\n",
       "    <tr style=\"text-align: right;\">\n",
       "      <th></th>\n",
       "      <th>Survived</th>\n",
       "      <th>Pclass</th>\n",
       "      <th>Age</th>\n",
       "      <th>SibSp</th>\n",
       "      <th>Parch</th>\n",
       "      <th>Fare</th>\n",
       "    </tr>\n",
       "  </thead>\n",
       "  <tbody>\n",
       "    <tr>\n",
       "      <th>count</th>\n",
       "      <td>891.000000</td>\n",
       "      <td>891.000000</td>\n",
       "      <td>714.000000</td>\n",
       "      <td>891.000000</td>\n",
       "      <td>891.000000</td>\n",
       "      <td>891.000000</td>\n",
       "    </tr>\n",
       "    <tr>\n",
       "      <th>mean</th>\n",
       "      <td>0.383838</td>\n",
       "      <td>2.308642</td>\n",
       "      <td>29.699118</td>\n",
       "      <td>0.523008</td>\n",
       "      <td>0.381594</td>\n",
       "      <td>32.204208</td>\n",
       "    </tr>\n",
       "    <tr>\n",
       "      <th>std</th>\n",
       "      <td>0.486592</td>\n",
       "      <td>0.836071</td>\n",
       "      <td>14.526497</td>\n",
       "      <td>1.102743</td>\n",
       "      <td>0.806057</td>\n",
       "      <td>49.693429</td>\n",
       "    </tr>\n",
       "    <tr>\n",
       "      <th>min</th>\n",
       "      <td>0.000000</td>\n",
       "      <td>1.000000</td>\n",
       "      <td>0.420000</td>\n",
       "      <td>0.000000</td>\n",
       "      <td>0.000000</td>\n",
       "      <td>0.000000</td>\n",
       "    </tr>\n",
       "    <tr>\n",
       "      <th>25%</th>\n",
       "      <td>0.000000</td>\n",
       "      <td>2.000000</td>\n",
       "      <td>20.125000</td>\n",
       "      <td>0.000000</td>\n",
       "      <td>0.000000</td>\n",
       "      <td>7.910400</td>\n",
       "    </tr>\n",
       "    <tr>\n",
       "      <th>50%</th>\n",
       "      <td>0.000000</td>\n",
       "      <td>3.000000</td>\n",
       "      <td>28.000000</td>\n",
       "      <td>0.000000</td>\n",
       "      <td>0.000000</td>\n",
       "      <td>14.454200</td>\n",
       "    </tr>\n",
       "    <tr>\n",
       "      <th>75%</th>\n",
       "      <td>1.000000</td>\n",
       "      <td>3.000000</td>\n",
       "      <td>38.000000</td>\n",
       "      <td>1.000000</td>\n",
       "      <td>0.000000</td>\n",
       "      <td>31.000000</td>\n",
       "    </tr>\n",
       "    <tr>\n",
       "      <th>max</th>\n",
       "      <td>1.000000</td>\n",
       "      <td>3.000000</td>\n",
       "      <td>80.000000</td>\n",
       "      <td>8.000000</td>\n",
       "      <td>6.000000</td>\n",
       "      <td>512.329200</td>\n",
       "    </tr>\n",
       "  </tbody>\n",
       "</table>\n",
       "</div>"
      ],
      "text/plain": [
       "         Survived      Pclass         Age       SibSp       Parch        Fare\n",
       "count  891.000000  891.000000  714.000000  891.000000  891.000000  891.000000\n",
       "mean     0.383838    2.308642   29.699118    0.523008    0.381594   32.204208\n",
       "std      0.486592    0.836071   14.526497    1.102743    0.806057   49.693429\n",
       "min      0.000000    1.000000    0.420000    0.000000    0.000000    0.000000\n",
       "25%      0.000000    2.000000   20.125000    0.000000    0.000000    7.910400\n",
       "50%      0.000000    3.000000   28.000000    0.000000    0.000000   14.454200\n",
       "75%      1.000000    3.000000   38.000000    1.000000    0.000000   31.000000\n",
       "max      1.000000    3.000000   80.000000    8.000000    6.000000  512.329200"
      ]
     },
     "execution_count": 40,
     "metadata": {},
     "output_type": "execute_result"
    }
   ],
   "source": [
    "train_data.describe()"
   ]
  },
  {
   "cell_type": "code",
   "execution_count": 41,
   "metadata": {
    "collapsed": false
   },
   "outputs": [
    {
     "data": {
      "text/plain": [
       "S    644\n",
       "C    168\n",
       "Q     77\n",
       "Name: Embarked, dtype: int64"
      ]
     },
     "execution_count": 41,
     "metadata": {},
     "output_type": "execute_result"
    }
   ],
   "source": [
    "train_data[\"Embarked\"].value_counts()"
   ]
  },
  {
   "cell_type": "code",
   "execution_count": 42,
   "metadata": {
    "collapsed": false
   },
   "outputs": [
    {
     "data": {
      "text/plain": [
       "3    491\n",
       "1    216\n",
       "2    184\n",
       "Name: Pclass, dtype: int64"
      ]
     },
     "execution_count": 42,
     "metadata": {},
     "output_type": "execute_result"
    }
   ],
   "source": [
    "train_data[\"Pclass\"].value_counts()"
   ]
  },
  {
   "cell_type": "code",
   "execution_count": 43,
   "metadata": {
    "collapsed": false
   },
   "outputs": [
    {
     "data": {
      "text/plain": [
       "male      577\n",
       "female    314\n",
       "Name: Sex, dtype: int64"
      ]
     },
     "execution_count": 43,
     "metadata": {},
     "output_type": "execute_result"
    }
   ],
   "source": [
    "train_data[\"Sex\"].value_counts()"
   ]
  },
  {
   "cell_type": "code",
   "execution_count": 44,
   "metadata": {
    "collapsed": false
   },
   "outputs": [
    {
     "data": {
      "text/plain": [
       "0    608\n",
       "1    209\n",
       "2     28\n",
       "4     18\n",
       "3     16\n",
       "8      7\n",
       "5      5\n",
       "Name: SibSp, dtype: int64"
      ]
     },
     "execution_count": 44,
     "metadata": {},
     "output_type": "execute_result"
    }
   ],
   "source": [
    "train_data[\"SibSp\"].value_counts()"
   ]
  },
  {
   "cell_type": "code",
   "execution_count": 45,
   "metadata": {
    "collapsed": false
   },
   "outputs": [
    {
     "data": {
      "text/plain": [
       "0    678\n",
       "1    118\n",
       "2     80\n",
       "5      5\n",
       "3      5\n",
       "4      4\n",
       "6      1\n",
       "Name: Parch, dtype: int64"
      ]
     },
     "execution_count": 45,
     "metadata": {},
     "output_type": "execute_result"
    }
   ],
   "source": [
    "train_data[\"Parch\"].value_counts()"
   ]
  },
  {
   "cell_type": "code",
   "execution_count": 46,
   "metadata": {
    "collapsed": true
   },
   "outputs": [],
   "source": [
    "# 对于 Embarked 缺失的两个值, 就用 freq 最高的 \"S\" 填充\n",
    "train_data[\"Embarked\"] = train_data[\"Embarked\"].fillna(\"S\")"
   ]
  },
  {
   "cell_type": "code",
   "execution_count": 47,
   "metadata": {
    "collapsed": false,
    "scrolled": true
   },
   "outputs": [
    {
     "data": {
      "text/plain": [
       "<matplotlib.axes._subplots.AxesSubplot at 0x11285f290>"
      ]
     },
     "execution_count": 47,
     "metadata": {},
     "output_type": "execute_result"
    },
    {
     "data": {
      "image/png": "[encoded data removed]",
      "text/plain": [
       "<matplotlib.figure.Figure at 0x11238d990>"
      ]
     },
     "metadata": {},
     "output_type": "display_data"
    }
   ],
   "source": [
    "sns.barplot(x=\"Embarked\", y=\"Survived\", data=train_data);\n",
    "# C 的生存率最高, 其次 Q, 最低为 S\n",
    "# S 的人数最高, 占一大部分, Q 的人数最少"
   ]
  },
  {
   "cell_type": "code",
   "execution_count": 48,
   "metadata": {
    "collapsed": true
   },
   "outputs": [],
   "source": [
    "# 因为 S和 Q的平均生存率都低于0.5, 所以如果在 prediction 中可以去掉 S和 Q,保留 C dummy variable\n",
    "# 但是逻辑上考虑, 在哪里上船应该和生存率没有关系, 可以考虑去掉\n",
    "\n",
    "train_data = train_data.drop([\"Embarked\"],axis=1)"
   ]
  },
  {
   "cell_type": "code",
   "execution_count": 49,
   "metadata": {
    "collapsed": false
   },
   "outputs": [
    {
     "data": {
      "text/plain": [
       "<matplotlib.axes._subplots.AxesSubplot at 0x112887590>"
      ]
     },
     "execution_count": 49,
     "metadata": {},
     "output_type": "execute_result"
    },
    {
     "data": {
      "image/png": "[encoded data removed]",
      "text/plain": [
       "<matplotlib.figure.Figure at 0x112c68a50>"
      ]
     },
     "metadata": {},
     "output_type": "display_data"
    }
   ],
   "source": [
    "# Fare histogram\n",
    "train_data['Fare'].plot(kind='hist', figsize=(10,3),bins=100, xlim=(0,70));\n",
    "\n",
    "# 最多的部分在10一下, 大部分在30以下"
   ]
  },
  {
   "cell_type": "code",
   "execution_count": 50,
   "metadata": {
    "collapsed": false
   },
   "outputs": [
    {
     "name": "stdout",
     "output_type": "stream",
     "text": [
      "count    549.000000\n",
      "mean      22.117887\n",
      "std       31.388207\n",
      "min        0.000000\n",
      "25%        7.854200\n",
      "50%       10.500000\n",
      "75%       26.000000\n",
      "max      263.000000\n",
      "Name: Fare, dtype: float64\n",
      "--------------------\n",
      "count    342.000000\n",
      "mean      48.395408\n",
      "std       66.596998\n",
      "min        0.000000\n",
      "25%       12.475000\n",
      "50%       26.000000\n",
      "75%       57.000000\n",
      "max      512.329200\n",
      "Name: Fare, dtype: float64\n"
     ]
    }
   ],
   "source": [
    "# get fares for survived & not survived passengers \n",
    "fare_dead = train_data[\"Fare\"][train_data[\"Survived\"] == 0]\n",
    "fare_survived = train_data[\"Fare\"][train_data[\"Survived\"] == 1]\n",
    "print fare_dead.describe()\n",
    "print \"--------------------\"\n",
    "print fare_survived.describe()\n",
    "\n",
    "# 明显存活的人 fare 更高, fare 和 Pclass 有关, class 越高, 所付船票越高"
   ]
  },
  {
   "cell_type": "code",
   "execution_count": 51,
   "metadata": {
    "collapsed": false
   },
   "outputs": [
    {
     "name": "stdout",
     "output_type": "stream",
     "text": [
      "<class 'pandas.core.frame.DataFrame'>\n",
      "Int64Index: 714 entries, 0 to 890\n",
      "Data columns (total 7 columns):\n",
      "Survived    714 non-null int64\n",
      "Pclass      714 non-null int64\n",
      "Sex         714 non-null object\n",
      "Age         714 non-null float64\n",
      "SibSp       714 non-null int64\n",
      "Parch       714 non-null int64\n",
      "Fare        714 non-null float64\n",
      "dtypes: float64(2), int64(4), object(1)\n",
      "memory usage: 44.6+ KB\n"
     ]
    }
   ],
   "source": [
    "# Age 有一些 missing values, 最简单的处理方法是删掉, sample size 会减小\n",
    "# 或者 fillna 用一些方法填补\n",
    "# 此处简单处理, dropna\n",
    "\n",
    "train_data2 = train_data.dropna()\n",
    "train_data2.info()"
   ]
  },
  {
   "cell_type": "code",
   "execution_count": 52,
   "metadata": {
    "collapsed": false
   },
   "outputs": [
    {
     "data": {
      "image/png": "[encoded data removed]",
      "text/plain": [
       "<matplotlib.figure.Figure at 0x112f4a850>"
      ]
     },
     "metadata": {},
     "output_type": "display_data"
    }
   ],
   "source": [
    "# Age histogram\n",
    "train_data2['Age'].hist(bins=70);"
   ]
  },
  {
   "cell_type": "code",
   "execution_count": 53,
   "metadata": {
    "collapsed": false
   },
   "outputs": [
    {
     "data": {
      "image/png": "[encoded data removed]",
      "text/plain": [
       "<matplotlib.figure.Figure at 0x112f4a9d0>"
      ]
     },
     "metadata": {},
     "output_type": "display_data"
    }
   ],
   "source": [
    "# average survived passengers by age\n",
    "fig, ax = plt.subplots(1,1,figsize=(18,5))\n",
    "average_age = train_data2[[\"Age\", \"Survived\"]].groupby(['Age'],as_index=False).mean()\n",
    "sns.barplot(x='Age', y='Survived', data=average_age)\n",
    "fig.tight_layout()\n",
    "\n",
    "# seems like 16岁以下的存活率比较高\n",
    "# 16~47岁存活率都较低"
   ]
  },
  {
   "cell_type": "code",
   "execution_count": 54,
   "metadata": {
    "collapsed": false,
    "scrolled": true
   },
   "outputs": [
    {
     "name": "stderr",
     "output_type": "stream",
     "text": [
      "/Users/mn/program/anaconda2/lib/python2.7/site-packages/ipykernel/__main__.py:4: SettingWithCopyWarning: \n",
      "A value is trying to be set on a copy of a slice from a DataFrame.\n",
      "Try using .loc[row_indexer,col_indexer] = value instead\n",
      "\n",
      "See the caveats in the documentation: http://pandas.pydata.org/pandas-docs/stable/indexing.html#indexing-view-versus-copy\n",
      "/Users/mn/program/anaconda2/lib/python2.7/site-packages/pandas/core/indexing.py:117: SettingWithCopyWarning: \n",
      "A value is trying to be set on a copy of a slice from a DataFrame\n",
      "\n",
      "See the caveats in the documentation: http://pandas.pydata.org/pandas-docs/stable/indexing.html#indexing-view-versus-copy\n",
      "  self._setitem_with_indexer(indexer, value)\n",
      "/Users/mn/program/anaconda2/lib/python2.7/site-packages/ipykernel/__main__.py:8: SettingWithCopyWarning: \n",
      "A value is trying to be set on a copy of a slice from a DataFrame\n",
      "\n",
      "See the caveats in the documentation: http://pandas.pydata.org/pandas-docs/stable/indexing.html#indexing-view-versus-copy\n",
      "/Users/mn/program/anaconda2/lib/python2.7/site-packages/ipykernel/__main__.py:9: SettingWithCopyWarning: \n",
      "A value is trying to be set on a copy of a slice from a DataFrame\n",
      "\n",
      "See the caveats in the documentation: http://pandas.pydata.org/pandas-docs/stable/indexing.html#indexing-view-versus-copy\n"
     ]
    }
   ],
   "source": [
    "# SibSp & Parch, 有关是否有兄弟姐妹或者父母孩子一起在船上\n",
    "# 可以合并为是否有家人一起\n",
    "\n",
    "train_data2['Family'] = train_data2[\"Parch\"] + train_data2[\"SibSp\"]\n",
    "#A value is trying to be set on a copy of a slice from a DataFrame.\n",
    "#Try using .loc[row_indexer,col_indexer] = value instead\n",
    "\n",
    "train_data2['Family'].loc[train_data2[\"Parch\"] + train_data2[\"SibSp\"] > 0] = 1\n",
    "train_data2['Family'].loc[train_data2[\"Parch\"] + train_data2[\"SibSp\"] == 0] = 0\n",
    "\n",
    "# Family 变成一个 categorical variable\n",
    "\n",
    "# drop Parch & SibSp\n",
    "train_data2 = train_data2.drop(['SibSp','Parch'], axis=1)"
   ]
  },
  {
   "cell_type": "code",
   "execution_count": 55,
   "metadata": {
    "collapsed": false
   },
   "outputs": [
    {
     "data": {
      "text/plain": [
       "0    404\n",
       "1    310\n",
       "Name: Family, dtype: int64"
      ]
     },
     "execution_count": 55,
     "metadata": {},
     "output_type": "execute_result"
    }
   ],
   "source": [
    "train_data2[\"Family\"].value_counts()"
   ]
  },
  {
   "cell_type": "code",
   "execution_count": 56,
   "metadata": {
    "collapsed": false
   },
   "outputs": [
    {
     "data": {
      "text/plain": [
       "<matplotlib.axes._subplots.AxesSubplot at 0x113498b50>"
      ]
     },
     "execution_count": 56,
     "metadata": {},
     "output_type": "execute_result"
    },
    {
     "data": {
      "image/png": "[encoded data removed]",
      "text/plain": [
       "<matplotlib.figure.Figure at 0x113ae1b50>"
      ]
     },
     "metadata": {},
     "output_type": "display_data"
    }
   ],
   "source": [
    "sns.barplot(x=\"Family\", y=\"Survived\", data=train_data2);\n",
    "# 1 表示有和家人一起登船, 所以有家人一起的存活几率大过没有的"
   ]
  },
  {
   "cell_type": "code",
   "execution_count": 57,
   "metadata": {
    "collapsed": false
   },
   "outputs": [
    {
     "data": {
      "text/plain": [
       "<matplotlib.axes._subplots.AxesSubplot at 0x113ab9c90>"
      ]
     },
     "execution_count": 57,
     "metadata": {},
     "output_type": "execute_result"
    },
    {
     "data": {
      "image/png": "[encoded data removed]",
      "text/plain": [
       "<matplotlib.figure.Figure at 0x1138be850>"
      ]
     },
     "metadata": {},
     "output_type": "display_data"
    }
   ],
   "source": [
    "sns.pointplot(x=\"Pclass\", y=\"Survived\", hue=\"Sex\", data=train_data,\n",
    "              palette={\"male\": \"g\", \"female\": \"m\"},\n",
    "              markers=[\"^\", \"o\"], linestyles=[\"-\", \"--\"]);\n",
    "\n",
    "# Pclass 和 sex 综合来看, 女性生存率明显比男性高, 按 class 来看, class 越高生存率越高\n",
    "# 所以1st class 女性的生存率几乎接近100%"
   ]
  },
  {
   "cell_type": "code",
   "execution_count": 58,
   "metadata": {
    "collapsed": false
   },
   "outputs": [],
   "source": [
    "# Pclass, Sex 是 categorical variable, 转化成 dummy variable\n",
    "# Pclass dummy\n",
    "pclass_dummy = pd.get_dummies(train_data2['Pclass'],prefix=\"class\")\n",
    "pclass_dummy.drop(['class_3'], axis=1, inplace=True)\n",
    "# Sex\n",
    "sex_dummy = pd.get_dummies(train_data2['Sex'])\n",
    "sex_dummy.drop(['male'], axis=1, inplace=True)"
   ]
  },
  {
   "cell_type": "code",
   "execution_count": 59,
   "metadata": {
    "collapsed": true
   },
   "outputs": [],
   "source": [
    "# drop original\n",
    "train_data2.drop(['Pclass','Sex'],axis=1,inplace=True)\n",
    "# append dummies\n",
    "train_data2 = train_data2.join([pclass_dummy, sex_dummy])"
   ]
  },
  {
   "cell_type": "code",
   "execution_count": 60,
   "metadata": {
    "collapsed": false
   },
   "outputs": [
    {
     "name": "stdout",
     "output_type": "stream",
     "text": [
      "<class 'pandas.core.frame.DataFrame'>\n",
      "Int64Index: 714 entries, 0 to 890\n",
      "Data columns (total 7 columns):\n",
      "Survived    714 non-null int64\n",
      "Age         714 non-null float64\n",
      "Fare        714 non-null float64\n",
      "Family      714 non-null int64\n",
      "class_1     714 non-null float64\n",
      "class_2     714 non-null float64\n",
      "female      714 non-null float64\n",
      "dtypes: float64(5), int64(2)\n",
      "memory usage: 44.6 KB\n"
     ]
    }
   ],
   "source": [
    "train_data2.info()"
   ]
  },
  {
   "cell_type": "code",
   "execution_count": 61,
   "metadata": {
    "collapsed": false
   },
   "outputs": [
    {
     "name": "stdout",
     "output_type": "stream",
     "text": [
      "Optimization terminated successfully.\n",
      "         Current function value: 0.452874\n",
      "         Iterations 6\n"
     ]
    }
   ],
   "source": [
    "model1 = smf.logit(\"Survived ~ Age+Fare+Family+class_1+class_2+female\",data=train_data2)\n",
    "result1 = model1.fit()"
   ]
  },
  {
   "cell_type": "code",
   "execution_count": 62,
   "metadata": {
    "collapsed": false
   },
   "outputs": [
    {
     "name": "stdout",
     "output_type": "stream",
     "text": [
      "                           Logit Regression Results                           \n",
      "==============================================================================\n",
      "Dep. Variable:               Survived   No. Observations:                  714\n",
      "Model:                          Logit   Df Residuals:                      707\n",
      "Method:                           MLE   Df Model:                            6\n",
      "Date:                Sat, 12 Mar 2016   Pseudo R-squ.:                  0.3295\n",
      "Time:                        23:04:43   Log-Likelihood:                -323.35\n",
      "converged:                       True   LL-Null:                       -482.26\n",
      "                                        LLR p-value:                 1.244e-65\n",
      "==============================================================================\n",
      "                 coef    std err          z      P>|z|      [95.0% Conf. Int.]\n",
      "------------------------------------------------------------------------------\n",
      "Intercept     -1.2614      0.273     -4.615      0.000        -1.797    -0.726\n",
      "Age           -0.0379      0.008     -4.783      0.000        -0.054    -0.022\n",
      "Fare           0.0009      0.002      0.389      0.697        -0.004     0.006\n",
      "Family        -0.1551      0.215     -0.721      0.471        -0.577     0.266\n",
      "class_1        2.5544      0.329      7.761      0.000         1.909     3.199\n",
      "class_2        1.2723      0.245      5.187      0.000         0.791     1.753\n",
      "female         2.5546      0.215     11.876      0.000         2.133     2.976\n",
      "==============================================================================\n"
     ]
    }
   ],
   "source": [
    "print(result1.summary())"
   ]
  },
  {
   "cell_type": "code",
   "execution_count": 63,
   "metadata": {
    "collapsed": false,
    "scrolled": false
   },
   "outputs": [
    {
     "name": "stdout",
     "output_type": "stream",
     "text": [
      "Optimization terminated successfully.\n",
      "         Current function value: 0.453279\n",
      "         Iterations 6\n",
      "                           Logit Regression Results                           \n",
      "==============================================================================\n",
      "Dep. Variable:               Survived   No. Observations:                  714\n",
      "Model:                          Logit   Df Residuals:                      709\n",
      "Method:                           MLE   Df Model:                            4\n",
      "Date:                Sat, 12 Mar 2016   Pseudo R-squ.:                  0.3289\n",
      "Time:                        23:05:03   Log-Likelihood:                -323.64\n",
      "converged:                       True   LL-Null:                       -482.26\n",
      "                                        LLR p-value:                 2.074e-67\n",
      "==============================================================================\n",
      "                 coef    std err          z      P>|z|      [95.0% Conf. Int.]\n",
      "------------------------------------------------------------------------------\n",
      "Intercept     -1.3264      0.248     -5.351      0.000        -1.812    -0.841\n",
      "Age           -0.0370      0.008     -4.831      0.000        -0.052    -0.022\n",
      "class_1        2.5806      0.281      9.169      0.000         2.029     3.132\n",
      "class_2        1.2708      0.244      5.207      0.000         0.793     1.749\n",
      "female         2.5228      0.207     12.164      0.000         2.116     2.929\n",
      "==============================================================================\n"
     ]
    }
   ],
   "source": [
    "# Fare, Family p 值高, 可以去掉\n",
    "model2 = smf.logit(\"Survived ~ Age+class_1+class_2+female\",data=train_data2)\n",
    "result2 = model2.fit()\n",
    "print result2.summary()"
   ]
  },
  {
   "cell_type": "code",
   "execution_count": 64,
   "metadata": {
    "collapsed": false
   },
   "outputs": [],
   "source": [
    "# define training and testing sets\n",
    "\n",
    "X_train = train_data2.drop(\"Survived\",axis=1)\n",
    "Y_train = train_data2[\"Survived\"]"
   ]
  },
  {
   "cell_type": "code",
   "execution_count": 65,
   "metadata": {
    "collapsed": false
   },
   "outputs": [
    {
     "data": {
      "text/plain": [
       "0.79411764705882348"
      ]
     },
     "execution_count": 65,
     "metadata": {},
     "output_type": "execute_result"
    }
   ],
   "source": [
    "# sklearn 包中的 logistic Regression\n",
    "from sklearn.linear_model import LogisticRegression\n",
    "from sklearn.ensemble import RandomForestClassifier\n",
    "\n",
    "logitreg = LogisticRegression()\n",
    "logitreg.fit(X_train, Y_train)\n",
    "\n",
    "logitreg.score(X_train, Y_train)"
   ]
  },
  {
   "cell_type": "code",
   "execution_count": 66,
   "metadata": {
    "collapsed": false
   },
   "outputs": [
    {
     "name": "stdout",
     "output_type": "stream",
     "text": [
      "<class 'pandas.core.frame.DataFrame'>\n",
      "Int64Index: 418 entries, 0 to 417\n",
      "Data columns (total 8 columns):\n",
      "PassengerId    418 non-null int64\n",
      "Pclass         418 non-null int64\n",
      "Sex            418 non-null object\n",
      "Age            332 non-null float64\n",
      "SibSp          418 non-null int64\n",
      "Parch          418 non-null int64\n",
      "Fare           417 non-null float64\n",
      "Embarked       418 non-null object\n",
      "dtypes: float64(2), int64(4), object(2)\n",
      "memory usage: 29.4+ KB\n"
     ]
    }
   ],
   "source": [
    "# deal with test data\n",
    "test_data.info()"
   ]
  },
  {
   "cell_type": "code",
   "execution_count": 67,
   "metadata": {
    "collapsed": false
   },
   "outputs": [],
   "source": [
    "# fill fare missing value by median\n",
    "test_data[\"Fare\"].fillna(test_data[\"Fare\"].median(), inplace=True)"
   ]
  },
  {
   "cell_type": "code",
   "execution_count": 68,
   "metadata": {
    "collapsed": false
   },
   "outputs": [
    {
     "name": "stderr",
     "output_type": "stream",
     "text": [
      "/Users/mn/program/anaconda2/lib/python2.7/site-packages/ipykernel/__main__.py:10: SettingWithCopyWarning: \n",
      "A value is trying to be set on a copy of a slice from a DataFrame\n",
      "\n",
      "See the caveats in the documentation: http://pandas.pydata.org/pandas-docs/stable/indexing.html#indexing-view-versus-copy\n"
     ]
    }
   ],
   "source": [
    "# get average, std, and number of NaN values in test data\n",
    "avg_age_test = test_data[\"Age\"].mean()\n",
    "std_age_test = test_data[\"Age\"].std()\n",
    "count_nan = test_data[\"Age\"].isnull().sum()\n",
    "\n",
    "# randomly sampled value uniformly in [mean-std,mean+std)\n",
    "rand_age = np.random.randint(avg_age_test - std_age_test, avg_age_test + std_age_test, \n",
    "                           size = count_nan)\n",
    "# fill missing value in Age by the random samples\n",
    "test_data[\"Age\"][np.isnan(test_data[\"Age\"])] = rand_age"
   ]
  },
  {
   "cell_type": "code",
   "execution_count": 69,
   "metadata": {
    "collapsed": false
   },
   "outputs": [],
   "source": [
    "test_data.drop(\"Embarked\",axis=1,inplace=True)"
   ]
  },
  {
   "cell_type": "code",
   "execution_count": 70,
   "metadata": {
    "collapsed": true
   },
   "outputs": [],
   "source": [
    "# add Family to test\n",
    "test_data['Family'] = test_data[\"Parch\"] + test_data[\"SibSp\"]\n",
    "\n",
    "test_data['Family'].loc[test_data[\"Parch\"] + test_data[\"SibSp\"] > 0] = 1\n",
    "test_data['Family'].loc[test_data[\"Parch\"] + test_data[\"SibSp\"] == 0] = 0\n",
    "\n",
    "# drop Parch & SibSp\n",
    "test_data = test_data.drop(['SibSp','Parch'], axis=1)"
   ]
  },
  {
   "cell_type": "code",
   "execution_count": 71,
   "metadata": {
    "collapsed": false,
    "scrolled": true
   },
   "outputs": [],
   "source": [
    "# Pclass dummy\n",
    "pclass_dummy_test = pd.get_dummies(test_data['Pclass'],prefix='class')\n",
    "pclass_dummy_test.drop(['class_3'], axis=1, inplace=True)\n",
    "# Sex\n",
    "sex_dummy_test = pd.get_dummies(test_data['Sex'])\n",
    "sex_dummy_test.drop(['male'], axis=1, inplace=True)"
   ]
  },
  {
   "cell_type": "code",
   "execution_count": 72,
   "metadata": {
    "collapsed": true
   },
   "outputs": [],
   "source": [
    "# drop original\n",
    "test_data.drop(['Pclass','Sex'],axis=1,inplace=True)\n",
    "# append dummies\n",
    "test_data = test_data.join([pclass_dummy_test, sex_dummy_test])"
   ]
  },
  {
   "cell_type": "code",
   "execution_count": 73,
   "metadata": {
    "collapsed": false
   },
   "outputs": [
    {
     "name": "stdout",
     "output_type": "stream",
     "text": [
      "<class 'pandas.core.frame.DataFrame'>\n",
      "Int64Index: 418 entries, 0 to 417\n",
      "Data columns (total 7 columns):\n",
      "PassengerId    418 non-null int64\n",
      "Age            418 non-null float64\n",
      "Fare           418 non-null float64\n",
      "Family         418 non-null int64\n",
      "class_1        418 non-null float64\n",
      "class_2        418 non-null float64\n",
      "female         418 non-null float64\n",
      "dtypes: float64(5), int64(2)\n",
      "memory usage: 26.1 KB\n"
     ]
    }
   ],
   "source": [
    "test_data.info()"
   ]
  },
  {
   "cell_type": "code",
   "execution_count": 74,
   "metadata": {
    "collapsed": false
   },
   "outputs": [],
   "source": [
    "test_data[\"P_survival\"]=result2.predict(test_data) # 预测存活"
   ]
  },
  {
   "cell_type": "code",
   "execution_count": 75,
   "metadata": {
    "collapsed": false
   },
   "outputs": [
    {
     "data": {
      "text/plain": [
       "0    0.068985\n",
       "1    0.367741\n",
       "2    0.087173\n",
       "Name: P_survival, dtype: float64"
      ]
     },
     "execution_count": 75,
     "metadata": {},
     "output_type": "execute_result"
    }
   ],
   "source": [
    "test_data[\"P_survival\"].head(3)"
   ]
  },
  {
   "cell_type": "code",
   "execution_count": 76,
   "metadata": {
    "collapsed": true
   },
   "outputs": [],
   "source": [
    "test_data[\"P_survival\"] = (test_data[\"P_survival\"] > 0.5).astype(int) #0.5做临界点"
   ]
  },
  {
   "cell_type": "code",
   "execution_count": 77,
   "metadata": {
    "collapsed": false,
    "scrolled": true
   },
   "outputs": [
    {
     "data": {
      "text/html": [
       "<div>\n",
       "<table border=\"1\" class=\"dataframe\">\n",
       "  <thead>\n",
       "    <tr style=\"text-align: right;\">\n",
       "      <th></th>\n",
       "      <th>PassengerId</th>\n",
       "      <th>Age</th>\n",
       "      <th>Fare</th>\n",
       "      <th>Family</th>\n",
       "      <th>class_1</th>\n",
       "      <th>class_2</th>\n",
       "      <th>female</th>\n",
       "      <th>P_survival</th>\n",
       "    </tr>\n",
       "  </thead>\n",
       "  <tbody>\n",
       "    <tr>\n",
       "      <th>0</th>\n",
       "      <td>892</td>\n",
       "      <td>34.5</td>\n",
       "      <td>7.8292</td>\n",
       "      <td>0</td>\n",
       "      <td>0</td>\n",
       "      <td>0</td>\n",
       "      <td>0</td>\n",
       "      <td>0</td>\n",
       "    </tr>\n",
       "    <tr>\n",
       "      <th>1</th>\n",
       "      <td>893</td>\n",
       "      <td>47.0</td>\n",
       "      <td>7.0000</td>\n",
       "      <td>1</td>\n",
       "      <td>0</td>\n",
       "      <td>0</td>\n",
       "      <td>1</td>\n",
       "      <td>0</td>\n",
       "    </tr>\n",
       "    <tr>\n",
       "      <th>2</th>\n",
       "      <td>894</td>\n",
       "      <td>62.0</td>\n",
       "      <td>9.6875</td>\n",
       "      <td>0</td>\n",
       "      <td>0</td>\n",
       "      <td>1</td>\n",
       "      <td>0</td>\n",
       "      <td>0</td>\n",
       "    </tr>\n",
       "    <tr>\n",
       "      <th>3</th>\n",
       "      <td>895</td>\n",
       "      <td>27.0</td>\n",
       "      <td>8.6625</td>\n",
       "      <td>0</td>\n",
       "      <td>0</td>\n",
       "      <td>0</td>\n",
       "      <td>0</td>\n",
       "      <td>0</td>\n",
       "    </tr>\n",
       "    <tr>\n",
       "      <th>4</th>\n",
       "      <td>896</td>\n",
       "      <td>22.0</td>\n",
       "      <td>12.2875</td>\n",
       "      <td>1</td>\n",
       "      <td>0</td>\n",
       "      <td>0</td>\n",
       "      <td>1</td>\n",
       "      <td>1</td>\n",
       "    </tr>\n",
       "  </tbody>\n",
       "</table>\n",
       "</div>"
      ],
      "text/plain": [
       "   PassengerId   Age     Fare  Family  class_1  class_2  female  P_survival\n",
       "0          892  34.5   7.8292       0        0        0       0           0\n",
       "1          893  47.0   7.0000       1        0        0       1           0\n",
       "2          894  62.0   9.6875       0        0        1       0           0\n",
       "3          895  27.0   8.6625       0        0        0       0           0\n",
       "4          896  22.0  12.2875       1        0        0       1           1"
      ]
     },
     "execution_count": 77,
     "metadata": {},
     "output_type": "execute_result"
    }
   ],
   "source": [
    "test_data.head()"
   ]
  },
  {
   "cell_type": "code",
   "execution_count": 78,
   "metadata": {
    "collapsed": false
   },
   "outputs": [
    {
     "data": {
      "text/plain": [
       "0    263\n",
       "1    155\n",
       "Name: P_survival, dtype: int64"
      ]
     },
     "execution_count": 78,
     "metadata": {},
     "output_type": "execute_result"
    }
   ],
   "source": [
    "test_data[\"P_survival\"].value_counts()"
   ]
  },
  {
   "cell_type": "markdown",
   "metadata": {},
   "source": [
    "预测有156人存活, 存活概率大约为156/418 = 37.3%."
   ]
  },
  {
   "cell_type": "code",
   "execution_count": 79,
   "metadata": {
    "collapsed": true
   },
   "outputs": [],
   "source": [
    "X_test  = test_data.drop([\"PassengerId\",\"P_survival\"],axis=1).copy()"
   ]
  },
  {
   "cell_type": "code",
   "execution_count": 80,
   "metadata": {
    "collapsed": false
   },
   "outputs": [],
   "source": [
    "# 继续试试用 sklearn 包, 预测存活\n",
    "Y_pred = logitreg.predict(X_test)"
   ]
  },
  {
   "cell_type": "code",
   "execution_count": 81,
   "metadata": {
    "collapsed": false,
    "scrolled": true
   },
   "outputs": [
    {
     "data": {
      "text/plain": [
       "array([0, 0, 0, 0, 1, 0, 1, 0, 1, 0, 0, 0, 1, 0, 1, 1, 0, 0, 1, 0, 0, 0, 1,\n",
       "       1, 1, 0, 1, 0, 0, 0, 0, 0, 0, 1, 0, 0, 1, 1, 0, 0, 0, 1, 0, 1, 1, 0,\n",
       "       0, 0, 1, 0, 1, 0, 1, 1, 0, 0, 0, 0, 0, 1, 0, 0, 0, 1, 1, 1, 1, 0, 1,\n",
       "       1, 1, 0, 1, 1, 1, 1, 0, 1, 0, 1, 0, 0, 0, 0, 0, 0, 1, 1, 1, 0, 1, 0,\n",
       "       1, 0, 1, 0, 1, 0, 1, 0, 1, 0, 0, 0, 1, 0, 0, 0, 0, 0, 0, 1, 1, 1, 1,\n",
       "       0, 0, 1, 0, 1, 1, 0, 1, 0, 0, 1, 0, 0, 0, 0, 0, 0, 1, 0, 0, 0, 0, 0,\n",
       "       1, 0, 1, 1, 0, 0, 0, 0, 1, 0, 1, 0, 1, 0, 0, 0, 0, 0, 1, 1, 0, 1, 0,\n",
       "       0, 1, 0, 0, 1, 0, 0, 1, 1, 0, 0, 0, 0, 0, 1, 1, 0, 1, 1, 0, 0, 1, 0,\n",
       "       1, 0, 1, 0, 1, 0, 0, 1, 0, 0, 0, 0, 1, 1, 0, 1, 1, 0, 0, 1, 0, 1, 0,\n",
       "       0, 1, 0, 0, 0, 0, 1, 0, 0, 0, 0, 1, 0, 1, 0, 1, 0, 1, 1, 0, 1, 0, 0,\n",
       "       0, 1, 0, 0, 0, 0, 0, 0, 1, 1, 1, 1, 0, 0, 0, 0, 1, 0, 1, 1, 1, 0, 1,\n",
       "       0, 0, 0, 0, 0, 1, 0, 0, 0, 1, 1, 0, 0, 0, 0, 0, 0, 0, 0, 1, 0, 0, 1,\n",
       "       0, 0, 0, 0, 1, 0, 0, 1, 1, 0, 0, 1, 0, 0, 1, 1, 0, 0, 0, 0, 1, 0, 1,\n",
       "       0, 0, 0, 0, 0, 0, 1, 1, 0, 0, 0, 0, 0, 0, 0, 1, 1, 0, 0, 0, 0, 0, 0,\n",
       "       0, 0, 1, 0, 1, 0, 0, 0, 1, 0, 0, 1, 0, 1, 0, 0, 0, 0, 0, 0, 0, 1, 0,\n",
       "       1, 0, 0, 0, 1, 1, 0, 0, 0, 1, 0, 1, 0, 0, 1, 0, 1, 1, 0, 1, 0, 0, 1,\n",
       "       1, 0, 0, 1, 0, 0, 1, 1, 1, 0, 0, 0, 0, 0, 1, 1, 0, 1, 0, 0, 0, 0, 1,\n",
       "       1, 0, 0, 0, 1, 0, 1, 0, 0, 1, 0, 1, 1, 0, 0, 0, 0, 1, 1, 1, 1, 1, 0,\n",
       "       1, 0, 0, 0])"
      ]
     },
     "execution_count": 81,
     "metadata": {},
     "output_type": "execute_result"
    }
   ],
   "source": [
    "Y_pred"
   ]
  },
  {
   "cell_type": "code",
   "execution_count": 82,
   "metadata": {
    "collapsed": false
   },
   "outputs": [
    {
     "data": {
      "text/plain": [
       "155"
      ]
     },
     "execution_count": 82,
     "metadata": {},
     "output_type": "execute_result"
    }
   ],
   "source": [
    "Y_pred.sum()"
   ]
  },
  {
   "cell_type": "markdown",
   "metadata": {},
   "source": [
    "与前面的结果类似"
   ]
  },
  {
   "cell_type": "markdown",
   "metadata": {},
   "source": [
    "## Q4: PM2.5 time series prediction\n",
    "\n",
    "* data downloaded from [here](http://www.young-0.com/airquality/)\n",
    "    * data source 是[美国驻华大使馆](http://www.stateair.net/web/post/1/1.html)\n",
    "    * 但是美使馆网站上只有最新24小时, 以及2016年1月数据, 2月数据暂未更新\n",
    "    * 美使馆\n",
    "* 其他数据网站参考知乎[这个问题](https://www.zhihu.com/question/20939327)\n",
    "* 官方-环境保护部数据中心提供很多城市的数据, 但仅有最近24小时数据, 没有历史数据"
   ]
  },
  {
   "cell_type": "code",
   "execution_count": 115,
   "metadata": {
    "collapsed": false
   },
   "outputs": [
    {
     "data": {
      "text/html": [
       "<div>\n",
       "<table border=\"1\" class=\"dataframe\">\n",
       "  <thead>\n",
       "    <tr style=\"text-align: right;\">\n",
       "      <th></th>\n",
       "      <th>Reading</th>\n",
       "      <th>Time</th>\n",
       "      <th>PM2.5 level</th>\n",
       "      <th>Concentration</th>\n",
       "      <th>Unnamed: 4</th>\n",
       "      <th>Unnamed: 5</th>\n",
       "      <th>Unnamed: 6</th>\n",
       "    </tr>\n",
       "  </thead>\n",
       "  <tbody>\n",
       "    <tr>\n",
       "      <th>0</th>\n",
       "      <td>1</td>\n",
       "      <td>2016-02-09 0:00</td>\n",
       "      <td>82</td>\n",
       "      <td>27</td>\n",
       "      <td>NaN</td>\n",
       "      <td>NaN</td>\n",
       "      <td>NaN</td>\n",
       "    </tr>\n",
       "    <tr>\n",
       "      <th>1</th>\n",
       "      <td>2</td>\n",
       "      <td>2016-02-09 1:00</td>\n",
       "      <td>74</td>\n",
       "      <td>23</td>\n",
       "      <td>NaN</td>\n",
       "      <td>NaN</td>\n",
       "      <td>NaN</td>\n",
       "    </tr>\n",
       "    <tr>\n",
       "      <th>2</th>\n",
       "      <td>3</td>\n",
       "      <td>2016-02-09 2:00</td>\n",
       "      <td>78</td>\n",
       "      <td>25</td>\n",
       "      <td>NaN</td>\n",
       "      <td>NaN</td>\n",
       "      <td>NaN</td>\n",
       "    </tr>\n",
       "    <tr>\n",
       "      <th>3</th>\n",
       "      <td>4</td>\n",
       "      <td>2016-02-09 3:00</td>\n",
       "      <td>87</td>\n",
       "      <td>29</td>\n",
       "      <td>NaN</td>\n",
       "      <td>NaN</td>\n",
       "      <td>NaN</td>\n",
       "    </tr>\n",
       "    <tr>\n",
       "      <th>4</th>\n",
       "      <td>5</td>\n",
       "      <td>2016-02-09 4:00</td>\n",
       "      <td>78</td>\n",
       "      <td>25</td>\n",
       "      <td>NaN</td>\n",
       "      <td>NaN</td>\n",
       "      <td>NaN</td>\n",
       "    </tr>\n",
       "  </tbody>\n",
       "</table>\n",
       "</div>"
      ],
      "text/plain": [
       "   Reading             Time PM2.5 level  Concentration  Unnamed: 4  \\\n",
       "0        1  2016-02-09 0:00          82             27         NaN   \n",
       "1        2  2016-02-09 1:00          74             23         NaN   \n",
       "2        3  2016-02-09 2:00          78             25         NaN   \n",
       "3        4  2016-02-09 3:00          87             29         NaN   \n",
       "4        5  2016-02-09 4:00          78             25         NaN   \n",
       "\n",
       "   Unnamed: 5  Unnamed: 6  \n",
       "0         NaN         NaN  \n",
       "1         NaN         NaN  \n",
       "2         NaN         NaN  \n",
       "3         NaN         NaN  \n",
       "4         NaN         NaN  "
      ]
     },
     "execution_count": 115,
     "metadata": {},
     "output_type": "execute_result"
    }
   ],
   "source": [
    "bj_air=pd.read_csv(\"BJ_pm25_train.csv\", header=0)\n",
    "bj_air.head()"
   ]
  },
  {
   "cell_type": "code",
   "execution_count": 116,
   "metadata": {
    "collapsed": true
   },
   "outputs": [],
   "source": [
    "bjair_ts=bj_air[[\"Time\",\"PM2.5 level\"]]"
   ]
  },
  {
   "cell_type": "code",
   "execution_count": 117,
   "metadata": {
    "collapsed": false
   },
   "outputs": [
    {
     "name": "stdout",
     "output_type": "stream",
     "text": [
      "<class 'pandas.core.frame.DataFrame'>\n",
      "Int64Index: 697 entries, 0 to 696\n",
      "Data columns (total 2 columns):\n",
      "Time           697 non-null object\n",
      "PM2.5 level    697 non-null object\n",
      "dtypes: object(2)\n",
      "memory usage: 16.3+ KB\n"
     ]
    }
   ],
   "source": [
    "bjair_ts.info()"
   ]
  },
  {
   "cell_type": "code",
   "execution_count": 118,
   "metadata": {
    "collapsed": false
   },
   "outputs": [],
   "source": [
    "bjair_ts=bjair_ts.set_index(\"Time\")"
   ]
  },
  {
   "cell_type": "code",
   "execution_count": 119,
   "metadata": {
    "collapsed": false
   },
   "outputs": [],
   "source": [
    "# change string to datetime\n",
    "bjair_ts.index = pd.to_datetime(bjair_ts.index)"
   ]
  },
  {
   "cell_type": "code",
   "execution_count": 120,
   "metadata": {
    "collapsed": false
   },
   "outputs": [],
   "source": [
    "bjair_ts.columns=[\"pm25\"]"
   ]
  },
  {
   "cell_type": "code",
   "execution_count": 121,
   "metadata": {
    "collapsed": false
   },
   "outputs": [
    {
     "data": {
      "text/html": [
       "<div>\n",
       "<table border=\"1\" class=\"dataframe\">\n",
       "  <thead>\n",
       "    <tr style=\"text-align: right;\">\n",
       "      <th></th>\n",
       "      <th>pm25</th>\n",
       "    </tr>\n",
       "    <tr>\n",
       "      <th>Time</th>\n",
       "      <th></th>\n",
       "    </tr>\n",
       "  </thead>\n",
       "  <tbody>\n",
       "    <tr>\n",
       "      <th>2016-02-09 00:00:00</th>\n",
       "      <td>82</td>\n",
       "    </tr>\n",
       "    <tr>\n",
       "      <th>2016-02-09 01:00:00</th>\n",
       "      <td>74</td>\n",
       "    </tr>\n",
       "    <tr>\n",
       "      <th>2016-02-09 02:00:00</th>\n",
       "      <td>78</td>\n",
       "    </tr>\n",
       "    <tr>\n",
       "      <th>2016-02-09 03:00:00</th>\n",
       "      <td>87</td>\n",
       "    </tr>\n",
       "    <tr>\n",
       "      <th>2016-02-09 04:00:00</th>\n",
       "      <td>78</td>\n",
       "    </tr>\n",
       "  </tbody>\n",
       "</table>\n",
       "</div>"
      ],
      "text/plain": [
       "                    pm25\n",
       "Time                    \n",
       "2016-02-09 00:00:00   82\n",
       "2016-02-09 01:00:00   74\n",
       "2016-02-09 02:00:00   78\n",
       "2016-02-09 03:00:00   87\n",
       "2016-02-09 04:00:00   78"
      ]
     },
     "execution_count": 121,
     "metadata": {},
     "output_type": "execute_result"
    }
   ],
   "source": [
    "bjair_ts.head()"
   ]
  },
  {
   "cell_type": "code",
   "execution_count": 122,
   "metadata": {
    "collapsed": false
   },
   "outputs": [],
   "source": [
    "# dealing with \"(no data)\"\n",
    "bjair_ts[bjair_ts.pm25==\"(no data)\"]=None"
   ]
  },
  {
   "cell_type": "code",
   "execution_count": 123,
   "metadata": {
    "collapsed": false
   },
   "outputs": [],
   "source": [
    "# fill none with forward\n",
    "bjair_ts=bjair_ts.fillna(method=\"ffill\")"
   ]
  },
  {
   "cell_type": "code",
   "execution_count": 124,
   "metadata": {
    "collapsed": false
   },
   "outputs": [],
   "source": [
    "# change string to float\n",
    "bjair_ts[\"pm25\"]=bjair_ts[\"pm25\"].astype(float)"
   ]
  },
  {
   "cell_type": "code",
   "execution_count": 125,
   "metadata": {
    "collapsed": false
   },
   "outputs": [
    {
     "name": "stdout",
     "output_type": "stream",
     "text": [
      "<class 'pandas.core.frame.DataFrame'>\n",
      "DatetimeIndex: 697 entries, 2016-02-09 00:00:00 to 2016-03-09 00:00:00\n",
      "Data columns (total 1 columns):\n",
      "pm25    697 non-null float64\n",
      "dtypes: float64(1)\n",
      "memory usage: 10.9 KB\n"
     ]
    }
   ],
   "source": [
    "bjair_ts.info()"
   ]
  },
  {
   "cell_type": "code",
   "execution_count": 126,
   "metadata": {
    "collapsed": false
   },
   "outputs": [
    {
     "data": {
      "image/png": "[encoded data removed]",
      "text/plain": [
       "<matplotlib.figure.Figure at 0x1158e9690>"
      ]
     },
     "metadata": {},
     "output_type": "display_data"
    }
   ],
   "source": [
    "bjair_ts.plot(figsize=(10,4));"
   ]
  },
  {
   "cell_type": "code",
   "execution_count": 127,
   "metadata": {
    "collapsed": false
   },
   "outputs": [
    {
     "data": {
      "image/png": "[encoded data removed]",
      "text/plain": [
       "<matplotlib.figure.Figure at 0x113a36350>"
      ]
     },
     "metadata": {},
     "output_type": "display_data"
    }
   ],
   "source": [
    "plt.scatter(bjair_ts[1:], bjair_ts[:-1]); # 1hr 正相关"
   ]
  },
  {
   "cell_type": "code",
   "execution_count": 130,
   "metadata": {
    "collapsed": false
   },
   "outputs": [
    {
     "data": {
      "image/png": "[encoded data removed]",
      "text/plain": [
       "<matplotlib.figure.Figure at 0x113580b50>"
      ]
     },
     "metadata": {},
     "output_type": "display_data"
    }
   ],
   "source": [
    "plt.scatter(bjair_ts[12:], bjair_ts[:-12]); #4hr"
   ]
  },
  {
   "cell_type": "code",
   "execution_count": 131,
   "metadata": {
    "collapsed": false
   },
   "outputs": [
    {
     "data": {
      "image/png": "[encoded data removed]",
      "text/plain": [
       "<matplotlib.figure.Figure at 0x10d9484d0>"
      ]
     },
     "metadata": {},
     "output_type": "display_data"
    }
   ],
   "source": [
    "plt.scatter(bjair_ts[72:], bjair_ts[:-72]); "
   ]
  },
  {
   "cell_type": "code",
   "execution_count": 132,
   "metadata": {
    "collapsed": false
   },
   "outputs": [
    {
     "data": {
      "image/png": "[encoded data removed]",
      "text/plain": [
       "<matplotlib.figure.Figure at 0x11890e0d0>"
      ]
     },
     "metadata": {},
     "output_type": "display_data"
    }
   ],
   "source": [
    "fig, axes = plt.subplots(3, 2, figsize=(12, 9))\n",
    "#tsa = time series analysis\n",
    "# partial autocorrelation\n",
    "smg.tsa.plot_pacf(bjair_ts.pm25, lags=24, ax=axes[0,0])\n",
    "# autocorrelation\n",
    "smg.tsa.plot_acf(bjair_ts.pm25, lags=72, ax=axes[0,1])\n",
    "\n",
    "smg.tsa.plot_pacf(bjair_ts.pm25.diff().dropna(), lags=24, ax=axes[1,0])\n",
    "smg.tsa.plot_acf(bjair_ts.pm25.diff().dropna(), lags=72, ax=axes[1,1])\n",
    "\n",
    "smg.tsa.plot_pacf(bjair_ts.pm25.diff().diff().dropna(), lags=24, ax=axes[2,0])\n",
    "smg.tsa.plot_acf(bjair_ts.pm25.diff().diff().dropna(), lags=72, ax=axes[2,1])\n",
    "\n",
    "fig.tight_layout()\n",
    "\n",
    "# AR(2) process\n",
    "# ARIMA(2,1,0) process?"
   ]
  },
  {
   "cell_type": "code",
   "execution_count": 133,
   "metadata": {
    "collapsed": false
   },
   "outputs": [],
   "source": [
    "model = sm.tsa.AR(bjair_ts.pm25)"
   ]
  },
  {
   "cell_type": "code",
   "execution_count": 134,
   "metadata": {
    "collapsed": false
   },
   "outputs": [],
   "source": [
    "result = model.fit(maxlag=72,ic='t-stat')\n",
    "#result = model.fit(5)"
   ]
  },
  {
   "cell_type": "code",
   "execution_count": 135,
   "metadata": {
    "collapsed": false
   },
   "outputs": [
    {
     "data": {
      "text/plain": [
       "2.0046371057797461"
      ]
     },
     "execution_count": 135,
     "metadata": {},
     "output_type": "execute_result"
    }
   ],
   "source": [
    "sm.stats.durbin_watson(result.resid)\n",
    "# 接近2, 没有自相关"
   ]
  },
  {
   "cell_type": "code",
   "execution_count": 136,
   "metadata": {
    "collapsed": false
   },
   "outputs": [
    {
     "data": {
      "text/plain": [
       "const       2.855366\n",
       "L1.pm25     1.168943\n",
       "L2.pm25    -0.205052\n",
       "L3.pm25    -0.016031\n",
       "L4.pm25     0.055737\n",
       "L5.pm25    -0.048691\n",
       "L6.pm25     0.060013\n",
       "L7.pm25    -0.043227\n",
       "L8.pm25    -0.014802\n",
       "L9.pm25     0.023576\n",
       "L10.pm25    0.060335\n",
       "L11.pm25   -0.118368\n",
       "L12.pm25    0.111627\n",
       "L13.pm25   -0.079037\n",
       "L14.pm25    0.024896\n",
       "L15.pm25    0.006004\n",
       "L16.pm25   -0.058478\n",
       "L17.pm25    0.053318\n",
       "L18.pm25   -0.054542\n",
       "L19.pm25    0.008694\n",
       "L20.pm25    0.088932\n",
       "L21.pm25   -0.016021\n",
       "L22.pm25   -0.040828\n",
       "L23.pm25    0.056680\n",
       "L24.pm25   -0.031331\n",
       "L25.pm25   -0.023988\n",
       "L26.pm25   -0.043639\n",
       "L27.pm25    0.072903\n",
       "L28.pm25   -0.024818\n",
       "L29.pm25    0.040588\n",
       "              ...   \n",
       "L36.pm25   -0.067700\n",
       "L37.pm25    0.060416\n",
       "L38.pm25    0.072014\n",
       "L39.pm25   -0.068463\n",
       "L40.pm25    0.042432\n",
       "L41.pm25   -0.033910\n",
       "L42.pm25   -0.045111\n",
       "L43.pm25    0.060057\n",
       "L44.pm25   -0.043421\n",
       "L45.pm25   -0.025649\n",
       "L46.pm25    0.115713\n",
       "L47.pm25   -0.100223\n",
       "L48.pm25    0.054970\n",
       "L49.pm25   -0.052501\n",
       "L50.pm25   -0.005156\n",
       "L51.pm25    0.099393\n",
       "L52.pm25   -0.085546\n",
       "L53.pm25    0.039874\n",
       "L54.pm25   -0.031767\n",
       "L55.pm25    0.016932\n",
       "L56.pm25    0.048081\n",
       "L57.pm25    0.023308\n",
       "L58.pm25   -0.063674\n",
       "L59.pm25   -0.006290\n",
       "L60.pm25   -0.037651\n",
       "L61.pm25    0.017303\n",
       "L62.pm25    0.040362\n",
       "L63.pm25   -0.040356\n",
       "L64.pm25    0.120581\n",
       "L65.pm25   -0.105523\n",
       "dtype: float64"
      ]
     },
     "execution_count": 136,
     "metadata": {},
     "output_type": "execute_result"
    }
   ],
   "source": [
    "result.params"
   ]
  },
  {
   "cell_type": "code",
   "execution_count": 137,
   "metadata": {
    "collapsed": false,
    "scrolled": true
   },
   "outputs": [
    {
     "data": {
      "image/png": "[encoded data removed]",
      "text/plain": [
       "<matplotlib.figure.Figure at 0x11388ea90>"
      ]
     },
     "metadata": {},
     "output_type": "display_data"
    }
   ],
   "source": [
    "fig, ax = plt.subplots(1, 1, figsize=(12, 4))\n",
    "ax.plot(bjair_ts, label=\"train data\")\n",
    "ax.plot(result.fittedvalues, label=\"fitted value\")\n",
    "ax.legend()\n",
    "fig.tight_layout()"
   ]
  },
  {
   "cell_type": "code",
   "execution_count": 104,
   "metadata": {
    "collapsed": true
   },
   "outputs": [],
   "source": [
    "# 额 这个会不会 overfit?"
   ]
  },
  {
   "cell_type": "code",
   "execution_count": 138,
   "metadata": {
    "collapsed": false,
    "scrolled": true
   },
   "outputs": [
    {
     "data": {
      "image/png": "[encoded data removed]",
      "text/plain": [
       "<matplotlib.figure.Figure at 0x1144ccd50>"
      ]
     },
     "metadata": {},
     "output_type": "display_data"
    }
   ],
   "source": [
    "fig, ax = plt.subplots(1, 1, figsize=(8, 3))\n",
    "smg.tsa.plot_acf(result.resid, lags=19, ax=ax)\n",
    "fig.tight_layout()"
   ]
  },
  {
   "cell_type": "code",
   "execution_count": 161,
   "metadata": {
    "collapsed": false
   },
   "outputs": [
    {
     "data": {
      "text/html": [
       "<div>\n",
       "<table border=\"1\" class=\"dataframe\">\n",
       "  <thead>\n",
       "    <tr style=\"text-align: right;\">\n",
       "      <th></th>\n",
       "      <th>Reading</th>\n",
       "      <th>Time</th>\n",
       "      <th>PM2.5 level</th>\n",
       "      <th>Concentration</th>\n",
       "      <th>Unnamed: 4</th>\n",
       "      <th>Unnamed: 5</th>\n",
       "      <th>Unnamed: 6</th>\n",
       "    </tr>\n",
       "  </thead>\n",
       "  <tbody>\n",
       "    <tr>\n",
       "      <th>0</th>\n",
       "      <td>1</td>\n",
       "      <td>2016-03-09 0:00</td>\n",
       "      <td>29</td>\n",
       "      <td>7</td>\n",
       "      <td>NaN</td>\n",
       "      <td>NaN</td>\n",
       "      <td>NaN</td>\n",
       "    </tr>\n",
       "    <tr>\n",
       "      <th>1</th>\n",
       "      <td>2</td>\n",
       "      <td>2016-03-09 1:00</td>\n",
       "      <td>25</td>\n",
       "      <td>6</td>\n",
       "      <td>NaN</td>\n",
       "      <td>NaN</td>\n",
       "      <td>NaN</td>\n",
       "    </tr>\n",
       "    <tr>\n",
       "      <th>2</th>\n",
       "      <td>3</td>\n",
       "      <td>2016-03-09 2:00</td>\n",
       "      <td>25</td>\n",
       "      <td>6</td>\n",
       "      <td>NaN</td>\n",
       "      <td>NaN</td>\n",
       "      <td>NaN</td>\n",
       "    </tr>\n",
       "    <tr>\n",
       "      <th>3</th>\n",
       "      <td>4</td>\n",
       "      <td>2016-03-09 3:00</td>\n",
       "      <td>17</td>\n",
       "      <td>4</td>\n",
       "      <td>NaN</td>\n",
       "      <td>NaN</td>\n",
       "      <td>NaN</td>\n",
       "    </tr>\n",
       "    <tr>\n",
       "      <th>4</th>\n",
       "      <td>5</td>\n",
       "      <td>2016-03-09 4:00</td>\n",
       "      <td>25</td>\n",
       "      <td>6</td>\n",
       "      <td>NaN</td>\n",
       "      <td>NaN</td>\n",
       "      <td>NaN</td>\n",
       "    </tr>\n",
       "  </tbody>\n",
       "</table>\n",
       "</div>"
      ],
      "text/plain": [
       "   Reading             Time  PM2.5 level  Concentration  Unnamed: 4  \\\n",
       "0        1  2016-03-09 0:00           29              7         NaN   \n",
       "1        2  2016-03-09 1:00           25              6         NaN   \n",
       "2        3  2016-03-09 2:00           25              6         NaN   \n",
       "3        4  2016-03-09 3:00           17              4         NaN   \n",
       "4        5  2016-03-09 4:00           25              6         NaN   \n",
       "\n",
       "   Unnamed: 5  Unnamed: 6  \n",
       "0         NaN         NaN  \n",
       "1         NaN         NaN  \n",
       "2         NaN         NaN  \n",
       "3         NaN         NaN  \n",
       "4         NaN         NaN  "
      ]
     },
     "execution_count": 161,
     "metadata": {},
     "output_type": "execute_result"
    }
   ],
   "source": [
    "# 读入真实数据与 predicted 对比\n",
    "bj_test=pd.read_csv(\"BJ_pm25_test.csv\", header=0)\n",
    "bj_test.head()"
   ]
  },
  {
   "cell_type": "code",
   "execution_count": 162,
   "metadata": {
    "collapsed": true
   },
   "outputs": [],
   "source": [
    "air_test=bj_test[[\"Time\",\"PM2.5 level\"]].set_index('Time')"
   ]
  },
  {
   "cell_type": "code",
   "execution_count": 163,
   "metadata": {
    "collapsed": true
   },
   "outputs": [],
   "source": [
    "# change string to datetime\n",
    "air_test.index = pd.to_datetime(air_test.index)"
   ]
  },
  {
   "cell_type": "code",
   "execution_count": 164,
   "metadata": {
    "collapsed": true
   },
   "outputs": [],
   "source": [
    "air_test.columns=[\"pm25\"]"
   ]
  },
  {
   "cell_type": "code",
   "execution_count": 165,
   "metadata": {
    "collapsed": false
   },
   "outputs": [
    {
     "name": "stdout",
     "output_type": "stream",
     "text": [
      "<class 'pandas.core.frame.DataFrame'>\n",
      "DatetimeIndex: 73 entries, 2016-03-09 00:00:00 to 2016-03-12 00:00:00\n",
      "Data columns (total 1 columns):\n",
      "pm25    73 non-null int64\n",
      "dtypes: int64(1)\n",
      "memory usage: 1.1 KB\n"
     ]
    }
   ],
   "source": [
    "air_test.info()"
   ]
  },
  {
   "cell_type": "code",
   "execution_count": 166,
   "metadata": {
    "collapsed": false
   },
   "outputs": [
    {
     "data": {
      "text/html": [
       "<div>\n",
       "<table border=\"1\" class=\"dataframe\">\n",
       "  <thead>\n",
       "    <tr style=\"text-align: right;\">\n",
       "      <th></th>\n",
       "      <th>pm25</th>\n",
       "    </tr>\n",
       "    <tr>\n",
       "      <th>Time</th>\n",
       "      <th></th>\n",
       "    </tr>\n",
       "  </thead>\n",
       "  <tbody>\n",
       "    <tr>\n",
       "      <th>2016-03-09 00:00:00</th>\n",
       "      <td>29</td>\n",
       "    </tr>\n",
       "    <tr>\n",
       "      <th>2016-03-09 01:00:00</th>\n",
       "      <td>25</td>\n",
       "    </tr>\n",
       "    <tr>\n",
       "      <th>2016-03-09 02:00:00</th>\n",
       "      <td>25</td>\n",
       "    </tr>\n",
       "    <tr>\n",
       "      <th>2016-03-09 03:00:00</th>\n",
       "      <td>17</td>\n",
       "    </tr>\n",
       "    <tr>\n",
       "      <th>2016-03-09 04:00:00</th>\n",
       "      <td>25</td>\n",
       "    </tr>\n",
       "  </tbody>\n",
       "</table>\n",
       "</div>"
      ],
      "text/plain": [
       "                     pm25\n",
       "Time                     \n",
       "2016-03-09 00:00:00    29\n",
       "2016-03-09 01:00:00    25\n",
       "2016-03-09 02:00:00    25\n",
       "2016-03-09 03:00:00    17\n",
       "2016-03-09 04:00:00    25"
      ]
     },
     "execution_count": 166,
     "metadata": {},
     "output_type": "execute_result"
    }
   ],
   "source": [
    "air_test.head()"
   ]
  },
  {
   "cell_type": "code",
   "execution_count": 168,
   "metadata": {
    "collapsed": false,
    "scrolled": true
   },
   "outputs": [
    {
     "data": {
      "image/png": "[encoded data removed]",
      "text/plain": [
       "<matplotlib.figure.Figure at 0x113a04210>"
      ]
     },
     "metadata": {},
     "output_type": "display_data"
    }
   ],
   "source": [
    "fig, ax = plt.subplots(1, 1, figsize=(12, 4))\n",
    "ax.plot(bjair_ts.index.values[-144:], bjair_ts.pm25.values[-144:], label=\"train data\")\n",
    "ax.plot(result.fittedvalues[-144:], label=\"fitted value\")\n",
    "ax.plot(air_test.index.values,air_test['pm25'].values, label=\"actual outcome\")\n",
    "ax.plot(pd.date_range(\"2016-03-09\", \"2016-03-12\", freq=\"H\").values,\n",
    "        result.predict(\"2016-03-09\", \"2016-03-12\"), label=\"predicted outcome\")\n",
    "\n",
    "ax.legend()\n",
    "fig.tight_layout()"
   ]
  },
  {
   "cell_type": "markdown",
   "metadata": {
    "collapsed": true
   },
   "source": [
    "predicted outcome 一般, 趋势大体类似"
   ]
  },
  {
   "cell_type": "code",
   "execution_count": null,
   "metadata": {
    "collapsed": true
   },
   "outputs": [],
   "source": []
  }
 ],
 "metadata": {
  "kernelspec": {
   "display_name": "Python 2",
   "language": "python",
   "name": "python2"
  },
  "language_info": {
   "codemirror_mode": {
    "name": "ipython",
    "version": 2
   },
   "file_extension": ".py",
   "mimetype": "text/x-python",
   "name": "python",
   "nbconvert_exporter": "python",
   "pygments_lexer": "ipython2",
   "version": "2.7.11"
  }
 },
 "nbformat": 4,
 "nbformat_minor": 0
}
