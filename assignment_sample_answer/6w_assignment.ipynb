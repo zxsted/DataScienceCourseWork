{
 "cells": [
  {
   "cell_type": "markdown",
   "metadata": {},
   "source": [
    "# Week 6 assignment\n",
    "\n",
    "by @nirvanafish\n",
    "\n",
    "\n",
    "给定一个函数 $$ f(x) = x^2 + 3x - 10 $$\n",
    "\n",
    "## 理解方程求根中的二分法(Bisection)，并使用基本的numpy库而非scipy库，来实现算法 \n",
    "\n",
    "- 参考[wiki算法定义](https://en.wikipedia.org/wiki/Bisection_method)\n",
    "- 使用上述算法来得到函数f(x)的根  "
   ]
  },
  {
   "cell_type": "code",
   "execution_count": 1,
   "metadata": {
    "collapsed": true
   },
   "outputs": [],
   "source": [
    "import numpy as np\n",
    "import scipy as sp\n",
    "import scipy.optimize as opt\n",
    "import matplotlib.pyplot as plt\n",
    "%matplotlib inline"
   ]
  },
  {
   "cell_type": "code",
   "execution_count": 2,
   "metadata": {
    "collapsed": false
   },
   "outputs": [
    {
     "data": {
      "text/plain": [
       "<matplotlib.lines.Line2D at 0x16ff5c18>"
      ]
     },
     "execution_count": 2,
     "metadata": {},
     "output_type": "execute_result"
    },
    {
     "data": {
      "image/png": "[encoded data removed]",
      "text/plain": [
       "<matplotlib.figure.Figure at 0x16ff5ba8>"
      ]
     },
     "metadata": {},
     "output_type": "display_data"
    }
   ],
   "source": [
    "f = lambda x: x**2 + 3 * x - 10\n",
    "x = np.linspace(-8, 5, 1000)\n",
    "y = f(x)\n",
    "plt.plot(x, y);\n",
    "plt.axhline(0, color='k')"
   ]
  },
  {
   "cell_type": "markdown",
   "metadata": {},
   "source": [
    "- 迭代二分法\n",
    "    - 前提：\n",
    "        - a root is bracketed in the interval \\\\((a, b)\\\\) : \\\\(f(a)\\\\) and \\\\(f(b)\\\\) have opposite signs; function is continuous\n",
    "        - 因为这段区间的端点对应的值正负号不一致，连续函数必然其中有一个根节点\n",
    "    - 看区间的中点 \\\\(c\\\\) 值是否为0或者下一次迭代的区间长度低于设定的精度 \\\\(tol\\\\)\n",
    "        - 如果是，则为所求方程的根\n",
    "        - 如果跟左端点的值正负号相同，则所求根的区域不在 \\\\((a, c)\\\\) 中，迭代函数对 \\\\((c, b)\\\\) 区域求解\n",
    "        - 反则迭代函数对 \\\\((c, b)\\\\) 区域求解\n",
    "    - 因为每次迭代后区间长度减半 \\\\(\\epsilon_{n+1} = \\epsilon_n / 2 \\\\) , i.e. linear convergence\n",
    "        - 给定精度\\\\(\\epsilon\\\\)后，总迭代次数为\n",
    "        $$ n = \\log_2 \\frac{\\epsilon_0}{\\epsilon} $$\n",
    "        where  $$ \\epsilon_0 = b - a $$"
   ]
  },
  {
   "cell_type": "code",
   "execution_count": 31,
   "metadata": {
    "collapsed": false
   },
   "outputs": [],
   "source": [
    "def bisect(f, a, b, tol = 1e-15):\n",
    "    if f(a) * f(b) > 0:\n",
    "    # if np.sign(a) == np.sign(b): \n",
    "        raise Exception(\"f(a) and f(b) must have different signs \") \n",
    "    if a >= b:\n",
    "        raise Exception(\"a must be smaller than b \") \n",
    "    if f(a) == 0:\n",
    "        return a\n",
    "    if f(b) == 0:\n",
    "        return b\n",
    "    c = (a + b)/2\n",
    "    if (f(c) == 0) | ((b - a)/2 < tol):\n",
    "        return c\n",
    "    if f(a) * f(c) > 0:\n",
    "        return(bisect(f, c, b))\n",
    "    else:\n",
    "        return(bisect(f, a, c))\n",
    "        "
   ]
  },
  {
   "cell_type": "code",
   "execution_count": 36,
   "metadata": {
    "collapsed": false
   },
   "outputs": [
    {
     "data": {
      "text/plain": [
       "2.0"
      ]
     },
     "execution_count": 36,
     "metadata": {},
     "output_type": "execute_result"
    }
   ],
   "source": [
    "bisect(f, 0, 10)"
   ]
  },
  {
   "cell_type": "markdown",
   "metadata": {},
   "source": [
    "约迭代50次至收敛"
   ]
  },
  {
   "cell_type": "code",
   "execution_count": 40,
   "metadata": {
    "collapsed": false
   },
   "outputs": [
    {
     "data": {
      "text/plain": [
       "53.150849518197795"
      ]
     },
     "execution_count": 40,
     "metadata": {},
     "output_type": "execute_result"
    }
   ],
   "source": [
    "np.log2(1e16)"
   ]
  },
  {
   "cell_type": "code",
   "execution_count": 37,
   "metadata": {
    "collapsed": false
   },
   "outputs": [
    {
     "data": {
      "text/plain": [
       "-5.0"
      ]
     },
     "execution_count": 37,
     "metadata": {},
     "output_type": "execute_result"
    }
   ],
   "source": [
    "bisect(f, -10, 0)"
   ]
  },
  {
   "cell_type": "code",
   "execution_count": 35,
   "metadata": {
    "collapsed": false
   },
   "outputs": [
    {
     "name": "stdout",
     "output_type": "stream",
     "text": [
      "1000 loops, best of 3: 232 µs per loop\n"
     ]
    }
   ],
   "source": [
    "%timeit bisect(f, 0, 10)"
   ]
  },
  {
   "cell_type": "code",
   "execution_count": 34,
   "metadata": {
    "collapsed": false
   },
   "outputs": [
    {
     "name": "stdout",
     "output_type": "stream",
     "text": [
      "100000 loops, best of 3: 3.64 µs per loop\n"
     ]
    }
   ],
   "source": [
    "%timeit bisect(f, -10, 0)"
   ]
  },
  {
   "cell_type": "markdown",
   "metadata": {},
   "source": [
    "- 参考[scipy source code](https://github.com/scipy/scipy/blob/v0.17.0/scipy/optimize/Zeros/bisect.c) \n",
    "    - 增加了 \\\\(rtol\\\\) 参数，考虑到 relative precision of doubles\n",
    "    - 增加了 \\\\(maxiter \\\\) 参数"
   ]
  },
  {
   "cell_type": "code",
   "execution_count": 64,
   "metadata": {
    "collapsed": false
   },
   "outputs": [
    {
     "name": "stdout",
     "output_type": "stream",
     "text": [
      "1000 loops, best of 3: 233 µs per loop\n"
     ]
    }
   ],
   "source": [
    "%timeit bisect(f, -4, 10, tol = 1e-12)"
   ]
  },
  {
   "cell_type": "code",
   "execution_count": 3,
   "metadata": {
    "collapsed": false
   },
   "outputs": [],
   "source": [
    "def bisect2(f, xa, xb, xtol=1e-12, rtol=4.4408920985006262e-16, maxiter=100):\n",
    "    tol = xtol + rtol*(np.abs(xa) + np.abs(xb))\n",
    "    if f(xa) * f(xb) > 0:\n",
    "    # if np.sign(a) == np.sign(b): \n",
    "        raise Exception(\"f(xa) and f(xb) must have different signs \") \n",
    "    if xa >= xb:\n",
    "        raise Exception(\"xa must be smaller than xb \") \n",
    "    if f(xa) == 0:\n",
    "        return xa\n",
    "    if f(xb) == 0:\n",
    "        return xb\n",
    "    dm = xb - xa\n",
    "    fa = f(xa)\n",
    "    fb = f(xb)\n",
    "    for i in range(0, maxiter): \n",
    "        dm *= .5\n",
    "        xm = xa + dm\n",
    "        fm = f(xm)\n",
    "        if (fm*fa >= 0): \n",
    "            xa = xm\n",
    "        if (fm == 0 )| (np.abs(dm) < tol) :\n",
    "            return xm\n",
    "\n",
    "    return xa\n"
   ]
  },
  {
   "cell_type": "code",
   "execution_count": 4,
   "metadata": {
    "collapsed": false
   },
   "outputs": [
    {
     "data": {
      "text/plain": [
       "1.9999999999994316"
      ]
     },
     "execution_count": 4,
     "metadata": {},
     "output_type": "execute_result"
    }
   ],
   "source": [
    "bisect2(f, -4, 10)"
   ]
  },
  {
   "cell_type": "code",
   "execution_count": 65,
   "metadata": {
    "collapsed": false
   },
   "outputs": [
    {
     "name": "stdout",
     "output_type": "stream",
     "text": [
      "1000 loops, best of 3: 219 µs per loop\n"
     ]
    }
   ],
   "source": [
    "%timeit bisect2(f, -4, 10)"
   ]
  },
  {
   "cell_type": "markdown",
   "metadata": {},
   "source": [
    "得到的数值精度和运算速度差不多"
   ]
  },
  {
   "cell_type": "markdown",
   "metadata": {},
   "source": [
    "## 理解梯度下降法(Gradient descent)，并使用基本的numpy库而非scipy库，来实现算法 \n",
    "- 基础概念参考[scipy lectures](http://www.scipy-lectures.org/advanced/mathematical_optimization/)\n",
    "    - 搜索方向：目前所在位置的梯度下降 \\\\(\\Delta x\\\\)\n",
    "    - 搜索步长：固定步长或使用线性搜索得到最佳步长\n",
    "- 算法参考[Gradient descent wiki](https://en.wikipedia.org/wiki/Gradient_descent)\n",
    "    - 最速梯度下降是保证局部收敛的\n",
    "- 使用上述算法来得到函数f(x)的最小值  "
   ]
  },
  {
   "cell_type": "markdown",
   "metadata": {},
   "source": [
    "- 固定步长的steepest梯度下降法\n",
    "    - 迭代收敛很慢\n",
    "    - 性能与假设的初始位置和error精度相关"
   ]
  },
  {
   "cell_type": "code",
   "execution_count": 15,
   "metadata": {
    "collapsed": false,
    "scrolled": true
   },
   "outputs": [
    {
     "name": "stdout",
     "output_type": "stream",
     "text": [
      "Local minimum occurs at -1.5 after  1538 times of repetition\n"
     ]
    },
    {
     "data": {
      "text/plain": [
       "<matplotlib.collections.PathCollection at 0x17bf4208>"
      ]
     },
     "execution_count": 15,
     "metadata": {},
     "output_type": "execute_result"
    },
    {
     "data": {
      "image/png": "[encoded data removed]",
      "text/plain": [
       "<matplotlib.figure.Figure at 0x16ffc8d0>"
      ]
     },
     "metadata": {},
     "output_type": "display_data"
    }
   ],
   "source": [
    "f = lambda x: x**2 + 3 * x - 10\n",
    "# From plot view, we expect that the local minimum occurs at [-2, 0]\n",
    "\n",
    "x_old = 0\n",
    "gamma = 0.01 # step size\n",
    "iteration = 0\n",
    "maxIter = 10000\n",
    "error = 10\n",
    "precision = 1e-15\n",
    "X = [x_old]\n",
    "Y = [f(x_old)]\n",
    "\n",
    "def f_derivative(x):\n",
    "    return 2 * x +3\n",
    "\n",
    "while abs(error) > precision and iteration < maxIter:\n",
    "    iteration += 1\n",
    "    x_new = x_old - gamma * f_derivative(x_old)\n",
    "    error = x_new - x_old\n",
    "    x_old = x_new\n",
    "    X.append(x_new)\n",
    "    Y.append(f(x_new))\n",
    "    \n",
    "print\"Local minimum occurs at\", x_new, \"after \", iteration, \"times of repetition\"\n",
    "x = np.linspace(-8, 5, 1000)\n",
    "y = f(x)\n",
    "plt.plot(x, y);\n",
    "plt.axhline(0, color='k')\n",
    "plt.scatter(X, Y)"
   ]
  },
  {
   "cell_type": "markdown",
   "metadata": {},
   "source": [
    "- use exact line search to choose step size at each step\n",
    "$$ \\alpha =  \\underset{\\gamma>0}{\\operatorname{argmin}} f(x+ \\gamma \\Delta x) $$\n",
    "    - 使用numpy的[argmin](http://docs.scipy.org/doc/numpy-1.10.1/reference/generated/numpy.argmin.html)函数"
   ]
  },
  {
   "cell_type": "code",
   "execution_count": 16,
   "metadata": {
    "collapsed": false
   },
   "outputs": [
    {
     "name": "stdout",
     "output_type": "stream",
     "text": [
      "Local minimum occurs at -1.5 after  2 times of repetition\n"
     ]
    },
    {
     "data": {
      "text/plain": [
       "<matplotlib.collections.PathCollection at 0x17971320>"
      ]
     },
     "execution_count": 16,
     "metadata": {},
     "output_type": "execute_result"
    },
    {
     "data": {
      "image/png": "[encoded data removed]",
      "text/plain": [
       "<matplotlib.figure.Figure at 0x179719b0>"
      ]
     },
     "metadata": {},
     "output_type": "display_data"
    }
   ],
   "source": [
    "f = lambda x: x**2 + 3 * x - 10\n",
    "# From plot view, we expect that the local minimum occurs at [-2, 0]\n",
    "\n",
    "x_old = 0\n",
    "iteration = 0\n",
    "maxIter = 10000\n",
    "error = 10\n",
    "precision = 1e-15\n",
    "X = [x_old]\n",
    "Y = [f(x_old)]\n",
    "\n",
    "def f_derivative(x):\n",
    "    return 2 * x +3\n",
    "\n",
    "while abs(error) > precision and iteration < maxIter:\n",
    "    iteration += 1    \n",
    "    gamma = np.arange(0,2,0.01)[1:]\n",
    "    alpha =gamma[np.argmin(f(x_old - gamma*f_derivative(x_old)))]\n",
    "    x_new = x_old - alpha * f_derivative(x_old)\n",
    "    error = x_new - x_old\n",
    "    x_old = x_new\n",
    "    X.append(x_new)\n",
    "    Y.append(f(x_new))\n",
    "\n",
    "print \"Local minimum occurs at\", x_new, \"after \", iteration, \"times of repetition\"\n",
    "x = np.linspace(-8, 5, 1000)\n",
    "y = f(x)\n",
    "plt.plot(x, y);\n",
    "plt.axhline(0, color='k')\n",
    "plt.scatter(X, Y)"
   ]
  },
  {
   "cell_type": "markdown",
   "metadata": {},
   "source": [
    "- 使用backtracking line search"
   ]
  },
  {
   "cell_type": "code",
   "execution_count": 18,
   "metadata": {
    "collapsed": false
   },
   "outputs": [
    {
     "name": "stdout",
     "output_type": "stream",
     "text": [
      "Local minimum occurs at -1.5 after  2 times of repetition\n"
     ]
    },
    {
     "data": {
      "text/plain": [
       "<matplotlib.collections.PathCollection at 0x18cc31d0>"
      ]
     },
     "execution_count": 18,
     "metadata": {},
     "output_type": "execute_result"
    },
    {
     "data": {
      "image/png": "[encoded data removed]",
      "text/plain": [
       "<matplotlib.figure.Figure at 0x18973588>"
      ]
     },
     "metadata": {},
     "output_type": "display_data"
    }
   ],
   "source": [
    "f = lambda x: x**2 + 3 * x - 10\n",
    "# From plot view, we expect that the local minimum occurs at [-2, 0]\n",
    "\n",
    "x_old = 0\n",
    "alpha = 0.25\n",
    "beta = 0.8\n",
    "iteration = 0\n",
    "maxIter = 10000\n",
    "error = 10\n",
    "precision = 1e-15\n",
    "X = [x_old]\n",
    "Y = [f(x_old)]\n",
    "\n",
    "def f_derivative(x):\n",
    "    return 2 * x +3\n",
    "\n",
    "while abs(error) > precision and iteration < maxIter:\n",
    "    iteration += 1 \n",
    "    gradient = f_derivative(x_old)\n",
    "    t = 1.0\n",
    "    while f(x_old - t * gradient) > f(x_old) - alpha * t * gradient**2:\n",
    "        t *= beta\n",
    "    x = x - t * gradient\n",
    "    error = x_new - x_old\n",
    "    x_old = x_new\n",
    "    X.append(x_new)\n",
    "    Y.append(f(x_new))\n",
    "\n",
    "print \"Local minimum occurs at\", x_new, \"after \", iteration, \"times of repetition\"\n",
    "x = np.linspace(-8, 5, 1000)\n",
    "y = f(x)\n",
    "plt.plot(x, y);\n",
    "plt.axhline(0, color='k')\n",
    "plt.scatter(X, Y)"
   ]
  },
  {
   "cell_type": "markdown",
   "metadata": {},
   "source": [
    "- 尝试使用Wolfe line search\n",
    "   - 参考scipy scalar_search_wolfe2的source code，暂未成功实现"
   ]
  },
  {
   "cell_type": "code",
   "execution_count": 13,
   "metadata": {
    "collapsed": false
   },
   "outputs": [
    {
     "data": {
      "text/plain": [
       "(None, None, -10.0, None)"
      ]
     },
     "execution_count": 13,
     "metadata": {},
     "output_type": "execute_result"
    }
   ],
   "source": [
    "f = lambda x: x**2 + 3 * x - 10\n",
    "def f_derivative(x):\n",
    "    return 2 * x +3\n",
    "scalar_search_wolfe2(f, f_derivative)"
   ]
  },
  {
   "cell_type": "code",
   "execution_count": 4,
   "metadata": {
    "collapsed": true
   },
   "outputs": [],
   "source": [
    "def scalar_search_wolfe2(phi, derphi=None, phi0=None,\n",
    "                         old_phi0=None, derphi0=None,\n",
    "                         c1=1e-4, c2=0.9, amax=50):\n",
    "    \"\"\"Find alpha that satisfies strong Wolfe conditions.\n",
    "    alpha > 0 is assumed to be a descent direction.\n",
    "    Parameters\n",
    "    ----------\n",
    "    phi : callable f(x)\n",
    "        Objective scalar function.\n",
    "    derphi : callable f'(x), optional\n",
    "        Objective function derivative (can be None)\n",
    "    phi0 : float, optional\n",
    "        Value of phi at s=0\n",
    "    old_phi0 : float, optional\n",
    "        Value of phi at previous point\n",
    "    derphi0 : float, optional\n",
    "        Value of derphi at s=0\n",
    "    c1 : float, optional\n",
    "        Parameter for Armijo condition rule.\n",
    "    c2 : float, optional\n",
    "        Parameter for curvature condition rule.\n",
    "    amax : float, optional\n",
    "        Maximum step size\n",
    "    Returns\n",
    "    -------\n",
    "    alpha_star : float or None\n",
    "        Best alpha, or None if the line search algorithm did not converge.\n",
    "    phi_star : float\n",
    "        phi at alpha_star\n",
    "    phi0 : float\n",
    "        phi at 0\n",
    "    derphi_star : float or None\n",
    "        derphi at alpha_star, or None if the line search algorithm\n",
    "        did not converge.\n",
    "    Notes\n",
    "    -----\n",
    "    Uses the line search algorithm to enforce strong Wolfe\n",
    "    conditions.  See Wright and Nocedal, 'Numerical Optimization',\n",
    "    1999, pg. 59-60.\n",
    "    For the zoom phase it uses an algorithm by [...].\n",
    "    \"\"\"\n",
    "\n",
    "    if phi0 is None:\n",
    "        phi0 = phi(0.)\n",
    "\n",
    "    if derphi0 is None and derphi is not None:\n",
    "        derphi0 = derphi(0.)\n",
    "\n",
    "    alpha0 = 0\n",
    "    if old_phi0 is not None and derphi0 != 0:\n",
    "        alpha1 = min(1.0, 1.01*2*(phi0 - old_phi0)/derphi0)\n",
    "    else:\n",
    "        alpha1 = 1.0\n",
    "\n",
    "    if alpha1 < 0:\n",
    "        alpha1 = 1.0\n",
    "\n",
    "    if alpha1 == 0:\n",
    "        # This shouldn't happen. Perhaps the increment has slipped below\n",
    "        # machine precision?  For now, set the return variables skip the\n",
    "        # useless while loop, and raise warnflag=2 due to possible imprecision.\n",
    "        alpha_star = None\n",
    "        phi_star = phi0\n",
    "        phi0 = old_phi0\n",
    "        derphi_star = None\n",
    "\n",
    "    phi_a1 = phi(alpha1)\n",
    "    #derphi_a1 = derphi(alpha1)  evaluated below\n",
    "\n",
    "    phi_a0 = phi0\n",
    "    derphi_a0 = derphi0\n",
    "\n",
    "    i = 1\n",
    "    maxiter = 10\n",
    "    for i in range(maxiter):\n",
    "        if alpha1 == 0:\n",
    "            break\n",
    "        if (phi_a1 > phi0 + c1 * alpha1 * derphi0) or \\\n",
    "           ((phi_a1 >= phi_a0) and (i > 1)):\n",
    "            alpha_star, phi_star, derphi_star = \\\n",
    "                        _zoom(alpha0, alpha1, phi_a0,\n",
    "                              phi_a1, derphi_a0, phi, derphi,\n",
    "                              phi0, derphi0, c1, c2)\n",
    "            break\n",
    "\n",
    "        derphi_a1 = derphi(alpha1)\n",
    "        if (abs(derphi_a1) <= -c2*derphi0):\n",
    "            alpha_star = alpha1\n",
    "            phi_star = phi_a1\n",
    "            derphi_star = derphi_a1\n",
    "            break\n",
    "\n",
    "        if (derphi_a1 >= 0):\n",
    "            alpha_star, phi_star, derphi_star = \\\n",
    "                        _zoom(alpha1, alpha0, phi_a1,\n",
    "                              phi_a0, derphi_a1, phi, derphi,\n",
    "                              phi0, derphi0, c1, c2)\n",
    "            break\n",
    "\n",
    "        alpha2 = 2 * alpha1   # increase by factor of two on each iteration\n",
    "        i = i + 1\n",
    "        alpha0 = alpha1\n",
    "        alpha1 = alpha2\n",
    "        phi_a0 = phi_a1\n",
    "        phi_a1 = phi(alpha1)\n",
    "        derphi_a0 = derphi_a1\n",
    "\n",
    "    else:\n",
    "        # stopping test maxiter reached\n",
    "        alpha_star = alpha1\n",
    "        phi_star = phi_a1\n",
    "        derphi_star = None\n",
    "        warn('The line search algorithm did not converge', LineSearchWarning)\n",
    "\n",
    "    return alpha_star, phi_star, phi0, derphi_star"
   ]
  },
  {
   "cell_type": "code",
   "execution_count": 6,
   "metadata": {
    "collapsed": true
   },
   "outputs": [],
   "source": [
    "def _zoom(a_lo, a_hi, phi_lo, phi_hi, derphi_lo,\n",
    "          phi, derphi, phi0, derphi0, c1, c2):\n",
    "    \"\"\"\n",
    "    Part of the optimization algorithm in `scalar_search_wolfe2`.\n",
    "    \"\"\"\n",
    "\n",
    "    maxiter = 10\n",
    "    i = 0\n",
    "    delta1 = 0.2  # cubic interpolant check\n",
    "    delta2 = 0.1  # quadratic interpolant check\n",
    "    phi_rec = phi0\n",
    "    a_rec = 0\n",
    "    while True:\n",
    "        # interpolate to find a trial step length between a_lo and\n",
    "        # a_hi Need to choose interpolation here.  Use cubic\n",
    "        # interpolation and then if the result is within delta *\n",
    "        # dalpha or outside of the interval bounded by a_lo or a_hi\n",
    "        # then use quadratic interpolation, if the result is still too\n",
    "        # close, then use bisection\n",
    "\n",
    "        dalpha = a_hi - a_lo\n",
    "        if dalpha < 0:\n",
    "            a, b = a_hi, a_lo\n",
    "        else:\n",
    "            a, b = a_lo, a_hi\n",
    "\n",
    "        # minimizer of cubic interpolant\n",
    "        # (uses phi_lo, derphi_lo, phi_hi, and the most recent value of phi)\n",
    "        #\n",
    "        # if the result is too close to the end points (or out of the\n",
    "        # interval) then use quadratic interpolation with phi_lo,\n",
    "        # derphi_lo and phi_hi if the result is stil too close to the\n",
    "        # end points (or out of the interval) then use bisection\n",
    "\n",
    "        if (i > 0):\n",
    "            cchk = delta1 * dalpha\n",
    "            a_j = _cubicmin(a_lo, phi_lo, derphi_lo, a_hi, phi_hi,\n",
    "                            a_rec, phi_rec)\n",
    "        if (i == 0) or (a_j is None) or (a_j > b - cchk) or (a_j < a + cchk):\n",
    "            qchk = delta2 * dalpha\n",
    "            a_j = _quadmin(a_lo, phi_lo, derphi_lo, a_hi, phi_hi)\n",
    "            if (a_j is None) or (a_j > b-qchk) or (a_j < a+qchk):\n",
    "                a_j = a_lo + 0.5*dalpha\n",
    "\n",
    "        # Check new value of a_j\n",
    "\n",
    "        phi_aj = phi(a_j)\n",
    "        if (phi_aj > phi0 + c1*a_j*derphi0) or (phi_aj >= phi_lo):\n",
    "            phi_rec = phi_hi\n",
    "            a_rec = a_hi\n",
    "            a_hi = a_j\n",
    "            phi_hi = phi_aj\n",
    "        else:\n",
    "            derphi_aj = derphi(a_j)\n",
    "            if abs(derphi_aj) <= -c2*derphi0:\n",
    "                a_star = a_j\n",
    "                val_star = phi_aj\n",
    "                valprime_star = derphi_aj\n",
    "                break\n",
    "            if derphi_aj*(a_hi - a_lo) >= 0:\n",
    "                phi_rec = phi_hi\n",
    "                a_rec = a_hi\n",
    "                a_hi = a_lo\n",
    "                phi_hi = phi_lo\n",
    "            else:\n",
    "                phi_rec = phi_lo\n",
    "                a_rec = a_lo\n",
    "            a_lo = a_j\n",
    "            phi_lo = phi_aj\n",
    "            derphi_lo = derphi_aj\n",
    "        i += 1\n",
    "        if (i > maxiter):\n",
    "            # Failed to find a conforming step size\n",
    "            a_star = None\n",
    "            val_star = None\n",
    "            valprime_star = None\n",
    "            break\n",
    "    return a_star, val_star, valprime_star"
   ]
  },
  {
   "cell_type": "code",
   "execution_count": 8,
   "metadata": {
    "collapsed": true
   },
   "outputs": [],
   "source": [
    "def _quadmin(a, fa, fpa, b, fb):\n",
    "    \"\"\"\n",
    "    Finds the minimizer for a quadratic polynomial that goes through\n",
    "    the points (a,fa), (b,fb) with derivative at a of fpa,\n",
    "    \"\"\"\n",
    "    # f(x) = B*(x-a)^2 + C*(x-a) + D\n",
    "    with np.errstate(divide='raise', over='raise', invalid='raise'):\n",
    "        try:\n",
    "            D = fa\n",
    "            C = fpa\n",
    "            db = b - a * 1.0\n",
    "            B = (fb - D - C * db) / (db * db)\n",
    "            xmin = a - C / (2.0 * B)\n",
    "        except ArithmeticError:\n",
    "            return None\n",
    "    if not np.isfinite(xmin):\n",
    "        return None\n",
    "    return xmin"
   ]
  },
  {
   "cell_type": "code",
   "execution_count": 12,
   "metadata": {
    "collapsed": true
   },
   "outputs": [],
   "source": [
    "def _cubicmin(a, fa, fpa, b, fb, c, fc):\n",
    "    \"\"\"\n",
    "    Finds the minimizer for a cubic polynomial that goes through the\n",
    "    points (a,fa), (b,fb), and (c,fc) with derivative at a of fpa.\n",
    "    If no minimizer can be found return None\n",
    "    \"\"\"\n",
    "    # f(x) = A *(x-a)^3 + B*(x-a)^2 + C*(x-a) + D\n",
    "\n",
    "    with np.errstate(divide='raise', over='raise', invalid='raise'):\n",
    "        try:\n",
    "            C = fpa\n",
    "            db = b - a\n",
    "            dc = c - a\n",
    "            denom = (db * dc) ** 2 * (db - dc)\n",
    "            d1 = np.empty((2, 2))\n",
    "            d1[0, 0] = dc ** 2\n",
    "            d1[0, 1] = -db ** 2\n",
    "            d1[1, 0] = -dc ** 3\n",
    "            d1[1, 1] = db ** 3\n",
    "            [A, B] = np.dot(d1, np.asarray([fb - fa - C * db,\n",
    "                                            fc - fa - C * dc]).flatten())\n",
    "            A /= denom\n",
    "            B /= denom\n",
    "            radical = B * B - 3 * A * C\n",
    "            xmin = a + (-B + np.sqrt(radical)) / (3 * A)\n",
    "        except ArithmeticError:\n",
    "            return None\n",
    "    if not np.isfinite(xmin):\n",
    "        return None\n",
    "    return xmin"
   ]
  },
  {
   "cell_type": "markdown",
   "metadata": {},
   "source": [
    "- np.gradient求的是离散解，不适用于梯度下降法计算搜索点的梯度，可直接用于求近似解\n",
    "    - [np.gradient numpy doc](https://docs.scipy.org/doc/numpy-dev/reference/generated/numpy.gradient.html#numpy.gradient)\n",
    "    - [np.gradient explaination](http://stackoverflow.com/questions/17901363/gradient-calculation-with-python)"
   ]
  },
  {
   "cell_type": "code",
   "execution_count": 20,
   "metadata": {
    "collapsed": true
   },
   "outputs": [],
   "source": [
    "x = np.mgrid[-5:5:.005]\n",
    "\n",
    "y = x**2 + 3 * x - 10 \n",
    "\n",
    "Ex = np.gradient(y)"
   ]
  },
  {
   "cell_type": "code",
   "execution_count": 22,
   "metadata": {
    "collapsed": false
   },
   "outputs": [
    {
     "data": {
      "text/plain": [
       "8.8817841970012523e-16"
      ]
     },
     "execution_count": 22,
     "metadata": {},
     "output_type": "execute_result"
    }
   ],
   "source": [
    "min(abs(Ex))"
   ]
  },
  {
   "cell_type": "code",
   "execution_count": 26,
   "metadata": {
    "collapsed": false
   },
   "outputs": [
    {
     "data": {
      "text/plain": [
       "array([ -8.88178420e-16])"
      ]
     },
     "execution_count": 26,
     "metadata": {},
     "output_type": "execute_result"
    }
   ],
   "source": [
    "Ex[np.where(abs(Ex) == min(abs(Ex)))]"
   ]
  },
  {
   "cell_type": "code",
   "execution_count": 28,
   "metadata": {
    "collapsed": false
   },
   "outputs": [],
   "source": [
    "matches = [i for i in range(0,len(Ex)) if abs(Ex[i]) == min(abs(Ex))]"
   ]
  },
  {
   "cell_type": "code",
   "execution_count": 32,
   "metadata": {
    "collapsed": false
   },
   "outputs": [
    {
     "data": {
      "text/plain": [
       "-1.5"
      ]
     },
     "execution_count": 32,
     "metadata": {},
     "output_type": "execute_result"
    }
   ],
   "source": [
    "-5. + matches[0] * .005"
   ]
  }
 ],
 "metadata": {
  "kernelspec": {
   "display_name": "Python 2",
   "language": "python",
   "name": "python2"
  },
  "language_info": {
   "codemirror_mode": {
    "name": "ipython",
    "version": 2
   },
   "file_extension": ".py",
   "mimetype": "text/x-python",
   "name": "python",
   "nbconvert_exporter": "python",
   "pygments_lexer": "ipython2",
   "version": "2.7.11"
  }
 },
 "nbformat": 4,
 "nbformat_minor": 0
}
