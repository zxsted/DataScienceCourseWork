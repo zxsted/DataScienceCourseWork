{
 "cells": [
  {
   "cell_type": "markdown",
   "metadata": {},
   "source": [
    "**by @wp-lai, updated by @bambooom**"
   ]
  },
  {
   "cell_type": "code",
   "execution_count": 1,
   "metadata": {
    "collapsed": true
   },
   "outputs": [],
   "source": [
    "import numpy as np"
   ]
  },
  {
   "cell_type": "markdown",
   "metadata": {},
   "source": [
    "# 1. 计算素数\n",
    "使用循环和向量化两种不同的方法来计算100以内质数之和"
   ]
  },
  {
   "cell_type": "markdown",
   "metadata": {},
   "source": [
    "**算法思路**: 10以内的质数有2、3、5、7四个，要找出100以内的其他质数，只需在10到100里筛掉能被2、3、5、7其中一个整除的，留下的就是剩下要找的质数。如果想求质数之和，可以将非质数赋值为0，再对数值求和。"
   ]
  },
  {
   "cell_type": "markdown",
   "metadata": {},
   "source": [
    "参考:\n",
    "+ [埃拉托斯特尼筛法](https://en.wikipedia.org/wiki/Sieve_of_Eratosthenes)\n",
    "+ [Fastest way to list all primes below N - StackOverflow](http://stackoverflow.com/questions/2068372/fastest-way-to-list-all-primes-below-n)"
   ]
  },
  {
   "cell_type": "markdown",
   "metadata": {},
   "source": [
    "## 循环方法"
   ]
  },
  {
   "cell_type": "code",
   "execution_count": 2,
   "metadata": {
    "collapsed": false
   },
   "outputs": [],
   "source": [
    "numbers = range(10, 101)\n",
    "\n",
    "# 将能被2,3,5,7之一整除的赋值为0\n",
    "for i in range(len(numbers)):\n",
    "    for prime in [2, 3, 5, 7]:\n",
    "        if numbers[i] % prime == 0:\n",
    "            numbers[i] = 0\n",
    "# 计算总和\n",
    "sum_of_prime_in_100 = sum([2, 3, 5, 7] + numbers)"
   ]
  },
  {
   "cell_type": "code",
   "execution_count": 3,
   "metadata": {
    "collapsed": false
   },
   "outputs": [
    {
     "name": "stdout",
     "output_type": "stream",
     "text": [
      "100以内质数之和为 1060\n"
     ]
    }
   ],
   "source": [
    "print \"100以内质数之和为\", sum_of_prime_in_100"
   ]
  },
  {
   "cell_type": "markdown",
   "metadata": {},
   "source": [
    "## 向量化"
   ]
  },
  {
   "cell_type": "code",
   "execution_count": 4,
   "metadata": {
    "collapsed": false
   },
   "outputs": [],
   "source": [
    "numbers = np.arange(10,100)\n",
    "prime_in_10 = np.array([2, 3, 5, 7])\n",
    "\n",
    "# 将能被2,3,5,7之一整除的赋值为0\n",
    "mask = np.any(numbers[:, np.newaxis] % prime_in_10 == 0, axis=1)\n",
    "numbers[mask] = 0\n",
    "\n",
    "# 计算总和\n",
    "sum_of_prime_in_100 = np.sum(np.hstack((prime_in_10, numbers)))"
   ]
  },
  {
   "cell_type": "code",
   "execution_count": 5,
   "metadata": {
    "collapsed": false
   },
   "outputs": [
    {
     "name": "stdout",
     "output_type": "stream",
     "text": [
      "100以内质数之和为 1060\n"
     ]
    }
   ],
   "source": [
    "print \"100以内质数之和为\", sum_of_prime_in_100"
   ]
  },
  {
   "cell_type": "markdown",
   "metadata": {},
   "source": [
    "## 效率比较"
   ]
  },
  {
   "cell_type": "code",
   "execution_count": 6,
   "metadata": {
    "collapsed": false
   },
   "outputs": [
    {
     "name": "stdout",
     "output_type": "stream",
     "text": [
      "10000 loops, best of 3: 85.1 µs per loop\n"
     ]
    }
   ],
   "source": [
    "%%timeit\n",
    "numbers = range(10, 101)\n",
    "\n",
    "# 将能被2,3,5,7之一整除的赋值为0\n",
    "for i in range(len(numbers)):\n",
    "    for prime in [2, 3, 5, 7]:\n",
    "        if numbers[i] % prime == 0:\n",
    "            numbers[i] = 0\n",
    "# 计算总和\n",
    "sum_of_prime_in_100 = sum([2, 3, 5, 7] + numbers)"
   ]
  },
  {
   "cell_type": "code",
   "execution_count": 7,
   "metadata": {
    "collapsed": false
   },
   "outputs": [
    {
     "name": "stdout",
     "output_type": "stream",
     "text": [
      "10000 loops, best of 3: 66 µs per loop\n"
     ]
    }
   ],
   "source": [
    "%%timeit\n",
    "numbers = np.arange(10,100)\n",
    "prime_in_10 = np.array([2, 3, 5, 7])\n",
    "\n",
    "# 将能被2,3,5,7之一整除的赋值为0\n",
    "mask = np.any(numbers[:, np.newaxis] % prime_in_10 == 0, axis=1)\n",
    "numbers[mask] = 0\n",
    "\n",
    "# 计算总和\n",
    "sum_of_prime_in_100 = np.sum(np.hstack((prime_in_10, numbers)))"
   ]
  },
  {
   "cell_type": "markdown",
   "metadata": {},
   "source": [
    "从上面的比较结果可知，同样的算法思想，向量化的方法比循环的方法更快。"
   ]
  },
  {
   "cell_type": "markdown",
   "metadata": {},
   "source": [
    "# 2. 随机漫步\n",
    "模拟一个醉汉在二维空间上的随机漫步。"
   ]
  },
  {
   "cell_type": "markdown",
   "metadata": {},
   "source": [
    "首先可以建立一个坐标系，以醉汉最初的位置为原点 (0, 0)， 以醉汉从后向前的方向为X轴，从左往右的方向为Y轴。"
   ]
  },
  {
   "cell_type": "markdown",
   "metadata": {},
   "source": [
    "设置想要模拟的步数，可设为50"
   ]
  },
  {
   "cell_type": "code",
   "execution_count": 8,
   "metadata": {
    "collapsed": true
   },
   "outputs": [],
   "source": [
    "NSTEPS = 50"
   ]
  },
  {
   "cell_type": "markdown",
   "metadata": {},
   "source": [
    "为了结果可重复，设置seed"
   ]
  },
  {
   "cell_type": "code",
   "execution_count": 9,
   "metadata": {
    "collapsed": true
   },
   "outputs": [],
   "source": [
    "np.random.seed(0)"
   ]
  },
  {
   "cell_type": "markdown",
   "metadata": {},
   "source": [
    "假设醉汉漫步的方向 $ \\theta $ 服从0到 $ 2\\pi $ 的均匀分布，即 $ \\theta \\sim U[0, 2\\pi]$"
   ]
  },
  {
   "cell_type": "code",
   "execution_count": 10,
   "metadata": {
    "collapsed": false
   },
   "outputs": [],
   "source": [
    "theta = np.random.uniform(0, 2 * np.pi, size=NSTEPS)"
   ]
  },
  {
   "cell_type": "markdown",
   "metadata": {},
   "source": [
    "假设醉汉漫步的步长r服从0到1的均匀分布，即$ r \\sim U[0, 1] $"
   ]
  },
  {
   "cell_type": "code",
   "execution_count": 11,
   "metadata": {
    "collapsed": true
   },
   "outputs": [],
   "source": [
    "r = np.random.uniform(0, 1, size=NSTEPS)"
   ]
  },
  {
   "cell_type": "markdown",
   "metadata": {},
   "source": [
    "再计算出每步在X轴和Y轴上的位移, 即[极坐标](https://en.wikipedia.org/wiki/Polar_coordinate_system)\n",
    "$$ x = r\\cos(\\theta) $$\n",
    "$$ y = r\\sin(\\theta) $$"
   ]
  },
  {
   "cell_type": "code",
   "execution_count": 12,
   "metadata": {
    "collapsed": false
   },
   "outputs": [],
   "source": [
    "x = np.cos(theta) * r\n",
    "y = np.sin(theta) * r\n",
    "delta = np.array([x, y]).T # 合并为一个2维数组"
   ]
  },
  {
   "cell_type": "code",
   "execution_count": 13,
   "metadata": {
    "collapsed": false
   },
   "outputs": [
    {
     "name": "stdout",
     "output_type": "stream",
     "text": [
      "第1步的位移为 [-0.54358784 -0.17215288]\n",
      "第2步的位移为 [-0.0951686  -0.42815211]\n",
      "第3步的位移为 [-0.78940427 -0.59474679]\n",
      "第4步的位移为 [-0.09801386 -0.02839766]\n",
      "第5步的位移为 [-0.18530241  0.09639769]\n",
      "第6步的位移为 [-0.09815013 -0.12801294]\n",
      "第7步的位移为 [-0.60353028  0.24960306]\n",
      "第8步的位移为 [ 0.196951   -0.15927002]\n",
      "第9步的位移为 [ 0.45420976 -0.10554255]\n",
      "第10步的位移为 [-0.18175475  0.16342913]\n",
      "第11步的位移为 [ 0.04120067 -0.15353773]\n",
      "第12步的位移为 [-0.10856108 -0.01992894]\n",
      "第13步的位移为 [-0.59725331 -0.27213419]\n",
      "第14步的位移为 [ 0.12335622 -0.06227175]\n",
      "第15步的位移为 [ 0.1773244   0.08485683]\n",
      "第16步的位移为 [ 0.31483777  0.19192558]\n",
      "第17步的位移为 [ 0.81437749  0.10401535]\n",
      "第18步的位移为 [ 0.04817317 -0.08430898]\n",
      "第19步的位移为 [ 0.14747216 -0.82486583]\n",
      "第20步的位移为 [ 0.06578923 -0.0700477 ]\n",
      "第21步的位移为 [ 0.96766087 -0.13078811]\n",
      "第22步的位移为 [ 0.14246273 -0.4464732 ]\n",
      "第23步的位移为 [-0.94829132  0.23410638]\n",
      "第24步的位移为 [ 0.11531156 -0.59375192]\n",
      "第25步的位移为 [ 0.54435494  0.50018831]\n",
      "第26步的位移为 [-0.02499422 -0.03018231]\n",
      "第27步的位移为 [ 0.17563713  0.22165599]\n",
      "第28步的位移为 [ 0.11300569 -0.0409503 ]\n",
      "第29步的位移为 [-0.2933542  -0.04052569]\n",
      "第30步的位移为 [-0.10206533  0.06065426]\n",
      "第31步的位移为 [-0.02904082  0.31665428]\n",
      "第32步的位移为 [ 0.0628342  -0.40947001]\n",
      "第33步的位移为 [-0.06172818  0.01745088]\n",
      "第34步的位移为 [-0.62943829 -0.28866082]\n",
      "第35步的位移为 [ 0.56265736  0.06673757]\n",
      "第36步的位移为 [-0.19613819 -0.1787775 ]\n",
      "第37步的位移为 [-0.39874286 -0.33881065]\n",
      "第38步的位移为 [-0.06970572 -0.06297564]\n",
      "第39步的位移为 [ 0.54034561 -0.19935143]\n",
      "第40步的位移为 [-0.38603235 -0.84532269]\n",
      "第41步的位移为 [-0.20230357  0.24608828]\n",
      "第42步的位移为 [-0.61585302  0.25721912]\n",
      "第43步的位移为 [-0.04258882 -0.12472718]\n",
      "第44步的位移为 [ 0.66564995  0.26464091]\n",
      "第45步的位移为 [-0.14454546 -0.25072394]\n",
      "第46步的位移为 [-0.08760902 -0.16088423]\n",
      "第47步的位移为 [ 0.1444939   0.56843551]\n",
      "第48步的位移为 [ 0.01386313  0.01456458]\n",
      "第49步的位移为 [-0.33125811  0.75987475]\n",
      "第50步的位移为 [-0.00307654  0.00354717]\n"
     ]
    }
   ],
   "source": [
    "for i in range(NSTEPS):\n",
    "    print \"第{}步的位移为\".format(i+1),\n",
    "    print delta[i]"
   ]
  },
  {
   "cell_type": "markdown",
   "metadata": {},
   "source": [
    "最后计算每步后醉汉的位置"
   ]
  },
  {
   "cell_type": "code",
   "execution_count": 14,
   "metadata": {
    "collapsed": false
   },
   "outputs": [],
   "source": [
    "loc = delta.cumsum(axis=0)"
   ]
  },
  {
   "cell_type": "code",
   "execution_count": 15,
   "metadata": {
    "collapsed": false
   },
   "outputs": [
    {
     "name": "stdout",
     "output_type": "stream",
     "text": [
      "醉汉在第1步之后的位置为 [-0.54358784 -0.17215288]\n",
      "醉汉在第2步之后的位置为 [-0.63875644 -0.60030499]\n",
      "醉汉在第3步之后的位置为 [-1.42816071 -1.19505178]\n",
      "醉汉在第4步之后的位置为 [-1.52617456 -1.22344944]\n",
      "醉汉在第5步之后的位置为 [-1.71147698 -1.12705175]\n",
      "醉汉在第6步之后的位置为 [-1.80962711 -1.25506469]\n",
      "醉汉在第7步之后的位置为 [-2.41315739 -1.00546163]\n",
      "醉汉在第8步之后的位置为 [-2.21620639 -1.16473165]\n",
      "醉汉在第9步之后的位置为 [-1.76199663 -1.2702742 ]\n",
      "醉汉在第10步之后的位置为 [-1.94375137 -1.10684506]\n",
      "醉汉在第11步之后的位置为 [-1.9025507  -1.26038279]\n",
      "醉汉在第12步之后的位置为 [-2.01111179 -1.28031173]\n",
      "醉汉在第13步之后的位置为 [-2.6083651  -1.55244592]\n",
      "醉汉在第14步之后的位置为 [-2.48500887 -1.61471767]\n",
      "醉汉在第15步之后的位置为 [-2.30768447 -1.52986084]\n",
      "醉汉在第16步之后的位置为 [-1.9928467  -1.33793526]\n",
      "醉汉在第17步之后的位置为 [-1.17846921 -1.23391991]\n",
      "醉汉在第18步之后的位置为 [-1.13029604 -1.31822889]\n",
      "醉汉在第19步之后的位置为 [-0.98282389 -2.14309472]\n",
      "醉汉在第20步之后的位置为 [-0.91703465 -2.21314242]\n",
      "醉汉在第21步之后的位置为 [ 0.05062622 -2.34393053]\n",
      "醉汉在第22步之后的位置为 [ 0.19308895 -2.79040373]\n",
      "醉汉在第23步之后的位置为 [-0.75520237 -2.55629736]\n",
      "醉汉在第24步之后的位置为 [-0.63989082 -3.15004928]\n",
      "醉汉在第25步之后的位置为 [-0.09553588 -2.64986098]\n",
      "醉汉在第26步之后的位置为 [-0.1205301  -2.68004329]\n",
      "醉汉在第27步之后的位置为 [ 0.05510703 -2.4583873 ]\n",
      "醉汉在第28步之后的位置为 [ 0.16811272 -2.4993376 ]\n",
      "醉汉在第29步之后的位置为 [-0.12524148 -2.53986329]\n",
      "醉汉在第30步之后的位置为 [-0.22730681 -2.47920903]\n",
      "醉汉在第31步之后的位置为 [-0.25634763 -2.16255475]\n",
      "醉汉在第32步之后的位置为 [-0.19351343 -2.57202477]\n",
      "醉汉在第33步之后的位置为 [-0.25524161 -2.55457388]\n",
      "醉汉在第34步之后的位置为 [-0.8846799  -2.84323471]\n",
      "醉汉在第35步之后的位置为 [-0.32202254 -2.77649714]\n",
      "醉汉在第36步之后的位置为 [-0.51816073 -2.95527463]\n",
      "醉汉在第37步之后的位置为 [-0.91690359 -3.29408529]\n",
      "醉汉在第38步之后的位置为 [-0.98660931 -3.35706093]\n",
      "醉汉在第39步之后的位置为 [-0.44626371 -3.55641236]\n",
      "醉汉在第40步之后的位置为 [-0.83229605 -4.40173505]\n",
      "醉汉在第41步之后的位置为 [-1.03459962 -4.15564677]\n",
      "醉汉在第42步之后的位置为 [-1.65045264 -3.89842765]\n",
      "醉汉在第43步之后的位置为 [-1.69304146 -4.02315483]\n",
      "醉汉在第44步之后的位置为 [-1.02739151 -3.75851392]\n",
      "醉汉在第45步之后的位置为 [-1.17193698 -4.00923786]\n",
      "醉汉在第46步之后的位置为 [-1.25954599 -4.17012209]\n",
      "醉汉在第47步之后的位置为 [-1.11505209 -3.60168657]\n",
      "醉汉在第48步之后的位置为 [-1.10118896 -3.587122  ]\n",
      "醉汉在第49步之后的位置为 [-1.43244707 -2.82724725]\n",
      "醉汉在第50步之后的位置为 [-1.43552361 -2.82370008]\n"
     ]
    }
   ],
   "source": [
    "for i in range(NSTEPS):\n",
    "    print \"醉汉在第{}步之后的位置为\".format(i+1),\n",
    "    print loc[i]"
   ]
  },
  {
   "cell_type": "markdown",
   "metadata": {},
   "source": [
    "### PS\n",
    "此处的设定中, 二维随机漫步在每一步的可能范围为一个圆, 但也可简单化为, 每一步的可能步长为固定值, 方向仅四个方向, 即 (1,0),(0,1),(-1,0),(0,-1). 随机漫步定义并非唯一, 在合理情况下设定即可."
   ]
  },
  {
   "cell_type": "markdown",
   "metadata": {},
   "source": [
    "# 3. 梯形法\n",
    "使用梯形法计算一个二次函数的数值积分"
   ]
  },
  {
   "cell_type": "markdown",
   "metadata": {},
   "source": [
    "可以先写一个用梯形法求函数`f`在区间`[a, b]`上定积分的函数 `trapzf(f, a, b, npts=100)`\n",
    "\n",
    "要用到的公式为：$\\int_{a}^{b}f(x)dx\\approx\\frac{1}{2}\\sum_{i=1}^{n}\\left(x_{i}-x_{i-1}\\right)\\left(f(x_{i})+f(x_{i-1})\\right).$"
   ]
  },
  {
   "cell_type": "code",
   "execution_count": 16,
   "metadata": {
    "collapsed": false
   },
   "outputs": [],
   "source": [
    "def trapzf(f, a, b, npts=100):\n",
    "    x = np.linspace(a, b, npts)\n",
    "    y = f(x)\n",
    "    integral = 0.5 * np.dot(x[1:] - x[:-1], y[1:] + y[:-1])\n",
    "    return integral"
   ]
  },
  {
   "cell_type": "markdown",
   "metadata": {},
   "source": [
    "接下来试试用这个函数求 $ \\int_{0}^{10} x^2dx （= 333.333） $"
   ]
  },
  {
   "cell_type": "code",
   "execution_count": 17,
   "metadata": {
    "collapsed": false
   },
   "outputs": [
    {
     "data": {
      "text/plain": [
       "333.35033840084344"
      ]
     },
     "execution_count": 17,
     "metadata": {},
     "output_type": "execute_result"
    }
   ],
   "source": [
    "def f(x):\n",
    "    return x ** 2\n",
    "\n",
    "trapzf(f, 0, 10)"
   ]
  }
 ],
 "metadata": {
  "kernelspec": {
   "display_name": "Python 2",
   "language": "python",
   "name": "python2"
  },
  "language_info": {
   "codemirror_mode": {
    "name": "ipython",
    "version": 2
   },
   "file_extension": ".py",
   "mimetype": "text/x-python",
   "name": "python",
   "nbconvert_exporter": "python",
   "pygments_lexer": "ipython2",
   "version": "2.7.11"
  }
 },
 "nbformat": 4,
 "nbformat_minor": 0
}
