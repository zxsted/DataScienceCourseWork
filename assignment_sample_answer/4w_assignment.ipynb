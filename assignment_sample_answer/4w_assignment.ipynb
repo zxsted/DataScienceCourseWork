{
 "cells": [
  {
   "cell_type": "markdown",
   "metadata": {},
   "source": [
    "by @wp-lai"
   ]
  },
  {
   "cell_type": "code",
   "execution_count": 1,
   "metadata": {
    "collapsed": true
   },
   "outputs": [],
   "source": [
    "import numpy as np\n",
    "import pandas as pd\n",
    "import matplotlib.pyplot as plt\n",
    "import seaborn as sns; sns.set()\n",
    "%matplotlib inline"
   ]
  },
  {
   "cell_type": "markdown",
   "metadata": {},
   "source": [
    "## 1.探索上证综指\n",
    "使用pandas中的函数，下载上证综指过去一段时间的数据，进行数据探索。"
   ]
  },
  {
   "cell_type": "markdown",
   "metadata": {},
   "source": [
    "从[官方文档](http://pandas.pydata.org/pandas-docs/stable/remote_data.html)可以查到如何用pandas获取网上的数据"
   ]
  },
  {
   "cell_type": "code",
   "execution_count": 2,
   "metadata": {
    "collapsed": false
   },
   "outputs": [],
   "source": [
    "# 确立起止时间\n",
    "import datetime\n",
    "start = datetime.datetime(2015, 1, 1)\n",
    "end = datetime.datetime(2015, 12, 31)"
   ]
  },
  {
   "cell_type": "markdown",
   "metadata": {},
   "source": [
    "从网上查得`上证综指`在雅虎财经的 code 为 `000001.SS`，用pandas.io.data里的DataReader函数来获取数据"
   ]
  },
  {
   "cell_type": "code",
   "execution_count": 4,
   "metadata": {
    "collapsed": false
   },
   "outputs": [],
   "source": [
    "from pandas.io.data import DataReader\n",
    "data = DataReader(\"000001.SS\", 'yahoo', start, end)"
   ]
  },
  {
   "cell_type": "markdown",
   "metadata": {},
   "source": [
    "查看数据信息"
   ]
  },
  {
   "cell_type": "code",
   "execution_count": 5,
   "metadata": {
    "collapsed": false
   },
   "outputs": [
    {
     "data": {
      "text/html": [
       "<div>\n",
       "<table border=\"1\" class=\"dataframe\">\n",
       "  <thead>\n",
       "    <tr style=\"text-align: right;\">\n",
       "      <th></th>\n",
       "      <th>Open</th>\n",
       "      <th>High</th>\n",
       "      <th>Low</th>\n",
       "      <th>Close</th>\n",
       "      <th>Volume</th>\n",
       "      <th>Adj Close</th>\n",
       "    </tr>\n",
       "    <tr>\n",
       "      <th>Date</th>\n",
       "      <th></th>\n",
       "      <th></th>\n",
       "      <th></th>\n",
       "      <th></th>\n",
       "      <th></th>\n",
       "      <th></th>\n",
       "    </tr>\n",
       "  </thead>\n",
       "  <tbody>\n",
       "    <tr>\n",
       "      <th>2015-12-24</th>\n",
       "      <td>3612.49</td>\n",
       "      <td>3612.49</td>\n",
       "      <td>3612.49</td>\n",
       "      <td>3612.49</td>\n",
       "      <td>0</td>\n",
       "      <td>3612.49</td>\n",
       "    </tr>\n",
       "    <tr>\n",
       "      <th>2015-12-25</th>\n",
       "      <td>3627.91</td>\n",
       "      <td>3627.91</td>\n",
       "      <td>3627.91</td>\n",
       "      <td>3627.91</td>\n",
       "      <td>0</td>\n",
       "      <td>3627.91</td>\n",
       "    </tr>\n",
       "    <tr>\n",
       "      <th>2015-12-28</th>\n",
       "      <td>3533.78</td>\n",
       "      <td>3533.78</td>\n",
       "      <td>3533.78</td>\n",
       "      <td>3533.78</td>\n",
       "      <td>0</td>\n",
       "      <td>3533.78</td>\n",
       "    </tr>\n",
       "    <tr>\n",
       "      <th>2015-12-29</th>\n",
       "      <td>3563.74</td>\n",
       "      <td>3563.74</td>\n",
       "      <td>3563.74</td>\n",
       "      <td>3563.74</td>\n",
       "      <td>0</td>\n",
       "      <td>3563.74</td>\n",
       "    </tr>\n",
       "    <tr>\n",
       "      <th>2015-12-31</th>\n",
       "      <td>3539.18</td>\n",
       "      <td>3539.18</td>\n",
       "      <td>3539.18</td>\n",
       "      <td>3539.18</td>\n",
       "      <td>0</td>\n",
       "      <td>3539.18</td>\n",
       "    </tr>\n",
       "  </tbody>\n",
       "</table>\n",
       "</div>"
      ],
      "text/plain": [
       "               Open     High      Low    Close  Volume  Adj Close\n",
       "Date                                                             \n",
       "2015-12-24  3612.49  3612.49  3612.49  3612.49       0    3612.49\n",
       "2015-12-25  3627.91  3627.91  3627.91  3627.91       0    3627.91\n",
       "2015-12-28  3533.78  3533.78  3533.78  3533.78       0    3533.78\n",
       "2015-12-29  3563.74  3563.74  3563.74  3563.74       0    3563.74\n",
       "2015-12-31  3539.18  3539.18  3539.18  3539.18       0    3539.18"
      ]
     },
     "execution_count": 5,
     "metadata": {},
     "output_type": "execute_result"
    }
   ],
   "source": [
    "data.tail()"
   ]
  },
  {
   "cell_type": "code",
   "execution_count": 6,
   "metadata": {
    "collapsed": false,
    "scrolled": false
   },
   "outputs": [
    {
     "name": "stdout",
     "output_type": "stream",
     "text": [
      "<class 'pandas.core.frame.DataFrame'>\n",
      "DatetimeIndex: 233 entries, 2015-01-05 to 2015-12-31\n",
      "Data columns (total 6 columns):\n",
      "Open         233 non-null float64\n",
      "High         233 non-null float64\n",
      "Low          233 non-null float64\n",
      "Close        233 non-null float64\n",
      "Volume       233 non-null int64\n",
      "Adj Close    233 non-null float64\n",
      "dtypes: float64(5), int64(1)\n",
      "memory usage: 12.7 KB\n"
     ]
    }
   ],
   "source": [
    "data.info()"
   ]
  },
  {
   "cell_type": "markdown",
   "metadata": {},
   "source": [
    "为了简单起见，只考虑收盘时的价格"
   ]
  },
  {
   "cell_type": "code",
   "execution_count": 7,
   "metadata": {
    "collapsed": false
   },
   "outputs": [],
   "source": [
    "data = data['Close']"
   ]
  },
  {
   "cell_type": "markdown",
   "metadata": {},
   "source": [
    "绘图观察过去一年上证综指的走势"
   ]
  },
  {
   "cell_type": "code",
   "execution_count": 8,
   "metadata": {
    "collapsed": false,
    "scrolled": false
   },
   "outputs": [
    {
     "data": {
      "image/png": "[encoded data removed]",
      "text/plain": [
       "<matplotlib.figure.Figure at 0x106419a90>"
      ]
     },
     "metadata": {},
     "output_type": "display_data"
    }
   ],
   "source": [
    "data.plot();"
   ]
  },
  {
   "cell_type": "markdown",
   "metadata": {},
   "source": [
    "可以看出，上证综指在6月达到最高，而在9月达到最低"
   ]
  },
  {
   "cell_type": "markdown",
   "metadata": {},
   "source": [
    "我们可以直接比较上证综指每月的均值"
   ]
  },
  {
   "cell_type": "code",
   "execution_count": 9,
   "metadata": {
    "collapsed": false,
    "scrolled": true
   },
   "outputs": [
    {
     "data": {
      "text/plain": [
       "Date\n",
       "2015-01    3293.873000\n",
       "2015-02    3186.547333\n",
       "2015-03    3483.941364\n",
       "2015-04    4186.230952\n",
       "2015-05    4467.845000\n",
       "2015-06    4798.020000\n",
       "2015-07    3848.249565\n",
       "2015-08    3594.018095\n",
       "2015-09    3125.340000\n",
       "2015-10    3365.864167\n",
       "2015-11    3558.735500\n",
       "2015-12    3540.175238\n",
       "Freq: M, Name: Close, dtype: float64"
      ]
     },
     "execution_count": 9,
     "metadata": {},
     "output_type": "execute_result"
    }
   ],
   "source": [
    "data_m = data.resample('M', how='mean')\n",
    "data_m.index = data_m.index.to_period('M')\n",
    "data_m"
   ]
  },
  {
   "cell_type": "markdown",
   "metadata": {},
   "source": [
    "我们也可以查看在哪天达到最大值"
   ]
  },
  {
   "cell_type": "code",
   "execution_count": 10,
   "metadata": {
    "collapsed": false,
    "scrolled": true
   },
   "outputs": [
    {
     "data": {
      "text/plain": [
       "Timestamp('2015-06-12 00:00:00')"
      ]
     },
     "execution_count": 10,
     "metadata": {},
     "output_type": "execute_result"
    }
   ],
   "source": [
    "data.argmax()"
   ]
  },
  {
   "cell_type": "markdown",
   "metadata": {},
   "source": [
    "## 2.分析地震数据\n",
    "http://data.earthquake.cn/datashare/globeEarthquake_csn.html   \n",
    "将上述地址中的地震数据抓取下来，分析你感兴趣的分析点。\n"
   ]
  },
  {
   "cell_type": "markdown",
   "metadata": {},
   "source": [
    "先抓取数据, 写个简单爬虫即可"
   ]
  },
  {
   "cell_type": "code",
   "execution_count": 11,
   "metadata": {
    "collapsed": false
   },
   "outputs": [],
   "source": [
    "import requests\n",
    "from bs4 import BeautifulSoup"
   ]
  },
  {
   "cell_type": "code",
   "execution_count": 12,
   "metadata": {
    "collapsed": true
   },
   "outputs": [],
   "source": [
    "url = \"http://data.earthquake.cn/datashare/globeEarthquake_csn.html\"\n",
    "r = requests.get(url)\n",
    "r.encoding = 'utf-8'"
   ]
  },
  {
   "cell_type": "code",
   "execution_count": 13,
   "metadata": {
    "collapsed": false
   },
   "outputs": [],
   "source": [
    "soup = BeautifulSoup(r.content, 'html.parser')\n",
    "table = soup.body.div.table\n",
    "data = []\n",
    "for tag in table.find_all('tr'):\n",
    "    data.append([i.get_text() for i in tag.find_all('td')])"
   ]
  },
  {
   "cell_type": "code",
   "execution_count": 14,
   "metadata": {
    "collapsed": false
   },
   "outputs": [],
   "source": [
    "df = pd.DataFrame(data)"
   ]
  },
  {
   "cell_type": "code",
   "execution_count": 15,
   "metadata": {
    "collapsed": false
   },
   "outputs": [
    {
     "data": {
      "text/html": [
       "<div>\n",
       "<table border=\"1\" class=\"dataframe\">\n",
       "  <thead>\n",
       "    <tr style=\"text-align: right;\">\n",
       "      <th></th>\n",
       "      <th>0</th>\n",
       "      <th>1</th>\n",
       "      <th>2</th>\n",
       "      <th>3</th>\n",
       "      <th>4</th>\n",
       "      <th>5</th>\n",
       "      <th>6</th>\n",
       "      <th>7</th>\n",
       "    </tr>\n",
       "  </thead>\n",
       "  <tbody>\n",
       "    <tr>\n",
       "      <th>0</th>\n",
       "      <td>发震日期</td>\n",
       "      <td>发震时刻</td>\n",
       "      <td>纬度(°)</td>\n",
       "      <td>经度(°)</td>\n",
       "      <td>深度(km)</td>\n",
       "      <td>震级</td>\n",
       "      <td>事件类型</td>\n",
       "      <td>参考地点</td>\n",
       "    </tr>\n",
       "    <tr>\n",
       "      <th>1</th>\n",
       "      <td>2016-02-03</td>\n",
       "      <td>23:57:38.8\\r\\n32.50\\n91.68\\n6\\nML3.6\\n天然地震\\n西藏...</td>\n",
       "      <td>32.50</td>\n",
       "      <td>91.68</td>\n",
       "      <td>6</td>\n",
       "      <td>ML3.6</td>\n",
       "      <td>天然地震</td>\n",
       "      <td>西藏安多</td>\n",
       "    </tr>\n",
       "    <tr>\n",
       "      <th>2</th>\n",
       "      <td>2016-02-03</td>\n",
       "      <td>23:34:16.8\\r\\n24.39\\n98.15\\n10\\nML2.1\\n天然地震\\n云...</td>\n",
       "      <td>24.39</td>\n",
       "      <td>98.15</td>\n",
       "      <td>10</td>\n",
       "      <td>ML2.1</td>\n",
       "      <td>天然地震</td>\n",
       "      <td>云南陇川</td>\n",
       "    </tr>\n",
       "    <tr>\n",
       "      <th>3</th>\n",
       "      <td>2016-02-03</td>\n",
       "      <td>23:28:13.4\\r\\n40.33\\n78.74\\n8\\nML0.9\\n天然地震\\n新疆...</td>\n",
       "      <td>40.33</td>\n",
       "      <td>78.74</td>\n",
       "      <td>8</td>\n",
       "      <td>ML0.9</td>\n",
       "      <td>天然地震</td>\n",
       "      <td>新疆柯坪</td>\n",
       "    </tr>\n",
       "    <tr>\n",
       "      <th>4</th>\n",
       "      <td>2016-02-03</td>\n",
       "      <td>23:18:58.1\\r\\n37.68\\n101.61\\n10\\nML1.5\\n天然地震\\n...</td>\n",
       "      <td>37.68</td>\n",
       "      <td>101.61</td>\n",
       "      <td>10</td>\n",
       "      <td>ML1.5</td>\n",
       "      <td>天然地震</td>\n",
       "      <td>青海门源</td>\n",
       "    </tr>\n",
       "  </tbody>\n",
       "</table>\n",
       "</div>"
      ],
      "text/plain": [
       "            0                                                  1      2  \\\n",
       "0        发震日期                                               发震时刻  纬度(°)   \n",
       "1  2016-02-03  23:57:38.8\\r\\n32.50\\n91.68\\n6\\nML3.6\\n天然地震\\n西藏...  32.50   \n",
       "2  2016-02-03  23:34:16.8\\r\\n24.39\\n98.15\\n10\\nML2.1\\n天然地震\\n云...  24.39   \n",
       "3  2016-02-03  23:28:13.4\\r\\n40.33\\n78.74\\n8\\nML0.9\\n天然地震\\n新疆...  40.33   \n",
       "4  2016-02-03  23:18:58.1\\r\\n37.68\\n101.61\\n10\\nML1.5\\n天然地震\\n...  37.68   \n",
       "\n",
       "        3       4      5     6     7  \n",
       "0   经度(°)  深度(km)     震级  事件类型  参考地点  \n",
       "1   91.68       6  ML3.6  天然地震  西藏安多  \n",
       "2   98.15      10  ML2.1  天然地震  云南陇川  \n",
       "3   78.74       8  ML0.9  天然地震  新疆柯坪  \n",
       "4  101.61      10  ML1.5  天然地震  青海门源  "
      ]
     },
     "execution_count": 15,
     "metadata": {},
     "output_type": "execute_result"
    }
   ],
   "source": [
    "df.head()"
   ]
  },
  {
   "cell_type": "markdown",
   "metadata": {},
   "source": [
    "对第二列的数据进行清理"
   ]
  },
  {
   "cell_type": "code",
   "execution_count": 16,
   "metadata": {
    "collapsed": false
   },
   "outputs": [],
   "source": [
    "df[1] = df[1].str.split().str.get(0)"
   ]
  },
  {
   "cell_type": "code",
   "execution_count": 17,
   "metadata": {
    "collapsed": false,
    "scrolled": false
   },
   "outputs": [
    {
     "data": {
      "text/html": [
       "<div>\n",
       "<table border=\"1\" class=\"dataframe\">\n",
       "  <thead>\n",
       "    <tr style=\"text-align: right;\">\n",
       "      <th></th>\n",
       "      <th>0</th>\n",
       "      <th>1</th>\n",
       "      <th>2</th>\n",
       "      <th>3</th>\n",
       "      <th>4</th>\n",
       "      <th>5</th>\n",
       "      <th>6</th>\n",
       "      <th>7</th>\n",
       "    </tr>\n",
       "  </thead>\n",
       "  <tbody>\n",
       "    <tr>\n",
       "      <th>0</th>\n",
       "      <td>发震日期</td>\n",
       "      <td>发震时刻</td>\n",
       "      <td>纬度(°)</td>\n",
       "      <td>经度(°)</td>\n",
       "      <td>深度(km)</td>\n",
       "      <td>震级</td>\n",
       "      <td>事件类型</td>\n",
       "      <td>参考地点</td>\n",
       "    </tr>\n",
       "    <tr>\n",
       "      <th>1</th>\n",
       "      <td>2016-02-03</td>\n",
       "      <td>23:57:38.8</td>\n",
       "      <td>32.50</td>\n",
       "      <td>91.68</td>\n",
       "      <td>6</td>\n",
       "      <td>ML3.6</td>\n",
       "      <td>天然地震</td>\n",
       "      <td>西藏安多</td>\n",
       "    </tr>\n",
       "    <tr>\n",
       "      <th>2</th>\n",
       "      <td>2016-02-03</td>\n",
       "      <td>23:34:16.8</td>\n",
       "      <td>24.39</td>\n",
       "      <td>98.15</td>\n",
       "      <td>10</td>\n",
       "      <td>ML2.1</td>\n",
       "      <td>天然地震</td>\n",
       "      <td>云南陇川</td>\n",
       "    </tr>\n",
       "    <tr>\n",
       "      <th>3</th>\n",
       "      <td>2016-02-03</td>\n",
       "      <td>23:28:13.4</td>\n",
       "      <td>40.33</td>\n",
       "      <td>78.74</td>\n",
       "      <td>8</td>\n",
       "      <td>ML0.9</td>\n",
       "      <td>天然地震</td>\n",
       "      <td>新疆柯坪</td>\n",
       "    </tr>\n",
       "    <tr>\n",
       "      <th>4</th>\n",
       "      <td>2016-02-03</td>\n",
       "      <td>23:18:58.1</td>\n",
       "      <td>37.68</td>\n",
       "      <td>101.61</td>\n",
       "      <td>10</td>\n",
       "      <td>ML1.5</td>\n",
       "      <td>天然地震</td>\n",
       "      <td>青海门源</td>\n",
       "    </tr>\n",
       "  </tbody>\n",
       "</table>\n",
       "</div>"
      ],
      "text/plain": [
       "            0           1      2       3       4      5     6     7\n",
       "0        发震日期        发震时刻  纬度(°)   经度(°)  深度(km)     震级  事件类型  参考地点\n",
       "1  2016-02-03  23:57:38.8  32.50   91.68       6  ML3.6  天然地震  西藏安多\n",
       "2  2016-02-03  23:34:16.8  24.39   98.15      10  ML2.1  天然地震  云南陇川\n",
       "3  2016-02-03  23:28:13.4  40.33   78.74       8  ML0.9  天然地震  新疆柯坪\n",
       "4  2016-02-03  23:18:58.1  37.68  101.61      10  ML1.5  天然地震  青海门源"
      ]
     },
     "execution_count": 17,
     "metadata": {},
     "output_type": "execute_result"
    }
   ],
   "source": [
    "df.head()"
   ]
  },
  {
   "cell_type": "markdown",
   "metadata": {},
   "source": [
    "添加列名，并清除第1行数据"
   ]
  },
  {
   "cell_type": "code",
   "execution_count": 18,
   "metadata": {
    "collapsed": false
   },
   "outputs": [],
   "source": [
    "df.columns = ['date', 'time', 'latitude', 'longitude', 'depth', 'seismicity', 'type', 'area']"
   ]
  },
  {
   "cell_type": "code",
   "execution_count": 19,
   "metadata": {
    "collapsed": false
   },
   "outputs": [],
   "source": [
    "df = df.drop(0, axis=0)"
   ]
  },
  {
   "cell_type": "markdown",
   "metadata": {},
   "source": [
    "将时间数据改为行索引"
   ]
  },
  {
   "cell_type": "code",
   "execution_count": 20,
   "metadata": {
    "collapsed": false
   },
   "outputs": [],
   "source": [
    "df['time_index'] = pd.to_datetime(df['date'] + ' ' + df['time'])\n",
    "df = df.set_index('time_index')\n",
    "df = df.drop(['date', 'time'], axis=1)"
   ]
  },
  {
   "cell_type": "code",
   "execution_count": 21,
   "metadata": {
    "collapsed": false,
    "scrolled": true
   },
   "outputs": [
    {
     "data": {
      "text/html": [
       "<div>\n",
       "<table border=\"1\" class=\"dataframe\">\n",
       "  <thead>\n",
       "    <tr style=\"text-align: right;\">\n",
       "      <th></th>\n",
       "      <th>latitude</th>\n",
       "      <th>longitude</th>\n",
       "      <th>depth</th>\n",
       "      <th>seismicity</th>\n",
       "      <th>type</th>\n",
       "      <th>area</th>\n",
       "    </tr>\n",
       "    <tr>\n",
       "      <th>time_index</th>\n",
       "      <th></th>\n",
       "      <th></th>\n",
       "      <th></th>\n",
       "      <th></th>\n",
       "      <th></th>\n",
       "      <th></th>\n",
       "    </tr>\n",
       "  </thead>\n",
       "  <tbody>\n",
       "    <tr>\n",
       "      <th>2016-02-03 23:57:38.800</th>\n",
       "      <td>32.50</td>\n",
       "      <td>91.68</td>\n",
       "      <td>6</td>\n",
       "      <td>ML3.6</td>\n",
       "      <td>天然地震</td>\n",
       "      <td>西藏安多</td>\n",
       "    </tr>\n",
       "    <tr>\n",
       "      <th>2016-02-03 23:34:16.800</th>\n",
       "      <td>24.39</td>\n",
       "      <td>98.15</td>\n",
       "      <td>10</td>\n",
       "      <td>ML2.1</td>\n",
       "      <td>天然地震</td>\n",
       "      <td>云南陇川</td>\n",
       "    </tr>\n",
       "    <tr>\n",
       "      <th>2016-02-03 23:28:13.400</th>\n",
       "      <td>40.33</td>\n",
       "      <td>78.74</td>\n",
       "      <td>8</td>\n",
       "      <td>ML0.9</td>\n",
       "      <td>天然地震</td>\n",
       "      <td>新疆柯坪</td>\n",
       "    </tr>\n",
       "    <tr>\n",
       "      <th>2016-02-03 23:18:58.100</th>\n",
       "      <td>37.68</td>\n",
       "      <td>101.61</td>\n",
       "      <td>10</td>\n",
       "      <td>ML1.5</td>\n",
       "      <td>天然地震</td>\n",
       "      <td>青海门源</td>\n",
       "    </tr>\n",
       "    <tr>\n",
       "      <th>2016-02-03 23:15:17.300</th>\n",
       "      <td>42.47</td>\n",
       "      <td>89.20</td>\n",
       "      <td>7</td>\n",
       "      <td>ML0.6</td>\n",
       "      <td>天然地震</td>\n",
       "      <td>新疆吐鲁番</td>\n",
       "    </tr>\n",
       "  </tbody>\n",
       "</table>\n",
       "</div>"
      ],
      "text/plain": [
       "                        latitude longitude depth seismicity  type   area\n",
       "time_index                                                              \n",
       "2016-02-03 23:57:38.800    32.50     91.68     6      ML3.6  天然地震   西藏安多\n",
       "2016-02-03 23:34:16.800    24.39     98.15    10      ML2.1  天然地震   云南陇川\n",
       "2016-02-03 23:28:13.400    40.33     78.74     8      ML0.9  天然地震   新疆柯坪\n",
       "2016-02-03 23:18:58.100    37.68    101.61    10      ML1.5  天然地震   青海门源\n",
       "2016-02-03 23:15:17.300    42.47     89.20     7      ML0.6  天然地震  新疆吐鲁番"
      ]
     },
     "execution_count": 21,
     "metadata": {},
     "output_type": "execute_result"
    }
   ],
   "source": [
    "df.head()"
   ]
  },
  {
   "cell_type": "markdown",
   "metadata": {},
   "source": [
    "再来查看一下地震类型"
   ]
  },
  {
   "cell_type": "code",
   "execution_count": 22,
   "metadata": {
    "collapsed": false,
    "scrolled": true
   },
   "outputs": [
    {
     "name": "stdout",
     "output_type": "stream",
     "text": [
      "天然地震\n",
      "塌陷\n",
      "其它\n",
      "爆破\n"
     ]
    }
   ],
   "source": [
    "for i in df['type'].unique():\n",
    "    print i"
   ]
  },
  {
   "cell_type": "markdown",
   "metadata": {},
   "source": [
    "我们先只考虑『天然地震』，所以筛选出『天然地震』类型的数据"
   ]
  },
  {
   "cell_type": "code",
   "execution_count": 23,
   "metadata": {
    "collapsed": false
   },
   "outputs": [],
   "source": [
    "df = df[df['type'] == u\"天然地震\"]\n",
    "df = df.drop('type', axis=1)"
   ]
  },
  {
   "cell_type": "code",
   "execution_count": 24,
   "metadata": {
    "collapsed": false
   },
   "outputs": [
    {
     "data": {
      "text/html": [
       "<div>\n",
       "<table border=\"1\" class=\"dataframe\">\n",
       "  <thead>\n",
       "    <tr style=\"text-align: right;\">\n",
       "      <th></th>\n",
       "      <th>latitude</th>\n",
       "      <th>longitude</th>\n",
       "      <th>depth</th>\n",
       "      <th>seismicity</th>\n",
       "      <th>area</th>\n",
       "    </tr>\n",
       "    <tr>\n",
       "      <th>time_index</th>\n",
       "      <th></th>\n",
       "      <th></th>\n",
       "      <th></th>\n",
       "      <th></th>\n",
       "      <th></th>\n",
       "    </tr>\n",
       "  </thead>\n",
       "  <tbody>\n",
       "    <tr>\n",
       "      <th>2016-02-03 23:57:38.800</th>\n",
       "      <td>32.50</td>\n",
       "      <td>91.68</td>\n",
       "      <td>6</td>\n",
       "      <td>ML3.6</td>\n",
       "      <td>西藏安多</td>\n",
       "    </tr>\n",
       "    <tr>\n",
       "      <th>2016-02-03 23:34:16.800</th>\n",
       "      <td>24.39</td>\n",
       "      <td>98.15</td>\n",
       "      <td>10</td>\n",
       "      <td>ML2.1</td>\n",
       "      <td>云南陇川</td>\n",
       "    </tr>\n",
       "    <tr>\n",
       "      <th>2016-02-03 23:28:13.400</th>\n",
       "      <td>40.33</td>\n",
       "      <td>78.74</td>\n",
       "      <td>8</td>\n",
       "      <td>ML0.9</td>\n",
       "      <td>新疆柯坪</td>\n",
       "    </tr>\n",
       "    <tr>\n",
       "      <th>2016-02-03 23:18:58.100</th>\n",
       "      <td>37.68</td>\n",
       "      <td>101.61</td>\n",
       "      <td>10</td>\n",
       "      <td>ML1.5</td>\n",
       "      <td>青海门源</td>\n",
       "    </tr>\n",
       "    <tr>\n",
       "      <th>2016-02-03 23:15:17.300</th>\n",
       "      <td>42.47</td>\n",
       "      <td>89.20</td>\n",
       "      <td>7</td>\n",
       "      <td>ML0.6</td>\n",
       "      <td>新疆吐鲁番</td>\n",
       "    </tr>\n",
       "  </tbody>\n",
       "</table>\n",
       "</div>"
      ],
      "text/plain": [
       "                        latitude longitude depth seismicity   area\n",
       "time_index                                                        \n",
       "2016-02-03 23:57:38.800    32.50     91.68     6      ML3.6   西藏安多\n",
       "2016-02-03 23:34:16.800    24.39     98.15    10      ML2.1   云南陇川\n",
       "2016-02-03 23:28:13.400    40.33     78.74     8      ML0.9   新疆柯坪\n",
       "2016-02-03 23:18:58.100    37.68    101.61    10      ML1.5   青海门源\n",
       "2016-02-03 23:15:17.300    42.47     89.20     7      ML0.6  新疆吐鲁番"
      ]
     },
     "execution_count": 24,
     "metadata": {},
     "output_type": "execute_result"
    }
   ],
   "source": [
    "df.head()"
   ]
  },
  {
   "cell_type": "markdown",
   "metadata": {},
   "source": [
    "震级数据里大部分使用的是\"ML\"标度，查看有哪些用的是\"ML\"之外的标度"
   ]
  },
  {
   "cell_type": "code",
   "execution_count": 25,
   "metadata": {
    "collapsed": false
   },
   "outputs": [
    {
     "data": {
      "text/html": [
       "<div>\n",
       "<table border=\"1\" class=\"dataframe\">\n",
       "  <thead>\n",
       "    <tr style=\"text-align: right;\">\n",
       "      <th></th>\n",
       "      <th>latitude</th>\n",
       "      <th>longitude</th>\n",
       "      <th>depth</th>\n",
       "      <th>seismicity</th>\n",
       "      <th>area</th>\n",
       "    </tr>\n",
       "    <tr>\n",
       "      <th>time_index</th>\n",
       "      <th></th>\n",
       "      <th></th>\n",
       "      <th></th>\n",
       "      <th></th>\n",
       "      <th></th>\n",
       "    </tr>\n",
       "  </thead>\n",
       "  <tbody>\n",
       "    <tr>\n",
       "      <th>2016-02-02 22:19:22.400</th>\n",
       "      <td>25.35</td>\n",
       "      <td>123.43</td>\n",
       "      <td>200</td>\n",
       "      <td>mb6.4</td>\n",
       "      <td>台湾东北部海域</td>\n",
       "    </tr>\n",
       "    <tr>\n",
       "      <th>2016-02-02 21:20:32.700</th>\n",
       "      <td>34.77</td>\n",
       "      <td>89.26</td>\n",
       "      <td>11</td>\n",
       "      <td>Ms3.4</td>\n",
       "      <td>西藏安多</td>\n",
       "    </tr>\n",
       "    <tr>\n",
       "      <th>2016-02-02 13:31:47.400</th>\n",
       "      <td>39.64</td>\n",
       "      <td>142.87</td>\n",
       "      <td>20</td>\n",
       "      <td>Ms5.3</td>\n",
       "      <td>日本</td>\n",
       "    </tr>\n",
       "    <tr>\n",
       "      <th>2016-02-02 12:20:04.100</th>\n",
       "      <td>35.02</td>\n",
       "      <td>89.71</td>\n",
       "      <td>6</td>\n",
       "      <td>Ms4.1</td>\n",
       "      <td>西藏安多</td>\n",
       "    </tr>\n",
       "    <tr>\n",
       "      <th>2016-02-02 03:00:44.200</th>\n",
       "      <td>-30.83</td>\n",
       "      <td>-180.00</td>\n",
       "      <td>380</td>\n",
       "      <td>mb6.2</td>\n",
       "      <td>新西兰</td>\n",
       "    </tr>\n",
       "    <tr>\n",
       "      <th>2016-01-31 21:51:08.000</th>\n",
       "      <td>42.94</td>\n",
       "      <td>85.59</td>\n",
       "      <td>10</td>\n",
       "      <td>Ms2.2</td>\n",
       "      <td>新疆和静</td>\n",
       "    </tr>\n",
       "    <tr>\n",
       "      <th>2016-01-31 10:50:04.400</th>\n",
       "      <td>-2.88</td>\n",
       "      <td>147.22</td>\n",
       "      <td>10</td>\n",
       "      <td>Ms5.5</td>\n",
       "      <td>巴布亚新几内亚</td>\n",
       "    </tr>\n",
       "  </tbody>\n",
       "</table>\n",
       "</div>"
      ],
      "text/plain": [
       "                        latitude longitude depth seismicity     area\n",
       "time_index                                                          \n",
       "2016-02-02 22:19:22.400    25.35    123.43   200      mb6.4  台湾东北部海域\n",
       "2016-02-02 21:20:32.700    34.77     89.26    11      Ms3.4     西藏安多\n",
       "2016-02-02 13:31:47.400    39.64    142.87    20      Ms5.3       日本\n",
       "2016-02-02 12:20:04.100    35.02     89.71     6      Ms4.1     西藏安多\n",
       "2016-02-02 03:00:44.200   -30.83   -180.00   380      mb6.2      新西兰\n",
       "2016-01-31 21:51:08.000    42.94     85.59    10      Ms2.2     新疆和静\n",
       "2016-01-31 10:50:04.400    -2.88    147.22    10      Ms5.5  巴布亚新几内亚"
      ]
     },
     "execution_count": 25,
     "metadata": {},
     "output_type": "execute_result"
    }
   ],
   "source": [
    "df[~df['seismicity'].str.startswith('ML')]"
   ]
  },
  {
   "cell_type": "markdown",
   "metadata": {},
   "source": [
    "为了简便起见，我们这里只探索采用\"ML\"标度的数据"
   ]
  },
  {
   "cell_type": "code",
   "execution_count": 26,
   "metadata": {
    "collapsed": false
   },
   "outputs": [],
   "source": [
    "df = df[df['seismicity'].str.startswith('ML')]\n",
    "df['seismicity'] = df['seismicity'].str.slice(2)"
   ]
  },
  {
   "cell_type": "code",
   "execution_count": 27,
   "metadata": {
    "collapsed": false
   },
   "outputs": [
    {
     "data": {
      "text/html": [
       "<div>\n",
       "<table border=\"1\" class=\"dataframe\">\n",
       "  <thead>\n",
       "    <tr style=\"text-align: right;\">\n",
       "      <th></th>\n",
       "      <th>latitude</th>\n",
       "      <th>longitude</th>\n",
       "      <th>depth</th>\n",
       "      <th>seismicity</th>\n",
       "      <th>area</th>\n",
       "    </tr>\n",
       "    <tr>\n",
       "      <th>time_index</th>\n",
       "      <th></th>\n",
       "      <th></th>\n",
       "      <th></th>\n",
       "      <th></th>\n",
       "      <th></th>\n",
       "    </tr>\n",
       "  </thead>\n",
       "  <tbody>\n",
       "    <tr>\n",
       "      <th>2016-02-03 23:57:38.800</th>\n",
       "      <td>32.50</td>\n",
       "      <td>91.68</td>\n",
       "      <td>6</td>\n",
       "      <td>3.6</td>\n",
       "      <td>西藏安多</td>\n",
       "    </tr>\n",
       "    <tr>\n",
       "      <th>2016-02-03 23:34:16.800</th>\n",
       "      <td>24.39</td>\n",
       "      <td>98.15</td>\n",
       "      <td>10</td>\n",
       "      <td>2.1</td>\n",
       "      <td>云南陇川</td>\n",
       "    </tr>\n",
       "    <tr>\n",
       "      <th>2016-02-03 23:28:13.400</th>\n",
       "      <td>40.33</td>\n",
       "      <td>78.74</td>\n",
       "      <td>8</td>\n",
       "      <td>0.9</td>\n",
       "      <td>新疆柯坪</td>\n",
       "    </tr>\n",
       "    <tr>\n",
       "      <th>2016-02-03 23:18:58.100</th>\n",
       "      <td>37.68</td>\n",
       "      <td>101.61</td>\n",
       "      <td>10</td>\n",
       "      <td>1.5</td>\n",
       "      <td>青海门源</td>\n",
       "    </tr>\n",
       "    <tr>\n",
       "      <th>2016-02-03 23:15:17.300</th>\n",
       "      <td>42.47</td>\n",
       "      <td>89.20</td>\n",
       "      <td>7</td>\n",
       "      <td>0.6</td>\n",
       "      <td>新疆吐鲁番</td>\n",
       "    </tr>\n",
       "  </tbody>\n",
       "</table>\n",
       "</div>"
      ],
      "text/plain": [
       "                        latitude longitude depth seismicity   area\n",
       "time_index                                                        \n",
       "2016-02-03 23:57:38.800    32.50     91.68     6        3.6   西藏安多\n",
       "2016-02-03 23:34:16.800    24.39     98.15    10        2.1   云南陇川\n",
       "2016-02-03 23:28:13.400    40.33     78.74     8        0.9   新疆柯坪\n",
       "2016-02-03 23:18:58.100    37.68    101.61    10        1.5   青海门源\n",
       "2016-02-03 23:15:17.300    42.47     89.20     7        0.6  新疆吐鲁番"
      ]
     },
     "execution_count": 27,
     "metadata": {},
     "output_type": "execute_result"
    }
   ],
   "source": [
    "df.head()"
   ]
  },
  {
   "cell_type": "markdown",
   "metadata": {},
   "source": [
    "然后把latitude, longitude, depth, seismicity四列的数据变为浮点数据类型"
   ]
  },
  {
   "cell_type": "code",
   "execution_count": 28,
   "metadata": {
    "collapsed": true
   },
   "outputs": [],
   "source": [
    "df['latitude'] = df['latitude'].astype(np.float64)\n",
    "df['longitude'] = df['longitude'].astype(np.float64)\n",
    "df['depth'] = df['depth'].astype(np.float64)\n",
    "df['seismicity'] = df['seismicity'].astype(np.float64)"
   ]
  },
  {
   "cell_type": "code",
   "execution_count": 29,
   "metadata": {
    "collapsed": false,
    "scrolled": true
   },
   "outputs": [
    {
     "name": "stdout",
     "output_type": "stream",
     "text": [
      "<class 'pandas.core.frame.DataFrame'>\n",
      "DatetimeIndex: 583 entries, 2016-02-03 23:57:38.800000 to 2016-01-31 00:05:45.500000\n",
      "Data columns (total 5 columns):\n",
      "latitude      583 non-null float64\n",
      "longitude     583 non-null float64\n",
      "depth         583 non-null float64\n",
      "seismicity    583 non-null float64\n",
      "area          583 non-null object\n",
      "dtypes: float64(4), object(1)\n",
      "memory usage: 27.3+ KB\n"
     ]
    }
   ],
   "source": [
    "df.info()"
   ]
  },
  {
   "cell_type": "code",
   "execution_count": 30,
   "metadata": {
    "collapsed": false,
    "scrolled": true
   },
   "outputs": [
    {
     "data": {
      "text/html": [
       "<div>\n",
       "<table border=\"1\" class=\"dataframe\">\n",
       "  <thead>\n",
       "    <tr style=\"text-align: right;\">\n",
       "      <th></th>\n",
       "      <th>latitude</th>\n",
       "      <th>longitude</th>\n",
       "      <th>depth</th>\n",
       "      <th>seismicity</th>\n",
       "      <th>area</th>\n",
       "    </tr>\n",
       "    <tr>\n",
       "      <th>time_index</th>\n",
       "      <th></th>\n",
       "      <th></th>\n",
       "      <th></th>\n",
       "      <th></th>\n",
       "      <th></th>\n",
       "    </tr>\n",
       "  </thead>\n",
       "  <tbody>\n",
       "    <tr>\n",
       "      <th>2016-02-03 23:57:38.800</th>\n",
       "      <td>32.50</td>\n",
       "      <td>91.68</td>\n",
       "      <td>6</td>\n",
       "      <td>3.6</td>\n",
       "      <td>西藏安多</td>\n",
       "    </tr>\n",
       "    <tr>\n",
       "      <th>2016-02-03 23:34:16.800</th>\n",
       "      <td>24.39</td>\n",
       "      <td>98.15</td>\n",
       "      <td>10</td>\n",
       "      <td>2.1</td>\n",
       "      <td>云南陇川</td>\n",
       "    </tr>\n",
       "    <tr>\n",
       "      <th>2016-02-03 23:28:13.400</th>\n",
       "      <td>40.33</td>\n",
       "      <td>78.74</td>\n",
       "      <td>8</td>\n",
       "      <td>0.9</td>\n",
       "      <td>新疆柯坪</td>\n",
       "    </tr>\n",
       "    <tr>\n",
       "      <th>2016-02-03 23:18:58.100</th>\n",
       "      <td>37.68</td>\n",
       "      <td>101.61</td>\n",
       "      <td>10</td>\n",
       "      <td>1.5</td>\n",
       "      <td>青海门源</td>\n",
       "    </tr>\n",
       "    <tr>\n",
       "      <th>2016-02-03 23:15:17.300</th>\n",
       "      <td>42.47</td>\n",
       "      <td>89.20</td>\n",
       "      <td>7</td>\n",
       "      <td>0.6</td>\n",
       "      <td>新疆吐鲁番</td>\n",
       "    </tr>\n",
       "  </tbody>\n",
       "</table>\n",
       "</div>"
      ],
      "text/plain": [
       "                         latitude  longitude  depth  seismicity   area\n",
       "time_index                                                            \n",
       "2016-02-03 23:57:38.800     32.50      91.68      6         3.6   西藏安多\n",
       "2016-02-03 23:34:16.800     24.39      98.15     10         2.1   云南陇川\n",
       "2016-02-03 23:28:13.400     40.33      78.74      8         0.9   新疆柯坪\n",
       "2016-02-03 23:18:58.100     37.68     101.61     10         1.5   青海门源\n",
       "2016-02-03 23:15:17.300     42.47      89.20      7         0.6  新疆吐鲁番"
      ]
     },
     "execution_count": 30,
     "metadata": {},
     "output_type": "execute_result"
    }
   ],
   "source": [
    "df.head()"
   ]
  },
  {
   "cell_type": "markdown",
   "metadata": {},
   "source": [
    "数据清洗完之后，就可以对数据进行探索和分析"
   ]
  },
  {
   "cell_type": "markdown",
   "metadata": {},
   "source": [
    "首先可以分析一天24小时里，哪个小时时间段发生的地震最多"
   ]
  },
  {
   "cell_type": "code",
   "execution_count": 31,
   "metadata": {
    "collapsed": false
   },
   "outputs": [
    {
     "data": {
      "text/plain": [
       "0     33\n",
       "1     28\n",
       "2     32\n",
       "3     25\n",
       "4     36\n",
       "5     27\n",
       "6     24\n",
       "7     27\n",
       "8     19\n",
       "9     16\n",
       "10    19\n",
       "11    18\n",
       "12    30\n",
       "13    13\n",
       "14    27\n",
       "15    28\n",
       "16    19\n",
       "17    28\n",
       "18    26\n",
       "19    29\n",
       "20    15\n",
       "21    19\n",
       "22    22\n",
       "23    23\n",
       "Name: seismicity, dtype: int64"
      ]
     },
     "execution_count": 31,
     "metadata": {},
     "output_type": "execute_result"
    },
    {
     "data": {
      "image/png": "[encoded data removed]",
      "text/plain": [
       "<matplotlib.figure.Figure at 0x10e63e490>"
      ]
     },
     "metadata": {},
     "output_type": "display_data"
    }
   ],
   "source": [
    "df.groupby(df.index.hour)['seismicity'].count().plot()\n",
    "df.groupby(df.index.hour)['seismicity'].count()"
   ]
  },
  {
   "cell_type": "markdown",
   "metadata": {},
   "source": [
    "可以看出，过去一周里，4点到5点这个时间段发生的地震最多"
   ]
  },
  {
   "cell_type": "markdown",
   "metadata": {},
   "source": [
    "然后可以探索数据里最强一次地震的相关情况"
   ]
  },
  {
   "cell_type": "code",
   "execution_count": 32,
   "metadata": {
    "collapsed": false
   },
   "outputs": [
    {
     "data": {
      "text/plain": [
       "latitude      40.04\n",
       "longitude     77.72\n",
       "depth             5\n",
       "seismicity      4.6\n",
       "area          新疆阿图什\n",
       "Name: 2016-02-02 15:00:59.900000, dtype: object"
      ]
     },
     "execution_count": 32,
     "metadata": {},
     "output_type": "execute_result"
    }
   ],
   "source": [
    "df.loc[df['seismicity'].argmax()]"
   ]
  },
  {
   "cell_type": "markdown",
   "metadata": {},
   "source": [
    "可以看出，过去一周最强地震发生在新疆阿图什，震级为4.6"
   ]
  },
  {
   "cell_type": "markdown",
   "metadata": {},
   "source": [
    "## 3.分析qq群数据\n",
    "基于QQ群的数据(qqdata.csv), 分析你感兴趣的分析点。"
   ]
  },
  {
   "cell_type": "markdown",
   "metadata": {},
   "source": [
    "首先导入数据"
   ]
  },
  {
   "cell_type": "code",
   "execution_count": 33,
   "metadata": {
    "collapsed": true
   },
   "outputs": [],
   "source": [
    "qq_data = pd.read_csv('qqdata.csv')\n",
    "qq_data['time'] = pd.to_datetime(qq_data['time'])"
   ]
  },
  {
   "cell_type": "code",
   "execution_count": 34,
   "metadata": {
    "collapsed": false,
    "scrolled": true
   },
   "outputs": [
    {
     "name": "stdout",
     "output_type": "stream",
     "text": [
      "<class 'pandas.core.frame.DataFrame'>\n",
      "Int64Index: 11562 entries, 0 to 11561\n",
      "Data columns (total 2 columns):\n",
      "id      11562 non-null object\n",
      "time    11562 non-null datetime64[ns]\n",
      "dtypes: datetime64[ns](1), object(1)\n",
      "memory usage: 271.0+ KB\n"
     ]
    }
   ],
   "source": [
    "qq_data.info()"
   ]
  },
  {
   "cell_type": "markdown",
   "metadata": {},
   "source": [
    "之后可以分析谁的发言最多"
   ]
  },
  {
   "cell_type": "code",
   "execution_count": 35,
   "metadata": {
    "collapsed": false
   },
   "outputs": [],
   "source": [
    "count = qq_data.groupby('id').count()"
   ]
  },
  {
   "cell_type": "code",
   "execution_count": 36,
   "metadata": {
    "collapsed": false
   },
   "outputs": [],
   "source": [
    "count_sorted = count.sort_values(by='time', ascending=False)"
   ]
  },
  {
   "cell_type": "code",
   "execution_count": 37,
   "metadata": {
    "collapsed": false,
    "scrolled": true
   },
   "outputs": [
    {
     "data": {
      "text/html": [
       "<div>\n",
       "<table border=\"1\" class=\"dataframe\">\n",
       "  <thead>\n",
       "    <tr style=\"text-align: right;\">\n",
       "      <th></th>\n",
       "      <th>time</th>\n",
       "    </tr>\n",
       "    <tr>\n",
       "      <th>id</th>\n",
       "      <th></th>\n",
       "    </tr>\n",
       "  </thead>\n",
       "  <tbody>\n",
       "    <tr>\n",
       "      <th>7cha1</th>\n",
       "      <td>1511</td>\n",
       "    </tr>\n",
       "    <tr>\n",
       "      <th>6cha437</th>\n",
       "      <td>1238</td>\n",
       "    </tr>\n",
       "    <tr>\n",
       "      <th>4cha387</th>\n",
       "      <td>1100</td>\n",
       "    </tr>\n",
       "    <tr>\n",
       "      <th>8cha08</th>\n",
       "      <td>695</td>\n",
       "    </tr>\n",
       "    <tr>\n",
       "      <th>4cha69</th>\n",
       "      <td>533</td>\n",
       "    </tr>\n",
       "  </tbody>\n",
       "</table>\n",
       "</div>"
      ],
      "text/plain": [
       "         time\n",
       "id           \n",
       "7cha1    1511\n",
       "6cha437  1238\n",
       "4cha387  1100\n",
       "8cha08    695\n",
       "4cha69    533"
      ]
     },
     "execution_count": 37,
     "metadata": {},
     "output_type": "execute_result"
    }
   ],
   "source": [
    "count_sorted.head()"
   ]
  },
  {
   "cell_type": "code",
   "execution_count": 38,
   "metadata": {
    "collapsed": false
   },
   "outputs": [
    {
     "data": {
      "text/plain": [
       "time    1511\n",
       "Name: 7cha1, dtype: int64"
      ]
     },
     "execution_count": 38,
     "metadata": {},
     "output_type": "execute_result"
    }
   ],
   "source": [
    "count_sorted.iloc[0]"
   ]
  },
  {
   "cell_type": "markdown",
   "metadata": {},
   "source": [
    "结果发现名为\"7cha1\"的用户发言最多，有1511条"
   ]
  }
 ],
 "metadata": {
  "kernelspec": {
   "display_name": "Python 2",
   "language": "python",
   "name": "python2"
  },
  "language_info": {
   "codemirror_mode": {
    "name": "ipython",
    "version": 2
   },
   "file_extension": ".py",
   "mimetype": "text/x-python",
   "name": "python",
   "nbconvert_exporter": "python",
   "pygments_lexer": "ipython2",
   "version": "2.7.11"
  }
 },
 "nbformat": 4,
 "nbformat_minor": 0
}
