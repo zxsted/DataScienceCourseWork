{
 "cells": [
  {
   "cell_type": "markdown",
   "metadata": {},
   "source": [
    "### Data w5 知识点总结\n",
    "#### 日收益率 直方图 描述性统计概念\n",
    "- 怎么计算日收益率？logarithmic returns\n",
    " - 对数日收益率\n",
    "   - rt is the log return, rt = ln (pt/pt1) = ln (1 + Rt)\n",
    "   - Similar in magnitude to Rt if Rt close to zero\n",
    "   - Rt = 0.05, rt = 0.0488\n",
    "   - Also can say similar in magnitude for ìsmallî changes in price\n",
    "   - Log return is continuously compounded return\n",
    "   - Can be viewed as a Taylor series approximation of proportional return around zero\n",
    " - 为什么在做实证时股票市场的日收益率都用对数收益率（Rt=ln(Pt/Pt-1）) , 而不是等于(Pt-Pt-1)/Pt-1？ \n",
    "   - http://bbs.pinggu.org/thread-568884-1-1.html\n",
    "   - 处理股票收益率数据的时候人们倾向于使用“ln”，也就是continuous compounding。按照数学逻辑推导，在价格序列变动性很小的情况下，这两个收益率的结果是近似相等的，根据极限定理，当r无穷小，两者基本无差别。 另外就是对于使用“ln”处理一方面是的数据更加平滑，克服数据本身的异方差；同时“ln”处理能够达到价格上涨下架的对称性，即数据的对称性。另外还要讲到“ln”的后续处理可以得到一些有用数据，这包括差分后的增长 ...\n",
    "   - http://blog.163.com/shyang_li@126/blog/static/952031020094260227810/\n",
    " - 如何在python中实现？\n",
    "   - http://stackoverflow.com/questions/31287552/logarithmic-returns-in-pandas-dataframe\n",
    "- 描述性统计数据\n",
    " - Minimum | 25% | Median | 75% | Maximum | Mean | Standard Deviation | Skewness Coefficient | Kurtosis\n",
    " \n",
    "#### 概率密度函数 \n",
    "- 为什么用分布来表示一组数据\n",
    " - 假如数据有多个极端值，一个数据不足以胜任一组数据的描述任务，于是用分布来描述一组数值。\n",
    "- 定义\n",
    " - http://open.163.com/movie/2011/6/H/0/M82IC6GQU_M83JAHTH0.html\n",
    "- 正态分布\n",
    " - pdf\n",
    "   - 给定分布值x，pdf出来概率密度值y\n",
    " - cdf\n",
    "   - 累积概率函数，pdf的积分，密度曲线下的面积\n",
    "   - 期望值附近最高点，1为均值，取1时面积为一半\n",
    " - interval：\n",
    "   - 之前求密度函数，给出x，求出密度曲线上的y值。     \n",
    "   - interval - 当 cdf 值为 0.95 时，求 x 的区间   \n",
    " - http://docs.scipy.org/doc/scipy-0.17.0/reference/generated/scipy.stats.norm.html\n",
    "- 对数正态分布 \n",
    " - http://docs.scipy.org/doc/scipy-0.17.0/reference/generated/scipy.stats.lognorm.html\n",
    "- 非参数估计\n",
    " - 概念总结：\n",
    "   - 正态分布，用一个公式描述一个随机变量，但前提是分布能拟合数据。  \n",
    "   - 非参方法，用非公式的方法，来描述随机变量，如核分布。如果用非参方法估计出背后经验分布之后，可以使用经验分布进行进一步抽样。 \n",
    "   - kde 无累积密度函数, bw_method 双峰分布\n",
    " - https://jakevdp.github.io/blog/2013/12/01/kernel-density-estimation/\n",
    " - http://docs.scipy.org/doc/scipy-0.15.1/reference/generated/scipy.stats.gaussian_kde.html\n",
    " \n",
    "#### t 检验 查看两支股票平均收益率是否有差别 \n",
    "#### 其他资料\n",
    " - [一篇关于日收益率的统计文献](http://www.sendsms.cn/download/%C9%CF%D6%A4%D6%B8%CA%FD%CA%D5%D2%E6%C2%CA%B5%C4%CC%D8%D5%F7%BC%B0%C6%E4%B2%A8%B6%AF%D0%D4%B7%D6%CE%F6.pdf)\n",
    " - 统计常识\n",
    " 统计学中为什么要对变量取对数\n",
    "  - https://www.zhihu.com/question/22012482\n",
    " - Python stats\n",
    "  - How to estimate probability density function from sample data with Python\n",
    "    - http://firsttimeprogrammer.blogspot.co.uk/2015/01/how-to-estimate-probability-density.html\n",
    "  - Kernel estimation of probability density functions\n",
    "    - http://bonsai.hgc.jp/~mdehoon/software/python/Statistics/manual/index.xhtml"
   ]
  },
  {
   "cell_type": "markdown",
   "metadata": {},
   "source": [
    "### 笔记及练习"
   ]
  }
 ],
 "metadata": {
  "kernelspec": {
   "display_name": "Python 2",
   "language": "python",
   "name": "python2"
  },
  "language_info": {
   "codemirror_mode": {
    "name": "ipython",
    "version": 2
   },
   "file_extension": ".py",
   "mimetype": "text/x-python",
   "name": "python",
   "nbconvert_exporter": "python",
   "pygments_lexer": "ipython2",
   "version": "2.7.11"
  }
 },
 "nbformat": 4,
 "nbformat_minor": 0
}
